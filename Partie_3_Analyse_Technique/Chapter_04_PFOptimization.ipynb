{
  "nbformat": 4,
  "nbformat_minor": 0,
  "metadata": {
    "colab": {
      "name": "PFOptimization1.ipynb",
      "provenance": [],
      "collapsed_sections": []
    },
    "kernelspec": {
      "name": "python3",
      "display_name": "Python 3"
    },
    "language_info": {
      "name": "python"
    }
  },
  "cells": [
    {
      "cell_type": "markdown",
      "metadata": {
        "id": "fBiU8DdlsevD"
      },
      "source": [
        "<p><img alt=\"Colaboratory logo\" height=\"45px\" src=\"https://www.quantreo.com/wp-content/uploads/2021/04/cropped-Logo_Quantreo_transparent.png\" align=\"left\" hspace=\"10px\" vspace=\"0px\"></p>\n",
        "\n",
        "# Portfolio Optimization\n",
        "In this section you will learn the concept of portfolio management.\n",
        "The idea is to combine our strategies to reduce the risk of your investment. The notions we will study apply to strategies as well as to assets. You will be able to create your own portfolio using the algorithms that we will present.\n",
        "\n",
        "<br>\n",
        "\n",
        "### Content\n",
        "* Sortino Optimization\n",
        "* Min Variance Optimization\n",
        "* Mean Variance Skewness Kurtosis Optimization"
      ]
    },
    {
      "cell_type": "markdown",
      "metadata": {
        "id": "0nzOYQ4xsYZ0"
      },
      "source": [
        "### environnement"
      ]
    },
    {
      "cell_type": "code",
      "metadata": {
        "colab": {
          "base_uri": "https://localhost:8080/"
        },
        "id": "FgQ_rx97sJeD",
        "outputId": "40d0763d-e950-499b-9403-fc6410bea89b"
      },
      "source": [
        "!pip install ta\n",
        "!pip install yfinance"
      ],
      "execution_count": null,
      "outputs": [
        {
          "output_type": "stream",
          "name": "stdout",
          "text": [
            "Collecting ta\n",
            "  Downloading ta-0.7.0.tar.gz (25 kB)\n",
            "Requirement already satisfied: numpy in /usr/local/lib/python3.7/dist-packages (from ta) (1.19.5)\n",
            "Requirement already satisfied: pandas in /usr/local/lib/python3.7/dist-packages (from ta) (1.1.5)\n",
            "Requirement already satisfied: pytz>=2017.2 in /usr/local/lib/python3.7/dist-packages (from pandas->ta) (2018.9)\n",
            "Requirement already satisfied: python-dateutil>=2.7.3 in /usr/local/lib/python3.7/dist-packages (from pandas->ta) (2.8.2)\n",
            "Requirement already satisfied: six>=1.5 in /usr/local/lib/python3.7/dist-packages (from python-dateutil>=2.7.3->pandas->ta) (1.15.0)\n",
            "Building wheels for collected packages: ta\n",
            "  Building wheel for ta (setup.py) ... \u001b[?25l\u001b[?25hdone\n",
            "  Created wheel for ta: filename=ta-0.7.0-py3-none-any.whl size=28718 sha256=2145b324be66eefd34fc13f661c25cd31de88640fdbaa9d958faef5705b51f8c\n",
            "  Stored in directory: /root/.cache/pip/wheels/5e/74/e0/72395003bd1d3c8f3f5860c2d180ff15699e47a2733d8ebd38\n",
            "Successfully built ta\n",
            "Installing collected packages: ta\n",
            "Successfully installed ta-0.7.0\n",
            "Collecting yfinance\n",
            "  Downloading yfinance-0.1.63.tar.gz (26 kB)\n",
            "Requirement already satisfied: pandas>=0.24 in /usr/local/lib/python3.7/dist-packages (from yfinance) (1.1.5)\n",
            "Requirement already satisfied: numpy>=1.15 in /usr/local/lib/python3.7/dist-packages (from yfinance) (1.19.5)\n",
            "Requirement already satisfied: requests>=2.20 in /usr/local/lib/python3.7/dist-packages (from yfinance) (2.23.0)\n",
            "Requirement already satisfied: multitasking>=0.0.7 in /usr/local/lib/python3.7/dist-packages (from yfinance) (0.0.9)\n",
            "Collecting lxml>=4.5.1\n",
            "  Downloading lxml-4.6.3-cp37-cp37m-manylinux2014_x86_64.whl (6.3 MB)\n",
            "\u001b[K     |████████████████████████████████| 6.3 MB 7.9 MB/s \n",
            "\u001b[?25hRequirement already satisfied: pytz>=2017.2 in /usr/local/lib/python3.7/dist-packages (from pandas>=0.24->yfinance) (2018.9)\n",
            "Requirement already satisfied: python-dateutil>=2.7.3 in /usr/local/lib/python3.7/dist-packages (from pandas>=0.24->yfinance) (2.8.2)\n",
            "Requirement already satisfied: six>=1.5 in /usr/local/lib/python3.7/dist-packages (from python-dateutil>=2.7.3->pandas>=0.24->yfinance) (1.15.0)\n",
            "Requirement already satisfied: idna<3,>=2.5 in /usr/local/lib/python3.7/dist-packages (from requests>=2.20->yfinance) (2.10)\n",
            "Requirement already satisfied: urllib3!=1.25.0,!=1.25.1,<1.26,>=1.21.1 in /usr/local/lib/python3.7/dist-packages (from requests>=2.20->yfinance) (1.24.3)\n",
            "Requirement already satisfied: certifi>=2017.4.17 in /usr/local/lib/python3.7/dist-packages (from requests>=2.20->yfinance) (2021.5.30)\n",
            "Requirement already satisfied: chardet<4,>=3.0.2 in /usr/local/lib/python3.7/dist-packages (from requests>=2.20->yfinance) (3.0.4)\n",
            "Building wheels for collected packages: yfinance\n",
            "  Building wheel for yfinance (setup.py) ... \u001b[?25l\u001b[?25hdone\n",
            "  Created wheel for yfinance: filename=yfinance-0.1.63-py2.py3-none-any.whl size=23918 sha256=c7e8704f88b61cf357345c5d29658b66d044d39dcc78f14007f8aad8baf75947\n",
            "  Stored in directory: /root/.cache/pip/wheels/fe/87/8b/7ec24486e001d3926537f5f7801f57a74d181be25b11157983\n",
            "Successfully built yfinance\n",
            "Installing collected packages: lxml, yfinance\n",
            "  Attempting uninstall: lxml\n",
            "    Found existing installation: lxml 4.2.6\n",
            "    Uninstalling lxml-4.2.6:\n",
            "      Successfully uninstalled lxml-4.2.6\n",
            "Successfully installed lxml-4.6.3 yfinance-0.1.63\n"
          ]
        }
      ]
    },
    {
      "cell_type": "code",
      "metadata": {
        "id": "AEYJf9IAsSvS"
      },
      "source": [
        "import pandas as pd\n",
        "import ta\n",
        "import yfinance as yf\n",
        "\n",
        "import seaborn as sns\n",
        "from tqdm import tqdm\n",
        "import numpy as np\n",
        "from scipy.optimize import minimize\n",
        "\n",
        "import warnings\n",
        "warnings.filterwarnings(\"ignore\")"
      ],
      "execution_count": null,
      "outputs": []
    },
    {
      "cell_type": "code",
      "metadata": {
        "id": "Trm5QWowsWAy"
      },
      "source": [
        "import matplotlib as mpl\n",
        "import matplotlib.pyplot as plt\n",
        "\n",
        "from matplotlib import cycler\n",
        "colors = cycler('color',\n",
        "                ['#669FEE', '#66EE91', '#9988DD',\n",
        "                 '#EECC55', '#88BB44', '#FFBBBB'])\n",
        "plt.rc('figure', facecolor='#313233')\n",
        "plt.rc('axes', facecolor=\"#313233\", edgecolor='none',\n",
        "       axisbelow=True, grid=True, prop_cycle=colors,\n",
        "       labelcolor='gray')\n",
        "plt.rc('grid', color='474A4A', linestyle='solid')\n",
        "plt.rc('xtick', color='gray')\n",
        "plt.rc('ytick', direction='out', color='gray')\n",
        "plt.rc('legend', facecolor=\"#313233\", edgecolor=\"#313233\")\n",
        "plt.rc(\"text\", color=\"#C9C9C9\")\n",
        "plt.rc('figure', facecolor='#313233')"
      ],
      "execution_count": null,
      "outputs": []
    },
    {
      "cell_type": "markdown",
      "metadata": {
        "id": "lHScxsr6sgyC"
      },
      "source": [
        "### Functions"
      ]
    },
    {
      "cell_type": "code",
      "metadata": {
        "id": "2YxMqnAxshp-"
      },
      "source": [
        "def RSI(val,neutral, window):\n",
        "  \"\"\" \n",
        "        ------------------------------------------------------------------------------\n",
        "        | Output: The function gives the returns of RSI strategy                     |\n",
        "        ------------------------------------------------------------------------------\n",
        "        | Inputs: -val (type dataframe pandas): Entry values of the stock            |\n",
        "        |         -neutral (float): Value of neutrality, i.e. no action zone         |\n",
        "        |         -window (float): rolling period for RSI                            |\n",
        "        ------------------------------------------------------------------------------\n",
        "  \"\"\"\n",
        "\n",
        "  # Print Error if there is no column Adj Close in the dataframe\n",
        "  if \"Adj Close\" not in val.columns:\n",
        "    ValueError(\"We need have a columns name Adj Close because all computation are about this column\")\n",
        "  \n",
        "  val[\"rsi\"] = ta.momentum.RSIIndicator(f[\"Adj Close\"], window=window).rsi()\n",
        "\n",
        "\n",
        "  \n",
        "  \"\"\" Long buy Signal \"\"\"\n",
        "  # We put threshold\n",
        "  overbuy = 70\n",
        "  neutral_buy = 50 + neutral\n",
        "\n",
        "  # Put nan values for the signal long columns\n",
        "  val[\"signal_long\"] = np.nan\n",
        "  val[\"yersteday_rsi\"] = f[\"rsi\"].shift(1)\n",
        "  # We need define the Open Long signal (RSI yersteday<55 and RSI today>55)\n",
        "  val.loc[(val[\"rsi\"]>neutral_buy) & (val[\"yersteday_rsi\"]<neutral_buy), \"signal_long\"] = 1\n",
        "\n",
        "  # We need define the Close Long signal (RSI yersteday>55 and RSI today<55) False signal\n",
        "  val.loc[(val[\"rsi\"]<neutral_buy)&(val[\"yersteday_rsi\"]>neutral_buy), \"signal_long\"] = 0\n",
        "\n",
        "  # We need define the Close Long signal (RSI yersteday>70 and RSI today<70) Over buy signal\n",
        "  val.loc[(val[\"rsi\"]<overbuy)&(val[\"yersteday_rsi\"]>overbuy), \"signal_long\"] = 0\n",
        "\n",
        "\n",
        "\n",
        "  \"\"\"Short sell signal \"\"\"\n",
        "  # We put threshold\n",
        "  oversell = 30\n",
        "  neutral_buy = 50 - neutral\n",
        "\n",
        "  # Put nan values for the signal short columns\n",
        "  val[\"signal_short\"] = np.nan\n",
        "  val[\"yersteday_rsi\"] = val[\"rsi\"].shift(1)\n",
        "  # We need define the Open Short signal (RSI yersteday>45 and RSI today<45)\n",
        "  val.loc[(val[\"rsi\"]<neutral_buy) & (val[\"yersteday_rsi\"]>neutral_buy), \"signal_short\"] = -1\n",
        "\n",
        "  # We need define the Close Short signal (RSI yersteday<45 and RSI today>45) False signal\n",
        "  val.loc[(val[\"rsi\"]>neutral_buy)&(val[\"yersteday_rsi\"]<neutral_buy), \"signal_short\"] = 0\n",
        "\n",
        "  # We need define the Close Short signal (RSI yersteday<30 and RSI today>30) Over sell signal\n",
        "  val.loc[(val[\"rsi\"]>oversell)&(val[\"yersteday_rsi\"]<oversell), \"signal_short\"] = 0\n",
        "\n",
        "\n",
        "  \"\"\" Compute the returns \"\"\"\n",
        "  # Compute the percentage of variation of the asset\n",
        "  val[\"pct\"] = val[\"Adj Close\"].pct_change(1)\n",
        "\n",
        "  # Compute the positions\n",
        "  val[\"Position\"] = (val[\"signal_short\"].fillna(method=\"ffill\")+ val[\"signal_long\"].fillna(method=\"ffill\"))\n",
        "\n",
        "  # Compute the return of the strategy\n",
        "  val[\"return\"] = val[\"pct\"]*(val[\"Position\"].shift(1))\n",
        "\n",
        "  return val[\"return\"]"
      ],
      "execution_count": null,
      "outputs": []
    },
    {
      "cell_type": "code",
      "metadata": {
        "id": "6nSEtxeCvazD"
      },
      "source": [
        "def drawdown_function(serie):\n",
        "  \n",
        "  # We compute Cumsum of the returns\n",
        "  cum = serie.dropna().cumsum()+1\n",
        "\n",
        "  # We compute max of the cumsum on the period (accumulate max)\n",
        "  running_max = np.maximum.accumulate(cum)\n",
        "\n",
        "  # We compute drawdown\n",
        "  drawdown  = cum/running_max - 1 \n",
        "  return drawdown"
      ],
      "execution_count": null,
      "outputs": []
    },
    {
      "cell_type": "code",
      "metadata": {
        "id": "5AF_uwtvsncZ"
      },
      "source": [
        "def BackTest(serie):\n",
        "\n",
        "  # Import the benchmarcl\n",
        "  sp500 = yf.download(\"^GSPC\")[\"Adj Close\"].pct_change(1)\n",
        "  sp500.columns = [\"SP500\"]\n",
        "\n",
        "  val = pd.concat((serie, sp500), axis=1).dropna()\n",
        "  \n",
        "  # Compute the drawdown\n",
        "  drawdown = drawdown_function(serie)\n",
        "  max_drawdown = -np.min(drawdown)\n",
        "\n",
        "  # Put a subplots\n",
        "  fig, (cum, dra) = plt.subplots(1,2, figsize=(15,6))\n",
        "  \n",
        "  # Put a Suptitle\n",
        "  fig.suptitle(\"Backtesting\", size=20)\n",
        "\n",
        "  # Put the cumsum\n",
        "  cum.plot(serie.cumsum(), color=\"#39B3C7\")\n",
        "  cum.plot(val[\"Adj Close\"].cumsum(), color=\"#B85A0F\")\n",
        "  cum.legend([\"Portfolio\", \"SP500\"])\n",
        "  # Set individual title\n",
        "  cum.set_title(\"Cumulative Return\", size=13)\n",
        "\n",
        "  # Put the drawdown\n",
        "  dra.fill_between(drawdown.index,0,drawdown, color=\"#C73954\", alpha=0.65)\n",
        "\n",
        "  # Set individual title\n",
        "  dra.set_title(\"Drawdown\", size=13)\n",
        "\n",
        "  # Plot the graph\n",
        "  plt.show()\n",
        "\n",
        "  # Compute the sortino\n",
        "  sortino = np.sqrt(252)*serie.mean()/serie.loc[serie<0].std()\n",
        "\n",
        "  # Compute the beta\n",
        "  beta = np.cov(val,rowvar=False)[0][1] /np.var(val[\"Adj Close\"].dropna())\n",
        "\n",
        "  # Compute the alpha\n",
        "  alpha = 252*serie.mean() - 252*beta*serie.mean()\n",
        "\n",
        "  # Print the statistics\n",
        "  print(f\"Sortino: {np.round(sortino,3)}\")\n",
        "  print(f\"Beta: {np.round(beta,3)}\")\n",
        "  print(f\"Alpha: {np.round(alpha,3)}\")\n",
        "  print(f\"MaxDrawdown: {np.round(max_drawdown*100,3)} %\")\n"
      ],
      "execution_count": null,
      "outputs": []
    },
    {
      "cell_type": "code",
      "metadata": {
        "id": "pEvBP0B1swFG"
      },
      "source": [
        "def opt(f):\n",
        "  # We set lists for the possible values of neutral and window\n",
        "  neutral_values = [i*2 for i in range(10)]\n",
        "  window_values = [i*2 for i in range(1,11)]\n",
        "\n",
        "  # Set some Border of the datasets\n",
        "  start_train, end_train = \"2017-01-01\", \"2019-01-01\"\n",
        "  start_test, end_test = \"2019-01-01\", \"2020-01-01\"\n",
        "  start_valid, end_valid = \"2020-01-01\", \"2021-01-01\"\n",
        "\n",
        "\n",
        "  # Initialize the list\n",
        "  resume = []\n",
        "\n",
        "  # Loop to add the values in the list\n",
        "  for i in range(len(neutral_values)):\n",
        "      for j in range(len(window_values)):\n",
        "        # Compute the returns\n",
        "        return_train = RSI(f.loc[start_train:end_train], neutral_values[i], window_values[j])\n",
        "        return_test = RSI(f.loc[start_test:end_test], neutral_values[i], window_values[j])\n",
        "\n",
        "        # Compute the sortino\n",
        "        sortino_train = np.sqrt(252) * return_train.mean() / return_train[return_train<0].std()\n",
        "        sortino_test = np.sqrt(252) * return_test.mean() / return_test[return_test<0].std()\n",
        "\n",
        "        # We do list of list to do a dataframe\n",
        "        values = [neutral_values[i], window_values[j], sortino_train, sortino_test]\n",
        "        resume.append(values)\n",
        "\n",
        "  resume = pd.DataFrame(resume, columns=[\"Neutral\", \"Window\", \"Sortino Train\", \"Sortino test\"])\n",
        "\n",
        "  # Order by sortino\n",
        "  ordered_resume = resume.sort_values(by=\"Sortino Train\", ascending=False)\n",
        "\n",
        "\n",
        "\n",
        "  for i in range(len(resume)):\n",
        "    # Take the best\n",
        "    best = ordered_resume.iloc[0+i:1+i,:]\n",
        "\n",
        "    # Compute the sortino\n",
        "    Strain = best[\"Sortino Train\"].values[0]\n",
        "    Stest = best[\"Sortino test\"].values[0]\n",
        "\n",
        "    # Take best neutral and best window\n",
        "    best_neutral = best[\"Neutral\"].values[0]\n",
        "    best_window = best[\"Window\"].values[0]\n",
        "\n",
        "    # If the Sortino of the train and the test are good we stop the loop\n",
        "    if Stest>0.5 and Strain>0.5:\n",
        "      break\n",
        "\n",
        "    # If there is no values enought good the put 0 in all values\n",
        "    else:\n",
        "      best_neutral = 0\n",
        "      best_window = 0\n",
        "      Strain = 0\n",
        "      Stest = 0\n",
        "  return [best_neutral, best_window, Strain, Stest]"
      ],
      "execution_count": null,
      "outputs": []
    },
    {
      "cell_type": "markdown",
      "metadata": {
        "id": "yXGhnTQysyuE"
      },
      "source": [
        "# Section1:  Sortino Optimization"
      ]
    },
    {
      "cell_type": "code",
      "metadata": {
        "id": "2Ne3r48msz1F",
        "colab": {
          "base_uri": "https://localhost:8080/"
        },
        "outputId": "52550b98-e4f9-4a33-d148-1e71bf9637be"
      },
      "source": [
        "# Import Yahoo name\n",
        "assets = pd.read_csv(\"/content/Names.csv\")[\"Symbol\"]\n",
        "\n",
        "# Initialize the lists\n",
        "resume = []\n",
        "col = []\n",
        "\n",
        "# Compute best parameters for each Asset\n",
        "for fin in tqdm(assets):\n",
        "\n",
        "  # Import the asset\n",
        "  arr = yf.download(fin)\n",
        "\n",
        "  # Put the values\n",
        "  resume.append(opt(arr))\n",
        "  col.append(fin)\n",
        "\n"
      ],
      "execution_count": null,
      "outputs": [
        {
          "output_type": "stream",
          "name": "stderr",
          "text": [
            "\r  0%|          | 0/152 [00:00<?, ?it/s]"
          ]
        },
        {
          "output_type": "stream",
          "name": "stdout",
          "text": [
            "\r[*********************100%***********************]  1 of 1 completed\n"
          ]
        },
        {
          "output_type": "stream",
          "name": "stderr",
          "text": [
            "\r  1%|          | 1/152 [00:04<10:57,  4.35s/it]"
          ]
        },
        {
          "output_type": "stream",
          "name": "stdout",
          "text": [
            "\r[*********************100%***********************]  1 of 1 completed\n"
          ]
        },
        {
          "output_type": "stream",
          "name": "stderr",
          "text": [
            "\r  1%|▏         | 2/152 [00:08<10:38,  4.26s/it]"
          ]
        },
        {
          "output_type": "stream",
          "name": "stdout",
          "text": [
            "\r[*********************100%***********************]  1 of 1 completed\n"
          ]
        },
        {
          "output_type": "stream",
          "name": "stderr",
          "text": [
            "\r  2%|▏         | 3/152 [00:12<10:32,  4.24s/it]"
          ]
        },
        {
          "output_type": "stream",
          "name": "stdout",
          "text": [
            "\r[*********************100%***********************]  1 of 1 completed\n"
          ]
        },
        {
          "output_type": "stream",
          "name": "stderr",
          "text": [
            "\r  3%|▎         | 4/152 [00:16<10:20,  4.19s/it]"
          ]
        },
        {
          "output_type": "stream",
          "name": "stdout",
          "text": [
            "\r[*********************100%***********************]  1 of 1 completed\n"
          ]
        },
        {
          "output_type": "stream",
          "name": "stderr",
          "text": [
            "\r  3%|▎         | 5/152 [00:21<10:18,  4.21s/it]"
          ]
        },
        {
          "output_type": "stream",
          "name": "stdout",
          "text": [
            "\r[*********************100%***********************]  1 of 1 completed\n"
          ]
        },
        {
          "output_type": "stream",
          "name": "stderr",
          "text": [
            "\r  4%|▍         | 6/152 [00:25<10:13,  4.20s/it]"
          ]
        },
        {
          "output_type": "stream",
          "name": "stdout",
          "text": [
            "\r[*********************100%***********************]  1 of 1 completed\n"
          ]
        },
        {
          "output_type": "stream",
          "name": "stderr",
          "text": [
            "\r  5%|▍         | 7/152 [00:29<10:08,  4.20s/it]"
          ]
        },
        {
          "output_type": "stream",
          "name": "stdout",
          "text": [
            "\r[*********************100%***********************]  1 of 1 completed\n"
          ]
        },
        {
          "output_type": "stream",
          "name": "stderr",
          "text": [
            "\r  5%|▌         | 8/152 [00:33<10:02,  4.19s/it]"
          ]
        },
        {
          "output_type": "stream",
          "name": "stdout",
          "text": [
            "\r[*********************100%***********************]  1 of 1 completed\n"
          ]
        },
        {
          "output_type": "stream",
          "name": "stderr",
          "text": [
            "\r  6%|▌         | 9/152 [00:37<09:57,  4.18s/it]"
          ]
        },
        {
          "output_type": "stream",
          "name": "stdout",
          "text": [
            "\r[*********************100%***********************]  1 of 1 completed\n"
          ]
        },
        {
          "output_type": "stream",
          "name": "stderr",
          "text": [
            "\r  7%|▋         | 10/152 [00:42<09:56,  4.20s/it]"
          ]
        },
        {
          "output_type": "stream",
          "name": "stdout",
          "text": [
            "\r[*********************100%***********************]  1 of 1 completed\n"
          ]
        },
        {
          "output_type": "stream",
          "name": "stderr",
          "text": [
            "\r  7%|▋         | 11/152 [00:46<09:49,  4.18s/it]"
          ]
        },
        {
          "output_type": "stream",
          "name": "stdout",
          "text": [
            "\r[*********************100%***********************]  1 of 1 completed\n"
          ]
        },
        {
          "output_type": "stream",
          "name": "stderr",
          "text": [
            "\r  8%|▊         | 12/152 [00:50<09:45,  4.18s/it]"
          ]
        },
        {
          "output_type": "stream",
          "name": "stdout",
          "text": [
            "\r[*********************100%***********************]  1 of 1 completed\n"
          ]
        },
        {
          "output_type": "stream",
          "name": "stderr",
          "text": [
            "\r  9%|▊         | 13/152 [00:54<09:39,  4.17s/it]"
          ]
        },
        {
          "output_type": "stream",
          "name": "stdout",
          "text": [
            "\r[*********************100%***********************]  1 of 1 completed\n"
          ]
        },
        {
          "output_type": "stream",
          "name": "stderr",
          "text": [
            "\r  9%|▉         | 14/152 [00:58<09:34,  4.16s/it]"
          ]
        },
        {
          "output_type": "stream",
          "name": "stdout",
          "text": [
            "\r[*********************100%***********************]  1 of 1 completed\n"
          ]
        },
        {
          "output_type": "stream",
          "name": "stderr",
          "text": [
            "\r 10%|▉         | 15/152 [01:02<09:28,  4.15s/it]"
          ]
        },
        {
          "output_type": "stream",
          "name": "stdout",
          "text": [
            "\r[*********************100%***********************]  1 of 1 completed\n"
          ]
        },
        {
          "output_type": "stream",
          "name": "stderr",
          "text": [
            "\r 11%|█         | 16/152 [01:07<09:35,  4.23s/it]"
          ]
        },
        {
          "output_type": "stream",
          "name": "stdout",
          "text": [
            "\r[*********************100%***********************]  1 of 1 completed\n"
          ]
        },
        {
          "output_type": "stream",
          "name": "stderr",
          "text": [
            "\r 11%|█         | 17/152 [01:11<09:30,  4.22s/it]"
          ]
        },
        {
          "output_type": "stream",
          "name": "stdout",
          "text": [
            "\r[*********************100%***********************]  1 of 1 completed\n"
          ]
        },
        {
          "output_type": "stream",
          "name": "stderr",
          "text": [
            "\r 12%|█▏        | 18/152 [01:15<09:23,  4.20s/it]"
          ]
        },
        {
          "output_type": "stream",
          "name": "stdout",
          "text": [
            "\r[*********************100%***********************]  1 of 1 completed\n"
          ]
        },
        {
          "output_type": "stream",
          "name": "stderr",
          "text": [
            "\r 12%|█▎        | 19/152 [01:19<09:22,  4.23s/it]"
          ]
        },
        {
          "output_type": "stream",
          "name": "stdout",
          "text": [
            "\r[*********************100%***********************]  1 of 1 completed\n"
          ]
        },
        {
          "output_type": "stream",
          "name": "stderr",
          "text": [
            "\r 13%|█▎        | 20/152 [01:24<09:20,  4.25s/it]"
          ]
        },
        {
          "output_type": "stream",
          "name": "stdout",
          "text": [
            "\r[*********************100%***********************]  1 of 1 completed\n"
          ]
        },
        {
          "output_type": "stream",
          "name": "stderr",
          "text": [
            "\r 14%|█▍        | 21/152 [01:28<09:19,  4.27s/it]"
          ]
        },
        {
          "output_type": "stream",
          "name": "stdout",
          "text": [
            "\r[*********************100%***********************]  1 of 1 completed\n"
          ]
        },
        {
          "output_type": "stream",
          "name": "stderr",
          "text": [
            "\r 14%|█▍        | 22/152 [01:32<09:12,  4.25s/it]"
          ]
        },
        {
          "output_type": "stream",
          "name": "stdout",
          "text": [
            "\r[*********************100%***********************]  1 of 1 completed\n"
          ]
        },
        {
          "output_type": "stream",
          "name": "stderr",
          "text": [
            "\r 15%|█▌        | 23/152 [01:36<09:06,  4.24s/it]"
          ]
        },
        {
          "output_type": "stream",
          "name": "stdout",
          "text": [
            "\r[*********************100%***********************]  1 of 1 completed\n"
          ]
        },
        {
          "output_type": "stream",
          "name": "stderr",
          "text": [
            "\r 16%|█▌        | 24/152 [01:41<09:00,  4.22s/it]"
          ]
        },
        {
          "output_type": "stream",
          "name": "stdout",
          "text": [
            "\r[*********************100%***********************]  1 of 1 completed\n"
          ]
        },
        {
          "output_type": "stream",
          "name": "stderr",
          "text": [
            "\r 16%|█▋        | 25/152 [01:45<08:53,  4.20s/it]"
          ]
        },
        {
          "output_type": "stream",
          "name": "stdout",
          "text": [
            "\r[*********************100%***********************]  1 of 1 completed\n"
          ]
        },
        {
          "output_type": "stream",
          "name": "stderr",
          "text": [
            "\r 17%|█▋        | 26/152 [01:49<08:40,  4.13s/it]"
          ]
        },
        {
          "output_type": "stream",
          "name": "stdout",
          "text": [
            "\r[*********************100%***********************]  1 of 1 completed\n"
          ]
        },
        {
          "output_type": "stream",
          "name": "stderr",
          "text": [
            "\r 18%|█▊        | 27/152 [01:53<08:30,  4.08s/it]"
          ]
        },
        {
          "output_type": "stream",
          "name": "stdout",
          "text": [
            "\r[*********************100%***********************]  1 of 1 completed\n"
          ]
        },
        {
          "output_type": "stream",
          "name": "stderr",
          "text": [
            "\r 18%|█▊        | 28/152 [01:57<08:23,  4.06s/it]"
          ]
        },
        {
          "output_type": "stream",
          "name": "stdout",
          "text": [
            "\r[*********************100%***********************]  1 of 1 completed\n"
          ]
        },
        {
          "output_type": "stream",
          "name": "stderr",
          "text": [
            "\r 19%|█▉        | 29/152 [02:01<08:24,  4.10s/it]"
          ]
        },
        {
          "output_type": "stream",
          "name": "stdout",
          "text": [
            "\r[*********************100%***********************]  1 of 1 completed\n"
          ]
        },
        {
          "output_type": "stream",
          "name": "stderr",
          "text": [
            "\r 20%|█▉        | 30/152 [02:05<08:18,  4.09s/it]"
          ]
        },
        {
          "output_type": "stream",
          "name": "stdout",
          "text": [
            "\r[*********************100%***********************]  1 of 1 completed\n"
          ]
        },
        {
          "output_type": "stream",
          "name": "stderr",
          "text": [
            "\r 20%|██        | 31/152 [02:09<08:08,  4.04s/it]"
          ]
        },
        {
          "output_type": "stream",
          "name": "stdout",
          "text": [
            "\r[*********************100%***********************]  1 of 1 completed\n"
          ]
        },
        {
          "output_type": "stream",
          "name": "stderr",
          "text": [
            "\r 21%|██        | 32/152 [02:13<08:01,  4.02s/it]"
          ]
        },
        {
          "output_type": "stream",
          "name": "stdout",
          "text": [
            "\r[*********************100%***********************]  1 of 1 completed\n"
          ]
        },
        {
          "output_type": "stream",
          "name": "stderr",
          "text": [
            "\r 22%|██▏       | 33/152 [02:17<07:52,  3.97s/it]"
          ]
        },
        {
          "output_type": "stream",
          "name": "stdout",
          "text": [
            "\r[*********************100%***********************]  1 of 1 completed\n"
          ]
        },
        {
          "output_type": "stream",
          "name": "stderr",
          "text": [
            "\r 22%|██▏       | 34/152 [02:21<07:46,  3.95s/it]"
          ]
        },
        {
          "output_type": "stream",
          "name": "stdout",
          "text": [
            "\r[*********************100%***********************]  1 of 1 completed\n"
          ]
        },
        {
          "output_type": "stream",
          "name": "stderr",
          "text": [
            "\r 23%|██▎       | 35/152 [02:25<07:49,  4.01s/it]"
          ]
        },
        {
          "output_type": "stream",
          "name": "stdout",
          "text": [
            "\r[*********************100%***********************]  1 of 1 completed\n"
          ]
        },
        {
          "output_type": "stream",
          "name": "stderr",
          "text": [
            "\r 24%|██▎       | 36/152 [02:29<07:47,  4.03s/it]"
          ]
        },
        {
          "output_type": "stream",
          "name": "stdout",
          "text": [
            "\r[*********************100%***********************]  1 of 1 completed\n"
          ]
        },
        {
          "output_type": "stream",
          "name": "stderr",
          "text": [
            "\r 24%|██▍       | 37/152 [02:33<07:48,  4.07s/it]"
          ]
        },
        {
          "output_type": "stream",
          "name": "stdout",
          "text": [
            "\r[*********************100%***********************]  1 of 1 completed\n"
          ]
        },
        {
          "output_type": "stream",
          "name": "stderr",
          "text": [
            "\r 25%|██▌       | 38/152 [02:37<07:43,  4.07s/it]"
          ]
        },
        {
          "output_type": "stream",
          "name": "stdout",
          "text": [
            "\r[*********************100%***********************]  1 of 1 completed\n"
          ]
        },
        {
          "output_type": "stream",
          "name": "stderr",
          "text": [
            "\r 26%|██▌       | 39/152 [02:41<07:36,  4.04s/it]"
          ]
        },
        {
          "output_type": "stream",
          "name": "stdout",
          "text": [
            "\r[*********************100%***********************]  1 of 1 completed\n"
          ]
        },
        {
          "output_type": "stream",
          "name": "stderr",
          "text": [
            "\r 26%|██▋       | 40/152 [02:45<07:27,  3.99s/it]"
          ]
        },
        {
          "output_type": "stream",
          "name": "stdout",
          "text": [
            "\r[*********************100%***********************]  1 of 1 completed\n"
          ]
        },
        {
          "output_type": "stream",
          "name": "stderr",
          "text": [
            "\r 27%|██▋       | 41/152 [02:49<07:25,  4.01s/it]"
          ]
        },
        {
          "output_type": "stream",
          "name": "stdout",
          "text": [
            "\r[*********************100%***********************]  1 of 1 completed\n"
          ]
        },
        {
          "output_type": "stream",
          "name": "stderr",
          "text": [
            "\r 28%|██▊       | 42/152 [02:53<07:24,  4.04s/it]"
          ]
        },
        {
          "output_type": "stream",
          "name": "stdout",
          "text": [
            "\r[*********************100%***********************]  1 of 1 completed\n"
          ]
        },
        {
          "output_type": "stream",
          "name": "stderr",
          "text": [
            "\r 28%|██▊       | 43/152 [02:57<07:22,  4.06s/it]"
          ]
        },
        {
          "output_type": "stream",
          "name": "stdout",
          "text": [
            "\r[*********************100%***********************]  1 of 1 completed\n"
          ]
        },
        {
          "output_type": "stream",
          "name": "stderr",
          "text": [
            "\r 29%|██▉       | 44/152 [03:01<07:20,  4.08s/it]"
          ]
        },
        {
          "output_type": "stream",
          "name": "stdout",
          "text": [
            "\r[*********************100%***********************]  1 of 1 completed\n"
          ]
        },
        {
          "output_type": "stream",
          "name": "stderr",
          "text": [
            "\r 30%|██▉       | 45/152 [03:05<07:17,  4.09s/it]"
          ]
        },
        {
          "output_type": "stream",
          "name": "stdout",
          "text": [
            "\r[*********************100%***********************]  1 of 1 completed\n"
          ]
        },
        {
          "output_type": "stream",
          "name": "stderr",
          "text": [
            "\r 30%|███       | 46/152 [03:09<07:09,  4.05s/it]"
          ]
        },
        {
          "output_type": "stream",
          "name": "stdout",
          "text": [
            "\r[*********************100%***********************]  1 of 1 completed\n"
          ]
        },
        {
          "output_type": "stream",
          "name": "stderr",
          "text": [
            "\r 31%|███       | 47/152 [03:14<07:08,  4.08s/it]"
          ]
        },
        {
          "output_type": "stream",
          "name": "stdout",
          "text": [
            "\r[*********************100%***********************]  1 of 1 completed\n"
          ]
        },
        {
          "output_type": "stream",
          "name": "stderr",
          "text": [
            "\r 32%|███▏      | 48/152 [03:18<07:04,  4.08s/it]"
          ]
        },
        {
          "output_type": "stream",
          "name": "stdout",
          "text": [
            "\r[*********************100%***********************]  1 of 1 completed\n"
          ]
        },
        {
          "output_type": "stream",
          "name": "stderr",
          "text": [
            "\r 32%|███▏      | 49/152 [03:22<06:59,  4.07s/it]"
          ]
        },
        {
          "output_type": "stream",
          "name": "stdout",
          "text": [
            "\r[*********************100%***********************]  1 of 1 completed\n"
          ]
        },
        {
          "output_type": "stream",
          "name": "stderr",
          "text": [
            "\r 33%|███▎      | 50/152 [03:26<06:54,  4.07s/it]"
          ]
        },
        {
          "output_type": "stream",
          "name": "stdout",
          "text": [
            "\r[*********************100%***********************]  1 of 1 completed\n"
          ]
        },
        {
          "output_type": "stream",
          "name": "stderr",
          "text": [
            "\r 34%|███▎      | 51/152 [03:30<07:00,  4.16s/it]"
          ]
        },
        {
          "output_type": "stream",
          "name": "stdout",
          "text": [
            "\r[*********************100%***********************]  1 of 1 completed\n"
          ]
        },
        {
          "output_type": "stream",
          "name": "stderr",
          "text": [
            "\r 34%|███▍      | 52/152 [03:34<07:00,  4.21s/it]"
          ]
        },
        {
          "output_type": "stream",
          "name": "stdout",
          "text": [
            "\r[*********************100%***********************]  1 of 1 completed\n"
          ]
        },
        {
          "output_type": "stream",
          "name": "stderr",
          "text": [
            "\r 35%|███▍      | 53/152 [03:39<06:56,  4.21s/it]"
          ]
        },
        {
          "output_type": "stream",
          "name": "stdout",
          "text": [
            "\r[*********************100%***********************]  1 of 1 completed\n"
          ]
        },
        {
          "output_type": "stream",
          "name": "stderr",
          "text": [
            "\r 36%|███▌      | 54/152 [03:43<06:50,  4.19s/it]"
          ]
        },
        {
          "output_type": "stream",
          "name": "stdout",
          "text": [
            "\r[*********************100%***********************]  1 of 1 completed\n"
          ]
        },
        {
          "output_type": "stream",
          "name": "stderr",
          "text": [
            "\r 36%|███▌      | 55/152 [03:47<06:42,  4.15s/it]"
          ]
        },
        {
          "output_type": "stream",
          "name": "stdout",
          "text": [
            "\r[*********************100%***********************]  1 of 1 completed\n"
          ]
        },
        {
          "output_type": "stream",
          "name": "stderr",
          "text": [
            "\r 37%|███▋      | 56/152 [03:51<06:37,  4.15s/it]"
          ]
        },
        {
          "output_type": "stream",
          "name": "stdout",
          "text": [
            "\r[*********************100%***********************]  1 of 1 completed\n"
          ]
        },
        {
          "output_type": "stream",
          "name": "stderr",
          "text": [
            "\r 38%|███▊      | 57/152 [03:55<06:37,  4.18s/it]"
          ]
        },
        {
          "output_type": "stream",
          "name": "stdout",
          "text": [
            "\r[*********************100%***********************]  1 of 1 completed\n"
          ]
        },
        {
          "output_type": "stream",
          "name": "stderr",
          "text": [
            "\r 38%|███▊      | 58/152 [03:59<06:30,  4.15s/it]"
          ]
        },
        {
          "output_type": "stream",
          "name": "stdout",
          "text": [
            "\r[*********************100%***********************]  1 of 1 completed\n"
          ]
        },
        {
          "output_type": "stream",
          "name": "stderr",
          "text": [
            "\r 39%|███▉      | 59/152 [04:03<06:24,  4.13s/it]"
          ]
        },
        {
          "output_type": "stream",
          "name": "stdout",
          "text": [
            "\r[*********************100%***********************]  1 of 1 completed\n"
          ]
        },
        {
          "output_type": "stream",
          "name": "stderr",
          "text": [
            "\r 39%|███▉      | 60/152 [04:08<06:24,  4.18s/it]"
          ]
        },
        {
          "output_type": "stream",
          "name": "stdout",
          "text": [
            "\r[*********************100%***********************]  1 of 1 completed\n"
          ]
        },
        {
          "output_type": "stream",
          "name": "stderr",
          "text": [
            "\r 40%|████      | 61/152 [04:12<06:24,  4.23s/it]"
          ]
        },
        {
          "output_type": "stream",
          "name": "stdout",
          "text": [
            "\r[*********************100%***********************]  1 of 1 completed\n"
          ]
        },
        {
          "output_type": "stream",
          "name": "stderr",
          "text": [
            "\r 41%|████      | 62/152 [04:16<06:16,  4.18s/it]"
          ]
        },
        {
          "output_type": "stream",
          "name": "stdout",
          "text": [
            "\r[*********************100%***********************]  1 of 1 completed\n"
          ]
        },
        {
          "output_type": "stream",
          "name": "stderr",
          "text": [
            "\r 41%|████▏     | 63/152 [04:20<06:12,  4.19s/it]"
          ]
        },
        {
          "output_type": "stream",
          "name": "stdout",
          "text": [
            "\r[*********************100%***********************]  1 of 1 completed\n"
          ]
        },
        {
          "output_type": "stream",
          "name": "stderr",
          "text": [
            "\r 42%|████▏     | 64/152 [04:24<06:07,  4.17s/it]"
          ]
        },
        {
          "output_type": "stream",
          "name": "stdout",
          "text": [
            "\r[*********************100%***********************]  1 of 1 completed\n"
          ]
        },
        {
          "output_type": "stream",
          "name": "stderr",
          "text": [
            "\r 43%|████▎     | 65/152 [04:29<06:07,  4.22s/it]"
          ]
        },
        {
          "output_type": "stream",
          "name": "stdout",
          "text": [
            "\r[*********************100%***********************]  1 of 1 completed\n"
          ]
        },
        {
          "output_type": "stream",
          "name": "stderr",
          "text": [
            "\r 43%|████▎     | 66/152 [04:33<05:57,  4.16s/it]"
          ]
        },
        {
          "output_type": "stream",
          "name": "stdout",
          "text": [
            "\r[*********************100%***********************]  1 of 1 completed\n"
          ]
        },
        {
          "output_type": "stream",
          "name": "stderr",
          "text": [
            "\r 44%|████▍     | 67/152 [04:37<05:57,  4.21s/it]"
          ]
        },
        {
          "output_type": "stream",
          "name": "stdout",
          "text": [
            "\r[*********************100%***********************]  1 of 1 completed\n"
          ]
        },
        {
          "output_type": "stream",
          "name": "stderr",
          "text": [
            "\r 45%|████▍     | 68/152 [04:41<05:50,  4.17s/it]"
          ]
        },
        {
          "output_type": "stream",
          "name": "stdout",
          "text": [
            "\r[*********************100%***********************]  1 of 1 completed\n"
          ]
        },
        {
          "output_type": "stream",
          "name": "stderr",
          "text": [
            "\r 45%|████▌     | 69/152 [04:45<05:45,  4.16s/it]"
          ]
        },
        {
          "output_type": "stream",
          "name": "stdout",
          "text": [
            "\r[*********************100%***********************]  1 of 1 completed\n"
          ]
        },
        {
          "output_type": "stream",
          "name": "stderr",
          "text": [
            "\r 46%|████▌     | 70/152 [04:50<05:42,  4.18s/it]"
          ]
        },
        {
          "output_type": "stream",
          "name": "stdout",
          "text": [
            "\r[*********************100%***********************]  1 of 1 completed\n"
          ]
        },
        {
          "output_type": "stream",
          "name": "stderr",
          "text": [
            "\r 47%|████▋     | 71/152 [04:54<05:42,  4.23s/it]"
          ]
        },
        {
          "output_type": "stream",
          "name": "stdout",
          "text": [
            "\r[*********************100%***********************]  1 of 1 completed\n"
          ]
        },
        {
          "output_type": "stream",
          "name": "stderr",
          "text": [
            "\r 47%|████▋     | 72/152 [04:58<05:38,  4.24s/it]"
          ]
        },
        {
          "output_type": "stream",
          "name": "stdout",
          "text": [
            "\r[*********************100%***********************]  1 of 1 completed\n"
          ]
        },
        {
          "output_type": "stream",
          "name": "stderr",
          "text": [
            "\r 48%|████▊     | 73/152 [05:02<05:33,  4.22s/it]"
          ]
        },
        {
          "output_type": "stream",
          "name": "stdout",
          "text": [
            "\r[*********************100%***********************]  1 of 1 completed\n"
          ]
        },
        {
          "output_type": "stream",
          "name": "stderr",
          "text": [
            "\r 49%|████▊     | 74/152 [05:07<05:28,  4.22s/it]"
          ]
        },
        {
          "output_type": "stream",
          "name": "stdout",
          "text": [
            "\r[*********************100%***********************]  1 of 1 completed\n"
          ]
        },
        {
          "output_type": "stream",
          "name": "stderr",
          "text": [
            "\r 49%|████▉     | 75/152 [05:11<05:22,  4.19s/it]"
          ]
        },
        {
          "output_type": "stream",
          "name": "stdout",
          "text": [
            "\r[*********************100%***********************]  1 of 1 completed\n"
          ]
        },
        {
          "output_type": "stream",
          "name": "stderr",
          "text": [
            "\r 50%|█████     | 76/152 [05:15<05:15,  4.16s/it]"
          ]
        },
        {
          "output_type": "stream",
          "name": "stdout",
          "text": [
            "\r[*********************100%***********************]  1 of 1 completed\n"
          ]
        },
        {
          "output_type": "stream",
          "name": "stderr",
          "text": [
            "\r 51%|█████     | 77/152 [05:19<05:10,  4.14s/it]"
          ]
        },
        {
          "output_type": "stream",
          "name": "stdout",
          "text": [
            "\r[*********************100%***********************]  1 of 1 completed\n"
          ]
        },
        {
          "output_type": "stream",
          "name": "stderr",
          "text": [
            "\r 51%|█████▏    | 78/152 [05:23<05:08,  4.17s/it]"
          ]
        },
        {
          "output_type": "stream",
          "name": "stdout",
          "text": [
            "\r[*********************100%***********************]  1 of 1 completed\n"
          ]
        },
        {
          "output_type": "stream",
          "name": "stderr",
          "text": [
            "\r 52%|█████▏    | 79/152 [05:27<05:05,  4.19s/it]"
          ]
        },
        {
          "output_type": "stream",
          "name": "stdout",
          "text": [
            "\r[*********************100%***********************]  1 of 1 completed\n"
          ]
        },
        {
          "output_type": "stream",
          "name": "stderr",
          "text": [
            "\r 53%|█████▎    | 80/152 [05:31<04:59,  4.17s/it]"
          ]
        },
        {
          "output_type": "stream",
          "name": "stdout",
          "text": [
            "\r[*********************100%***********************]  1 of 1 completed\n"
          ]
        },
        {
          "output_type": "stream",
          "name": "stderr",
          "text": [
            "\r 53%|█████▎    | 81/152 [05:36<04:57,  4.18s/it]"
          ]
        },
        {
          "output_type": "stream",
          "name": "stdout",
          "text": [
            "\r[*********************100%***********************]  1 of 1 completed\n"
          ]
        },
        {
          "output_type": "stream",
          "name": "stderr",
          "text": [
            "\r 54%|█████▍    | 82/152 [05:40<04:51,  4.17s/it]"
          ]
        },
        {
          "output_type": "stream",
          "name": "stdout",
          "text": [
            "\r[*********************100%***********************]  1 of 1 completed\n"
          ]
        },
        {
          "output_type": "stream",
          "name": "stderr",
          "text": [
            "\r 55%|█████▍    | 83/152 [05:44<04:49,  4.19s/it]"
          ]
        },
        {
          "output_type": "stream",
          "name": "stdout",
          "text": [
            "\r[*********************100%***********************]  1 of 1 completed\n"
          ]
        },
        {
          "output_type": "stream",
          "name": "stderr",
          "text": [
            "\r 55%|█████▌    | 84/152 [05:48<04:46,  4.22s/it]"
          ]
        },
        {
          "output_type": "stream",
          "name": "stdout",
          "text": [
            "\r[*********************100%***********************]  1 of 1 completed\n"
          ]
        },
        {
          "output_type": "stream",
          "name": "stderr",
          "text": [
            "\r 56%|█████▌    | 85/152 [05:52<04:36,  4.13s/it]"
          ]
        },
        {
          "output_type": "stream",
          "name": "stdout",
          "text": [
            "\r[*********************100%***********************]  1 of 1 completed\n"
          ]
        },
        {
          "output_type": "stream",
          "name": "stderr",
          "text": [
            "\r 57%|█████▋    | 86/152 [05:56<04:34,  4.15s/it]"
          ]
        },
        {
          "output_type": "stream",
          "name": "stdout",
          "text": [
            "\r[*********************100%***********************]  1 of 1 completed\n"
          ]
        },
        {
          "output_type": "stream",
          "name": "stderr",
          "text": [
            "\r 57%|█████▋    | 87/152 [06:01<04:30,  4.17s/it]"
          ]
        },
        {
          "output_type": "stream",
          "name": "stdout",
          "text": [
            "\r[*********************100%***********************]  1 of 1 completed\n"
          ]
        },
        {
          "output_type": "stream",
          "name": "stderr",
          "text": [
            "\r 58%|█████▊    | 88/152 [06:05<04:27,  4.18s/it]"
          ]
        },
        {
          "output_type": "stream",
          "name": "stdout",
          "text": [
            "\r[*********************100%***********************]  1 of 1 completed\n"
          ]
        },
        {
          "output_type": "stream",
          "name": "stderr",
          "text": [
            "\r 59%|█████▊    | 89/152 [06:09<04:21,  4.15s/it]"
          ]
        },
        {
          "output_type": "stream",
          "name": "stdout",
          "text": [
            "\r[*********************100%***********************]  1 of 1 completed\n"
          ]
        },
        {
          "output_type": "stream",
          "name": "stderr",
          "text": [
            "\r 59%|█████▉    | 90/152 [06:13<04:17,  4.16s/it]"
          ]
        },
        {
          "output_type": "stream",
          "name": "stdout",
          "text": [
            "\r[*********************100%***********************]  1 of 1 completed\n"
          ]
        },
        {
          "output_type": "stream",
          "name": "stderr",
          "text": [
            "\r 60%|█████▉    | 91/152 [06:17<04:12,  4.15s/it]"
          ]
        },
        {
          "output_type": "stream",
          "name": "stdout",
          "text": [
            "\r[*********************100%***********************]  1 of 1 completed\n"
          ]
        },
        {
          "output_type": "stream",
          "name": "stderr",
          "text": [
            "\r 61%|██████    | 92/152 [06:21<04:07,  4.12s/it]"
          ]
        },
        {
          "output_type": "stream",
          "name": "stdout",
          "text": [
            "\r[*********************100%***********************]  1 of 1 completed\n"
          ]
        },
        {
          "output_type": "stream",
          "name": "stderr",
          "text": [
            "\r 61%|██████    | 93/152 [06:26<04:05,  4.17s/it]"
          ]
        },
        {
          "output_type": "stream",
          "name": "stdout",
          "text": [
            "\r[*********************100%***********************]  1 of 1 completed\n"
          ]
        },
        {
          "output_type": "stream",
          "name": "stderr",
          "text": [
            "\r 62%|██████▏   | 94/152 [06:30<04:01,  4.16s/it]"
          ]
        },
        {
          "output_type": "stream",
          "name": "stdout",
          "text": [
            "\r[*********************100%***********************]  1 of 1 completed\n"
          ]
        },
        {
          "output_type": "stream",
          "name": "stderr",
          "text": [
            "\r 62%|██████▎   | 95/152 [06:34<03:58,  4.18s/it]"
          ]
        },
        {
          "output_type": "stream",
          "name": "stdout",
          "text": [
            "\r[*********************100%***********************]  1 of 1 completed\n"
          ]
        },
        {
          "output_type": "stream",
          "name": "stderr",
          "text": [
            "\r 63%|██████▎   | 96/152 [06:38<03:56,  4.22s/it]"
          ]
        },
        {
          "output_type": "stream",
          "name": "stdout",
          "text": [
            "\r[*********************100%***********************]  1 of 1 completed\n"
          ]
        },
        {
          "output_type": "stream",
          "name": "stderr",
          "text": [
            "\r 64%|██████▍   | 97/152 [06:42<03:50,  4.19s/it]"
          ]
        },
        {
          "output_type": "stream",
          "name": "stdout",
          "text": [
            "\r[*********************100%***********************]  1 of 1 completed\n"
          ]
        },
        {
          "output_type": "stream",
          "name": "stderr",
          "text": [
            "\r 64%|██████▍   | 98/152 [06:46<03:43,  4.14s/it]"
          ]
        },
        {
          "output_type": "stream",
          "name": "stdout",
          "text": [
            "\r[*********************100%***********************]  1 of 1 completed\n"
          ]
        },
        {
          "output_type": "stream",
          "name": "stderr",
          "text": [
            "\r 65%|██████▌   | 99/152 [06:51<03:43,  4.21s/it]"
          ]
        },
        {
          "output_type": "stream",
          "name": "stdout",
          "text": [
            "\r[*********************100%***********************]  1 of 1 completed\n"
          ]
        },
        {
          "output_type": "stream",
          "name": "stderr",
          "text": [
            "\r 66%|██████▌   | 100/152 [06:55<03:36,  4.16s/it]"
          ]
        },
        {
          "output_type": "stream",
          "name": "stdout",
          "text": [
            "\r[*********************100%***********************]  1 of 1 completed\n"
          ]
        },
        {
          "output_type": "stream",
          "name": "stderr",
          "text": [
            "\r 66%|██████▋   | 101/152 [06:59<03:32,  4.17s/it]"
          ]
        },
        {
          "output_type": "stream",
          "name": "stdout",
          "text": [
            "\r[*********************100%***********************]  1 of 1 completed\n"
          ]
        },
        {
          "output_type": "stream",
          "name": "stderr",
          "text": [
            "\r 67%|██████▋   | 102/152 [07:03<03:26,  4.14s/it]"
          ]
        },
        {
          "output_type": "stream",
          "name": "stdout",
          "text": [
            "\r[*********************100%***********************]  1 of 1 completed\n"
          ]
        },
        {
          "output_type": "stream",
          "name": "stderr",
          "text": [
            "\r 68%|██████▊   | 103/152 [07:07<03:22,  4.12s/it]"
          ]
        },
        {
          "output_type": "stream",
          "name": "stdout",
          "text": [
            "\r[*********************100%***********************]  1 of 1 completed\n"
          ]
        },
        {
          "output_type": "stream",
          "name": "stderr",
          "text": [
            "\r 68%|██████▊   | 104/152 [07:11<03:18,  4.15s/it]"
          ]
        },
        {
          "output_type": "stream",
          "name": "stdout",
          "text": [
            "\r[*********************100%***********************]  1 of 1 completed\n"
          ]
        },
        {
          "output_type": "stream",
          "name": "stderr",
          "text": [
            "\r 69%|██████▉   | 105/152 [07:16<03:16,  4.19s/it]"
          ]
        },
        {
          "output_type": "stream",
          "name": "stdout",
          "text": [
            "\r[*********************100%***********************]  1 of 1 completed\n"
          ]
        },
        {
          "output_type": "stream",
          "name": "stderr",
          "text": [
            "\r 70%|██████▉   | 106/152 [07:20<03:09,  4.12s/it]"
          ]
        },
        {
          "output_type": "stream",
          "name": "stdout",
          "text": [
            "\r[*********************100%***********************]  1 of 1 completed\n"
          ]
        },
        {
          "output_type": "stream",
          "name": "stderr",
          "text": [
            "\r 70%|███████   | 107/152 [07:24<03:05,  4.13s/it]"
          ]
        },
        {
          "output_type": "stream",
          "name": "stdout",
          "text": [
            "\r[*********************100%***********************]  1 of 1 completed\n"
          ]
        },
        {
          "output_type": "stream",
          "name": "stderr",
          "text": [
            "\r 71%|███████   | 108/152 [07:28<03:01,  4.11s/it]"
          ]
        },
        {
          "output_type": "stream",
          "name": "stdout",
          "text": [
            "\r[*********************100%***********************]  1 of 1 completed\n"
          ]
        },
        {
          "output_type": "stream",
          "name": "stderr",
          "text": [
            "\r 72%|███████▏  | 109/152 [07:32<02:59,  4.18s/it]"
          ]
        },
        {
          "output_type": "stream",
          "name": "stdout",
          "text": [
            "\r[*********************100%***********************]  1 of 1 completed\n"
          ]
        },
        {
          "output_type": "stream",
          "name": "stderr",
          "text": [
            "\r 72%|███████▏  | 110/152 [07:36<02:55,  4.18s/it]"
          ]
        },
        {
          "output_type": "stream",
          "name": "stdout",
          "text": [
            "\r[*********************100%***********************]  1 of 1 completed\n"
          ]
        },
        {
          "output_type": "stream",
          "name": "stderr",
          "text": [
            "\r 73%|███████▎  | 111/152 [07:41<02:54,  4.25s/it]"
          ]
        },
        {
          "output_type": "stream",
          "name": "stdout",
          "text": [
            "\r[*********************100%***********************]  1 of 1 completed\n"
          ]
        },
        {
          "output_type": "stream",
          "name": "stderr",
          "text": [
            "\r 74%|███████▎  | 112/152 [07:45<02:49,  4.23s/it]"
          ]
        },
        {
          "output_type": "stream",
          "name": "stdout",
          "text": [
            "\r[*********************100%***********************]  1 of 1 completed\n"
          ]
        },
        {
          "output_type": "stream",
          "name": "stderr",
          "text": [
            "\r 74%|███████▍  | 113/152 [07:49<02:43,  4.18s/it]"
          ]
        },
        {
          "output_type": "stream",
          "name": "stdout",
          "text": [
            "\r[*********************100%***********************]  1 of 1 completed\n"
          ]
        },
        {
          "output_type": "stream",
          "name": "stderr",
          "text": [
            "\r 75%|███████▌  | 114/152 [07:53<02:38,  4.16s/it]"
          ]
        },
        {
          "output_type": "stream",
          "name": "stdout",
          "text": [
            "\r[*********************100%***********************]  1 of 1 completed\n"
          ]
        },
        {
          "output_type": "stream",
          "name": "stderr",
          "text": [
            "\r 76%|███████▌  | 115/152 [07:57<02:33,  4.16s/it]"
          ]
        },
        {
          "output_type": "stream",
          "name": "stdout",
          "text": [
            "\r[*********************100%***********************]  1 of 1 completed\n"
          ]
        },
        {
          "output_type": "stream",
          "name": "stderr",
          "text": [
            "\r 76%|███████▋  | 116/152 [08:01<02:29,  4.15s/it]"
          ]
        },
        {
          "output_type": "stream",
          "name": "stdout",
          "text": [
            "\r[*********************100%***********************]  1 of 1 completed\n"
          ]
        },
        {
          "output_type": "stream",
          "name": "stderr",
          "text": [
            "\r 77%|███████▋  | 117/152 [08:06<02:28,  4.23s/it]"
          ]
        },
        {
          "output_type": "stream",
          "name": "stdout",
          "text": [
            "\r[*********************100%***********************]  1 of 1 completed\n"
          ]
        },
        {
          "output_type": "stream",
          "name": "stderr",
          "text": [
            "\r 78%|███████▊  | 118/152 [08:10<02:24,  4.24s/it]"
          ]
        },
        {
          "output_type": "stream",
          "name": "stdout",
          "text": [
            "\r[*********************100%***********************]  1 of 1 completed\n"
          ]
        },
        {
          "output_type": "stream",
          "name": "stderr",
          "text": [
            "\r 78%|███████▊  | 119/152 [08:14<02:17,  4.18s/it]"
          ]
        },
        {
          "output_type": "stream",
          "name": "stdout",
          "text": [
            "\r[*********************100%***********************]  1 of 1 completed\n"
          ]
        },
        {
          "output_type": "stream",
          "name": "stderr",
          "text": [
            "\r 79%|███████▉  | 120/152 [08:18<02:14,  4.21s/it]"
          ]
        },
        {
          "output_type": "stream",
          "name": "stdout",
          "text": [
            "\r[*********************100%***********************]  1 of 1 completed\n"
          ]
        },
        {
          "output_type": "stream",
          "name": "stderr",
          "text": [
            "\r 80%|███████▉  | 121/152 [08:23<02:09,  4.19s/it]"
          ]
        },
        {
          "output_type": "stream",
          "name": "stdout",
          "text": [
            "\r[*********************100%***********************]  1 of 1 completed\n"
          ]
        },
        {
          "output_type": "stream",
          "name": "stderr",
          "text": [
            "\r 80%|████████  | 122/152 [08:27<02:08,  4.29s/it]"
          ]
        },
        {
          "output_type": "stream",
          "name": "stdout",
          "text": [
            "\r[*********************100%***********************]  1 of 1 completed\n"
          ]
        },
        {
          "output_type": "stream",
          "name": "stderr",
          "text": [
            "\r 81%|████████  | 123/152 [08:31<02:04,  4.30s/it]"
          ]
        },
        {
          "output_type": "stream",
          "name": "stdout",
          "text": [
            "\r[*********************100%***********************]  1 of 1 completed\n"
          ]
        },
        {
          "output_type": "stream",
          "name": "stderr",
          "text": [
            "\r 82%|████████▏ | 124/152 [08:36<02:01,  4.34s/it]"
          ]
        },
        {
          "output_type": "stream",
          "name": "stdout",
          "text": [
            "\r[*********************100%***********************]  1 of 1 completed\n"
          ]
        },
        {
          "output_type": "stream",
          "name": "stderr",
          "text": [
            "\r 82%|████████▏ | 125/152 [08:40<01:56,  4.30s/it]"
          ]
        },
        {
          "output_type": "stream",
          "name": "stdout",
          "text": [
            "\r[*********************100%***********************]  1 of 1 completed\n"
          ]
        },
        {
          "output_type": "stream",
          "name": "stderr",
          "text": [
            "\r 83%|████████▎ | 126/152 [08:44<01:51,  4.30s/it]"
          ]
        },
        {
          "output_type": "stream",
          "name": "stdout",
          "text": [
            "\r[*********************100%***********************]  1 of 1 completed\n"
          ]
        },
        {
          "output_type": "stream",
          "name": "stderr",
          "text": [
            "\r 84%|████████▎ | 127/152 [08:49<01:47,  4.30s/it]"
          ]
        },
        {
          "output_type": "stream",
          "name": "stdout",
          "text": [
            "\r[*********************100%***********************]  1 of 1 completed\n"
          ]
        },
        {
          "output_type": "stream",
          "name": "stderr",
          "text": [
            "\r 84%|████████▍ | 128/152 [08:53<01:42,  4.27s/it]"
          ]
        },
        {
          "output_type": "stream",
          "name": "stdout",
          "text": [
            "\r[*********************100%***********************]  1 of 1 completed\n"
          ]
        },
        {
          "output_type": "stream",
          "name": "stderr",
          "text": [
            "\r 85%|████████▍ | 129/152 [08:57<01:38,  4.27s/it]"
          ]
        },
        {
          "output_type": "stream",
          "name": "stdout",
          "text": [
            "\r[*********************100%***********************]  1 of 1 completed\n"
          ]
        },
        {
          "output_type": "stream",
          "name": "stderr",
          "text": [
            "\r 86%|████████▌ | 130/152 [09:01<01:32,  4.22s/it]"
          ]
        },
        {
          "output_type": "stream",
          "name": "stdout",
          "text": [
            "\r[*********************100%***********************]  1 of 1 completed\n"
          ]
        },
        {
          "output_type": "stream",
          "name": "stderr",
          "text": [
            "\r 86%|████████▌ | 131/152 [09:05<01:28,  4.22s/it]"
          ]
        },
        {
          "output_type": "stream",
          "name": "stdout",
          "text": [
            "\r[*********************100%***********************]  1 of 1 completed\n"
          ]
        },
        {
          "output_type": "stream",
          "name": "stderr",
          "text": [
            "\r 87%|████████▋ | 132/152 [09:10<01:24,  4.22s/it]"
          ]
        },
        {
          "output_type": "stream",
          "name": "stdout",
          "text": [
            "\r[*********************100%***********************]  1 of 1 completed\n"
          ]
        },
        {
          "output_type": "stream",
          "name": "stderr",
          "text": [
            "\r 88%|████████▊ | 133/152 [09:14<01:19,  4.19s/it]"
          ]
        },
        {
          "output_type": "stream",
          "name": "stdout",
          "text": [
            "\r[*********************100%***********************]  1 of 1 completed\n"
          ]
        },
        {
          "output_type": "stream",
          "name": "stderr",
          "text": [
            "\r 88%|████████▊ | 134/152 [09:18<01:13,  4.10s/it]"
          ]
        },
        {
          "output_type": "stream",
          "name": "stdout",
          "text": [
            "\r[*********************100%***********************]  1 of 1 completed\n"
          ]
        },
        {
          "output_type": "stream",
          "name": "stderr",
          "text": [
            "\r 89%|████████▉ | 135/152 [09:22<01:10,  4.12s/it]"
          ]
        },
        {
          "output_type": "stream",
          "name": "stdout",
          "text": [
            "\r[*********************100%***********************]  1 of 1 completed\n"
          ]
        },
        {
          "output_type": "stream",
          "name": "stderr",
          "text": [
            "\r 89%|████████▉ | 136/152 [09:26<01:05,  4.11s/it]"
          ]
        },
        {
          "output_type": "stream",
          "name": "stdout",
          "text": [
            "\r[*********************100%***********************]  1 of 1 completed\n"
          ]
        },
        {
          "output_type": "stream",
          "name": "stderr",
          "text": [
            "\r 90%|█████████ | 137/152 [09:30<01:01,  4.12s/it]"
          ]
        },
        {
          "output_type": "stream",
          "name": "stdout",
          "text": [
            "\r[*********************100%***********************]  1 of 1 completed\n"
          ]
        },
        {
          "output_type": "stream",
          "name": "stderr",
          "text": [
            "\r 91%|█████████ | 138/152 [09:34<00:56,  4.05s/it]"
          ]
        },
        {
          "output_type": "stream",
          "name": "stdout",
          "text": [
            "\r[*********************100%***********************]  1 of 1 completed\n"
          ]
        },
        {
          "output_type": "stream",
          "name": "stderr",
          "text": [
            "\r 91%|█████████▏| 139/152 [09:38<00:52,  4.07s/it]"
          ]
        },
        {
          "output_type": "stream",
          "name": "stdout",
          "text": [
            "\r[*********************100%***********************]  1 of 1 completed\n"
          ]
        },
        {
          "output_type": "stream",
          "name": "stderr",
          "text": [
            "\r 92%|█████████▏| 140/152 [09:42<00:48,  4.06s/it]"
          ]
        },
        {
          "output_type": "stream",
          "name": "stdout",
          "text": [
            "\r[*********************100%***********************]  1 of 1 completed\n"
          ]
        },
        {
          "output_type": "stream",
          "name": "stderr",
          "text": [
            "\r 93%|█████████▎| 141/152 [09:46<00:44,  4.08s/it]"
          ]
        },
        {
          "output_type": "stream",
          "name": "stdout",
          "text": [
            "\r[*********************100%***********************]  1 of 1 completed\n"
          ]
        },
        {
          "output_type": "stream",
          "name": "stderr",
          "text": [
            "\r 93%|█████████▎| 142/152 [09:50<00:40,  4.09s/it]"
          ]
        },
        {
          "output_type": "stream",
          "name": "stdout",
          "text": [
            "\r[*********************100%***********************]  1 of 1 completed\n"
          ]
        },
        {
          "output_type": "stream",
          "name": "stderr",
          "text": [
            "\r 94%|█████████▍| 143/152 [09:54<00:36,  4.10s/it]"
          ]
        },
        {
          "output_type": "stream",
          "name": "stdout",
          "text": [
            "\r[*********************100%***********************]  1 of 1 completed\n"
          ]
        },
        {
          "output_type": "stream",
          "name": "stderr",
          "text": [
            "\r 95%|█████████▍| 144/152 [09:58<00:32,  4.07s/it]"
          ]
        },
        {
          "output_type": "stream",
          "name": "stdout",
          "text": [
            "\r[*********************100%***********************]  1 of 1 completed\n"
          ]
        },
        {
          "output_type": "stream",
          "name": "stderr",
          "text": [
            "\r 95%|█████████▌| 145/152 [10:03<00:28,  4.09s/it]"
          ]
        },
        {
          "output_type": "stream",
          "name": "stdout",
          "text": [
            "\r[*********************100%***********************]  1 of 1 completed\n"
          ]
        },
        {
          "output_type": "stream",
          "name": "stderr",
          "text": [
            "\r 96%|█████████▌| 146/152 [10:07<00:24,  4.09s/it]"
          ]
        },
        {
          "output_type": "stream",
          "name": "stdout",
          "text": [
            "\r[*********************100%***********************]  1 of 1 completed\n"
          ]
        },
        {
          "output_type": "stream",
          "name": "stderr",
          "text": [
            "\r 97%|█████████▋| 147/152 [10:11<00:20,  4.12s/it]"
          ]
        },
        {
          "output_type": "stream",
          "name": "stdout",
          "text": [
            "\r[*********************100%***********************]  1 of 1 completed\n"
          ]
        },
        {
          "output_type": "stream",
          "name": "stderr",
          "text": [
            "\r 97%|█████████▋| 148/152 [10:15<00:16,  4.11s/it]"
          ]
        },
        {
          "output_type": "stream",
          "name": "stdout",
          "text": [
            "\r[*********************100%***********************]  1 of 1 completed\n"
          ]
        },
        {
          "output_type": "stream",
          "name": "stderr",
          "text": [
            "\r 98%|█████████▊| 149/152 [10:19<00:12,  4.12s/it]"
          ]
        },
        {
          "output_type": "stream",
          "name": "stdout",
          "text": [
            "\r[*********************100%***********************]  1 of 1 completed\n"
          ]
        },
        {
          "output_type": "stream",
          "name": "stderr",
          "text": [
            "\r 99%|█████████▊| 150/152 [10:23<00:08,  4.17s/it]"
          ]
        },
        {
          "output_type": "stream",
          "name": "stdout",
          "text": [
            "\r[*********************100%***********************]  1 of 1 completed\n"
          ]
        },
        {
          "output_type": "stream",
          "name": "stderr",
          "text": [
            "\r 99%|█████████▉| 151/152 [10:27<00:04,  4.13s/it]"
          ]
        },
        {
          "output_type": "stream",
          "name": "stdout",
          "text": [
            "\r[*********************100%***********************]  1 of 1 completed\n"
          ]
        },
        {
          "output_type": "stream",
          "name": "stderr",
          "text": [
            "100%|██████████| 152/152 [10:31<00:00,  4.16s/it]\n"
          ]
        }
      ]
    },
    {
      "cell_type": "code",
      "metadata": {
        "id": "zEvAde_Is5_v",
        "colab": {
          "base_uri": "https://localhost:8080/",
          "height": 450
        },
        "outputId": "af339fc5-89b9-4e47-c091-027b419b6912"
      },
      "source": [
        "# Add asset columns to each list of resume\n",
        "for i in range(len(resume)):\n",
        "  resume[i].append(col[i])\n",
        "\n",
        "# Create a dataframe\n",
        "res = pd.DataFrame(resume, columns=[\"Neutral\", \"Window\", \"Train\", \"Test\", \"Asset\"])\n",
        "\n",
        "# Indexig by asset\n",
        "res = res.set_index(\"Asset\")\n",
        "res"
      ],
      "execution_count": null,
      "outputs": [
        {
          "output_type": "execute_result",
          "data": {
            "text/html": [
              "<div>\n",
              "<style scoped>\n",
              "    .dataframe tbody tr th:only-of-type {\n",
              "        vertical-align: middle;\n",
              "    }\n",
              "\n",
              "    .dataframe tbody tr th {\n",
              "        vertical-align: top;\n",
              "    }\n",
              "\n",
              "    .dataframe thead th {\n",
              "        text-align: right;\n",
              "    }\n",
              "</style>\n",
              "<table border=\"1\" class=\"dataframe\">\n",
              "  <thead>\n",
              "    <tr style=\"text-align: right;\">\n",
              "      <th></th>\n",
              "      <th>Neutral</th>\n",
              "      <th>Window</th>\n",
              "      <th>Train</th>\n",
              "      <th>Test</th>\n",
              "    </tr>\n",
              "    <tr>\n",
              "      <th>Asset</th>\n",
              "      <th></th>\n",
              "      <th></th>\n",
              "      <th></th>\n",
              "      <th></th>\n",
              "    </tr>\n",
              "  </thead>\n",
              "  <tbody>\n",
              "    <tr>\n",
              "      <th>EURUSD=X</th>\n",
              "      <td>0</td>\n",
              "      <td>0</td>\n",
              "      <td>0.000000</td>\n",
              "      <td>0.000000</td>\n",
              "    </tr>\n",
              "    <tr>\n",
              "      <th>EURGBP=X</th>\n",
              "      <td>0</td>\n",
              "      <td>0</td>\n",
              "      <td>0.000000</td>\n",
              "      <td>0.000000</td>\n",
              "    </tr>\n",
              "    <tr>\n",
              "      <th>EURCHF=X</th>\n",
              "      <td>0</td>\n",
              "      <td>0</td>\n",
              "      <td>0.000000</td>\n",
              "      <td>0.000000</td>\n",
              "    </tr>\n",
              "    <tr>\n",
              "      <th>EURCAD=X</th>\n",
              "      <td>0</td>\n",
              "      <td>0</td>\n",
              "      <td>0.000000</td>\n",
              "      <td>0.000000</td>\n",
              "    </tr>\n",
              "    <tr>\n",
              "      <th>EURCNY=X</th>\n",
              "      <td>0</td>\n",
              "      <td>0</td>\n",
              "      <td>0.000000</td>\n",
              "      <td>0.000000</td>\n",
              "    </tr>\n",
              "    <tr>\n",
              "      <th>...</th>\n",
              "      <td>...</td>\n",
              "      <td>...</td>\n",
              "      <td>...</td>\n",
              "      <td>...</td>\n",
              "    </tr>\n",
              "    <tr>\n",
              "      <th>TCOM</th>\n",
              "      <td>14</td>\n",
              "      <td>4</td>\n",
              "      <td>1.348638</td>\n",
              "      <td>1.762285</td>\n",
              "    </tr>\n",
              "    <tr>\n",
              "      <th>INCY</th>\n",
              "      <td>0</td>\n",
              "      <td>0</td>\n",
              "      <td>0.000000</td>\n",
              "      <td>0.000000</td>\n",
              "    </tr>\n",
              "    <tr>\n",
              "      <th>CHKP</th>\n",
              "      <td>0</td>\n",
              "      <td>0</td>\n",
              "      <td>0.000000</td>\n",
              "      <td>0.000000</td>\n",
              "    </tr>\n",
              "    <tr>\n",
              "      <th>FOXA</th>\n",
              "      <td>0</td>\n",
              "      <td>0</td>\n",
              "      <td>0.000000</td>\n",
              "      <td>0.000000</td>\n",
              "    </tr>\n",
              "    <tr>\n",
              "      <th>FOX</th>\n",
              "      <td>0</td>\n",
              "      <td>0</td>\n",
              "      <td>0.000000</td>\n",
              "      <td>0.000000</td>\n",
              "    </tr>\n",
              "  </tbody>\n",
              "</table>\n",
              "<p>152 rows × 4 columns</p>\n",
              "</div>"
            ],
            "text/plain": [
              "          Neutral  Window     Train      Test\n",
              "Asset                                        \n",
              "EURUSD=X        0       0  0.000000  0.000000\n",
              "EURGBP=X        0       0  0.000000  0.000000\n",
              "EURCHF=X        0       0  0.000000  0.000000\n",
              "EURCAD=X        0       0  0.000000  0.000000\n",
              "EURCNY=X        0       0  0.000000  0.000000\n",
              "...           ...     ...       ...       ...\n",
              "TCOM           14       4  1.348638  1.762285\n",
              "INCY            0       0  0.000000  0.000000\n",
              "CHKP            0       0  0.000000  0.000000\n",
              "FOXA            0       0  0.000000  0.000000\n",
              "FOX             0       0  0.000000  0.000000\n",
              "\n",
              "[152 rows x 4 columns]"
            ]
          },
          "metadata": {},
          "execution_count": 8
        }
      ]
    },
    {
      "cell_type": "code",
      "metadata": {
        "id": "NyfRKxylt7su",
        "colab": {
          "base_uri": "https://localhost:8080/",
          "height": 700
        },
        "outputId": "978bf76f-8d66-472d-a9da-d0ba1482a408"
      },
      "source": [
        "# Order the dataframe using the Train sortino\n",
        "values = res.sort_values(by=\"Train\", ascending=False)\n",
        "values.head(20)"
      ],
      "execution_count": null,
      "outputs": [
        {
          "output_type": "execute_result",
          "data": {
            "text/html": [
              "<div>\n",
              "<style scoped>\n",
              "    .dataframe tbody tr th:only-of-type {\n",
              "        vertical-align: middle;\n",
              "    }\n",
              "\n",
              "    .dataframe tbody tr th {\n",
              "        vertical-align: top;\n",
              "    }\n",
              "\n",
              "    .dataframe thead th {\n",
              "        text-align: right;\n",
              "    }\n",
              "</style>\n",
              "<table border=\"1\" class=\"dataframe\">\n",
              "  <thead>\n",
              "    <tr style=\"text-align: right;\">\n",
              "      <th></th>\n",
              "      <th>Neutral</th>\n",
              "      <th>Window</th>\n",
              "      <th>Train</th>\n",
              "      <th>Test</th>\n",
              "    </tr>\n",
              "    <tr>\n",
              "      <th>Asset</th>\n",
              "      <th></th>\n",
              "      <th></th>\n",
              "      <th></th>\n",
              "      <th></th>\n",
              "    </tr>\n",
              "  </thead>\n",
              "  <tbody>\n",
              "    <tr>\n",
              "      <th>MRNA</th>\n",
              "      <td>10</td>\n",
              "      <td>4</td>\n",
              "      <td>67.114532</td>\n",
              "      <td>0.519912</td>\n",
              "    </tr>\n",
              "    <tr>\n",
              "      <th>BSV-USD</th>\n",
              "      <td>4</td>\n",
              "      <td>2</td>\n",
              "      <td>4.165631</td>\n",
              "      <td>2.001604</td>\n",
              "    </tr>\n",
              "    <tr>\n",
              "      <th>BNB-USD</th>\n",
              "      <td>12</td>\n",
              "      <td>8</td>\n",
              "      <td>4.164220</td>\n",
              "      <td>1.113779</td>\n",
              "    </tr>\n",
              "    <tr>\n",
              "      <th>BCH-USD</th>\n",
              "      <td>16</td>\n",
              "      <td>6</td>\n",
              "      <td>3.524647</td>\n",
              "      <td>0.739881</td>\n",
              "    </tr>\n",
              "    <tr>\n",
              "      <th>ADA-USD</th>\n",
              "      <td>8</td>\n",
              "      <td>6</td>\n",
              "      <td>3.299248</td>\n",
              "      <td>0.707319</td>\n",
              "    </tr>\n",
              "    <tr>\n",
              "      <th>XRP-USD</th>\n",
              "      <td>10</td>\n",
              "      <td>2</td>\n",
              "      <td>3.156333</td>\n",
              "      <td>0.509452</td>\n",
              "    </tr>\n",
              "    <tr>\n",
              "      <th>MIOTA-USD</th>\n",
              "      <td>6</td>\n",
              "      <td>2</td>\n",
              "      <td>2.867645</td>\n",
              "      <td>0.663595</td>\n",
              "    </tr>\n",
              "    <tr>\n",
              "      <th>XLM-USD</th>\n",
              "      <td>10</td>\n",
              "      <td>2</td>\n",
              "      <td>2.799206</td>\n",
              "      <td>1.379741</td>\n",
              "    </tr>\n",
              "    <tr>\n",
              "      <th>ALGN</th>\n",
              "      <td>2</td>\n",
              "      <td>6</td>\n",
              "      <td>2.664059</td>\n",
              "      <td>2.348276</td>\n",
              "    </tr>\n",
              "    <tr>\n",
              "      <th>ETH-USD</th>\n",
              "      <td>8</td>\n",
              "      <td>6</td>\n",
              "      <td>2.650708</td>\n",
              "      <td>0.810355</td>\n",
              "    </tr>\n",
              "    <tr>\n",
              "      <th>DOGE-USD</th>\n",
              "      <td>6</td>\n",
              "      <td>8</td>\n",
              "      <td>2.646644</td>\n",
              "      <td>1.035733</td>\n",
              "    </tr>\n",
              "    <tr>\n",
              "      <th>NTES</th>\n",
              "      <td>0</td>\n",
              "      <td>2</td>\n",
              "      <td>2.638077</td>\n",
              "      <td>1.054469</td>\n",
              "    </tr>\n",
              "    <tr>\n",
              "      <th>NEO-USD</th>\n",
              "      <td>16</td>\n",
              "      <td>2</td>\n",
              "      <td>2.619008</td>\n",
              "      <td>1.173869</td>\n",
              "    </tr>\n",
              "    <tr>\n",
              "      <th>USDMYR=X</th>\n",
              "      <td>6</td>\n",
              "      <td>16</td>\n",
              "      <td>2.591273</td>\n",
              "      <td>1.696166</td>\n",
              "    </tr>\n",
              "    <tr>\n",
              "      <th>LINK-USD</th>\n",
              "      <td>2</td>\n",
              "      <td>4</td>\n",
              "      <td>2.518708</td>\n",
              "      <td>0.803128</td>\n",
              "    </tr>\n",
              "    <tr>\n",
              "      <th>BIDU</th>\n",
              "      <td>18</td>\n",
              "      <td>2</td>\n",
              "      <td>2.458010</td>\n",
              "      <td>1.459894</td>\n",
              "    </tr>\n",
              "    <tr>\n",
              "      <th>TRX-USD</th>\n",
              "      <td>10</td>\n",
              "      <td>10</td>\n",
              "      <td>2.386607</td>\n",
              "      <td>0.652456</td>\n",
              "    </tr>\n",
              "    <tr>\n",
              "      <th>BTC-USD</th>\n",
              "      <td>16</td>\n",
              "      <td>2</td>\n",
              "      <td>2.366589</td>\n",
              "      <td>0.582449</td>\n",
              "    </tr>\n",
              "    <tr>\n",
              "      <th>MNST</th>\n",
              "      <td>4</td>\n",
              "      <td>18</td>\n",
              "      <td>2.296366</td>\n",
              "      <td>1.033525</td>\n",
              "    </tr>\n",
              "    <tr>\n",
              "      <th>QCOM</th>\n",
              "      <td>8</td>\n",
              "      <td>4</td>\n",
              "      <td>1.962014</td>\n",
              "      <td>1.872762</td>\n",
              "    </tr>\n",
              "  </tbody>\n",
              "</table>\n",
              "</div>"
            ],
            "text/plain": [
              "           Neutral  Window      Train      Test\n",
              "Asset                                          \n",
              "MRNA            10       4  67.114532  0.519912\n",
              "BSV-USD          4       2   4.165631  2.001604\n",
              "BNB-USD         12       8   4.164220  1.113779\n",
              "BCH-USD         16       6   3.524647  0.739881\n",
              "ADA-USD          8       6   3.299248  0.707319\n",
              "XRP-USD         10       2   3.156333  0.509452\n",
              "MIOTA-USD        6       2   2.867645  0.663595\n",
              "XLM-USD         10       2   2.799206  1.379741\n",
              "ALGN             2       6   2.664059  2.348276\n",
              "ETH-USD          8       6   2.650708  0.810355\n",
              "DOGE-USD         6       8   2.646644  1.035733\n",
              "NTES             0       2   2.638077  1.054469\n",
              "NEO-USD         16       2   2.619008  1.173869\n",
              "USDMYR=X         6      16   2.591273  1.696166\n",
              "LINK-USD         2       4   2.518708  0.803128\n",
              "BIDU            18       2   2.458010  1.459894\n",
              "TRX-USD         10      10   2.386607  0.652456\n",
              "BTC-USD         16       2   2.366589  0.582449\n",
              "MNST             4      18   2.296366  1.033525\n",
              "QCOM             8       4   1.962014  1.872762"
            ]
          },
          "metadata": {},
          "execution_count": 9
        }
      ]
    },
    {
      "cell_type": "code",
      "metadata": {
        "id": "i82rHZQ2t_u5",
        "colab": {
          "base_uri": "https://localhost:8080/"
        },
        "outputId": "c86768d2-5dd4-47f2-d4ad-f363b2b2b919"
      },
      "source": [
        "# Border of sets\n",
        "start_train, end_train = \"2017-01-01\", \"2019-01-01\"\n",
        "start_test, end_test = \"2019-01-01\", \"2020-01-01\"\n",
        "start_valid, end_valid = \"2020-01-01\", \"2021-01-01\"\n",
        "\n",
        "# Create a dataframe to put the strategies (The assets of the portfolio)\n",
        "strategies = pd.DataFrame()\n",
        "for col in values.index[0:15]:\n",
        "  \n",
        "  # Import the asset\n",
        "  l = yf.download(col)\n",
        "\n",
        "  # Extract opptimal neutral\n",
        "  best_neutral = values.loc[col][\"Neutral\"]\n",
        "\n",
        "  # Exctract optimal window\n",
        "  best_window = values.loc[col][\"Window\"]\n",
        "  \n",
        "  strategies[f\"{col}\"] = RSI(l.loc[start_train:],best_neutral,int(best_window))"
      ],
      "execution_count": null,
      "outputs": [
        {
          "output_type": "stream",
          "name": "stdout",
          "text": [
            "[*********************100%***********************]  1 of 1 completed\n",
            "[*********************100%***********************]  1 of 1 completed\n",
            "[*********************100%***********************]  1 of 1 completed\n",
            "[*********************100%***********************]  1 of 1 completed\n",
            "[*********************100%***********************]  1 of 1 completed\n",
            "[*********************100%***********************]  1 of 1 completed\n",
            "[*********************100%***********************]  1 of 1 completed\n",
            "[*********************100%***********************]  1 of 1 completed\n",
            "[*********************100%***********************]  1 of 1 completed\n",
            "[*********************100%***********************]  1 of 1 completed\n",
            "[*********************100%***********************]  1 of 1 completed\n",
            "[*********************100%***********************]  1 of 1 completed\n",
            "[*********************100%***********************]  1 of 1 completed\n",
            "[*********************100%***********************]  1 of 1 completed\n",
            "[*********************100%***********************]  1 of 1 completed\n"
          ]
        }
      ]
    },
    {
      "cell_type": "code",
      "metadata": {
        "id": "YduTyi3w4Lqh",
        "colab": {
          "base_uri": "https://localhost:8080/",
          "height": 657
        },
        "outputId": "7681ba8f-8278-43bd-89fe-251b115d79ec"
      },
      "source": [
        "strategies"
      ],
      "execution_count": null,
      "outputs": [
        {
          "output_type": "execute_result",
          "data": {
            "text/html": [
              "<div>\n",
              "<style scoped>\n",
              "    .dataframe tbody tr th:only-of-type {\n",
              "        vertical-align: middle;\n",
              "    }\n",
              "\n",
              "    .dataframe tbody tr th {\n",
              "        vertical-align: top;\n",
              "    }\n",
              "\n",
              "    .dataframe thead th {\n",
              "        text-align: right;\n",
              "    }\n",
              "</style>\n",
              "<table border=\"1\" class=\"dataframe\">\n",
              "  <thead>\n",
              "    <tr style=\"text-align: right;\">\n",
              "      <th></th>\n",
              "      <th>MRNA</th>\n",
              "      <th>BSV-USD</th>\n",
              "      <th>BNB-USD</th>\n",
              "      <th>BCH-USD</th>\n",
              "      <th>ADA-USD</th>\n",
              "      <th>XRP-USD</th>\n",
              "      <th>MIOTA-USD</th>\n",
              "      <th>XLM-USD</th>\n",
              "      <th>ALGN</th>\n",
              "      <th>ETH-USD</th>\n",
              "      <th>DOGE-USD</th>\n",
              "      <th>NTES</th>\n",
              "      <th>NEO-USD</th>\n",
              "      <th>USDMYR=X</th>\n",
              "      <th>LINK-USD</th>\n",
              "    </tr>\n",
              "    <tr>\n",
              "      <th>Date</th>\n",
              "      <th></th>\n",
              "      <th></th>\n",
              "      <th></th>\n",
              "      <th></th>\n",
              "      <th></th>\n",
              "      <th></th>\n",
              "      <th></th>\n",
              "      <th></th>\n",
              "      <th></th>\n",
              "      <th></th>\n",
              "      <th></th>\n",
              "      <th></th>\n",
              "      <th></th>\n",
              "      <th></th>\n",
              "      <th></th>\n",
              "    </tr>\n",
              "  </thead>\n",
              "  <tbody>\n",
              "    <tr>\n",
              "      <th>2018-12-07</th>\n",
              "      <td>NaN</td>\n",
              "      <td>0.001796</td>\n",
              "      <td>0.085433</td>\n",
              "      <td>0.006880</td>\n",
              "      <td>0.030327</td>\n",
              "      <td>-0.000000</td>\n",
              "      <td>-0.000000</td>\n",
              "      <td>0.036214</td>\n",
              "      <td>0.041306</td>\n",
              "      <td>0.000000</td>\n",
              "      <td>-0.003338</td>\n",
              "      <td>-0.007800</td>\n",
              "      <td>-0.004871</td>\n",
              "      <td>-0.002481</td>\n",
              "      <td>0.028123</td>\n",
              "    </tr>\n",
              "    <tr>\n",
              "      <th>2018-12-10</th>\n",
              "      <td>NaN</td>\n",
              "      <td>0.021510</td>\n",
              "      <td>-0.000000</td>\n",
              "      <td>0.021016</td>\n",
              "      <td>-0.000000</td>\n",
              "      <td>-0.000000</td>\n",
              "      <td>-0.050029</td>\n",
              "      <td>-0.048863</td>\n",
              "      <td>-0.030341</td>\n",
              "      <td>-0.000000</td>\n",
              "      <td>0.000951</td>\n",
              "      <td>0.000000</td>\n",
              "      <td>-0.045196</td>\n",
              "      <td>0.000000</td>\n",
              "      <td>-0.000000</td>\n",
              "    </tr>\n",
              "    <tr>\n",
              "      <th>2018-12-11</th>\n",
              "      <td>NaN</td>\n",
              "      <td>0.053242</td>\n",
              "      <td>-0.048477</td>\n",
              "      <td>0.048840</td>\n",
              "      <td>-0.000000</td>\n",
              "      <td>0.007970</td>\n",
              "      <td>0.028955</td>\n",
              "      <td>0.045817</td>\n",
              "      <td>-0.016662</td>\n",
              "      <td>-0.000000</td>\n",
              "      <td>0.005714</td>\n",
              "      <td>0.000000</td>\n",
              "      <td>0.044149</td>\n",
              "      <td>0.000000</td>\n",
              "      <td>0.000000</td>\n",
              "    </tr>\n",
              "    <tr>\n",
              "      <th>2018-12-12</th>\n",
              "      <td>NaN</td>\n",
              "      <td>0.015527</td>\n",
              "      <td>0.000000</td>\n",
              "      <td>-0.005087</td>\n",
              "      <td>0.000000</td>\n",
              "      <td>-0.019838</td>\n",
              "      <td>-0.033595</td>\n",
              "      <td>-0.007577</td>\n",
              "      <td>-0.000000</td>\n",
              "      <td>0.000000</td>\n",
              "      <td>-0.011015</td>\n",
              "      <td>0.000000</td>\n",
              "      <td>-0.034849</td>\n",
              "      <td>0.000000</td>\n",
              "      <td>0.000000</td>\n",
              "    </tr>\n",
              "    <tr>\n",
              "      <th>2018-12-13</th>\n",
              "      <td>NaN</td>\n",
              "      <td>0.117870</td>\n",
              "      <td>-0.000000</td>\n",
              "      <td>0.119794</td>\n",
              "      <td>-0.000000</td>\n",
              "      <td>-0.023744</td>\n",
              "      <td>0.000000</td>\n",
              "      <td>0.069399</td>\n",
              "      <td>0.009394</td>\n",
              "      <td>-0.000000</td>\n",
              "      <td>0.021791</td>\n",
              "      <td>0.000000</td>\n",
              "      <td>-0.000000</td>\n",
              "      <td>-0.000000</td>\n",
              "      <td>-0.000000</td>\n",
              "    </tr>\n",
              "    <tr>\n",
              "      <th>...</th>\n",
              "      <td>...</td>\n",
              "      <td>...</td>\n",
              "      <td>...</td>\n",
              "      <td>...</td>\n",
              "      <td>...</td>\n",
              "      <td>...</td>\n",
              "      <td>...</td>\n",
              "      <td>...</td>\n",
              "      <td>...</td>\n",
              "      <td>...</td>\n",
              "      <td>...</td>\n",
              "      <td>...</td>\n",
              "      <td>...</td>\n",
              "      <td>...</td>\n",
              "      <td>...</td>\n",
              "    </tr>\n",
              "    <tr>\n",
              "      <th>2021-09-14</th>\n",
              "      <td>0.000000</td>\n",
              "      <td>0.017789</td>\n",
              "      <td>0.000000</td>\n",
              "      <td>-0.040371</td>\n",
              "      <td>0.002093</td>\n",
              "      <td>-0.029958</td>\n",
              "      <td>0.000000</td>\n",
              "      <td>-0.036990</td>\n",
              "      <td>0.005952</td>\n",
              "      <td>-0.043725</td>\n",
              "      <td>0.000000</td>\n",
              "      <td>0.041506</td>\n",
              "      <td>-0.069959</td>\n",
              "      <td>0.000000</td>\n",
              "      <td>-0.142195</td>\n",
              "    </tr>\n",
              "    <tr>\n",
              "      <th>2021-09-15</th>\n",
              "      <td>0.000000</td>\n",
              "      <td>-0.018069</td>\n",
              "      <td>0.000000</td>\n",
              "      <td>0.000000</td>\n",
              "      <td>-0.044246</td>\n",
              "      <td>0.000000</td>\n",
              "      <td>0.035228</td>\n",
              "      <td>0.031369</td>\n",
              "      <td>-0.005464</td>\n",
              "      <td>0.000000</td>\n",
              "      <td>0.000000</td>\n",
              "      <td>-0.005206</td>\n",
              "      <td>0.014751</td>\n",
              "      <td>0.000000</td>\n",
              "      <td>0.001087</td>\n",
              "    </tr>\n",
              "    <tr>\n",
              "      <th>2021-09-16</th>\n",
              "      <td>0.000000</td>\n",
              "      <td>0.006535</td>\n",
              "      <td>-0.000000</td>\n",
              "      <td>-0.000000</td>\n",
              "      <td>-0.000000</td>\n",
              "      <td>-0.026624</td>\n",
              "      <td>-0.053906</td>\n",
              "      <td>-0.031812</td>\n",
              "      <td>-0.025313</td>\n",
              "      <td>-0.012167</td>\n",
              "      <td>-0.000000</td>\n",
              "      <td>0.007298</td>\n",
              "      <td>-0.036932</td>\n",
              "      <td>-0.000000</td>\n",
              "      <td>-0.030964</td>\n",
              "    </tr>\n",
              "    <tr>\n",
              "      <th>2021-09-17</th>\n",
              "      <td>-0.024055</td>\n",
              "      <td>-0.017707</td>\n",
              "      <td>-0.000000</td>\n",
              "      <td>-0.000000</td>\n",
              "      <td>0.030793</td>\n",
              "      <td>0.023729</td>\n",
              "      <td>-0.143095</td>\n",
              "      <td>-0.000000</td>\n",
              "      <td>-0.012234</td>\n",
              "      <td>-0.000000</td>\n",
              "      <td>-0.000000</td>\n",
              "      <td>0.017311</td>\n",
              "      <td>-0.000000</td>\n",
              "      <td>-0.000000</td>\n",
              "      <td>-0.071478</td>\n",
              "    </tr>\n",
              "    <tr>\n",
              "      <th>2021-09-20</th>\n",
              "      <td>0.000000</td>\n",
              "      <td>-0.122836</td>\n",
              "      <td>-0.000000</td>\n",
              "      <td>-0.000000</td>\n",
              "      <td>0.050054</td>\n",
              "      <td>0.100833</td>\n",
              "      <td>0.101607</td>\n",
              "      <td>-0.000000</td>\n",
              "      <td>-0.011440</td>\n",
              "      <td>0.072298</td>\n",
              "      <td>-0.000000</td>\n",
              "      <td>0.026182</td>\n",
              "      <td>0.104334</td>\n",
              "      <td>0.000000</td>\n",
              "      <td>0.099083</td>\n",
              "    </tr>\n",
              "  </tbody>\n",
              "</table>\n",
              "<p>701 rows × 15 columns</p>\n",
              "</div>"
            ],
            "text/plain": [
              "                MRNA   BSV-USD   BNB-USD  ...   NEO-USD  USDMYR=X  LINK-USD\n",
              "Date                                      ...                              \n",
              "2018-12-07       NaN  0.001796  0.085433  ... -0.004871 -0.002481  0.028123\n",
              "2018-12-10       NaN  0.021510 -0.000000  ... -0.045196  0.000000 -0.000000\n",
              "2018-12-11       NaN  0.053242 -0.048477  ...  0.044149  0.000000  0.000000\n",
              "2018-12-12       NaN  0.015527  0.000000  ... -0.034849  0.000000  0.000000\n",
              "2018-12-13       NaN  0.117870 -0.000000  ... -0.000000 -0.000000 -0.000000\n",
              "...              ...       ...       ...  ...       ...       ...       ...\n",
              "2021-09-14  0.000000  0.017789  0.000000  ... -0.069959  0.000000 -0.142195\n",
              "2021-09-15  0.000000 -0.018069  0.000000  ...  0.014751  0.000000  0.001087\n",
              "2021-09-16  0.000000  0.006535 -0.000000  ... -0.036932 -0.000000 -0.030964\n",
              "2021-09-17 -0.024055 -0.017707 -0.000000  ... -0.000000 -0.000000 -0.071478\n",
              "2021-09-20  0.000000 -0.122836 -0.000000  ...  0.104334  0.000000  0.099083\n",
              "\n",
              "[701 rows x 15 columns]"
            ]
          },
          "metadata": {},
          "execution_count": 11
        }
      ]
    },
    {
      "cell_type": "code",
      "metadata": {
        "id": "n_A6TGp0GxyE"
      },
      "source": [
        "strategies = strategies.iloc[:,1:]"
      ],
      "execution_count": null,
      "outputs": []
    },
    {
      "cell_type": "code",
      "metadata": {
        "id": "_6XDz28CuQMu"
      },
      "source": [
        "def SR_criterion(weight, returns):\n",
        "  \"\"\" \n",
        "  ------------------------------------------------------------------------------\n",
        "  | Output: Opposite Sortino ratio to do a m imization                          |\n",
        "  ------------------------------------------------------------------------------\n",
        "  | Inputs: -Weight (type ndarray numpy): Wheight for portfolio                |\n",
        "  |         -returns (type dataframe pandas): Returns of stocks                |\n",
        "  ------------------------------------------------------------------------------\n",
        "  \"\"\"\n",
        "  pf_return = returns.values.dot(weight)\n",
        "  mu = np.mean(pf_return) \n",
        "  sigma = np.std(pf_return[pf_return<0])\n",
        "  Sortino = -mu/sigma\n",
        "  return Sortino\n",
        "\n",
        "\n",
        "\n",
        "\n",
        "n=len(strategies.transpose())\n",
        "\n",
        "# Initialisation weight value\n",
        "x0 = np.zeros(n)+(1/n)\n",
        "\n",
        "# Optimization constraints problem\n",
        "cons=({'type':'eq', 'fun': lambda x:sum(abs(x))-1})\n",
        "\n",
        "Bounds= [(0 , 1) for i in range(0,n)]\n",
        "\n",
        "\n",
        "# Optimization problem solving\n",
        "res_SR = minimize(SR_criterion, x0, method=\"SLSQP\", args=(strategies.loc[start_train:end_test].dropna()),bounds=Bounds,constraints=cons,options={'disp': False})\n",
        "\n",
        "# Result for visualization\n",
        "\n",
        "# Result for computations\n",
        "X = res_SR.x\n"
      ],
      "execution_count": null,
      "outputs": []
    },
    {
      "cell_type": "code",
      "metadata": {
        "colab": {
          "base_uri": "https://localhost:8080/",
          "height": 480
        },
        "id": "f3cyTrMJuTuG",
        "outputId": "9c9e1756-beff-41f2-d41e-37a683b1d810"
      },
      "source": [
        "# BackTest Sortino Optimization\n",
        "sr = np.multiply(strategies.loc[start_valid:end_valid], X).sum(axis=1)\n",
        "BackTest(sr)"
      ],
      "execution_count": null,
      "outputs": [
        {
          "output_type": "stream",
          "name": "stdout",
          "text": [
            "\r[*********************100%***********************]  1 of 1 completed\n"
          ]
        },
        {
          "output_type": "display_data",
          "data": {
            "image/png": "[encoded data removed]",
            "text/plain": [
              "<Figure size 1080x432 with 2 Axes>"
            ]
          },
          "metadata": {}
        },
        {
          "output_type": "stream",
          "name": "stdout",
          "text": [
            "Sortino: -0.754\n",
            "Beta: -0.171\n",
            "Alpha: -0.173\n",
            "MaxDrawdown: 38.215 %\n"
          ]
        }
      ]
    },
    {
      "cell_type": "markdown",
      "metadata": {
        "id": "2QehlheC4R9W"
      },
      "source": [
        "# Section 2: Min Variance Optimization"
      ]
    },
    {
      "cell_type": "code",
      "metadata": {
        "id": "vwn2aKYu4RJ_"
      },
      "source": [
        "def MV_criterion(weight,Returns_data):\n",
        "  \"\"\" \n",
        "  ------------------------------------------------------------------------------\n",
        "  | Output: optimization porfolio criterion                                    |\n",
        "  ------------------------------------------------------------------------------\n",
        "  | Inputs: -weight (type ndarray numpy): Wheight for portfolio                |\n",
        "  |         -Returns_data (type ndarray numpy): Returns of stocks              |\n",
        "  ------------------------------------------------------------------------------\n",
        "  \"\"\"\n",
        "  portfolio_return=np.multiply(Returns_data,np.transpose(weight));\n",
        "  portfolio_return=np.sum(portfolio_return,1);\n",
        "  mean_ret=np.mean(portfolio_return,0)\n",
        "  sd_ret=np.std(portfolio_return,0)\n",
        "  criterion = sd_ret\n",
        "  return criterion\n",
        "\n",
        "\n",
        "\n",
        "\n",
        "n=len(strategies.transpose())\n",
        "# Initialisation weight value\n",
        "x0 = np.zeros(n)+(1/n)\n",
        "\n",
        "# Optimization constraints problem\n",
        "cons=({'type':'eq', 'fun': lambda x:sum(abs(x))-1})\n",
        "\n",
        "Bounds= [(0 , 1) for i in range(0,n)]\n",
        "\n",
        "\n",
        "# Optimization problem solving\n",
        "res_SR = minimize(MV_criterion, x0, method=\"SLSQP\", args=(strategies.loc[start_train:end_test].dropna()),bounds=Bounds,constraints=cons,options={'disp': False})\n",
        "\n",
        "# Result for visualization\n",
        "\n",
        "# Result for computations\n",
        "X = res_SR.x"
      ],
      "execution_count": null,
      "outputs": []
    },
    {
      "cell_type": "code",
      "metadata": {
        "colab": {
          "base_uri": "https://localhost:8080/"
        },
        "id": "DAyQIvzduVpV",
        "outputId": "57469a91-31af-43cc-928b-d1e71b204e8b"
      },
      "source": [
        "# BackTest MinVar Optimization\n",
        "mv = np.multiply(strategies.loc[start_valid:end_valid], X).sum(axis=1)\n",
        "BackTest(mv)"
      ],
      "execution_count": null,
      "outputs": [
        {
          "output_type": "stream",
          "name": "stdout",
          "text": [
            "\r[*********************100%***********************]  1 of 1 completed\n"
          ]
        },
        {
          "output_type": "display_data",
          "data": {
            "image/png": "[encoded data removed]",
            "text/plain": [
              "<Figure size 1080x432 with 2 Axes>"
            ]
          },
          "metadata": {}
        },
        {
          "output_type": "stream",
          "name": "stdout",
          "text": [
            "Sortino: 3.444\n",
            "Beta: -0.006\n",
            "Alpha: 0.084\n",
            "MaxDrawdown: 3.051 %\n"
          ]
        }
      ]
    },
    {
      "cell_type": "markdown",
      "metadata": {
        "id": "ta2I0twL5VXN"
      },
      "source": [
        "# Section3: Mean Variance Skewness Kurtosis Optimization"
      ]
    },
    {
      "cell_type": "code",
      "metadata": {
        "id": "cJtXpqmr5JtN"
      },
      "source": [
        "def SK_criterion(weight,Returns_data):\n",
        "  \"\"\" \n",
        "  ------------------------------------------------------------------------------\n",
        "  | Output: optimization porfolio criterion                                    |\n",
        "  ------------------------------------------------------------------------------\n",
        "  | Inputs: -weight (type ndarray numpy): Wheight for portfolio                |\n",
        "  |         -Returns_data (type ndarray numpy): Returns of stocks              |\n",
        "  ------------------------------------------------------------------------------\n",
        "  \"\"\"\n",
        "  from scipy.stats import skew, kurtosis\n",
        "\n",
        "  Lambda_RA = 3\n",
        "  portfolio_return=np.multiply(Returns_data,np.transpose(weight));\n",
        "  portfolio_return=np.sum(portfolio_return,1);\n",
        "  mean_ret=np.mean(portfolio_return,0)\n",
        "  sd_ret=np.std(portfolio_return,0)\n",
        "  skew_ret=skew(portfolio_return,0)\n",
        "  kurt_ret=kurtosis(portfolio_return,0)\n",
        "  W=1;\n",
        "  Wbar=1*(1+0.25/100);\n",
        "  criterion=np.power(Wbar,1-Lambda_RA)/(1+Lambda_RA)+np.power(Wbar,-Lambda_RA)*W*mean_ret-Lambda_RA/2*np.power(Wbar,-1-Lambda_RA)*np.power(W,2)*np.power(sd_ret,2)+Lambda_RA*(Lambda_RA+1)/(6)*np.power(Wbar,-2-Lambda_RA)*np.power(W,3)*skew_ret-Lambda_RA*(Lambda_RA+1)*(Lambda_RA+2)/(24)*np.power(Wbar,-3-Lambda_RA)*np.power(W,4)*kurt_ret\n",
        "  criterion=-criterion;\n",
        "  return criterion\n",
        "\n",
        "\n",
        "\n",
        "n=len(strategies.transpose())\n",
        "# Initialisation weight value\n",
        "x0 = np.zeros(n)+(1/n)\n",
        "\n",
        "# Optimization constraints problem\n",
        "cons=({'type':'eq', 'fun': lambda x:sum(abs(x))-1})\n",
        "\n",
        "Bounds= [(0 , 1) for i in range(0,n)]\n",
        "\n",
        "\n",
        "# Optimization problem solving\n",
        "res_SR = minimize(SK_criterion, x0, method=\"SLSQP\", args=(strategies.loc[start_train:end_test].dropna()),bounds=Bounds,constraints=cons,options={'disp': False})\n",
        "\n",
        "# Result for visualization\n",
        "\n",
        "# Result for computations\n",
        "X = res_SR.x\n"
      ],
      "execution_count": null,
      "outputs": []
    },
    {
      "cell_type": "code",
      "metadata": {
        "colab": {
          "base_uri": "https://localhost:8080/",
          "height": 480
        },
        "id": "mugX0_-J5oIK",
        "outputId": "1d80efb8-19ab-42e5-d187-d59bfaf90046"
      },
      "source": [
        "# Plot the performances\n",
        "s = np.multiply(strategies.loc[start_valid:end_valid], X).sum(axis=1)\n",
        "BackTest(s)"
      ],
      "execution_count": null,
      "outputs": [
        {
          "output_type": "stream",
          "name": "stdout",
          "text": [
            "\r[*********************100%***********************]  1 of 1 completed\n"
          ]
        },
        {
          "output_type": "display_data",
          "data": {
            "image/png": "[encoded data removed]",
            "text/plain": [
              "<Figure size 1080x432 with 2 Axes>"
            ]
          },
          "metadata": {}
        },
        {
          "output_type": "stream",
          "name": "stdout",
          "text": [
            "Sortino: 2.496\n",
            "Beta: -0.009\n",
            "Alpha: 0.072\n",
            "MaxDrawdown: 5.497 %\n"
          ]
        }
      ]
    }
  ]
}