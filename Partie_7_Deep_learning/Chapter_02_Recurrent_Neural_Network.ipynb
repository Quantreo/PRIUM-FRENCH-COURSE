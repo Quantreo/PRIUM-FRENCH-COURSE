{
  "nbformat": 4,
  "nbformat_minor": 0,
  "metadata": {
    "colab": {
      "name": "EN - DL Chapter 07: Recurrent Neural Network.ipynb",
      "provenance": [],
      "collapsed_sections": []
    },
    "kernelspec": {
      "name": "python3",
      "display_name": "Python 3"
    },
    "language_info": {
      "name": "python"
    }
  },
  "cells": [
    {
      "cell_type": "markdown",
      "source": [
        "<p><img alt=\"Colaboratory logo\" height=\"45px\" src=\"https://www.quantreo.com/wp-content/uploads/2021/10/Original-on-Transparent.png\" align=\"left\" hspace=\"10px\" vspace=\"0px\"></p>\n",
        "\n",
        "# Recurrent Neural Network (RNN)\n",
        "\n",
        "\n",
        "<br>\n",
        "\n",
        "\n",
        "📈Join our community: https://discord.gg/wXjNPAc5BH\n",
        "\n",
        "📚Read our book: https://www.amazon.com/gp/product/B09HG18CYL \n",
        "\n",
        "🖥️Quantreo's YouTube channel: https://www.youtube.com/channel/UCp7jckfiEglNf_Gj62VR0pw"
      ],
      "metadata": {
        "id": "6wUlLl3nUoTf"
      }
    },
    {
      "cell_type": "code",
      "source": [
        "!pip install yfinance\n",
        "!pip install ta"
      ],
      "metadata": {
        "colab": {
          "base_uri": "https://localhost:8080/"
        },
        "id": "al7krzszJ-vs",
        "outputId": "7c45865a-6890-4493-9ef4-f1ed4f2f7818"
      },
      "execution_count": null,
      "outputs": [
        {
          "output_type": "stream",
          "name": "stdout",
          "text": [
            "Collecting yfinance\n",
            "  Downloading yfinance-0.1.70-py2.py3-none-any.whl (26 kB)\n",
            "Requirement already satisfied: pandas>=0.24.0 in /usr/local/lib/python3.7/dist-packages (from yfinance) (1.3.5)\n",
            "Requirement already satisfied: multitasking>=0.0.7 in /usr/local/lib/python3.7/dist-packages (from yfinance) (0.0.10)\n",
            "Collecting lxml>=4.5.1\n",
            "  Downloading lxml-4.7.1-cp37-cp37m-manylinux_2_17_x86_64.manylinux2014_x86_64.manylinux_2_24_x86_64.whl (6.4 MB)\n",
            "\u001b[K     |████████████████████████████████| 6.4 MB 7.3 MB/s \n",
            "\u001b[?25hRequirement already satisfied: numpy>=1.15 in /usr/local/lib/python3.7/dist-packages (from yfinance) (1.21.5)\n",
            "Collecting requests>=2.26\n",
            "  Downloading requests-2.27.1-py2.py3-none-any.whl (63 kB)\n",
            "\u001b[K     |████████████████████████████████| 63 kB 285 kB/s \n",
            "\u001b[?25hRequirement already satisfied: python-dateutil>=2.7.3 in /usr/local/lib/python3.7/dist-packages (from pandas>=0.24.0->yfinance) (2.8.2)\n",
            "Requirement already satisfied: pytz>=2017.3 in /usr/local/lib/python3.7/dist-packages (from pandas>=0.24.0->yfinance) (2018.9)\n",
            "Requirement already satisfied: six>=1.5 in /usr/local/lib/python3.7/dist-packages (from python-dateutil>=2.7.3->pandas>=0.24.0->yfinance) (1.15.0)\n",
            "Requirement already satisfied: charset-normalizer~=2.0.0 in /usr/local/lib/python3.7/dist-packages (from requests>=2.26->yfinance) (2.0.11)\n",
            "Requirement already satisfied: urllib3<1.27,>=1.21.1 in /usr/local/lib/python3.7/dist-packages (from requests>=2.26->yfinance) (1.24.3)\n",
            "Requirement already satisfied: idna<4,>=2.5 in /usr/local/lib/python3.7/dist-packages (from requests>=2.26->yfinance) (2.10)\n",
            "Requirement already satisfied: certifi>=2017.4.17 in /usr/local/lib/python3.7/dist-packages (from requests>=2.26->yfinance) (2021.10.8)\n",
            "Installing collected packages: requests, lxml, yfinance\n",
            "  Attempting uninstall: requests\n",
            "    Found existing installation: requests 2.23.0\n",
            "    Uninstalling requests-2.23.0:\n",
            "      Successfully uninstalled requests-2.23.0\n",
            "  Attempting uninstall: lxml\n",
            "    Found existing installation: lxml 4.2.6\n",
            "    Uninstalling lxml-4.2.6:\n",
            "      Successfully uninstalled lxml-4.2.6\n",
            "\u001b[31mERROR: pip's dependency resolver does not currently take into account all the packages that are installed. This behaviour is the source of the following dependency conflicts.\n",
            "google-colab 1.0.0 requires requests~=2.23.0, but you have requests 2.27.1 which is incompatible.\n",
            "datascience 0.10.6 requires folium==0.2.1, but you have folium 0.8.3 which is incompatible.\u001b[0m\n",
            "Successfully installed lxml-4.7.1 requests-2.27.1 yfinance-0.1.70\n",
            "Collecting ta\n",
            "  Downloading ta-0.9.0.tar.gz (25 kB)\n",
            "Requirement already satisfied: numpy in /usr/local/lib/python3.7/dist-packages (from ta) (1.21.5)\n",
            "Requirement already satisfied: pandas in /usr/local/lib/python3.7/dist-packages (from ta) (1.3.5)\n",
            "Requirement already satisfied: pytz>=2017.3 in /usr/local/lib/python3.7/dist-packages (from pandas->ta) (2018.9)\n",
            "Requirement already satisfied: python-dateutil>=2.7.3 in /usr/local/lib/python3.7/dist-packages (from pandas->ta) (2.8.2)\n",
            "Requirement already satisfied: six>=1.5 in /usr/local/lib/python3.7/dist-packages (from python-dateutil>=2.7.3->pandas->ta) (1.15.0)\n",
            "Building wheels for collected packages: ta\n",
            "  Building wheel for ta (setup.py) ... \u001b[?25l\u001b[?25hdone\n",
            "  Created wheel for ta: filename=ta-0.9.0-py3-none-any.whl size=28908 sha256=e5d008e1c284a20118d4771a4fc594cf2fd971198b5fb0673c8448a2abeea350\n",
            "  Stored in directory: /root/.cache/pip/wheels/72/78/64/cc1c01506a1010a9845e9bd7c69333730f7174661228ea4f98\n",
            "Successfully built ta\n",
            "Installing collected packages: ta\n",
            "Successfully installed ta-0.9.0\n"
          ]
        }
      ]
    },
    {
      "cell_type": "code",
      "execution_count": null,
      "metadata": {
        "id": "YefNbSyZjcOu"
      },
      "outputs": [],
      "source": [
        "import numpy as np\n",
        "import pandas as pd\n",
        "import warnings\n",
        "import yfinance as yf\n",
        "import ta\n",
        "warnings.filterwarnings(\"ignore\")"
      ]
    },
    {
      "cell_type": "code",
      "source": [
        "# The code here will allow you to switch your graphics to dark mode for those who choose to code in dark mode\n",
        "import matplotlib.pyplot as plt\n",
        "\n",
        "import matplotlib as mpl\n",
        "from matplotlib import cycler\n",
        "colors = cycler('color',\n",
        "                ['#669FEE', '#66EE91', '#9988DD',\n",
        "                 '#EECC55', '#88BB44', '#FFBBBB'])\n",
        "plt.rc('figure', facecolor='#313233')\n",
        "plt.rc('axes', facecolor=\"#313233\", edgecolor='none',\n",
        "       axisbelow=True, grid=True, prop_cycle=colors,\n",
        "       labelcolor='gray')\n",
        "plt.rc('grid', color='474A4A', linestyle='solid')\n",
        "plt.rc('xtick', color='gray')\n",
        "plt.rc('ytick', direction='out', color='gray')\n",
        "plt.rc('legend', facecolor=\"#313233\", edgecolor=\"#313233\")\n",
        "plt.rc(\"text\", color=\"#C9C9C9\")"
      ],
      "metadata": {
        "id": "lm_n7BhEUyRh"
      },
      "execution_count": null,
      "outputs": []
    },
    {
      "cell_type": "markdown",
      "source": [
        "# Features engineering"
      ],
      "metadata": {
        "id": "tmKHKvaJVjZJ"
      }
    },
    {
      "cell_type": "code",
      "source": [
        "def feature_engineering(df):\n",
        "    \"\"\" Create new variables\"\"\"\n",
        "    \n",
        "    # We copy the dataframe to avoid interferences in the data\n",
        "    df_copy = df.copy()\n",
        "    \n",
        "    # Create the returns\n",
        "    df_copy[\"returns\"] = df_copy[\"close\"].pct_change(1)\n",
        "    df_copy[\"dummy\"] = np.round(df_copy[\"returns\"]+0.5)\n",
        "\n",
        "    # Create the SMAs\n",
        "    df_copy[\"SMA 15\"] = df_copy[[\"close\"]].rolling(15).mean().shift(1)\n",
        "    df_copy[\"SMA 60\"] = df_copy[[\"close\"]].rolling(60).mean().shift(1)\n",
        "    \n",
        "    # Create the volatilities\n",
        "    df_copy[\"MSD 10\"] = df_copy[[\"returns\"]].rolling(10).std().shift(1)\n",
        "    df_copy[\"MSD 30\"] = df_copy[[\"returns\"]].rolling(30).std().shift(1)\n",
        "    \n",
        "    # Create the Rsi\n",
        "    RSI = ta.momentum.RSIIndicator(df_copy[\"close\"], window= 14, fillna = False)\n",
        "    df_copy[\"rsi\"] = RSI.rsi().shift(1)\n",
        "    \n",
        "    return df_copy.dropna()"
      ],
      "metadata": {
        "id": "c9r_29R3kYkJ"
      },
      "execution_count": null,
      "outputs": []
    },
    {
      "cell_type": "markdown",
      "source": [
        "# Data preparation"
      ],
      "metadata": {
        "id": "weVyehMiKgtT"
      }
    },
    {
      "cell_type": "code",
      "source": [
        "def preprocessing_yf(symbol):\n",
        "  \n",
        "  #Import the data\n",
        "  df = yf.download(symbol).dropna()\n",
        "\n",
        "  #Rename\n",
        "  df.columns = [\"open\", \"high\", \"low\", \"close\", \"adj close\", \"volume\"]\n",
        "  df.index.name = \"time\"\n",
        "\n",
        "  # Remove adj close\n",
        "  del df[\"adj close\"]\n",
        "\n",
        "  return df"
      ],
      "metadata": {
        "id": "r1ka2CagTn-2"
      },
      "execution_count": null,
      "outputs": []
    },
    {
      "cell_type": "code",
      "source": [
        "df = preprocessing_yf(\"BTC-USD\")\n",
        "dfc = feature_engineering(df)\n",
        "dfc"
      ],
      "metadata": {
        "colab": {
          "base_uri": "https://localhost:8080/",
          "height": 467
        },
        "id": "CDK7aHysKomA",
        "outputId": "bfa46649-02ce-4099-a57c-62bf0ef52984"
      },
      "execution_count": null,
      "outputs": [
        {
          "output_type": "stream",
          "name": "stdout",
          "text": [
            "\r[*********************100%***********************]  1 of 1 completed\n"
          ]
        },
        {
          "output_type": "execute_result",
          "data": {
            "text/html": [
              "\n",
              "  <div id=\"df-33bb09a2-bfe0-43ad-9d69-f45e3d35badd\">\n",
              "    <div class=\"colab-df-container\">\n",
              "      <div>\n",
              "<style scoped>\n",
              "    .dataframe tbody tr th:only-of-type {\n",
              "        vertical-align: middle;\n",
              "    }\n",
              "\n",
              "    .dataframe tbody tr th {\n",
              "        vertical-align: top;\n",
              "    }\n",
              "\n",
              "    .dataframe thead th {\n",
              "        text-align: right;\n",
              "    }\n",
              "</style>\n",
              "<table border=\"1\" class=\"dataframe\">\n",
              "  <thead>\n",
              "    <tr style=\"text-align: right;\">\n",
              "      <th></th>\n",
              "      <th>open</th>\n",
              "      <th>high</th>\n",
              "      <th>low</th>\n",
              "      <th>close</th>\n",
              "      <th>volume</th>\n",
              "      <th>returns</th>\n",
              "      <th>dummy</th>\n",
              "      <th>SMA 15</th>\n",
              "      <th>SMA 60</th>\n",
              "      <th>MSD 10</th>\n",
              "      <th>MSD 30</th>\n",
              "      <th>rsi</th>\n",
              "    </tr>\n",
              "    <tr>\n",
              "      <th>time</th>\n",
              "      <th></th>\n",
              "      <th></th>\n",
              "      <th></th>\n",
              "      <th></th>\n",
              "      <th></th>\n",
              "      <th></th>\n",
              "      <th></th>\n",
              "      <th></th>\n",
              "      <th></th>\n",
              "      <th></th>\n",
              "      <th></th>\n",
              "      <th></th>\n",
              "    </tr>\n",
              "  </thead>\n",
              "  <tbody>\n",
              "    <tr>\n",
              "      <th>2014-11-16</th>\n",
              "      <td>374.730011</td>\n",
              "      <td>390.799011</td>\n",
              "      <td>374.601990</td>\n",
              "      <td>387.881989</td>\n",
              "      <td>11905600</td>\n",
              "      <td>0.031236</td>\n",
              "      <td>1.0</td>\n",
              "      <td>360.166400</td>\n",
              "      <td>373.194417</td>\n",
              "      <td>0.059374</td>\n",
              "      <td>0.040284</td>\n",
              "      <td>52.526052</td>\n",
              "    </tr>\n",
              "    <tr>\n",
              "      <th>2014-11-17</th>\n",
              "      <td>388.348999</td>\n",
              "      <td>410.199005</td>\n",
              "      <td>377.502014</td>\n",
              "      <td>387.407990</td>\n",
              "      <td>41518800</td>\n",
              "      <td>-0.001222</td>\n",
              "      <td>0.0</td>\n",
              "      <td>364.308600</td>\n",
              "      <td>372.036884</td>\n",
              "      <td>0.059454</td>\n",
              "      <td>0.040680</td>\n",
              "      <td>55.885665</td>\n",
              "    </tr>\n",
              "    <tr>\n",
              "      <th>2014-11-18</th>\n",
              "      <td>387.785004</td>\n",
              "      <td>392.402008</td>\n",
              "      <td>371.117004</td>\n",
              "      <td>375.197998</td>\n",
              "      <td>32222500</td>\n",
              "      <td>-0.031517</td>\n",
              "      <td>0.0</td>\n",
              "      <td>368.409666</td>\n",
              "      <td>371.419683</td>\n",
              "      <td>0.058641</td>\n",
              "      <td>0.040524</td>\n",
              "      <td>55.714363</td>\n",
              "    </tr>\n",
              "    <tr>\n",
              "      <th>2014-11-19</th>\n",
              "      <td>373.895996</td>\n",
              "      <td>386.480988</td>\n",
              "      <td>373.895996</td>\n",
              "      <td>380.554993</td>\n",
              "      <td>18931800</td>\n",
              "      <td>0.014278</td>\n",
              "      <td>1.0</td>\n",
              "      <td>371.585933</td>\n",
              "      <td>371.093050</td>\n",
              "      <td>0.060390</td>\n",
              "      <td>0.040934</td>\n",
              "      <td>51.348107</td>\n",
              "    </tr>\n",
              "    <tr>\n",
              "      <th>2014-11-20</th>\n",
              "      <td>380.307007</td>\n",
              "      <td>382.024994</td>\n",
              "      <td>356.781006</td>\n",
              "      <td>357.839996</td>\n",
              "      <td>25233200</td>\n",
              "      <td>-0.059689</td>\n",
              "      <td>0.0</td>\n",
              "      <td>374.923466</td>\n",
              "      <td>370.620567</td>\n",
              "      <td>0.058663</td>\n",
              "      <td>0.040894</td>\n",
              "      <td>53.085274</td>\n",
              "    </tr>\n",
              "    <tr>\n",
              "      <th>...</th>\n",
              "      <td>...</td>\n",
              "      <td>...</td>\n",
              "      <td>...</td>\n",
              "      <td>...</td>\n",
              "      <td>...</td>\n",
              "      <td>...</td>\n",
              "      <td>...</td>\n",
              "      <td>...</td>\n",
              "      <td>...</td>\n",
              "      <td>...</td>\n",
              "      <td>...</td>\n",
              "      <td>...</td>\n",
              "    </tr>\n",
              "    <tr>\n",
              "      <th>2022-02-12</th>\n",
              "      <td>42412.300781</td>\n",
              "      <td>42992.550781</td>\n",
              "      <td>41852.574219</td>\n",
              "      <td>42244.468750</td>\n",
              "      <td>18152390304</td>\n",
              "      <td>-0.003855</td>\n",
              "      <td>0.0</td>\n",
              "      <td>40586.609896</td>\n",
              "      <td>43323.429818</td>\n",
              "      <td>0.044252</td>\n",
              "      <td>0.034984</td>\n",
              "      <td>54.878421</td>\n",
              "    </tr>\n",
              "    <tr>\n",
              "      <th>2022-02-13</th>\n",
              "      <td>42236.566406</td>\n",
              "      <td>42693.054688</td>\n",
              "      <td>41950.941406</td>\n",
              "      <td>42197.515625</td>\n",
              "      <td>14741589015</td>\n",
              "      <td>-0.001111</td>\n",
              "      <td>0.0</td>\n",
              "      <td>40883.952344</td>\n",
              "      <td>43250.627083</td>\n",
              "      <td>0.040117</td>\n",
              "      <td>0.034522</td>\n",
              "      <td>54.115034</td>\n",
              "    </tr>\n",
              "    <tr>\n",
              "      <th>2022-02-14</th>\n",
              "      <td>42157.398438</td>\n",
              "      <td>42775.777344</td>\n",
              "      <td>41681.957031</td>\n",
              "      <td>42586.917969</td>\n",
              "      <td>20827783012</td>\n",
              "      <td>0.009228</td>\n",
              "      <td>1.0</td>\n",
              "      <td>41154.574740</td>\n",
              "      <td>43138.973633</td>\n",
              "      <td>0.040328</td>\n",
              "      <td>0.034452</td>\n",
              "      <td>53.883182</td>\n",
              "    </tr>\n",
              "    <tr>\n",
              "      <th>2022-02-15</th>\n",
              "      <td>42586.464844</td>\n",
              "      <td>44667.218750</td>\n",
              "      <td>42491.035156</td>\n",
              "      <td>44575.203125</td>\n",
              "      <td>22721659051</td>\n",
              "      <td>0.046688</td>\n",
              "      <td>1.0</td>\n",
              "      <td>41465.862500</td>\n",
              "      <td>43054.331836</td>\n",
              "      <td>0.017597</td>\n",
              "      <td>0.034493</td>\n",
              "      <td>55.582843</td>\n",
              "    </tr>\n",
              "    <tr>\n",
              "      <th>2022-02-16</th>\n",
              "      <td>44503.093750</td>\n",
              "      <td>44503.093750</td>\n",
              "      <td>43762.269531</td>\n",
              "      <td>44156.753906</td>\n",
              "      <td>21999708160</td>\n",
              "      <td>-0.009387</td>\n",
              "      <td>0.0</td>\n",
              "      <td>41872.001042</td>\n",
              "      <td>43027.216146</td>\n",
              "      <td>0.022288</td>\n",
              "      <td>0.035522</td>\n",
              "      <td>63.067564</td>\n",
              "    </tr>\n",
              "  </tbody>\n",
              "</table>\n",
              "<p>2650 rows × 12 columns</p>\n",
              "</div>\n",
              "      <button class=\"colab-df-convert\" onclick=\"convertToInteractive('df-33bb09a2-bfe0-43ad-9d69-f45e3d35badd')\"\n",
              "              title=\"Convert this dataframe to an interactive table.\"\n",
              "              style=\"display:none;\">\n",
              "        \n",
              "  <svg xmlns=\"http://www.w3.org/2000/svg\" height=\"24px\"viewBox=\"0 0 24 24\"\n",
              "       width=\"24px\">\n",
              "    <path d=\"M0 0h24v24H0V0z\" fill=\"none\"/>\n",
              "    <path d=\"M18.56 5.44l.94 2.06.94-2.06 2.06-.94-2.06-.94-.94-2.06-.94 2.06-2.06.94zm-11 1L8.5 8.5l.94-2.06 2.06-.94-2.06-.94L8.5 2.5l-.94 2.06-2.06.94zm10 10l.94 2.06.94-2.06 2.06-.94-2.06-.94-.94-2.06-.94 2.06-2.06.94z\"/><path d=\"M17.41 7.96l-1.37-1.37c-.4-.4-.92-.59-1.43-.59-.52 0-1.04.2-1.43.59L10.3 9.45l-7.72 7.72c-.78.78-.78 2.05 0 2.83L4 21.41c.39.39.9.59 1.41.59.51 0 1.02-.2 1.41-.59l7.78-7.78 2.81-2.81c.8-.78.8-2.07 0-2.86zM5.41 20L4 18.59l7.72-7.72 1.47 1.35L5.41 20z\"/>\n",
              "  </svg>\n",
              "      </button>\n",
              "      \n",
              "  <style>\n",
              "    .colab-df-container {\n",
              "      display:flex;\n",
              "      flex-wrap:wrap;\n",
              "      gap: 12px;\n",
              "    }\n",
              "\n",
              "    .colab-df-convert {\n",
              "      background-color: #E8F0FE;\n",
              "      border: none;\n",
              "      border-radius: 50%;\n",
              "      cursor: pointer;\n",
              "      display: none;\n",
              "      fill: #1967D2;\n",
              "      height: 32px;\n",
              "      padding: 0 0 0 0;\n",
              "      width: 32px;\n",
              "    }\n",
              "\n",
              "    .colab-df-convert:hover {\n",
              "      background-color: #E2EBFA;\n",
              "      box-shadow: 0px 1px 2px rgba(60, 64, 67, 0.3), 0px 1px 3px 1px rgba(60, 64, 67, 0.15);\n",
              "      fill: #174EA6;\n",
              "    }\n",
              "\n",
              "    [theme=dark] .colab-df-convert {\n",
              "      background-color: #3B4455;\n",
              "      fill: #D2E3FC;\n",
              "    }\n",
              "\n",
              "    [theme=dark] .colab-df-convert:hover {\n",
              "      background-color: #434B5C;\n",
              "      box-shadow: 0px 1px 3px 1px rgba(0, 0, 0, 0.15);\n",
              "      filter: drop-shadow(0px 1px 2px rgba(0, 0, 0, 0.3));\n",
              "      fill: #FFFFFF;\n",
              "    }\n",
              "  </style>\n",
              "\n",
              "      <script>\n",
              "        const buttonEl =\n",
              "          document.querySelector('#df-33bb09a2-bfe0-43ad-9d69-f45e3d35badd button.colab-df-convert');\n",
              "        buttonEl.style.display =\n",
              "          google.colab.kernel.accessAllowed ? 'block' : 'none';\n",
              "\n",
              "        async function convertToInteractive(key) {\n",
              "          const element = document.querySelector('#df-33bb09a2-bfe0-43ad-9d69-f45e3d35badd');\n",
              "          const dataTable =\n",
              "            await google.colab.kernel.invokeFunction('convertToInteractive',\n",
              "                                                     [key], {});\n",
              "          if (!dataTable) return;\n",
              "\n",
              "          const docLinkHtml = 'Like what you see? Visit the ' +\n",
              "            '<a target=\"_blank\" href=https://colab.research.google.com/notebooks/data_table.ipynb>data table notebook</a>'\n",
              "            + ' to learn more about interactive tables.';\n",
              "          element.innerHTML = '';\n",
              "          dataTable['output_type'] = 'display_data';\n",
              "          await google.colab.output.renderOutput(dataTable, element);\n",
              "          const docLink = document.createElement('div');\n",
              "          docLink.innerHTML = docLinkHtml;\n",
              "          element.appendChild(docLink);\n",
              "        }\n",
              "      </script>\n",
              "    </div>\n",
              "  </div>\n",
              "  "
            ],
            "text/plain": [
              "                    open          high  ...    MSD 30        rsi\n",
              "time                                    ...                     \n",
              "2014-11-16    374.730011    390.799011  ...  0.040284  52.526052\n",
              "2014-11-17    388.348999    410.199005  ...  0.040680  55.885665\n",
              "2014-11-18    387.785004    392.402008  ...  0.040524  55.714363\n",
              "2014-11-19    373.895996    386.480988  ...  0.040934  51.348107\n",
              "2014-11-20    380.307007    382.024994  ...  0.040894  53.085274\n",
              "...                  ...           ...  ...       ...        ...\n",
              "2022-02-12  42412.300781  42992.550781  ...  0.034984  54.878421\n",
              "2022-02-13  42236.566406  42693.054688  ...  0.034522  54.115034\n",
              "2022-02-14  42157.398438  42775.777344  ...  0.034452  53.883182\n",
              "2022-02-15  42586.464844  44667.218750  ...  0.034493  55.582843\n",
              "2022-02-16  44503.093750  44503.093750  ...  0.035522  63.067564\n",
              "\n",
              "[2650 rows x 12 columns]"
            ]
          },
          "metadata": {},
          "execution_count": 13
        }
      ]
    },
    {
      "cell_type": "code",
      "source": [
        "dfc.columns"
      ],
      "metadata": {
        "colab": {
          "base_uri": "https://localhost:8080/"
        },
        "id": "FwMu-vklLFUE",
        "outputId": "0d1b0409-4397-4044-adcc-3c035073f07e"
      },
      "execution_count": null,
      "outputs": [
        {
          "output_type": "execute_result",
          "data": {
            "text/plain": [
              "Index(['open', 'high', 'low', 'close', 'volume', 'returns', 'SMA 15', 'SMA 60',\n",
              "       'MSD 10', 'MSD 30', 'rsi'],\n",
              "      dtype='object')"
            ]
          },
          "metadata": {},
          "execution_count": 7
        }
      ]
    },
    {
      "cell_type": "code",
      "source": [
        "# Percentage train set\n",
        "split = int(0.85*len(dfc))\n",
        "\n",
        "\n",
        "# Train set creation\n",
        "X_train = dfc[[\"SMA 15\", \"SMA 60\", \"MSD 10\", \"MSD 30\", \"rsi\"]].iloc[:split,:]\n",
        "y_train = dfc[[\"dummy\"]].iloc[:split,:]\n",
        "\n",
        "\n",
        "# Test set creation\n",
        "X_test = dfc[[\"SMA 15\", \"SMA 60\", \"MSD 10\", \"MSD 30\", \"rsi\"]].iloc[split:,:]\n",
        "y_test = dfc[[\"dummy\"]].iloc[split:,:]"
      ],
      "metadata": {
        "id": "BH7R2vzwKf7P"
      },
      "execution_count": null,
      "outputs": []
    },
    {
      "cell_type": "code",
      "source": [
        "# STANDARDIZATION\n",
        "from sklearn.preprocessing import StandardScaler\n",
        "\n",
        "sc = StandardScaler()\n",
        "\n",
        "X_train_sc = sc.fit_transform(X_train)\n",
        "X_test_sc = sc.transform(X_test)"
      ],
      "metadata": {
        "id": "hlY5EsJmLRV2"
      },
      "execution_count": null,
      "outputs": []
    },
    {
      "cell_type": "code",
      "source": [
        "plt.plot(X_train.values)\n",
        "plt.title(\"WITHOUT Standardisation\")\n",
        "plt.show()"
      ],
      "metadata": {
        "colab": {
          "base_uri": "https://localhost:8080/",
          "height": 281
        },
        "id": "s0BkrDq0LWXs",
        "outputId": "282e19d6-7ce8-48e3-cd0f-962c84110fbc"
      },
      "execution_count": null,
      "outputs": [
        {
          "output_type": "display_data",
          "data": {
            "image/png": "[encoded data removed]",
            "text/plain": [
              "<Figure size 432x288 with 1 Axes>"
            ]
          },
          "metadata": {}
        }
      ]
    },
    {
      "cell_type": "code",
      "source": [
        "plt.plot(X_train_sc, alpha=0.5)\n",
        "plt.title(\"WITH Standardisation\")\n",
        "plt.show()"
      ],
      "metadata": {
        "colab": {
          "base_uri": "https://localhost:8080/",
          "height": 281
        },
        "id": "xnZQ0AHvLXiX",
        "outputId": "5b0220e3-3324-4589-8418-d38323a7bdce"
      },
      "execution_count": null,
      "outputs": [
        {
          "output_type": "display_data",
          "data": {
            "image/png": "[encoded data removed]",
            "text/plain": [
              "<Figure size 432x288 with 1 Axes>"
            ]
          },
          "metadata": {}
        }
      ]
    },
    {
      "cell_type": "markdown",
      "source": [
        "# Transform 2-dimensional data to 3-dimensional data"
      ],
      "metadata": {
        "id": "cOlh69NRjubh"
      }
    },
    {
      "cell_type": "code",
      "source": [
        "def X_3d_RNN(X_s, y_s, lag):\n",
        "\n",
        "    # Simple verification\n",
        "    if len(X_s) != len(y_s):\n",
        "        print(\"Warnings\")\n",
        "\n",
        "    # Create the X_train\n",
        "    X_train = []\n",
        "    for variable in range(0, X_s.shape[1]):\n",
        "        X = []\n",
        "        for i in range(lag, X_s.shape[0]):\n",
        "            X.append(X_s[i-lag:i, variable])\n",
        "        X_train.append(X)\n",
        "    X_train, np.array(X_train)\n",
        "    X_train = np.swapaxes(np.swapaxes(X_train, 0, 1), 1, 2)\n",
        "\n",
        "    # Create the y_train\n",
        "    y_train = []\n",
        "    for i in range(lag, y_s.shape[0]):\n",
        "        y_train.append(y_s[i, :].reshape(-1,1).transpose())\n",
        "    y_train = np.concatenate(y_train, axis=0)\n",
        "    return X_train, y_train\n",
        "\n",
        "lag = 15\n",
        "X_train_3d, y_train_3d = X_3d_RNN(X_train_sc, y_train.values, lag)\n",
        "X_test_3d, y_test_3d = X_3d_RNN(X_test_sc, y_test.values, lag)"
      ],
      "metadata": {
        "id": "PtaNB8Wmjz2D"
      },
      "execution_count": null,
      "outputs": []
    },
    {
      "cell_type": "code",
      "source": [
        "pd.DataFrame(X_train_3d[0])"
      ],
      "metadata": {
        "colab": {
          "base_uri": "https://localhost:8080/",
          "height": 514
        },
        "id": "PzH9i5Mi_qfm",
        "outputId": "5d587a05-61eb-4690-c682-18b75d920a4a"
      },
      "execution_count": null,
      "outputs": [
        {
          "output_type": "execute_result",
          "data": {
            "text/html": [
              "\n",
              "  <div id=\"df-de0ff2ce-7e71-4815-9961-74523b416194\">\n",
              "    <div class=\"colab-df-container\">\n",
              "      <div>\n",
              "<style scoped>\n",
              "    .dataframe tbody tr th:only-of-type {\n",
              "        vertical-align: middle;\n",
              "    }\n",
              "\n",
              "    .dataframe tbody tr th {\n",
              "        vertical-align: top;\n",
              "    }\n",
              "\n",
              "    .dataframe thead th {\n",
              "        text-align: right;\n",
              "    }\n",
              "</style>\n",
              "<table border=\"1\" class=\"dataframe\">\n",
              "  <thead>\n",
              "    <tr style=\"text-align: right;\">\n",
              "      <th></th>\n",
              "      <th>0</th>\n",
              "      <th>1</th>\n",
              "      <th>2</th>\n",
              "      <th>3</th>\n",
              "      <th>4</th>\n",
              "    </tr>\n",
              "  </thead>\n",
              "  <tbody>\n",
              "    <tr>\n",
              "      <th>0</th>\n",
              "      <td>-0.945276</td>\n",
              "      <td>-0.996619</td>\n",
              "      <td>1.306302</td>\n",
              "      <td>0.344290</td>\n",
              "      <td>-0.138809</td>\n",
              "    </tr>\n",
              "    <tr>\n",
              "      <th>1</th>\n",
              "      <td>-0.944454</td>\n",
              "      <td>-0.996875</td>\n",
              "      <td>1.310199</td>\n",
              "      <td>0.367896</td>\n",
              "      <td>0.095217</td>\n",
              "    </tr>\n",
              "    <tr>\n",
              "      <th>2</th>\n",
              "      <td>-0.943639</td>\n",
              "      <td>-0.997012</td>\n",
              "      <td>1.270535</td>\n",
              "      <td>0.358608</td>\n",
              "      <td>0.083285</td>\n",
              "    </tr>\n",
              "    <tr>\n",
              "      <th>3</th>\n",
              "      <td>-0.943008</td>\n",
              "      <td>-0.997084</td>\n",
              "      <td>1.355808</td>\n",
              "      <td>0.383080</td>\n",
              "      <td>-0.220864</td>\n",
              "    </tr>\n",
              "    <tr>\n",
              "      <th>4</th>\n",
              "      <td>-0.942345</td>\n",
              "      <td>-0.997189</td>\n",
              "      <td>1.271631</td>\n",
              "      <td>0.380675</td>\n",
              "      <td>-0.099855</td>\n",
              "    </tr>\n",
              "    <tr>\n",
              "      <th>5</th>\n",
              "      <td>-0.942102</td>\n",
              "      <td>-0.997340</td>\n",
              "      <td>1.443271</td>\n",
              "      <td>0.464630</td>\n",
              "      <td>-0.618261</td>\n",
              "    </tr>\n",
              "    <tr>\n",
              "      <th>6</th>\n",
              "      <td>-0.942081</td>\n",
              "      <td>-0.997529</td>\n",
              "      <td>1.456035</td>\n",
              "      <td>0.471101</td>\n",
              "      <td>-0.759456</td>\n",
              "    </tr>\n",
              "    <tr>\n",
              "      <th>7</th>\n",
              "      <td>-0.941942</td>\n",
              "      <td>-0.997835</td>\n",
              "      <td>-0.043979</td>\n",
              "      <td>0.371967</td>\n",
              "      <td>-0.704570</td>\n",
              "    </tr>\n",
              "    <tr>\n",
              "      <th>8</th>\n",
              "      <td>-0.941650</td>\n",
              "      <td>-0.998040</td>\n",
              "      <td>0.204899</td>\n",
              "      <td>0.413137</td>\n",
              "      <td>-0.332055</td>\n",
              "    </tr>\n",
              "    <tr>\n",
              "      <th>9</th>\n",
              "      <td>-0.941469</td>\n",
              "      <td>-0.998168</td>\n",
              "      <td>0.136114</td>\n",
              "      <td>0.398132</td>\n",
              "      <td>-0.115516</td>\n",
              "    </tr>\n",
              "    <tr>\n",
              "      <th>10</th>\n",
              "      <td>-0.941358</td>\n",
              "      <td>-0.998276</td>\n",
              "      <td>-0.086790</td>\n",
              "      <td>0.391056</td>\n",
              "      <td>-0.155911</td>\n",
              "    </tr>\n",
              "    <tr>\n",
              "      <th>11</th>\n",
              "      <td>-0.941349</td>\n",
              "      <td>-0.998391</td>\n",
              "      <td>-0.164067</td>\n",
              "      <td>0.400797</td>\n",
              "      <td>-0.339486</td>\n",
              "    </tr>\n",
              "    <tr>\n",
              "      <th>12</th>\n",
              "      <td>-0.942062</td>\n",
              "      <td>-0.998418</td>\n",
              "      <td>-0.159076</td>\n",
              "      <td>0.397799</td>\n",
              "      <td>-0.304366</td>\n",
              "    </tr>\n",
              "    <tr>\n",
              "      <th>13</th>\n",
              "      <td>-0.942649</td>\n",
              "      <td>-0.998415</td>\n",
              "      <td>-0.203994</td>\n",
              "      <td>0.296406</td>\n",
              "      <td>-0.119568</td>\n",
              "    </tr>\n",
              "    <tr>\n",
              "      <th>14</th>\n",
              "      <td>-0.942944</td>\n",
              "      <td>-0.998457</td>\n",
              "      <td>-0.223410</td>\n",
              "      <td>0.281315</td>\n",
              "      <td>-0.149066</td>\n",
              "    </tr>\n",
              "  </tbody>\n",
              "</table>\n",
              "</div>\n",
              "      <button class=\"colab-df-convert\" onclick=\"convertToInteractive('df-de0ff2ce-7e71-4815-9961-74523b416194')\"\n",
              "              title=\"Convert this dataframe to an interactive table.\"\n",
              "              style=\"display:none;\">\n",
              "        \n",
              "  <svg xmlns=\"http://www.w3.org/2000/svg\" height=\"24px\"viewBox=\"0 0 24 24\"\n",
              "       width=\"24px\">\n",
              "    <path d=\"M0 0h24v24H0V0z\" fill=\"none\"/>\n",
              "    <path d=\"M18.56 5.44l.94 2.06.94-2.06 2.06-.94-2.06-.94-.94-2.06-.94 2.06-2.06.94zm-11 1L8.5 8.5l.94-2.06 2.06-.94-2.06-.94L8.5 2.5l-.94 2.06-2.06.94zm10 10l.94 2.06.94-2.06 2.06-.94-2.06-.94-.94-2.06-.94 2.06-2.06.94z\"/><path d=\"M17.41 7.96l-1.37-1.37c-.4-.4-.92-.59-1.43-.59-.52 0-1.04.2-1.43.59L10.3 9.45l-7.72 7.72c-.78.78-.78 2.05 0 2.83L4 21.41c.39.39.9.59 1.41.59.51 0 1.02-.2 1.41-.59l7.78-7.78 2.81-2.81c.8-.78.8-2.07 0-2.86zM5.41 20L4 18.59l7.72-7.72 1.47 1.35L5.41 20z\"/>\n",
              "  </svg>\n",
              "      </button>\n",
              "      \n",
              "  <style>\n",
              "    .colab-df-container {\n",
              "      display:flex;\n",
              "      flex-wrap:wrap;\n",
              "      gap: 12px;\n",
              "    }\n",
              "\n",
              "    .colab-df-convert {\n",
              "      background-color: #E8F0FE;\n",
              "      border: none;\n",
              "      border-radius: 50%;\n",
              "      cursor: pointer;\n",
              "      display: none;\n",
              "      fill: #1967D2;\n",
              "      height: 32px;\n",
              "      padding: 0 0 0 0;\n",
              "      width: 32px;\n",
              "    }\n",
              "\n",
              "    .colab-df-convert:hover {\n",
              "      background-color: #E2EBFA;\n",
              "      box-shadow: 0px 1px 2px rgba(60, 64, 67, 0.3), 0px 1px 3px 1px rgba(60, 64, 67, 0.15);\n",
              "      fill: #174EA6;\n",
              "    }\n",
              "\n",
              "    [theme=dark] .colab-df-convert {\n",
              "      background-color: #3B4455;\n",
              "      fill: #D2E3FC;\n",
              "    }\n",
              "\n",
              "    [theme=dark] .colab-df-convert:hover {\n",
              "      background-color: #434B5C;\n",
              "      box-shadow: 0px 1px 3px 1px rgba(0, 0, 0, 0.15);\n",
              "      filter: drop-shadow(0px 1px 2px rgba(0, 0, 0, 0.3));\n",
              "      fill: #FFFFFF;\n",
              "    }\n",
              "  </style>\n",
              "\n",
              "      <script>\n",
              "        const buttonEl =\n",
              "          document.querySelector('#df-de0ff2ce-7e71-4815-9961-74523b416194 button.colab-df-convert');\n",
              "        buttonEl.style.display =\n",
              "          google.colab.kernel.accessAllowed ? 'block' : 'none';\n",
              "\n",
              "        async function convertToInteractive(key) {\n",
              "          const element = document.querySelector('#df-de0ff2ce-7e71-4815-9961-74523b416194');\n",
              "          const dataTable =\n",
              "            await google.colab.kernel.invokeFunction('convertToInteractive',\n",
              "                                                     [key], {});\n",
              "          if (!dataTable) return;\n",
              "\n",
              "          const docLinkHtml = 'Like what you see? Visit the ' +\n",
              "            '<a target=\"_blank\" href=https://colab.research.google.com/notebooks/data_table.ipynb>data table notebook</a>'\n",
              "            + ' to learn more about interactive tables.';\n",
              "          element.innerHTML = '';\n",
              "          dataTable['output_type'] = 'display_data';\n",
              "          await google.colab.output.renderOutput(dataTable, element);\n",
              "          const docLink = document.createElement('div');\n",
              "          docLink.innerHTML = docLinkHtml;\n",
              "          element.appendChild(docLink);\n",
              "        }\n",
              "      </script>\n",
              "    </div>\n",
              "  </div>\n",
              "  "
            ],
            "text/plain": [
              "           0         1         2         3         4\n",
              "0  -0.945276 -0.996619  1.306302  0.344290 -0.138809\n",
              "1  -0.944454 -0.996875  1.310199  0.367896  0.095217\n",
              "2  -0.943639 -0.997012  1.270535  0.358608  0.083285\n",
              "3  -0.943008 -0.997084  1.355808  0.383080 -0.220864\n",
              "4  -0.942345 -0.997189  1.271631  0.380675 -0.099855\n",
              "5  -0.942102 -0.997340  1.443271  0.464630 -0.618261\n",
              "6  -0.942081 -0.997529  1.456035  0.471101 -0.759456\n",
              "7  -0.941942 -0.997835 -0.043979  0.371967 -0.704570\n",
              "8  -0.941650 -0.998040  0.204899  0.413137 -0.332055\n",
              "9  -0.941469 -0.998168  0.136114  0.398132 -0.115516\n",
              "10 -0.941358 -0.998276 -0.086790  0.391056 -0.155911\n",
              "11 -0.941349 -0.998391 -0.164067  0.400797 -0.339486\n",
              "12 -0.942062 -0.998418 -0.159076  0.397799 -0.304366\n",
              "13 -0.942649 -0.998415 -0.203994  0.296406 -0.119568\n",
              "14 -0.942944 -0.998457 -0.223410  0.281315 -0.149066"
            ]
          },
          "metadata": {},
          "execution_count": 82
        }
      ]
    },
    {
      "cell_type": "code",
      "source": [
        "y_train_3d[0]"
      ],
      "metadata": {
        "colab": {
          "base_uri": "https://localhost:8080/"
        },
        "id": "rLG_ikj7_--_",
        "outputId": "9072e193-9728-44ed-a3b0-c6b2b6e22d62"
      },
      "execution_count": null,
      "outputs": [
        {
          "output_type": "execute_result",
          "data": {
            "text/plain": [
              "array([1.])"
            ]
          },
          "metadata": {},
          "execution_count": 83
        }
      ]
    },
    {
      "cell_type": "markdown",
      "source": [
        "# RNN"
      ],
      "metadata": {
        "id": "cDd6TZQcLl2E"
      }
    },
    {
      "cell_type": "code",
      "source": [
        "from tensorflow.keras.callbacks import EarlyStopping\n",
        "\n",
        "# LIBAIRIES\n",
        "import tensorflow\n",
        "from tensorflow.keras.models import Sequential\n",
        "from tensorflow.keras.layers import Dense, LSTM, Dropout\n",
        "\n",
        "nb_hidden_layer = 3\n",
        "\n",
        "\n",
        "# INITIALIZATION OF THE MODEL\n",
        "classifier = Sequential()\n",
        "\n",
        "# ADD LSTM LAYER\n",
        "classifier.add(LSTM(units = 10, return_sequences = True,\n",
        "                    input_shape = (X_train_3d.shape[1],X_train_3d.shape[2],)))\n",
        "\n",
        "\n",
        "# LOOP WHICH ADD LSTM LAYER\n",
        "for _ in range(1):\n",
        "    classifier.add(LSTM(units = 10, return_sequences = True))\n",
        "    classifier.add(Dropout(0.15))\n",
        "\n",
        "# LAST LSTM LAYER BUT WITH return_sequences = False \n",
        "classifier.add(LSTM(units = 10, return_sequences = False))\n",
        "\n",
        "\n",
        "# OUTPUT DENSE LAYER\n",
        "classifier.add(Dense(1, activation=\"sigmoid\"))\n",
        "\n",
        "# COMPILE THE MODEL\n",
        "classifier.compile(loss=\"binary_crossentropy\", optimizer=\"adam\")\n",
        "\n",
        "\n",
        "# TRAINING\n",
        "early_stop = EarlyStopping(verbose=1, patience = 5)\n",
        "\n",
        "classifier.fit(X_train_3d, y_train_3d, validation_data=(X_test_3d, y_test_3d), epochs=100, callbacks=[early_stop])"
      ],
      "metadata": {
        "colab": {
          "base_uri": "https://localhost:8080/"
        },
        "id": "9I6M7IjewpFk",
        "outputId": "7f449cfe-c3d4-439b-a0b6-69ad7e95529f"
      },
      "execution_count": null,
      "outputs": [
        {
          "output_type": "stream",
          "name": "stdout",
          "text": [
            "Epoch 1/100\n",
            "70/70 [==============================] - 11s 42ms/step - loss: 0.6903 - val_loss: 0.6951\n",
            "Epoch 2/100\n",
            "70/70 [==============================] - 1s 21ms/step - loss: 0.6860 - val_loss: 0.6952\n",
            "Epoch 3/100\n",
            "70/70 [==============================] - 1s 21ms/step - loss: 0.6861 - val_loss: 0.6953\n",
            "Epoch 4/100\n",
            "70/70 [==============================] - 1s 21ms/step - loss: 0.6847 - val_loss: 0.6966\n",
            "Epoch 5/100\n",
            "70/70 [==============================] - 1s 21ms/step - loss: 0.6846 - val_loss: 0.6963\n",
            "Epoch 6/100\n",
            "70/70 [==============================] - 1s 21ms/step - loss: 0.6839 - val_loss: 0.6964\n",
            "Epoch 6: early stopping\n"
          ]
        },
        {
          "output_type": "execute_result",
          "data": {
            "text/plain": [
              "<keras.callbacks.History at 0x7f8c0ed7d5d0>"
            ]
          },
          "metadata": {},
          "execution_count": 20
        }
      ]
    },
    {
      "cell_type": "code",
      "source": [
        "pd.DataFrame(classifier.history.history).plot()"
      ],
      "metadata": {
        "colab": {
          "base_uri": "https://localhost:8080/",
          "height": 282
        },
        "id": "NO5rkcWaxVSv",
        "outputId": "23509c67-c85c-4257-c6bd-32e162ae924a"
      },
      "execution_count": null,
      "outputs": [
        {
          "output_type": "execute_result",
          "data": {
            "text/plain": [
              "<matplotlib.axes._subplots.AxesSubplot at 0x7f8c0e3bed50>"
            ]
          },
          "metadata": {},
          "execution_count": 22
        },
        {
          "output_type": "display_data",
          "data": {
            "image/png": "[encoded data removed]",
            "text/plain": [
              "<Figure size 432x288 with 1 Axes>"
            ]
          },
          "metadata": {}
        }
      ]
    },
    {
      "cell_type": "code",
      "source": [
        "# Create predictions for the whole dataset\n",
        "y_pred_train = np.concatenate((np.zeros([lag,1]),classifier.predict(X_train_3d)),\n",
        "                                    axis=0)\n",
        "\n",
        "y_pred_test = np.concatenate((np.zeros([lag,1]),classifier.predict(X_test_3d)),\n",
        "                                    axis=0)\n",
        "\n",
        "\n",
        "dfc[\"prediction\"] = np.concatenate((y_pred_train,y_pred_test),\n",
        "                                    axis=0)\n",
        "\n",
        "dfc[\"prediction\"] = np.where(dfc[\"prediction\"] < 0.5, -1,1)\n",
        "\n",
        "# Compute the strategy\n",
        "dfc[\"strategy\"] =  dfc[\"prediction\"].shift(1) * dfc[\"returns\"]"
      ],
      "metadata": {
        "id": "d0Lvlum8MK0F"
      },
      "execution_count": null,
      "outputs": []
    },
    {
      "cell_type": "code",
      "source": [
        "dfc[\"strategy\"].iloc[split:].cumsum().plot()"
      ],
      "metadata": {
        "colab": {
          "base_uri": "https://localhost:8080/",
          "height": 308
        },
        "id": "GwuyitiBMt-3",
        "outputId": "4df496b7-6a53-4a61-8f60-a69109e18aa5"
      },
      "execution_count": null,
      "outputs": [
        {
          "output_type": "execute_result",
          "data": {
            "text/plain": [
              "<matplotlib.axes._subplots.AxesSubplot at 0x7f8c0e35ab90>"
            ]
          },
          "metadata": {},
          "execution_count": 24
        },
        {
          "output_type": "display_data",
          "data": {
            "image/png": "[encoded data removed]",
            "text/plain": [
              "<Figure size 432x288 with 1 Axes>"
            ]
          },
          "metadata": {}
        }
      ]
    },
    {
      "cell_type": "markdown",
      "source": [
        "# Automatization"
      ],
      "metadata": {
        "id": "Ar6RQ-srOa3V"
      }
    },
    {
      "cell_type": "code",
      "source": [
        "def feature_engineering(df):\n",
        "    \"\"\" Create new variables\"\"\"\n",
        "    \n",
        "    # We copy the dataframe to avoid interferences in the data\n",
        "    df_copy = df.copy()\n",
        "    \n",
        "    # Create the returns\n",
        "    df_copy[\"returns\"] = df_copy[\"close\"].pct_change(1)\n",
        "    df_copy[\"dummy\"] = np.round(df_copy[\"returns\"]+0.5)\n",
        "\n",
        "    # Create the SMAs\n",
        "    df_copy[\"SMA 15\"] = df_copy[[\"close\"]].rolling(15).mean().shift(1)\n",
        "    df_copy[\"SMA 60\"] = df_copy[[\"close\"]].rolling(60).mean().shift(1)\n",
        "    \n",
        "    # Create the volatilities\n",
        "    df_copy[\"MSD 10\"] = df_copy[[\"returns\"]].rolling(10).std().shift(1)\n",
        "    df_copy[\"MSD 30\"] = df_copy[[\"returns\"]].rolling(30).std().shift(1)\n",
        "    \n",
        "    # Create the Rsi\n",
        "    RSI = ta.momentum.RSIIndicator(df_copy[\"close\"], window= 14, fillna = False)\n",
        "    df_copy[\"rsi\"] = RSI.rsi().shift(1)\n",
        "    \n",
        "    return df_copy.dropna()\n",
        "\n",
        "def preprocessing_yf(symbol):\n",
        "  \n",
        "  #Import the data\n",
        "  df = yf.download(symbol).dropna()\n",
        "\n",
        "  #Rename\n",
        "  df.columns = [\"open\", \"high\", \"low\", \"close\", \"adj close\", \"volume\"]\n",
        "  df.index.name = \"time\"\n",
        "\n",
        "  # Remove adj close\n",
        "  del df[\"adj close\"]\n",
        "\n",
        "  return df\n",
        "\n",
        "\n",
        "def X_3d_RNN(X_s, y_s, lag):\n",
        "\n",
        "    # Simple verification\n",
        "    if len(X_s) != len(y_s):\n",
        "        print(\"Warnings\")\n",
        "\n",
        "    # Create the X_train\n",
        "    X_train = []\n",
        "    for variable in range(0, X_s.shape[1]):\n",
        "        X = []\n",
        "        for i in range(lag, X_s.shape[0]):\n",
        "            X.append(X_s[i-lag:i, variable])\n",
        "        X_train.append(X)\n",
        "    X_train, np.array(X_train)\n",
        "    X_train = np.swapaxes(np.swapaxes(X_train, 0, 1), 1, 2)\n",
        "\n",
        "    # Create the y_train\n",
        "    y_train = []\n",
        "    for i in range(lag, y_s.shape[0]):\n",
        "        y_train.append(y_s[i, :].reshape(-1,1).transpose())\n",
        "    y_train = np.concatenate(y_train, axis=0)\n",
        "    return X_train, y_train\n",
        "\n",
        "\n",
        "import tensorflow\n",
        "from tensorflow.keras.models import Sequential\n",
        "from tensorflow.keras.layers import Dense, LSTM, Dropout\n",
        "from tensorflow.keras.callbacks import EarlyStopping\n",
        "\n",
        "def RNN(symbol, nb_neurons=10, nb_hidden_layer=1, lag=15, nb_model=None):\n",
        "  \n",
        "  df = yf.download(\"BTC-USD\")[[\"Open\", \"High\", \"Low\", \"Adj Close\", \"Volume\"]]\n",
        "  df.columns = [\"open\", \"high\", \"low\", \"close\", \"volume\"]\n",
        "  dfc = feature_engineering(df)\n",
        "\n",
        "\n",
        "  # Percentage train set\n",
        "  split = int(0.80*len(dfc))\n",
        "  split_val = int(0.90*len(dfc))\n",
        " \n",
        "  # Train set creation\n",
        "  X_train = dfc[['SMA 15', 'SMA 60',\n",
        "        'MSD 10', 'MSD 30', 'rsi']].iloc[:split,:]\n",
        "  y_train = dfc[[\"dummy\"]].iloc[:split]\n",
        "\n",
        "\n",
        "  # Test set creation\n",
        "  X_test = dfc[['SMA 15', 'SMA 60',\n",
        "        'MSD 10', 'MSD 30', 'rsi']].iloc[split:,:]\n",
        "  y_test = dfc[[\"dummy\"]].iloc[split:]\n",
        "\n",
        "  # STANDARDISATION\n",
        "  from sklearn.preprocessing import StandardScaler\n",
        "\n",
        "  sc = StandardScaler()\n",
        "\n",
        "  X_train_sc = sc.fit_transform(X_train)\n",
        "  X_test_sc = sc.transform(X_test)\n",
        "\n",
        "  # Transform 2-dimensional data to 3-dimensional data\n",
        "  X_train_3d, y_train_3d = X_3d_RNN(X_train_sc, y_train.values, lag)\n",
        "  X_test_3d, y_test_3d = X_3d_RNN(X_test_sc, y_test.values, lag)\n",
        "\n",
        "  # INITIALIZATION OF THE MODEL\n",
        "  classifier = Sequential()\n",
        "\n",
        "  # ADD LSTM LAYER\n",
        "  classifier.add(LSTM(units = nb_neurons, return_sequences = True,\n",
        "                      input_shape = (X_train_3d.shape[1],X_train_3d.shape[2],)))\n",
        "\n",
        "\n",
        "  # LOOP WHICH ADD LSTM LAYER\n",
        "  for _ in range(nb_hidden_layer):\n",
        "      classifier.add(LSTM(units = nb_neurons, return_sequences = True))\n",
        "      classifier.add(Dropout(0.20))\n",
        "\n",
        "  # LAST LSTM LAYER BUT WITH return_sequences = False \n",
        "  classifier.add(LSTM(units = nb_neurons, return_sequences = False))\n",
        "\n",
        "\n",
        "  # OUTPUT DENSE LAYER\n",
        "  classifier.add(Dense(1, activation=\"sigmoid\"))\n",
        "\n",
        "  # COMPILE THE MODEL\n",
        "  classifier.compile(loss=\"binary_crossentropy\", optimizer=\"adam\")\n",
        "\n",
        "\n",
        "  # TRAINING\n",
        "  early_stop = EarlyStopping(verbose=1, patience = 5)\n",
        "  classifier.fit(X_train_3d, y_train_3d, validation_data=(X_test_3d, y_test_3d),\n",
        "                 epochs=1, callbacks=[early_stop])\n",
        "  \n",
        "  # Create predictions for the whole dataset\n",
        "  y_pred_train = np.concatenate((np.zeros([lag,1]),classifier.predict(X_train_3d)),\n",
        "                                      axis=0)\n",
        "\n",
        "  y_pred_test = np.concatenate((np.zeros([lag,1]),classifier.predict(X_test_3d)),\n",
        "                                      axis=0)\n",
        "\n",
        "  dfc[\"prediction\"] = np.concatenate((y_pred_train,y_pred_test),\n",
        "                                      axis=0)\n",
        "\n",
        "  dfc[\"prediction\"] = np.where(dfc[\"prediction\"] < 0.5, -1,1)\n",
        "\n",
        "  # Compute the strategy\n",
        "  dfc[\"strategy\"] = np.sign(dfc[\"prediction\"]) * dfc[\"returns\"]\n",
        "\n",
        "  if nb_model!=None:\n",
        "    classifier.save_weights(f\"Weights_RNN/RNN n°{nb_model}\")\n",
        "    return dfc[\"strategy\"].iloc[split+lag:split_val], dfc[\"strategy\"].iloc[split_val:]\n",
        "\n",
        "  else:\n",
        "      return dfc[\"strategy\"].iloc[split+lag:split_val], dfc[\"strategy\"].iloc[split_val:]"
      ],
      "metadata": {
        "id": "VWfaiP-ROeHy"
      },
      "execution_count": null,
      "outputs": []
    },
    {
      "cell_type": "code",
      "source": [
        "sr = RNN(\"BTC-USD\", nb_model=15)\n",
        "\n",
        "sr"
      ],
      "metadata": {
        "colab": {
          "base_uri": "https://localhost:8080/"
        },
        "id": "q0B7OLxOhpl-",
        "outputId": "a1058603-56af-4493-add9-039a0408591f"
      },
      "execution_count": null,
      "outputs": [
        {
          "output_type": "stream",
          "name": "stdout",
          "text": [
            "\r[*********************100%***********************]  1 of 1 completed\n",
            "Epoch 1/100\n",
            "66/66 [==============================] - 9s 43ms/step - loss: 0.6915 - val_loss: 0.6919\n",
            "Epoch 2/100\n",
            "66/66 [==============================] - 1s 21ms/step - loss: 0.6885 - val_loss: 0.6923\n",
            "Epoch 3/100\n",
            "66/66 [==============================] - 1s 22ms/step - loss: 0.6867 - val_loss: 0.6930\n",
            "Epoch 4/100\n",
            "66/66 [==============================] - 1s 21ms/step - loss: 0.6861 - val_loss: 0.6934\n",
            "Epoch 5/100\n",
            "66/66 [==============================] - 1s 21ms/step - loss: 0.6854 - val_loss: 0.6936\n",
            "Epoch 6/100\n",
            "66/66 [==============================] - 1s 21ms/step - loss: 0.6851 - val_loss: 0.6923\n",
            "Epoch 6: early stopping\n"
          ]
        },
        {
          "output_type": "execute_result",
          "data": {
            "text/plain": [
              "(Date\n",
              " 2020-09-20    0.014068\n",
              " 2020-09-21    0.043518\n",
              " 2020-09-22   -0.007283\n",
              " 2020-09-23    0.027734\n",
              " 2020-09-24   -0.050153\n",
              "                 ...   \n",
              " 2021-05-23   -0.073689\n",
              " 2021-05-24    0.113182\n",
              " 2021-05-25   -0.007848\n",
              " 2021-05-26    0.023227\n",
              " 2021-05-27   -0.021816\n",
              " Name: strategy, Length: 250, dtype: float64, Date\n",
              " 2021-05-28   -0.071269\n",
              " 2021-05-29   -0.030297\n",
              " 2021-05-30    0.030681\n",
              " 2021-05-31    0.046379\n",
              " 2021-06-01   -0.017355\n",
              "                 ...   \n",
              " 2022-02-12   -0.003855\n",
              " 2022-02-13   -0.001111\n",
              " 2022-02-14    0.009228\n",
              " 2022-02-15    0.046688\n",
              " 2022-02-16   -0.007493\n",
              " Name: strategy, Length: 265, dtype: float64)"
            ]
          },
          "metadata": {},
          "execution_count": 29
        }
      ]
    },
    {
      "cell_type": "code",
      "source": [
        "# Library to estimate the time until the end of the loop\n",
        "from tqdm import tqdm\n",
        "\n",
        "# Empty lists to contain the returns\n",
        "returns_test = []\n",
        "returns_val = []\n",
        "\n",
        "\n",
        "# Compute the returns during the test and validation periods\n",
        "for i in tqdm(range(100)):\n",
        "  test, val = RNN(\"BTC-USD\", nb_model=i)\n",
        "  returns_test.append(test)\n",
        "  returns_val.append(val)"
      ],
      "metadata": {
        "colab": {
          "base_uri": "https://localhost:8080/",
          "height": 1000
        },
        "id": "FP3Y3TPghrOY",
        "outputId": "4975fe8f-14a2-45e0-9305-484e77d582cc"
      },
      "execution_count": null,
      "outputs": [
        {
          "output_type": "stream",
          "name": "stderr",
          "text": [
            "\r  0%|          | 0/100 [00:00<?, ?it/s]"
          ]
        },
        {
          "output_type": "stream",
          "name": "stdout",
          "text": [
            "[*********************100%***********************]  1 of 1 completed\n",
            "66/66 [==============================] - 9s 42ms/step - loss: 0.6891 - val_loss: 0.6920\n"
          ]
        },
        {
          "output_type": "stream",
          "name": "stderr",
          "text": [
            "\r  1%|          | 1/100 [00:13<22:00, 13.34s/it]"
          ]
        },
        {
          "output_type": "stream",
          "name": "stdout",
          "text": [
            "[*********************100%***********************]  1 of 1 completed\n",
            "66/66 [==============================] - 9s 42ms/step - loss: 0.6885 - val_loss: 0.6925\n"
          ]
        },
        {
          "output_type": "stream",
          "name": "stderr",
          "text": [
            "\r  2%|▏         | 2/100 [00:25<20:51, 12.77s/it]"
          ]
        },
        {
          "output_type": "stream",
          "name": "stdout",
          "text": [
            "[*********************100%***********************]  1 of 1 completed\n",
            "66/66 [==============================] - 9s 45ms/step - loss: 0.6900 - val_loss: 0.6944\n"
          ]
        },
        {
          "output_type": "stream",
          "name": "stderr",
          "text": [
            "\r  3%|▎         | 3/100 [00:39<21:34, 13.35s/it]"
          ]
        },
        {
          "output_type": "stream",
          "name": "stdout",
          "text": [
            "[*********************100%***********************]  1 of 1 completed\n",
            "66/66 [==============================] - 8s 41ms/step - loss: 0.6891 - val_loss: 0.6918\n"
          ]
        },
        {
          "output_type": "stream",
          "name": "stderr",
          "text": [
            "\r  4%|▍         | 4/100 [00:51<20:24, 12.75s/it]"
          ]
        },
        {
          "output_type": "stream",
          "name": "stdout",
          "text": [
            "[*********************100%***********************]  1 of 1 completed\n",
            "66/66 [==============================] - 9s 43ms/step - loss: 0.6888 - val_loss: 0.6943\n"
          ]
        },
        {
          "output_type": "stream",
          "name": "stderr",
          "text": [
            "\r  5%|▌         | 5/100 [01:03<19:37, 12.39s/it]"
          ]
        },
        {
          "output_type": "stream",
          "name": "stdout",
          "text": [
            "[*********************100%***********************]  1 of 1 completed\n",
            "66/66 [==============================] - 10s 43ms/step - loss: 0.6910 - val_loss: 0.6914\n"
          ]
        },
        {
          "output_type": "stream",
          "name": "stderr",
          "text": [
            "\r  6%|▌         | 6/100 [01:15<19:25, 12.39s/it]"
          ]
        },
        {
          "output_type": "stream",
          "name": "stdout",
          "text": [
            "[*********************100%***********************]  1 of 1 completed\n",
            "66/66 [==============================] - 9s 43ms/step - loss: 0.6908 - val_loss: 0.6934\n"
          ]
        },
        {
          "output_type": "stream",
          "name": "stderr",
          "text": [
            "\r  7%|▋         | 7/100 [01:28<19:09, 12.36s/it]"
          ]
        },
        {
          "output_type": "stream",
          "name": "stdout",
          "text": [
            "[*********************100%***********************]  1 of 1 completed\n",
            "66/66 [==============================] - 9s 52ms/step - loss: 0.6913 - val_loss: 0.6903\n"
          ]
        },
        {
          "output_type": "stream",
          "name": "stderr",
          "text": [
            "\r  8%|▊         | 8/100 [01:42<19:56, 13.00s/it]"
          ]
        },
        {
          "output_type": "stream",
          "name": "stdout",
          "text": [
            "[*********************100%***********************]  1 of 1 completed\n",
            "66/66 [==============================] - 8s 42ms/step - loss: 0.6889 - val_loss: 0.6910\n"
          ]
        },
        {
          "output_type": "stream",
          "name": "stderr",
          "text": [
            "\r  9%|▉         | 9/100 [01:53<18:56, 12.49s/it]"
          ]
        },
        {
          "output_type": "stream",
          "name": "stdout",
          "text": [
            "[*********************100%***********************]  1 of 1 completed\n",
            "66/66 [==============================] - 10s 44ms/step - loss: 0.6914 - val_loss: 0.6928\n"
          ]
        },
        {
          "output_type": "stream",
          "name": "stderr",
          "text": [
            "\r 10%|█         | 10/100 [02:08<19:36, 13.07s/it]"
          ]
        },
        {
          "output_type": "stream",
          "name": "stdout",
          "text": [
            "[*********************100%***********************]  1 of 1 completed\n",
            "66/66 [==============================] - 9s 44ms/step - loss: 0.6925 - val_loss: 0.6899\n"
          ]
        },
        {
          "output_type": "stream",
          "name": "stderr",
          "text": [
            "\r 11%|█         | 11/100 [02:20<19:03, 12.85s/it]"
          ]
        },
        {
          "output_type": "stream",
          "name": "stdout",
          "text": [
            "[*********************100%***********************]  1 of 1 completed\n",
            "66/66 [==============================] - 9s 54ms/step - loss: 0.6904 - val_loss: 0.6934\n"
          ]
        },
        {
          "output_type": "stream",
          "name": "stderr",
          "text": [
            "\r 12%|█▏        | 12/100 [02:33<18:58, 12.94s/it]"
          ]
        },
        {
          "output_type": "stream",
          "name": "stdout",
          "text": [
            "[*********************100%***********************]  1 of 1 completed\n",
            "66/66 [==============================] - 9s 43ms/step - loss: 0.6913 - val_loss: 0.6927\n"
          ]
        },
        {
          "output_type": "stream",
          "name": "stderr",
          "text": [
            "\r 13%|█▎        | 13/100 [02:45<18:11, 12.54s/it]"
          ]
        },
        {
          "output_type": "stream",
          "name": "stdout",
          "text": [
            "[*********************100%***********************]  1 of 1 completed\n",
            "66/66 [==============================] - 9s 42ms/step - loss: 0.6898 - val_loss: 0.6914\n"
          ]
        },
        {
          "output_type": "stream",
          "name": "stderr",
          "text": [
            "\r 14%|█▍        | 14/100 [02:59<18:37, 12.99s/it]"
          ]
        },
        {
          "output_type": "stream",
          "name": "stdout",
          "text": [
            "[*********************100%***********************]  1 of 1 completed\n",
            "66/66 [==============================] - 10s 43ms/step - loss: 0.6885 - val_loss: 0.6895\n"
          ]
        },
        {
          "output_type": "stream",
          "name": "stderr",
          "text": [
            "\r 15%|█▌        | 15/100 [03:12<18:35, 13.12s/it]"
          ]
        },
        {
          "output_type": "stream",
          "name": "stdout",
          "text": [
            "[*********************100%***********************]  1 of 1 completed\n",
            "66/66 [==============================] - 10s 44ms/step - loss: 0.6917 - val_loss: 0.6946\n"
          ]
        },
        {
          "output_type": "stream",
          "name": "stderr",
          "text": [
            "\r 16%|█▌        | 16/100 [03:25<18:15, 13.05s/it]"
          ]
        },
        {
          "output_type": "stream",
          "name": "stdout",
          "text": [
            "[*********************100%***********************]  1 of 1 completed\n",
            "66/66 [==============================] - 9s 44ms/step - loss: 0.6895 - val_loss: 0.6923\n"
          ]
        },
        {
          "output_type": "stream",
          "name": "stderr",
          "text": [
            "\r 17%|█▋        | 17/100 [03:39<18:29, 13.37s/it]"
          ]
        },
        {
          "output_type": "stream",
          "name": "stdout",
          "text": [
            "[*********************100%***********************]  1 of 1 completed\n",
            "66/66 [==============================] - 9s 43ms/step - loss: 0.6925 - val_loss: 0.6957\n"
          ]
        },
        {
          "output_type": "stream",
          "name": "stderr",
          "text": [
            "\r 18%|█▊        | 18/100 [03:52<18:13, 13.33s/it]"
          ]
        },
        {
          "output_type": "stream",
          "name": "stdout",
          "text": [
            "[*********************100%***********************]  1 of 1 completed\n",
            "66/66 [==============================] - 10s 43ms/step - loss: 0.6895 - val_loss: 0.6917\n"
          ]
        },
        {
          "output_type": "stream",
          "name": "stderr",
          "text": [
            "\r 19%|█▉        | 19/100 [04:07<18:25, 13.65s/it]"
          ]
        },
        {
          "output_type": "stream",
          "name": "stdout",
          "text": [
            "[*********************100%***********************]  1 of 1 completed\n",
            "66/66 [==============================] - 9s 43ms/step - loss: 0.6892 - val_loss: 0.6949\n"
          ]
        },
        {
          "output_type": "stream",
          "name": "stderr",
          "text": [
            "\r 20%|██        | 20/100 [04:19<17:41, 13.27s/it]"
          ]
        },
        {
          "output_type": "stream",
          "name": "stdout",
          "text": [
            "[*********************100%***********************]  1 of 1 completed\n",
            "66/66 [==============================] - 9s 53ms/step - loss: 0.6918 - val_loss: 0.6905\n"
          ]
        },
        {
          "output_type": "stream",
          "name": "stderr",
          "text": [
            "\r 21%|██        | 21/100 [04:31<17:04, 12.97s/it]"
          ]
        },
        {
          "output_type": "stream",
          "name": "stdout",
          "text": [
            "[*********************100%***********************]  1 of 1 completed\n",
            "66/66 [==============================] - 9s 44ms/step - loss: 0.6900 - val_loss: 0.6930\n"
          ]
        },
        {
          "output_type": "stream",
          "name": "stderr",
          "text": [
            "\r 22%|██▏       | 22/100 [04:43<16:23, 12.61s/it]"
          ]
        },
        {
          "output_type": "stream",
          "name": "stdout",
          "text": [
            "[*********************100%***********************]  1 of 1 completed\n",
            "66/66 [==============================] - 9s 43ms/step - loss: 0.6879 - val_loss: 0.7001\n"
          ]
        },
        {
          "output_type": "stream",
          "name": "stderr",
          "text": [
            "\r 23%|██▎       | 23/100 [04:57<16:41, 13.01s/it]"
          ]
        },
        {
          "output_type": "stream",
          "name": "stdout",
          "text": [
            "[*********************100%***********************]  1 of 1 completed\n",
            "66/66 [==============================] - 9s 42ms/step - loss: 0.6898 - val_loss: 0.6930\n"
          ]
        },
        {
          "output_type": "stream",
          "name": "stderr",
          "text": [
            "\r 24%|██▍       | 24/100 [05:09<16:10, 12.77s/it]"
          ]
        },
        {
          "output_type": "stream",
          "name": "stdout",
          "text": [
            "[*********************100%***********************]  1 of 1 completed\n",
            "66/66 [==============================] - 9s 42ms/step - loss: 0.6888 - val_loss: 0.6957\n"
          ]
        },
        {
          "output_type": "stream",
          "name": "stderr",
          "text": [
            "\r 25%|██▌       | 25/100 [05:23<16:17, 13.03s/it]"
          ]
        },
        {
          "output_type": "stream",
          "name": "stdout",
          "text": [
            "[*********************100%***********************]  1 of 1 completed\n",
            "66/66 [==============================] - 9s 42ms/step - loss: 0.6921 - val_loss: 0.6918\n"
          ]
        },
        {
          "output_type": "stream",
          "name": "stderr",
          "text": [
            "\r 26%|██▌       | 26/100 [05:35<15:43, 12.75s/it]"
          ]
        },
        {
          "output_type": "stream",
          "name": "stdout",
          "text": [
            "[*********************100%***********************]  1 of 1 completed\n",
            "66/66 [==============================] - 9s 43ms/step - loss: 0.6900 - val_loss: 0.6917\n"
          ]
        },
        {
          "output_type": "stream",
          "name": "stderr",
          "text": [
            "\r 27%|██▋       | 27/100 [05:47<15:05, 12.40s/it]"
          ]
        },
        {
          "output_type": "stream",
          "name": "stdout",
          "text": [
            "[*********************100%***********************]  1 of 1 completed\n",
            "66/66 [==============================] - 10s 43ms/step - loss: 0.6910 - val_loss: 0.6955\n"
          ]
        },
        {
          "output_type": "stream",
          "name": "stderr",
          "text": [
            "\r 28%|██▊       | 28/100 [05:59<14:57, 12.46s/it]"
          ]
        },
        {
          "output_type": "stream",
          "name": "stdout",
          "text": [
            "[*********************100%***********************]  1 of 1 completed\n",
            "66/66 [==============================] - 9s 42ms/step - loss: 0.6902 - val_loss: 0.6925\n"
          ]
        },
        {
          "output_type": "stream",
          "name": "stderr",
          "text": [
            "\r 29%|██▉       | 29/100 [06:11<14:37, 12.36s/it]"
          ]
        },
        {
          "output_type": "stream",
          "name": "stdout",
          "text": [
            "[*********************100%***********************]  1 of 1 completed\n",
            "66/66 [==============================] - 8s 41ms/step - loss: 0.6894 - val_loss: 0.6910\n"
          ]
        },
        {
          "output_type": "stream",
          "name": "stderr",
          "text": [
            "\r 30%|███       | 30/100 [06:25<14:51, 12.74s/it]"
          ]
        },
        {
          "output_type": "stream",
          "name": "stdout",
          "text": [
            "[*********************100%***********************]  1 of 1 completed\n",
            "66/66 [==============================] - 9s 43ms/step - loss: 0.6887 - val_loss: 0.6941\n"
          ]
        },
        {
          "output_type": "stream",
          "name": "stderr",
          "text": [
            "\r 31%|███       | 31/100 [06:38<14:47, 12.86s/it]"
          ]
        },
        {
          "output_type": "stream",
          "name": "stdout",
          "text": [
            "[*********************100%***********************]  1 of 1 completed\n",
            "66/66 [==============================] - 9s 43ms/step - loss: 0.6891 - val_loss: 0.6896\n"
          ]
        },
        {
          "output_type": "stream",
          "name": "stderr",
          "text": [
            "\r 32%|███▏      | 32/100 [06:51<14:24, 12.71s/it]"
          ]
        },
        {
          "output_type": "stream",
          "name": "stdout",
          "text": [
            "[*********************100%***********************]  1 of 1 completed\n",
            "66/66 [==============================] - 9s 43ms/step - loss: 0.6912 - val_loss: 0.6900\n"
          ]
        },
        {
          "output_type": "stream",
          "name": "stderr",
          "text": [
            "\r 33%|███▎      | 33/100 [07:04<14:33, 13.03s/it]"
          ]
        },
        {
          "output_type": "stream",
          "name": "stdout",
          "text": [
            "[*********************100%***********************]  1 of 1 completed\n",
            "66/66 [==============================] - 8s 42ms/step - loss: 0.6892 - val_loss: 0.6926\n"
          ]
        },
        {
          "output_type": "stream",
          "name": "stderr",
          "text": [
            "\r 34%|███▍      | 34/100 [07:18<14:30, 13.19s/it]"
          ]
        },
        {
          "output_type": "stream",
          "name": "stdout",
          "text": [
            "[*********************100%***********************]  1 of 1 completed\n",
            "66/66 [==============================] - 8s 43ms/step - loss: 0.6893 - val_loss: 0.6911\n"
          ]
        },
        {
          "output_type": "stream",
          "name": "stderr",
          "text": [
            "\r 35%|███▌      | 35/100 [07:29<13:40, 12.63s/it]"
          ]
        },
        {
          "output_type": "stream",
          "name": "stdout",
          "text": [
            "[*********************100%***********************]  1 of 1 completed\n",
            "66/66 [==============================] - 10s 44ms/step - loss: 0.6891 - val_loss: 0.6969\n"
          ]
        },
        {
          "output_type": "stream",
          "name": "stderr",
          "text": [
            "\r 36%|███▌      | 36/100 [07:42<13:31, 12.68s/it]"
          ]
        },
        {
          "output_type": "stream",
          "name": "stdout",
          "text": [
            "[*********************100%***********************]  1 of 1 completed\n",
            "66/66 [==============================] - 9s 43ms/step - loss: 0.6902 - val_loss: 0.6909\n"
          ]
        },
        {
          "output_type": "stream",
          "name": "stderr",
          "text": [
            "\r 37%|███▋      | 37/100 [07:56<13:42, 13.06s/it]"
          ]
        },
        {
          "output_type": "stream",
          "name": "stdout",
          "text": [
            "[*********************100%***********************]  1 of 1 completed\n",
            "66/66 [==============================] - 8s 42ms/step - loss: 0.6908 - val_loss: 0.6952\n"
          ]
        },
        {
          "output_type": "stream",
          "name": "stderr",
          "text": [
            "\r 38%|███▊      | 38/100 [08:10<13:40, 13.24s/it]"
          ]
        },
        {
          "output_type": "stream",
          "name": "stdout",
          "text": [
            "[*********************100%***********************]  1 of 1 completed\n",
            "66/66 [==============================] - 8s 42ms/step - loss: 0.6927 - val_loss: 0.6909\n"
          ]
        },
        {
          "output_type": "stream",
          "name": "stderr",
          "text": [
            "\r 39%|███▉      | 39/100 [08:21<12:57, 12.75s/it]"
          ]
        },
        {
          "output_type": "stream",
          "name": "stdout",
          "text": [
            "[*********************100%***********************]  1 of 1 completed\n",
            "66/66 [==============================] - 10s 44ms/step - loss: 0.6890 - val_loss: 0.7005\n"
          ]
        },
        {
          "output_type": "stream",
          "name": "stderr",
          "text": [
            "\r 40%|████      | 40/100 [08:35<13:08, 13.15s/it]"
          ]
        },
        {
          "output_type": "stream",
          "name": "stdout",
          "text": [
            "[*********************100%***********************]  1 of 1 completed\n",
            "66/66 [==============================] - 10s 47ms/step - loss: 0.6905 - val_loss: 0.6912\n"
          ]
        },
        {
          "output_type": "stream",
          "name": "stderr",
          "text": [
            "\r 41%|████      | 41/100 [08:49<13:08, 13.37s/it]"
          ]
        },
        {
          "output_type": "stream",
          "name": "stdout",
          "text": [
            "[*********************100%***********************]  1 of 1 completed\n",
            "66/66 [==============================] - 8s 42ms/step - loss: 0.6908 - val_loss: 0.6910\n"
          ]
        },
        {
          "output_type": "stream",
          "name": "stderr",
          "text": [
            "\r 42%|████▏     | 42/100 [09:01<12:28, 12.91s/it]"
          ]
        },
        {
          "output_type": "stream",
          "name": "stdout",
          "text": [
            "[*********************100%***********************]  1 of 1 completed\n",
            "66/66 [==============================] - 8s 42ms/step - loss: 0.6904 - val_loss: 0.6931\n"
          ]
        },
        {
          "output_type": "stream",
          "name": "stderr",
          "text": [
            "\r 43%|████▎     | 43/100 [09:14<12:17, 12.94s/it]"
          ]
        },
        {
          "output_type": "stream",
          "name": "stdout",
          "text": [
            "[*********************100%***********************]  1 of 1 completed\n",
            "66/66 [==============================] - 9s 43ms/step - loss: 0.6914 - val_loss: 0.6966\n"
          ]
        },
        {
          "output_type": "stream",
          "name": "stderr",
          "text": [
            "\r 44%|████▍     | 44/100 [09:27<11:58, 12.83s/it]"
          ]
        },
        {
          "output_type": "stream",
          "name": "stdout",
          "text": [
            "[*********************100%***********************]  1 of 1 completed\n",
            "66/66 [==============================] - 10s 45ms/step - loss: 0.6907 - val_loss: 0.6903\n"
          ]
        },
        {
          "output_type": "stream",
          "name": "stderr",
          "text": [
            "\r 45%|████▌     | 45/100 [09:41<12:06, 13.20s/it]"
          ]
        },
        {
          "output_type": "stream",
          "name": "stdout",
          "text": [
            "[*********************100%***********************]  1 of 1 completed\n",
            "66/66 [==============================] - 8s 42ms/step - loss: 0.6890 - val_loss: 0.7023\n"
          ]
        },
        {
          "output_type": "stream",
          "name": "stderr",
          "text": [
            "\r 46%|████▌     | 46/100 [09:55<12:03, 13.40s/it]"
          ]
        },
        {
          "output_type": "stream",
          "name": "stdout",
          "text": [
            "[*********************100%***********************]  1 of 1 completed\n",
            "66/66 [==============================] - 9s 43ms/step - loss: 0.6881 - val_loss: 0.6933\n"
          ]
        },
        {
          "output_type": "stream",
          "name": "stderr",
          "text": [
            "\r 47%|████▋     | 47/100 [10:08<11:45, 13.30s/it]"
          ]
        },
        {
          "output_type": "stream",
          "name": "stdout",
          "text": [
            "[*********************100%***********************]  1 of 1 completed\n",
            "66/66 [==============================] - 9s 42ms/step - loss: 0.6887 - val_loss: 0.6997\n"
          ]
        },
        {
          "output_type": "stream",
          "name": "stderr",
          "text": [
            "\r 48%|████▊     | 48/100 [10:22<11:41, 13.48s/it]"
          ]
        },
        {
          "output_type": "stream",
          "name": "stdout",
          "text": [
            "[*********************100%***********************]  1 of 1 completed\n",
            "66/66 [==============================] - 9s 43ms/step - loss: 0.6891 - val_loss: 0.6926\n"
          ]
        },
        {
          "output_type": "stream",
          "name": "stderr",
          "text": [
            "\r 49%|████▉     | 49/100 [10:35<11:31, 13.56s/it]"
          ]
        },
        {
          "output_type": "stream",
          "name": "stdout",
          "text": [
            "[*********************100%***********************]  1 of 1 completed\n",
            "66/66 [==============================] - 8s 42ms/step - loss: 0.6900 - val_loss: 0.6938\n"
          ]
        },
        {
          "output_type": "stream",
          "name": "stderr",
          "text": [
            "\r 50%|█████     | 50/100 [10:47<10:56, 13.13s/it]"
          ]
        },
        {
          "output_type": "stream",
          "name": "stdout",
          "text": [
            "[*********************100%***********************]  1 of 1 completed\n",
            "66/66 [==============================] - 8s 43ms/step - loss: 0.6915 - val_loss: 0.6926\n"
          ]
        },
        {
          "output_type": "stream",
          "name": "stderr",
          "text": [
            "\r 51%|█████     | 51/100 [11:00<10:41, 13.08s/it]"
          ]
        },
        {
          "output_type": "stream",
          "name": "stdout",
          "text": [
            "[*********************100%***********************]  1 of 1 completed\n",
            "66/66 [==============================] - 10s 42ms/step - loss: 0.6964 - val_loss: 0.6980\n"
          ]
        },
        {
          "output_type": "stream",
          "name": "stderr",
          "text": [
            "\r 52%|█████▏    | 52/100 [11:15<10:43, 13.40s/it]"
          ]
        },
        {
          "output_type": "stream",
          "name": "stdout",
          "text": [
            "[*********************100%***********************]  1 of 1 completed\n",
            "66/66 [==============================] - ETA: 0s - loss: 0.6925"
          ]
        },
        {
          "output_type": "stream",
          "name": "stderr",
          "text": [
            "\r 52%|█████▏    | 52/100 [11:24<10:32, 13.17s/it]\n"
          ]
        },
        {
          "output_type": "error",
          "ename": "KeyboardInterrupt",
          "evalue": "ignored",
          "traceback": [
            "\u001b[0;31m---------------------------------------------------------------------------\u001b[0m",
            "\u001b[0;31mInvalidArgumentError\u001b[0m                      Traceback (most recent call last)",
            "\u001b[0;32m/usr/local/lib/python3.7/dist-packages/tensorflow/python/framework/ops.py\u001b[0m in \u001b[0;36mget_attr\u001b[0;34m(self, name)\u001b[0m\n\u001b[1;32m   2689\u001b[0m       \u001b[0;32mwith\u001b[0m \u001b[0mc_api_util\u001b[0m\u001b[0;34m.\u001b[0m\u001b[0mtf_buffer\u001b[0m\u001b[0;34m(\u001b[0m\u001b[0;34m)\u001b[0m \u001b[0;32mas\u001b[0m \u001b[0mbuf\u001b[0m\u001b[0;34m:\u001b[0m\u001b[0;34m\u001b[0m\u001b[0;34m\u001b[0m\u001b[0m\n\u001b[0;32m-> 2690\u001b[0;31m         \u001b[0mpywrap_tf_session\u001b[0m\u001b[0;34m.\u001b[0m\u001b[0mTF_OperationGetAttrValueProto\u001b[0m\u001b[0;34m(\u001b[0m\u001b[0mself\u001b[0m\u001b[0;34m.\u001b[0m\u001b[0m_c_op\u001b[0m\u001b[0;34m,\u001b[0m \u001b[0mname\u001b[0m\u001b[0;34m,\u001b[0m \u001b[0mbuf\u001b[0m\u001b[0;34m)\u001b[0m\u001b[0;34m\u001b[0m\u001b[0;34m\u001b[0m\u001b[0m\n\u001b[0m\u001b[1;32m   2691\u001b[0m         \u001b[0mdata\u001b[0m \u001b[0;34m=\u001b[0m \u001b[0mpywrap_tf_session\u001b[0m\u001b[0;34m.\u001b[0m\u001b[0mTF_GetBuffer\u001b[0m\u001b[0;34m(\u001b[0m\u001b[0mbuf\u001b[0m\u001b[0;34m)\u001b[0m\u001b[0;34m\u001b[0m\u001b[0;34m\u001b[0m\u001b[0m\n",
            "\u001b[0;31mInvalidArgumentError\u001b[0m: Operation 'Slice_1/size' has no attr named '_read_only_resource_inputs'.",
            "\nDuring handling of the above exception, another exception occurred:\n",
            "\u001b[0;31mKeyboardInterrupt\u001b[0m                         Traceback (most recent call last)",
            "\u001b[0;32m<ipython-input-31-71e92be234f3>\u001b[0m in \u001b[0;36m<module>\u001b[0;34m()\u001b[0m\n\u001b[1;32m      9\u001b[0m \u001b[0;31m# Compute the returns during the test and validation periods\u001b[0m\u001b[0;34m\u001b[0m\u001b[0;34m\u001b[0m\u001b[0;34m\u001b[0m\u001b[0m\n\u001b[1;32m     10\u001b[0m \u001b[0;32mfor\u001b[0m \u001b[0mi\u001b[0m \u001b[0;32min\u001b[0m \u001b[0mtqdm\u001b[0m\u001b[0;34m(\u001b[0m\u001b[0mrange\u001b[0m\u001b[0;34m(\u001b[0m\u001b[0;36m100\u001b[0m\u001b[0;34m)\u001b[0m\u001b[0;34m)\u001b[0m\u001b[0;34m:\u001b[0m\u001b[0;34m\u001b[0m\u001b[0;34m\u001b[0m\u001b[0m\n\u001b[0;32m---> 11\u001b[0;31m   \u001b[0mtest\u001b[0m\u001b[0;34m,\u001b[0m \u001b[0mval\u001b[0m \u001b[0;34m=\u001b[0m \u001b[0mRNN\u001b[0m\u001b[0;34m(\u001b[0m\u001b[0;34m\"BTC-USD\"\u001b[0m\u001b[0;34m,\u001b[0m \u001b[0mnb_model\u001b[0m\u001b[0;34m=\u001b[0m\u001b[0mi\u001b[0m\u001b[0;34m)\u001b[0m\u001b[0;34m\u001b[0m\u001b[0;34m\u001b[0m\u001b[0m\n\u001b[0m\u001b[1;32m     12\u001b[0m   \u001b[0mreturns_test\u001b[0m\u001b[0;34m.\u001b[0m\u001b[0mappend\u001b[0m\u001b[0;34m(\u001b[0m\u001b[0mtest\u001b[0m\u001b[0;34m)\u001b[0m\u001b[0;34m\u001b[0m\u001b[0;34m\u001b[0m\u001b[0m\n\u001b[1;32m     13\u001b[0m   \u001b[0mreturns_val\u001b[0m\u001b[0;34m.\u001b[0m\u001b[0mappend\u001b[0m\u001b[0;34m(\u001b[0m\u001b[0mval\u001b[0m\u001b[0;34m)\u001b[0m\u001b[0;34m\u001b[0m\u001b[0;34m\u001b[0m\u001b[0m\n",
            "\u001b[0;32m<ipython-input-30-9ddc5b5b08ca>\u001b[0m in \u001b[0;36mRNN\u001b[0;34m(symbol, nb_neurons, nb_hidden_layer, lag, nb_model)\u001b[0m\n\u001b[1;32m    128\u001b[0m   \u001b[0mearly_stop\u001b[0m \u001b[0;34m=\u001b[0m \u001b[0mEarlyStopping\u001b[0m\u001b[0;34m(\u001b[0m\u001b[0mverbose\u001b[0m\u001b[0;34m=\u001b[0m\u001b[0;36m1\u001b[0m\u001b[0;34m,\u001b[0m \u001b[0mpatience\u001b[0m \u001b[0;34m=\u001b[0m \u001b[0;36m5\u001b[0m\u001b[0;34m)\u001b[0m\u001b[0;34m\u001b[0m\u001b[0;34m\u001b[0m\u001b[0m\n\u001b[1;32m    129\u001b[0m   classifier.fit(X_train_3d, y_train_3d, validation_data=(X_test_3d, y_test_3d),\n\u001b[0;32m--> 130\u001b[0;31m                  epochs=1, callbacks=[early_stop])\n\u001b[0m\u001b[1;32m    131\u001b[0m \u001b[0;34m\u001b[0m\u001b[0m\n\u001b[1;32m    132\u001b[0m   \u001b[0;31m# Create predictions for the whole dataset\u001b[0m\u001b[0;34m\u001b[0m\u001b[0;34m\u001b[0m\u001b[0;34m\u001b[0m\u001b[0m\n",
            "\u001b[0;32m/usr/local/lib/python3.7/dist-packages/keras/utils/traceback_utils.py\u001b[0m in \u001b[0;36merror_handler\u001b[0;34m(*args, **kwargs)\u001b[0m\n\u001b[1;32m     62\u001b[0m     \u001b[0mfiltered_tb\u001b[0m \u001b[0;34m=\u001b[0m \u001b[0;32mNone\u001b[0m\u001b[0;34m\u001b[0m\u001b[0;34m\u001b[0m\u001b[0m\n\u001b[1;32m     63\u001b[0m     \u001b[0;32mtry\u001b[0m\u001b[0;34m:\u001b[0m\u001b[0;34m\u001b[0m\u001b[0;34m\u001b[0m\u001b[0m\n\u001b[0;32m---> 64\u001b[0;31m       \u001b[0;32mreturn\u001b[0m \u001b[0mfn\u001b[0m\u001b[0;34m(\u001b[0m\u001b[0;34m*\u001b[0m\u001b[0margs\u001b[0m\u001b[0;34m,\u001b[0m \u001b[0;34m**\u001b[0m\u001b[0mkwargs\u001b[0m\u001b[0;34m)\u001b[0m\u001b[0;34m\u001b[0m\u001b[0;34m\u001b[0m\u001b[0m\n\u001b[0m\u001b[1;32m     65\u001b[0m     \u001b[0;32mexcept\u001b[0m \u001b[0mException\u001b[0m \u001b[0;32mas\u001b[0m \u001b[0me\u001b[0m\u001b[0;34m:\u001b[0m  \u001b[0;31m# pylint: disable=broad-except\u001b[0m\u001b[0;34m\u001b[0m\u001b[0;34m\u001b[0m\u001b[0m\n\u001b[1;32m     66\u001b[0m       \u001b[0mfiltered_tb\u001b[0m \u001b[0;34m=\u001b[0m \u001b[0m_process_traceback_frames\u001b[0m\u001b[0;34m(\u001b[0m\u001b[0me\u001b[0m\u001b[0;34m.\u001b[0m\u001b[0m__traceback__\u001b[0m\u001b[0;34m)\u001b[0m\u001b[0;34m\u001b[0m\u001b[0;34m\u001b[0m\u001b[0m\n",
            "\u001b[0;32m/usr/local/lib/python3.7/dist-packages/keras/engine/training.py\u001b[0m in \u001b[0;36mfit\u001b[0;34m(self, x, y, batch_size, epochs, verbose, callbacks, validation_split, validation_data, shuffle, class_weight, sample_weight, initial_epoch, steps_per_epoch, validation_steps, validation_batch_size, validation_freq, max_queue_size, workers, use_multiprocessing)\u001b[0m\n\u001b[1;32m   1417\u001b[0m                 \u001b[0muse_multiprocessing\u001b[0m\u001b[0;34m=\u001b[0m\u001b[0muse_multiprocessing\u001b[0m\u001b[0;34m,\u001b[0m\u001b[0;34m\u001b[0m\u001b[0;34m\u001b[0m\u001b[0m\n\u001b[1;32m   1418\u001b[0m                 \u001b[0mmodel\u001b[0m\u001b[0;34m=\u001b[0m\u001b[0mself\u001b[0m\u001b[0;34m,\u001b[0m\u001b[0;34m\u001b[0m\u001b[0;34m\u001b[0m\u001b[0m\n\u001b[0;32m-> 1419\u001b[0;31m                 steps_per_execution=self._steps_per_execution)\n\u001b[0m\u001b[1;32m   1420\u001b[0m           val_logs = self.evaluate(\n\u001b[1;32m   1421\u001b[0m               \u001b[0mx\u001b[0m\u001b[0;34m=\u001b[0m\u001b[0mval_x\u001b[0m\u001b[0;34m,\u001b[0m\u001b[0;34m\u001b[0m\u001b[0;34m\u001b[0m\u001b[0m\n",
            "\u001b[0;32m/usr/local/lib/python3.7/dist-packages/keras/engine/data_adapter.py\u001b[0m in \u001b[0;36mget_data_handler\u001b[0;34m(*args, **kwargs)\u001b[0m\n\u001b[1;32m   1397\u001b[0m   \u001b[0;32mif\u001b[0m \u001b[0mgetattr\u001b[0m\u001b[0;34m(\u001b[0m\u001b[0mkwargs\u001b[0m\u001b[0;34m[\u001b[0m\u001b[0;34m\"model\"\u001b[0m\u001b[0;34m]\u001b[0m\u001b[0;34m,\u001b[0m \u001b[0;34m\"_cluster_coordinator\"\u001b[0m\u001b[0;34m,\u001b[0m \u001b[0;32mNone\u001b[0m\u001b[0;34m)\u001b[0m\u001b[0;34m:\u001b[0m\u001b[0;34m\u001b[0m\u001b[0;34m\u001b[0m\u001b[0m\n\u001b[1;32m   1398\u001b[0m     \u001b[0;32mreturn\u001b[0m \u001b[0m_ClusterCoordinatorDataHandler\u001b[0m\u001b[0;34m(\u001b[0m\u001b[0;34m*\u001b[0m\u001b[0margs\u001b[0m\u001b[0;34m,\u001b[0m \u001b[0;34m**\u001b[0m\u001b[0mkwargs\u001b[0m\u001b[0;34m)\u001b[0m\u001b[0;34m\u001b[0m\u001b[0;34m\u001b[0m\u001b[0m\n\u001b[0;32m-> 1399\u001b[0;31m   \u001b[0;32mreturn\u001b[0m \u001b[0mDataHandler\u001b[0m\u001b[0;34m(\u001b[0m\u001b[0;34m*\u001b[0m\u001b[0margs\u001b[0m\u001b[0;34m,\u001b[0m \u001b[0;34m**\u001b[0m\u001b[0mkwargs\u001b[0m\u001b[0;34m)\u001b[0m\u001b[0;34m\u001b[0m\u001b[0;34m\u001b[0m\u001b[0m\n\u001b[0m\u001b[1;32m   1400\u001b[0m \u001b[0;34m\u001b[0m\u001b[0m\n\u001b[1;32m   1401\u001b[0m \u001b[0;34m\u001b[0m\u001b[0m\n",
            "\u001b[0;32m/usr/local/lib/python3.7/dist-packages/keras/engine/data_adapter.py\u001b[0m in \u001b[0;36m__init__\u001b[0;34m(self, x, y, sample_weight, batch_size, steps_per_epoch, initial_epoch, epochs, shuffle, class_weight, max_queue_size, workers, use_multiprocessing, model, steps_per_execution, distribute)\u001b[0m\n\u001b[1;32m   1159\u001b[0m         \u001b[0muse_multiprocessing\u001b[0m\u001b[0;34m=\u001b[0m\u001b[0muse_multiprocessing\u001b[0m\u001b[0;34m,\u001b[0m\u001b[0;34m\u001b[0m\u001b[0;34m\u001b[0m\u001b[0m\n\u001b[1;32m   1160\u001b[0m         \u001b[0mdistribution_strategy\u001b[0m\u001b[0;34m=\u001b[0m\u001b[0mtf\u001b[0m\u001b[0;34m.\u001b[0m\u001b[0mdistribute\u001b[0m\u001b[0;34m.\u001b[0m\u001b[0mget_strategy\u001b[0m\u001b[0;34m(\u001b[0m\u001b[0;34m)\u001b[0m\u001b[0;34m,\u001b[0m\u001b[0;34m\u001b[0m\u001b[0;34m\u001b[0m\u001b[0m\n\u001b[0;32m-> 1161\u001b[0;31m         model=model)\n\u001b[0m\u001b[1;32m   1162\u001b[0m \u001b[0;34m\u001b[0m\u001b[0m\n\u001b[1;32m   1163\u001b[0m     \u001b[0mstrategy\u001b[0m \u001b[0;34m=\u001b[0m \u001b[0mtf\u001b[0m\u001b[0;34m.\u001b[0m\u001b[0mdistribute\u001b[0m\u001b[0;34m.\u001b[0m\u001b[0mget_strategy\u001b[0m\u001b[0;34m(\u001b[0m\u001b[0;34m)\u001b[0m\u001b[0;34m\u001b[0m\u001b[0;34m\u001b[0m\u001b[0m\n",
            "\u001b[0;32m/usr/local/lib/python3.7/dist-packages/keras/engine/data_adapter.py\u001b[0m in \u001b[0;36m__init__\u001b[0;34m(self, x, y, sample_weights, sample_weight_modes, batch_size, epochs, steps, shuffle, **kwargs)\u001b[0m\n\u001b[1;32m    324\u001b[0m       \u001b[0;32mreturn\u001b[0m \u001b[0mflat_dataset\u001b[0m\u001b[0;34m\u001b[0m\u001b[0;34m\u001b[0m\u001b[0m\n\u001b[1;32m    325\u001b[0m \u001b[0;34m\u001b[0m\u001b[0m\n\u001b[0;32m--> 326\u001b[0;31m     \u001b[0mindices_dataset\u001b[0m \u001b[0;34m=\u001b[0m \u001b[0mindices_dataset\u001b[0m\u001b[0;34m.\u001b[0m\u001b[0mflat_map\u001b[0m\u001b[0;34m(\u001b[0m\u001b[0mslice_batch_indices\u001b[0m\u001b[0;34m)\u001b[0m\u001b[0;34m\u001b[0m\u001b[0;34m\u001b[0m\u001b[0m\n\u001b[0m\u001b[1;32m    327\u001b[0m \u001b[0;34m\u001b[0m\u001b[0m\n\u001b[1;32m    328\u001b[0m     \u001b[0mdataset\u001b[0m \u001b[0;34m=\u001b[0m \u001b[0mself\u001b[0m\u001b[0;34m.\u001b[0m\u001b[0mslice_inputs\u001b[0m\u001b[0;34m(\u001b[0m\u001b[0mindices_dataset\u001b[0m\u001b[0;34m,\u001b[0m \u001b[0minputs\u001b[0m\u001b[0;34m)\u001b[0m\u001b[0;34m\u001b[0m\u001b[0;34m\u001b[0m\u001b[0m\n",
            "\u001b[0;32m/usr/local/lib/python3.7/dist-packages/tensorflow/python/data/ops/dataset_ops.py\u001b[0m in \u001b[0;36mflat_map\u001b[0;34m(self, map_func, name)\u001b[0m\n\u001b[1;32m   2058\u001b[0m       \u001b[0mDataset\u001b[0m\u001b[0;34m:\u001b[0m \u001b[0mA\u001b[0m\u001b[0;31m \u001b[0m\u001b[0;31m`\u001b[0m\u001b[0mDataset\u001b[0m\u001b[0;31m`\u001b[0m\u001b[0;34m.\u001b[0m\u001b[0;34m\u001b[0m\u001b[0;34m\u001b[0m\u001b[0m\n\u001b[1;32m   2059\u001b[0m     \"\"\"\n\u001b[0;32m-> 2060\u001b[0;31m     \u001b[0;32mreturn\u001b[0m \u001b[0mFlatMapDataset\u001b[0m\u001b[0;34m(\u001b[0m\u001b[0mself\u001b[0m\u001b[0;34m,\u001b[0m \u001b[0mmap_func\u001b[0m\u001b[0;34m,\u001b[0m \u001b[0mname\u001b[0m\u001b[0;34m=\u001b[0m\u001b[0mname\u001b[0m\u001b[0;34m)\u001b[0m\u001b[0;34m\u001b[0m\u001b[0;34m\u001b[0m\u001b[0m\n\u001b[0m\u001b[1;32m   2061\u001b[0m \u001b[0;34m\u001b[0m\u001b[0m\n\u001b[1;32m   2062\u001b[0m   def interleave(self,\n",
            "\u001b[0;32m/usr/local/lib/python3.7/dist-packages/tensorflow/python/data/ops/dataset_ops.py\u001b[0m in \u001b[0;36m__init__\u001b[0;34m(self, input_dataset, map_func, name)\u001b[0m\n\u001b[1;32m   5278\u001b[0m     \u001b[0mself\u001b[0m\u001b[0;34m.\u001b[0m\u001b[0m_input_dataset\u001b[0m \u001b[0;34m=\u001b[0m \u001b[0minput_dataset\u001b[0m\u001b[0;34m\u001b[0m\u001b[0;34m\u001b[0m\u001b[0m\n\u001b[1;32m   5279\u001b[0m     self._map_func = structured_function.StructuredFunctionWrapper(\n\u001b[0;32m-> 5280\u001b[0;31m         map_func, self._transformation_name(), dataset=input_dataset)\n\u001b[0m\u001b[1;32m   5281\u001b[0m     \u001b[0;32mif\u001b[0m \u001b[0;32mnot\u001b[0m \u001b[0misinstance\u001b[0m\u001b[0;34m(\u001b[0m\u001b[0mself\u001b[0m\u001b[0;34m.\u001b[0m\u001b[0m_map_func\u001b[0m\u001b[0;34m.\u001b[0m\u001b[0moutput_structure\u001b[0m\u001b[0;34m,\u001b[0m \u001b[0mDatasetSpec\u001b[0m\u001b[0;34m)\u001b[0m\u001b[0;34m:\u001b[0m\u001b[0;34m\u001b[0m\u001b[0;34m\u001b[0m\u001b[0m\n\u001b[1;32m   5282\u001b[0m       raise TypeError(\n",
            "\u001b[0;32m/usr/local/lib/python3.7/dist-packages/tensorflow/python/data/ops/structured_function.py\u001b[0m in \u001b[0;36m__init__\u001b[0;34m(self, func, transformation_name, dataset, input_classes, input_shapes, input_types, input_structure, add_to_graph, use_legacy_function, defun_kwargs)\u001b[0m\n\u001b[1;32m    269\u001b[0m         \u001b[0mfn_factory\u001b[0m \u001b[0;34m=\u001b[0m \u001b[0mtrace_tf_function\u001b[0m\u001b[0;34m(\u001b[0m\u001b[0mdefun_kwargs\u001b[0m\u001b[0;34m)\u001b[0m\u001b[0;34m\u001b[0m\u001b[0;34m\u001b[0m\u001b[0m\n\u001b[1;32m    270\u001b[0m \u001b[0;34m\u001b[0m\u001b[0m\n\u001b[0;32m--> 271\u001b[0;31m     \u001b[0mself\u001b[0m\u001b[0;34m.\u001b[0m\u001b[0m_function\u001b[0m \u001b[0;34m=\u001b[0m \u001b[0mfn_factory\u001b[0m\u001b[0;34m(\u001b[0m\u001b[0;34m)\u001b[0m\u001b[0;34m\u001b[0m\u001b[0;34m\u001b[0m\u001b[0m\n\u001b[0m\u001b[1;32m    272\u001b[0m     \u001b[0;31m# There is no graph to add in eager mode.\u001b[0m\u001b[0;34m\u001b[0m\u001b[0;34m\u001b[0m\u001b[0;34m\u001b[0m\u001b[0m\n\u001b[1;32m    273\u001b[0m     \u001b[0madd_to_graph\u001b[0m \u001b[0;34m&=\u001b[0m \u001b[0;32mnot\u001b[0m \u001b[0mcontext\u001b[0m\u001b[0;34m.\u001b[0m\u001b[0mexecuting_eagerly\u001b[0m\u001b[0;34m(\u001b[0m\u001b[0;34m)\u001b[0m\u001b[0;34m\u001b[0m\u001b[0;34m\u001b[0m\u001b[0m\n",
            "\u001b[0;32m/usr/local/lib/python3.7/dist-packages/tensorflow/python/eager/function.py\u001b[0m in \u001b[0;36mget_concrete_function\u001b[0;34m(self, *args, **kwargs)\u001b[0m\n\u001b[1;32m   3069\u001b[0m     \"\"\"\n\u001b[1;32m   3070\u001b[0m     graph_function = self._get_concrete_function_garbage_collected(\n\u001b[0;32m-> 3071\u001b[0;31m         *args, **kwargs)\n\u001b[0m\u001b[1;32m   3072\u001b[0m     \u001b[0mgraph_function\u001b[0m\u001b[0;34m.\u001b[0m\u001b[0m_garbage_collector\u001b[0m\u001b[0;34m.\u001b[0m\u001b[0mrelease\u001b[0m\u001b[0;34m(\u001b[0m\u001b[0;34m)\u001b[0m  \u001b[0;31m# pylint: disable=protected-access\u001b[0m\u001b[0;34m\u001b[0m\u001b[0;34m\u001b[0m\u001b[0m\n\u001b[1;32m   3073\u001b[0m     \u001b[0;32mreturn\u001b[0m \u001b[0mgraph_function\u001b[0m\u001b[0;34m\u001b[0m\u001b[0;34m\u001b[0m\u001b[0m\n",
            "\u001b[0;32m/usr/local/lib/python3.7/dist-packages/tensorflow/python/eager/function.py\u001b[0m in \u001b[0;36m_get_concrete_function_garbage_collected\u001b[0;34m(self, *args, **kwargs)\u001b[0m\n\u001b[1;32m   3034\u001b[0m       \u001b[0margs\u001b[0m\u001b[0;34m,\u001b[0m \u001b[0mkwargs\u001b[0m \u001b[0;34m=\u001b[0m \u001b[0;32mNone\u001b[0m\u001b[0;34m,\u001b[0m \u001b[0;32mNone\u001b[0m\u001b[0;34m\u001b[0m\u001b[0;34m\u001b[0m\u001b[0m\n\u001b[1;32m   3035\u001b[0m     \u001b[0;32mwith\u001b[0m \u001b[0mself\u001b[0m\u001b[0;34m.\u001b[0m\u001b[0m_lock\u001b[0m\u001b[0;34m:\u001b[0m\u001b[0;34m\u001b[0m\u001b[0;34m\u001b[0m\u001b[0m\n\u001b[0;32m-> 3036\u001b[0;31m       \u001b[0mgraph_function\u001b[0m\u001b[0;34m,\u001b[0m \u001b[0m_\u001b[0m \u001b[0;34m=\u001b[0m \u001b[0mself\u001b[0m\u001b[0;34m.\u001b[0m\u001b[0m_maybe_define_function\u001b[0m\u001b[0;34m(\u001b[0m\u001b[0margs\u001b[0m\u001b[0;34m,\u001b[0m \u001b[0mkwargs\u001b[0m\u001b[0;34m)\u001b[0m\u001b[0;34m\u001b[0m\u001b[0;34m\u001b[0m\u001b[0m\n\u001b[0m\u001b[1;32m   3037\u001b[0m       \u001b[0mseen_names\u001b[0m \u001b[0;34m=\u001b[0m \u001b[0mset\u001b[0m\u001b[0;34m(\u001b[0m\u001b[0;34m)\u001b[0m\u001b[0;34m\u001b[0m\u001b[0;34m\u001b[0m\u001b[0m\n\u001b[1;32m   3038\u001b[0m       captured = object_identity.ObjectIdentitySet(\n",
            "\u001b[0;32m/usr/local/lib/python3.7/dist-packages/tensorflow/python/eager/function.py\u001b[0m in \u001b[0;36m_maybe_define_function\u001b[0;34m(self, args, kwargs)\u001b[0m\n\u001b[1;32m   3290\u001b[0m \u001b[0;34m\u001b[0m\u001b[0m\n\u001b[1;32m   3291\u001b[0m           \u001b[0mself\u001b[0m\u001b[0;34m.\u001b[0m\u001b[0m_function_cache\u001b[0m\u001b[0;34m.\u001b[0m\u001b[0madd_call_context\u001b[0m\u001b[0;34m(\u001b[0m\u001b[0mcache_key\u001b[0m\u001b[0;34m.\u001b[0m\u001b[0mcall_context\u001b[0m\u001b[0;34m)\u001b[0m\u001b[0;34m\u001b[0m\u001b[0;34m\u001b[0m\u001b[0m\n\u001b[0;32m-> 3292\u001b[0;31m           \u001b[0mgraph_function\u001b[0m \u001b[0;34m=\u001b[0m \u001b[0mself\u001b[0m\u001b[0;34m.\u001b[0m\u001b[0m_create_graph_function\u001b[0m\u001b[0;34m(\u001b[0m\u001b[0margs\u001b[0m\u001b[0;34m,\u001b[0m \u001b[0mkwargs\u001b[0m\u001b[0;34m)\u001b[0m\u001b[0;34m\u001b[0m\u001b[0;34m\u001b[0m\u001b[0m\n\u001b[0m\u001b[1;32m   3293\u001b[0m           self._function_cache.add(cache_key, cache_key_deletion_observer,\n\u001b[1;32m   3294\u001b[0m                                    graph_function)\n",
            "\u001b[0;32m/usr/local/lib/python3.7/dist-packages/tensorflow/python/eager/function.py\u001b[0m in \u001b[0;36m_create_graph_function\u001b[0;34m(self, args, kwargs, override_flat_arg_shapes)\u001b[0m\n\u001b[1;32m   3138\u001b[0m             \u001b[0marg_names\u001b[0m\u001b[0;34m=\u001b[0m\u001b[0marg_names\u001b[0m\u001b[0;34m,\u001b[0m\u001b[0;34m\u001b[0m\u001b[0;34m\u001b[0m\u001b[0m\n\u001b[1;32m   3139\u001b[0m             \u001b[0moverride_flat_arg_shapes\u001b[0m\u001b[0;34m=\u001b[0m\u001b[0moverride_flat_arg_shapes\u001b[0m\u001b[0;34m,\u001b[0m\u001b[0;34m\u001b[0m\u001b[0;34m\u001b[0m\u001b[0m\n\u001b[0;32m-> 3140\u001b[0;31m             capture_by_value=self._capture_by_value),\n\u001b[0m\u001b[1;32m   3141\u001b[0m         \u001b[0mself\u001b[0m\u001b[0;34m.\u001b[0m\u001b[0m_function_attributes\u001b[0m\u001b[0;34m,\u001b[0m\u001b[0;34m\u001b[0m\u001b[0;34m\u001b[0m\u001b[0m\n\u001b[1;32m   3142\u001b[0m         \u001b[0mfunction_spec\u001b[0m\u001b[0;34m=\u001b[0m\u001b[0mself\u001b[0m\u001b[0;34m.\u001b[0m\u001b[0mfunction_spec\u001b[0m\u001b[0;34m,\u001b[0m\u001b[0;34m\u001b[0m\u001b[0;34m\u001b[0m\u001b[0m\n",
            "\u001b[0;32m/usr/local/lib/python3.7/dist-packages/tensorflow/python/framework/func_graph.py\u001b[0m in \u001b[0;36mfunc_graph_from_py_func\u001b[0;34m(name, python_func, args, kwargs, signature, func_graph, autograph, autograph_options, add_control_dependencies, arg_names, op_return_value, collections, capture_by_value, override_flat_arg_shapes, acd_record_initial_resource_uses)\u001b[0m\n\u001b[1;32m   1200\u001b[0m         if x is not None)\n\u001b[1;32m   1201\u001b[0m \u001b[0;34m\u001b[0m\u001b[0m\n\u001b[0;32m-> 1202\u001b[0;31m     \u001b[0mfunc_graph\u001b[0m\u001b[0;34m.\u001b[0m\u001b[0mvariables\u001b[0m \u001b[0;34m=\u001b[0m \u001b[0mvariables\u001b[0m\u001b[0;34m\u001b[0m\u001b[0;34m\u001b[0m\u001b[0m\n\u001b[0m\u001b[1;32m   1203\u001b[0m \u001b[0;34m\u001b[0m\u001b[0m\n\u001b[1;32m   1204\u001b[0m   \u001b[0;32mif\u001b[0m \u001b[0madd_control_dependencies\u001b[0m\u001b[0;34m:\u001b[0m\u001b[0;34m\u001b[0m\u001b[0;34m\u001b[0m\u001b[0m\n",
            "\u001b[0;32m/usr/local/lib/python3.7/dist-packages/tensorflow/python/framework/auto_control_deps.py\u001b[0m in \u001b[0;36m__exit__\u001b[0;34m(self, unused_type, unused_value, unused_traceback)\u001b[0m\n\u001b[1;32m    463\u001b[0m       \u001b[0;31m# Check for any resource inputs. If we find any, we update control_inputs\u001b[0m\u001b[0;34m\u001b[0m\u001b[0;34m\u001b[0m\u001b[0;34m\u001b[0m\u001b[0m\n\u001b[1;32m    464\u001b[0m       \u001b[0;31m# and last_write_to_resource.\u001b[0m\u001b[0;34m\u001b[0m\u001b[0;34m\u001b[0m\u001b[0;34m\u001b[0m\u001b[0m\n\u001b[0;32m--> 465\u001b[0;31m       \u001b[0;32mfor\u001b[0m \u001b[0minp\u001b[0m\u001b[0;34m,\u001b[0m \u001b[0mresource_type\u001b[0m \u001b[0;32min\u001b[0m \u001b[0m_get_resource_inputs\u001b[0m\u001b[0;34m(\u001b[0m\u001b[0mop\u001b[0m\u001b[0;34m)\u001b[0m\u001b[0;34m:\u001b[0m\u001b[0;34m\u001b[0m\u001b[0;34m\u001b[0m\u001b[0m\n\u001b[0m\u001b[1;32m    466\u001b[0m         \u001b[0mis_read\u001b[0m \u001b[0;34m=\u001b[0m \u001b[0mresource_type\u001b[0m \u001b[0;34m==\u001b[0m \u001b[0mResourceType\u001b[0m\u001b[0;34m.\u001b[0m\u001b[0mREAD_ONLY\u001b[0m\u001b[0;34m\u001b[0m\u001b[0;34m\u001b[0m\u001b[0m\n\u001b[1;32m    467\u001b[0m         \u001b[0minput_id\u001b[0m \u001b[0;34m=\u001b[0m \u001b[0mops\u001b[0m\u001b[0;34m.\u001b[0m\u001b[0mtensor_id\u001b[0m\u001b[0;34m(\u001b[0m\u001b[0minp\u001b[0m\u001b[0;34m)\u001b[0m\u001b[0;34m\u001b[0m\u001b[0;34m\u001b[0m\u001b[0m\n",
            "\u001b[0;32m/usr/local/lib/python3.7/dist-packages/tensorflow/python/framework/auto_control_deps.py\u001b[0m in \u001b[0;36m_get_resource_inputs\u001b[0;34m(op)\u001b[0m\n\u001b[1;32m    661\u001b[0m \u001b[0;32mdef\u001b[0m \u001b[0m_get_resource_inputs\u001b[0m\u001b[0;34m(\u001b[0m\u001b[0mop\u001b[0m\u001b[0;34m)\u001b[0m\u001b[0;34m:\u001b[0m\u001b[0;34m\u001b[0m\u001b[0;34m\u001b[0m\u001b[0m\n\u001b[1;32m    662\u001b[0m   \u001b[0;34m\"\"\"Returns an iterable of resources touched by this `op`.\"\"\"\u001b[0m\u001b[0;34m\u001b[0m\u001b[0;34m\u001b[0m\u001b[0m\n\u001b[0;32m--> 663\u001b[0;31m   \u001b[0mreads\u001b[0m\u001b[0;34m,\u001b[0m \u001b[0mwrites\u001b[0m \u001b[0;34m=\u001b[0m \u001b[0mutils\u001b[0m\u001b[0;34m.\u001b[0m\u001b[0mget_read_write_resource_inputs\u001b[0m\u001b[0;34m(\u001b[0m\u001b[0mop\u001b[0m\u001b[0;34m)\u001b[0m\u001b[0;34m\u001b[0m\u001b[0;34m\u001b[0m\u001b[0m\n\u001b[0m\u001b[1;32m    664\u001b[0m   \u001b[0msaturated\u001b[0m \u001b[0;34m=\u001b[0m \u001b[0;32mFalse\u001b[0m\u001b[0;34m\u001b[0m\u001b[0;34m\u001b[0m\u001b[0m\n\u001b[1;32m    665\u001b[0m   \u001b[0;32mwhile\u001b[0m \u001b[0;32mnot\u001b[0m \u001b[0msaturated\u001b[0m\u001b[0;34m:\u001b[0m\u001b[0;34m\u001b[0m\u001b[0;34m\u001b[0m\u001b[0m\n",
            "\u001b[0;32m/usr/local/lib/python3.7/dist-packages/tensorflow/python/framework/auto_control_deps_utils.py\u001b[0m in \u001b[0;36mget_read_write_resource_inputs\u001b[0;34m(op)\u001b[0m\n\u001b[1;32m    103\u001b[0m \u001b[0;34m\u001b[0m\u001b[0m\n\u001b[1;32m    104\u001b[0m   \u001b[0;32mtry\u001b[0m\u001b[0;34m:\u001b[0m\u001b[0;34m\u001b[0m\u001b[0;34m\u001b[0m\u001b[0m\n\u001b[0;32m--> 105\u001b[0;31m     \u001b[0mread_only_input_indices\u001b[0m \u001b[0;34m=\u001b[0m \u001b[0mop\u001b[0m\u001b[0;34m.\u001b[0m\u001b[0mget_attr\u001b[0m\u001b[0;34m(\u001b[0m\u001b[0mREAD_ONLY_RESOURCE_INPUTS_ATTR\u001b[0m\u001b[0;34m)\u001b[0m\u001b[0;34m\u001b[0m\u001b[0;34m\u001b[0m\u001b[0m\n\u001b[0m\u001b[1;32m    106\u001b[0m   \u001b[0;32mexcept\u001b[0m \u001b[0mValueError\u001b[0m\u001b[0;34m:\u001b[0m\u001b[0;34m\u001b[0m\u001b[0;34m\u001b[0m\u001b[0m\n\u001b[1;32m    107\u001b[0m     \u001b[0;31m# Attr was not set. Add all resource inputs to `writes` and return.\u001b[0m\u001b[0;34m\u001b[0m\u001b[0;34m\u001b[0m\u001b[0;34m\u001b[0m\u001b[0m\n",
            "\u001b[0;32m/usr/local/lib/python3.7/dist-packages/tensorflow/python/framework/ops.py\u001b[0m in \u001b[0;36mget_attr\u001b[0;34m(self, name)\u001b[0m\n\u001b[1;32m   2688\u001b[0m     \u001b[0;32mtry\u001b[0m\u001b[0;34m:\u001b[0m\u001b[0;34m\u001b[0m\u001b[0;34m\u001b[0m\u001b[0m\n\u001b[1;32m   2689\u001b[0m       \u001b[0;32mwith\u001b[0m \u001b[0mc_api_util\u001b[0m\u001b[0;34m.\u001b[0m\u001b[0mtf_buffer\u001b[0m\u001b[0;34m(\u001b[0m\u001b[0;34m)\u001b[0m \u001b[0;32mas\u001b[0m \u001b[0mbuf\u001b[0m\u001b[0;34m:\u001b[0m\u001b[0;34m\u001b[0m\u001b[0;34m\u001b[0m\u001b[0m\n\u001b[0;32m-> 2690\u001b[0;31m         \u001b[0mpywrap_tf_session\u001b[0m\u001b[0;34m.\u001b[0m\u001b[0mTF_OperationGetAttrValueProto\u001b[0m\u001b[0;34m(\u001b[0m\u001b[0mself\u001b[0m\u001b[0;34m.\u001b[0m\u001b[0m_c_op\u001b[0m\u001b[0;34m,\u001b[0m \u001b[0mname\u001b[0m\u001b[0;34m,\u001b[0m \u001b[0mbuf\u001b[0m\u001b[0;34m)\u001b[0m\u001b[0;34m\u001b[0m\u001b[0;34m\u001b[0m\u001b[0m\n\u001b[0m\u001b[1;32m   2691\u001b[0m         \u001b[0mdata\u001b[0m \u001b[0;34m=\u001b[0m \u001b[0mpywrap_tf_session\u001b[0m\u001b[0;34m.\u001b[0m\u001b[0mTF_GetBuffer\u001b[0m\u001b[0;34m(\u001b[0m\u001b[0mbuf\u001b[0m\u001b[0;34m)\u001b[0m\u001b[0;34m\u001b[0m\u001b[0;34m\u001b[0m\u001b[0m\n\u001b[1;32m   2692\u001b[0m     \u001b[0;32mexcept\u001b[0m \u001b[0merrors\u001b[0m\u001b[0;34m.\u001b[0m\u001b[0mInvalidArgumentError\u001b[0m \u001b[0;32mas\u001b[0m \u001b[0me\u001b[0m\u001b[0;34m:\u001b[0m\u001b[0;34m\u001b[0m\u001b[0;34m\u001b[0m\u001b[0m\n",
            "\u001b[0;31mKeyboardInterrupt\u001b[0m: "
          ]
        }
      ]
    },
    {
      "cell_type": "code",
      "source": [
        "\"\"\" IT IS NOT A MONTE CARLO SIMULATION \"\"\"\n",
        "\n",
        "# Organize well all the data\n",
        "RNN_returns = pd.DataFrame(returns_test, index=[f\"RNN n°{i}\" for i in range(len(returns_test))]).transpose()\n",
        "\n",
        "# Adapt the size of the graph\n",
        "plt.figure(figsize=(15,8))\n",
        "\n",
        "# Plot the returns\n",
        "plt.plot(RNN_returns.cumsum(axis=0), alpha=0.6)\n",
        "\n",
        "# Plot break-even line\n",
        "plt.axhline(0, color=\"red\")\n",
        "\n",
        "# show the graph\n",
        "plt.show()"
      ],
      "metadata": {
        "colab": {
          "base_uri": "https://localhost:8080/",
          "height": 483
        },
        "id": "IB78j0o4j2z4",
        "outputId": "eb3d37d0-f947-461c-9066-85d736b15a1a"
      },
      "execution_count": null,
      "outputs": [
        {
          "output_type": "display_data",
          "data": {
            "image/png": "[encoded data removed]",
            "text/plain": [
              "<Figure size 1080x576 with 1 Axes>"
            ]
          },
          "metadata": {}
        }
      ]
    },
    {
      "cell_type": "markdown",
      "source": [
        "# Create a criterion"
      ],
      "metadata": {
        "id": "B5YXcySfPEJd"
      }
    },
    {
      "cell_type": "code",
      "source": [
        "def drawdown_function(serie):\n",
        "\n",
        "  # We compute Cumsum of the returns\n",
        "  cum = serie.dropna().cumsum() + 1\n",
        "\n",
        "  # We compute max of the cumsum on the period (accumulate max) # (1,3,5,3,1) --> (1,3,5,5,5)\n",
        "  running_max = np.maximum.accumulate(cum)\n",
        "\n",
        "  # We compute drawdown\n",
        "  drawdown = cum/running_max - 1\n",
        "  return drawdown"
      ],
      "metadata": {
        "id": "LSXyw4mE66vv"
      },
      "execution_count": null,
      "outputs": []
    },
    {
      "cell_type": "code",
      "source": [
        "# Create empty dataframe\n",
        "values = pd.DataFrame(index=[\"ret/dd\", \"ret\", \"dd\"])\n",
        "\n",
        "# Compute return and max drawdawn for each ANN\n",
        "for col in RNN_returns.columns:\n",
        "\n",
        "  # Compute the returns and the max drawdown for one ANN\n",
        "  ret, dd = RNN_returns[col].cumsum().iloc[-1], -np.min(drawdown_function(RNN_returns[col]))\n",
        "\n",
        "  # Create a column containing the ret/dd ratio, the returns and the drawdown\n",
        "  values[col] = ret/dd, ret, dd"
      ],
      "metadata": {
        "id": "KNGgNN4M7WGE"
      },
      "execution_count": null,
      "outputs": []
    },
    {
      "cell_type": "code",
      "source": [
        "values.transpose().sort_values(by=\"ret/dd\", ascending=False)"
      ],
      "metadata": {
        "colab": {
          "base_uri": "https://localhost:8080/",
          "height": 1000
        },
        "id": "Pvd2sEWj7nJq",
        "outputId": "75e1d128-e57c-4d75-caf0-cf0959496f5e"
      },
      "execution_count": null,
      "outputs": [
        {
          "output_type": "execute_result",
          "data": {
            "text/html": [
              "\n",
              "  <div id=\"df-d981ce8e-9d78-45ac-a0a4-11393f908e7e\">\n",
              "    <div class=\"colab-df-container\">\n",
              "      <div>\n",
              "<style scoped>\n",
              "    .dataframe tbody tr th:only-of-type {\n",
              "        vertical-align: middle;\n",
              "    }\n",
              "\n",
              "    .dataframe tbody tr th {\n",
              "        vertical-align: top;\n",
              "    }\n",
              "\n",
              "    .dataframe thead th {\n",
              "        text-align: right;\n",
              "    }\n",
              "</style>\n",
              "<table border=\"1\" class=\"dataframe\">\n",
              "  <thead>\n",
              "    <tr style=\"text-align: right;\">\n",
              "      <th></th>\n",
              "      <th>ret/dd</th>\n",
              "      <th>ret</th>\n",
              "      <th>dd</th>\n",
              "    </tr>\n",
              "  </thead>\n",
              "  <tbody>\n",
              "    <tr>\n",
              "      <th>RNN n°31</th>\n",
              "      <td>19.943383</td>\n",
              "      <td>2.232328</td>\n",
              "      <td>0.111933</td>\n",
              "    </tr>\n",
              "    <tr>\n",
              "      <th>RNN n°34</th>\n",
              "      <td>14.942743</td>\n",
              "      <td>1.672590</td>\n",
              "      <td>0.111933</td>\n",
              "    </tr>\n",
              "    <tr>\n",
              "      <th>RNN n°3</th>\n",
              "      <td>9.720222</td>\n",
              "      <td>1.594739</td>\n",
              "      <td>0.164064</td>\n",
              "    </tr>\n",
              "    <tr>\n",
              "      <th>RNN n°23</th>\n",
              "      <td>9.110240</td>\n",
              "      <td>1.622201</td>\n",
              "      <td>0.178063</td>\n",
              "    </tr>\n",
              "    <tr>\n",
              "      <th>RNN n°36</th>\n",
              "      <td>7.818727</td>\n",
              "      <td>1.466737</td>\n",
              "      <td>0.187593</td>\n",
              "    </tr>\n",
              "    <tr>\n",
              "      <th>RNN n°13</th>\n",
              "      <td>7.813835</td>\n",
              "      <td>1.466127</td>\n",
              "      <td>0.187632</td>\n",
              "    </tr>\n",
              "    <tr>\n",
              "      <th>RNN n°27</th>\n",
              "      <td>7.813835</td>\n",
              "      <td>1.466127</td>\n",
              "      <td>0.187632</td>\n",
              "    </tr>\n",
              "    <tr>\n",
              "      <th>RNN n°43</th>\n",
              "      <td>7.813835</td>\n",
              "      <td>1.466127</td>\n",
              "      <td>0.187632</td>\n",
              "    </tr>\n",
              "    <tr>\n",
              "      <th>RNN n°28</th>\n",
              "      <td>7.813835</td>\n",
              "      <td>1.466127</td>\n",
              "      <td>0.187632</td>\n",
              "    </tr>\n",
              "    <tr>\n",
              "      <th>RNN n°29</th>\n",
              "      <td>7.813835</td>\n",
              "      <td>1.466127</td>\n",
              "      <td>0.187632</td>\n",
              "    </tr>\n",
              "    <tr>\n",
              "      <th>RNN n°33</th>\n",
              "      <td>7.813835</td>\n",
              "      <td>1.466127</td>\n",
              "      <td>0.187632</td>\n",
              "    </tr>\n",
              "    <tr>\n",
              "      <th>RNN n°14</th>\n",
              "      <td>7.813835</td>\n",
              "      <td>1.466127</td>\n",
              "      <td>0.187632</td>\n",
              "    </tr>\n",
              "    <tr>\n",
              "      <th>RNN n°21</th>\n",
              "      <td>7.813835</td>\n",
              "      <td>1.466127</td>\n",
              "      <td>0.187632</td>\n",
              "    </tr>\n",
              "    <tr>\n",
              "      <th>RNN n°1</th>\n",
              "      <td>7.813835</td>\n",
              "      <td>1.466127</td>\n",
              "      <td>0.187632</td>\n",
              "    </tr>\n",
              "    <tr>\n",
              "      <th>RNN n°11</th>\n",
              "      <td>7.813835</td>\n",
              "      <td>1.466127</td>\n",
              "      <td>0.187632</td>\n",
              "    </tr>\n",
              "    <tr>\n",
              "      <th>RNN n°10</th>\n",
              "      <td>7.813835</td>\n",
              "      <td>1.466127</td>\n",
              "      <td>0.187632</td>\n",
              "    </tr>\n",
              "    <tr>\n",
              "      <th>RNN n°9</th>\n",
              "      <td>7.813835</td>\n",
              "      <td>1.466127</td>\n",
              "      <td>0.187632</td>\n",
              "    </tr>\n",
              "    <tr>\n",
              "      <th>RNN n°8</th>\n",
              "      <td>7.813835</td>\n",
              "      <td>1.466127</td>\n",
              "      <td>0.187632</td>\n",
              "    </tr>\n",
              "    <tr>\n",
              "      <th>RNN n°7</th>\n",
              "      <td>7.813835</td>\n",
              "      <td>1.466127</td>\n",
              "      <td>0.187632</td>\n",
              "    </tr>\n",
              "    <tr>\n",
              "      <th>RNN n°44</th>\n",
              "      <td>7.813835</td>\n",
              "      <td>1.466127</td>\n",
              "      <td>0.187632</td>\n",
              "    </tr>\n",
              "    <tr>\n",
              "      <th>RNN n°5</th>\n",
              "      <td>7.813835</td>\n",
              "      <td>1.466127</td>\n",
              "      <td>0.187632</td>\n",
              "    </tr>\n",
              "    <tr>\n",
              "      <th>RNN n°40</th>\n",
              "      <td>7.813835</td>\n",
              "      <td>1.466127</td>\n",
              "      <td>0.187632</td>\n",
              "    </tr>\n",
              "    <tr>\n",
              "      <th>RNN n°41</th>\n",
              "      <td>7.813835</td>\n",
              "      <td>1.466127</td>\n",
              "      <td>0.187632</td>\n",
              "    </tr>\n",
              "    <tr>\n",
              "      <th>RNN n°38</th>\n",
              "      <td>7.448361</td>\n",
              "      <td>1.420072</td>\n",
              "      <td>0.190656</td>\n",
              "    </tr>\n",
              "    <tr>\n",
              "      <th>RNN n°26</th>\n",
              "      <td>7.346534</td>\n",
              "      <td>1.411330</td>\n",
              "      <td>0.192108</td>\n",
              "    </tr>\n",
              "    <tr>\n",
              "      <th>RNN n°48</th>\n",
              "      <td>7.280375</td>\n",
              "      <td>1.398567</td>\n",
              "      <td>0.192101</td>\n",
              "    </tr>\n",
              "    <tr>\n",
              "      <th>RNN n°50</th>\n",
              "      <td>7.190229</td>\n",
              "      <td>1.386936</td>\n",
              "      <td>0.192892</td>\n",
              "    </tr>\n",
              "    <tr>\n",
              "      <th>RNN n°18</th>\n",
              "      <td>7.111161</td>\n",
              "      <td>1.376681</td>\n",
              "      <td>0.193594</td>\n",
              "    </tr>\n",
              "    <tr>\n",
              "      <th>RNN n°20</th>\n",
              "      <td>4.752059</td>\n",
              "      <td>1.248205</td>\n",
              "      <td>0.262666</td>\n",
              "    </tr>\n",
              "    <tr>\n",
              "      <th>RNN n°24</th>\n",
              "      <td>4.278878</td>\n",
              "      <td>1.038030</td>\n",
              "      <td>0.242594</td>\n",
              "    </tr>\n",
              "    <tr>\n",
              "      <th>RNN n°6</th>\n",
              "      <td>3.498573</td>\n",
              "      <td>0.837703</td>\n",
              "      <td>0.239441</td>\n",
              "    </tr>\n",
              "    <tr>\n",
              "      <th>RNN n°32</th>\n",
              "      <td>2.431175</td>\n",
              "      <td>0.913949</td>\n",
              "      <td>0.375929</td>\n",
              "    </tr>\n",
              "    <tr>\n",
              "      <th>RNN n°25</th>\n",
              "      <td>2.181675</td>\n",
              "      <td>0.865164</td>\n",
              "      <td>0.396559</td>\n",
              "    </tr>\n",
              "    <tr>\n",
              "      <th>RNN n°16</th>\n",
              "      <td>2.067519</td>\n",
              "      <td>0.695109</td>\n",
              "      <td>0.336204</td>\n",
              "    </tr>\n",
              "    <tr>\n",
              "      <th>RNN n°49</th>\n",
              "      <td>2.035411</td>\n",
              "      <td>0.833992</td>\n",
              "      <td>0.409741</td>\n",
              "    </tr>\n",
              "    <tr>\n",
              "      <th>RNN n°12</th>\n",
              "      <td>1.328897</td>\n",
              "      <td>0.568748</td>\n",
              "      <td>0.427985</td>\n",
              "    </tr>\n",
              "    <tr>\n",
              "      <th>RNN n°17</th>\n",
              "      <td>1.288321</td>\n",
              "      <td>0.542820</td>\n",
              "      <td>0.421339</td>\n",
              "    </tr>\n",
              "    <tr>\n",
              "      <th>RNN n°2</th>\n",
              "      <td>-0.044507</td>\n",
              "      <td>-0.028565</td>\n",
              "      <td>0.641803</td>\n",
              "    </tr>\n",
              "    <tr>\n",
              "      <th>RNN n°19</th>\n",
              "      <td>-0.120400</td>\n",
              "      <td>-0.084500</td>\n",
              "      <td>0.701831</td>\n",
              "    </tr>\n",
              "    <tr>\n",
              "      <th>RNN n°46</th>\n",
              "      <td>-0.178467</td>\n",
              "      <td>-0.119894</td>\n",
              "      <td>0.671801</td>\n",
              "    </tr>\n",
              "    <tr>\n",
              "      <th>RNN n°15</th>\n",
              "      <td>-0.193798</td>\n",
              "      <td>-0.149274</td>\n",
              "      <td>0.770252</td>\n",
              "    </tr>\n",
              "    <tr>\n",
              "      <th>RNN n°42</th>\n",
              "      <td>-0.226357</td>\n",
              "      <td>-0.164525</td>\n",
              "      <td>0.726837</td>\n",
              "    </tr>\n",
              "    <tr>\n",
              "      <th>RNN n°47</th>\n",
              "      <td>-0.408704</td>\n",
              "      <td>-0.355697</td>\n",
              "      <td>0.870305</td>\n",
              "    </tr>\n",
              "    <tr>\n",
              "      <th>RNN n°0</th>\n",
              "      <td>-0.411073</td>\n",
              "      <td>-0.269530</td>\n",
              "      <td>0.655673</td>\n",
              "    </tr>\n",
              "    <tr>\n",
              "      <th>RNN n°22</th>\n",
              "      <td>-0.507494</td>\n",
              "      <td>-0.413985</td>\n",
              "      <td>0.815745</td>\n",
              "    </tr>\n",
              "    <tr>\n",
              "      <th>RNN n°4</th>\n",
              "      <td>-0.663268</td>\n",
              "      <td>-1.096623</td>\n",
              "      <td>1.653362</td>\n",
              "    </tr>\n",
              "    <tr>\n",
              "      <th>RNN n°37</th>\n",
              "      <td>-0.696433</td>\n",
              "      <td>-0.983714</td>\n",
              "      <td>1.412502</td>\n",
              "    </tr>\n",
              "    <tr>\n",
              "      <th>RNN n°39</th>\n",
              "      <td>-0.797300</td>\n",
              "      <td>-1.466127</td>\n",
              "      <td>1.838865</td>\n",
              "    </tr>\n",
              "    <tr>\n",
              "      <th>RNN n°45</th>\n",
              "      <td>-0.797300</td>\n",
              "      <td>-1.466127</td>\n",
              "      <td>1.838865</td>\n",
              "    </tr>\n",
              "    <tr>\n",
              "      <th>RNN n°35</th>\n",
              "      <td>-0.797300</td>\n",
              "      <td>-1.466127</td>\n",
              "      <td>1.838865</td>\n",
              "    </tr>\n",
              "    <tr>\n",
              "      <th>RNN n°51</th>\n",
              "      <td>-0.797300</td>\n",
              "      <td>-1.466127</td>\n",
              "      <td>1.838865</td>\n",
              "    </tr>\n",
              "    <tr>\n",
              "      <th>RNN n°30</th>\n",
              "      <td>-0.952741</td>\n",
              "      <td>-1.142019</td>\n",
              "      <td>1.198667</td>\n",
              "    </tr>\n",
              "  </tbody>\n",
              "</table>\n",
              "</div>\n",
              "      <button class=\"colab-df-convert\" onclick=\"convertToInteractive('df-d981ce8e-9d78-45ac-a0a4-11393f908e7e')\"\n",
              "              title=\"Convert this dataframe to an interactive table.\"\n",
              "              style=\"display:none;\">\n",
              "        \n",
              "  <svg xmlns=\"http://www.w3.org/2000/svg\" height=\"24px\"viewBox=\"0 0 24 24\"\n",
              "       width=\"24px\">\n",
              "    <path d=\"M0 0h24v24H0V0z\" fill=\"none\"/>\n",
              "    <path d=\"M18.56 5.44l.94 2.06.94-2.06 2.06-.94-2.06-.94-.94-2.06-.94 2.06-2.06.94zm-11 1L8.5 8.5l.94-2.06 2.06-.94-2.06-.94L8.5 2.5l-.94 2.06-2.06.94zm10 10l.94 2.06.94-2.06 2.06-.94-2.06-.94-.94-2.06-.94 2.06-2.06.94z\"/><path d=\"M17.41 7.96l-1.37-1.37c-.4-.4-.92-.59-1.43-.59-.52 0-1.04.2-1.43.59L10.3 9.45l-7.72 7.72c-.78.78-.78 2.05 0 2.83L4 21.41c.39.39.9.59 1.41.59.51 0 1.02-.2 1.41-.59l7.78-7.78 2.81-2.81c.8-.78.8-2.07 0-2.86zM5.41 20L4 18.59l7.72-7.72 1.47 1.35L5.41 20z\"/>\n",
              "  </svg>\n",
              "      </button>\n",
              "      \n",
              "  <style>\n",
              "    .colab-df-container {\n",
              "      display:flex;\n",
              "      flex-wrap:wrap;\n",
              "      gap: 12px;\n",
              "    }\n",
              "\n",
              "    .colab-df-convert {\n",
              "      background-color: #E8F0FE;\n",
              "      border: none;\n",
              "      border-radius: 50%;\n",
              "      cursor: pointer;\n",
              "      display: none;\n",
              "      fill: #1967D2;\n",
              "      height: 32px;\n",
              "      padding: 0 0 0 0;\n",
              "      width: 32px;\n",
              "    }\n",
              "\n",
              "    .colab-df-convert:hover {\n",
              "      background-color: #E2EBFA;\n",
              "      box-shadow: 0px 1px 2px rgba(60, 64, 67, 0.3), 0px 1px 3px 1px rgba(60, 64, 67, 0.15);\n",
              "      fill: #174EA6;\n",
              "    }\n",
              "\n",
              "    [theme=dark] .colab-df-convert {\n",
              "      background-color: #3B4455;\n",
              "      fill: #D2E3FC;\n",
              "    }\n",
              "\n",
              "    [theme=dark] .colab-df-convert:hover {\n",
              "      background-color: #434B5C;\n",
              "      box-shadow: 0px 1px 3px 1px rgba(0, 0, 0, 0.15);\n",
              "      filter: drop-shadow(0px 1px 2px rgba(0, 0, 0, 0.3));\n",
              "      fill: #FFFFFF;\n",
              "    }\n",
              "  </style>\n",
              "\n",
              "      <script>\n",
              "        const buttonEl =\n",
              "          document.querySelector('#df-d981ce8e-9d78-45ac-a0a4-11393f908e7e button.colab-df-convert');\n",
              "        buttonEl.style.display =\n",
              "          google.colab.kernel.accessAllowed ? 'block' : 'none';\n",
              "\n",
              "        async function convertToInteractive(key) {\n",
              "          const element = document.querySelector('#df-d981ce8e-9d78-45ac-a0a4-11393f908e7e');\n",
              "          const dataTable =\n",
              "            await google.colab.kernel.invokeFunction('convertToInteractive',\n",
              "                                                     [key], {});\n",
              "          if (!dataTable) return;\n",
              "\n",
              "          const docLinkHtml = 'Like what you see? Visit the ' +\n",
              "            '<a target=\"_blank\" href=https://colab.research.google.com/notebooks/data_table.ipynb>data table notebook</a>'\n",
              "            + ' to learn more about interactive tables.';\n",
              "          element.innerHTML = '';\n",
              "          dataTable['output_type'] = 'display_data';\n",
              "          await google.colab.output.renderOutput(dataTable, element);\n",
              "          const docLink = document.createElement('div');\n",
              "          docLink.innerHTML = docLinkHtml;\n",
              "          element.appendChild(docLink);\n",
              "        }\n",
              "      </script>\n",
              "    </div>\n",
              "  </div>\n",
              "  "
            ],
            "text/plain": [
              "             ret/dd       ret        dd\n",
              "RNN n°31  19.943383  2.232328  0.111933\n",
              "RNN n°34  14.942743  1.672590  0.111933\n",
              "RNN n°3    9.720222  1.594739  0.164064\n",
              "RNN n°23   9.110240  1.622201  0.178063\n",
              "RNN n°36   7.818727  1.466737  0.187593\n",
              "RNN n°13   7.813835  1.466127  0.187632\n",
              "RNN n°27   7.813835  1.466127  0.187632\n",
              "RNN n°43   7.813835  1.466127  0.187632\n",
              "RNN n°28   7.813835  1.466127  0.187632\n",
              "RNN n°29   7.813835  1.466127  0.187632\n",
              "RNN n°33   7.813835  1.466127  0.187632\n",
              "RNN n°14   7.813835  1.466127  0.187632\n",
              "RNN n°21   7.813835  1.466127  0.187632\n",
              "RNN n°1    7.813835  1.466127  0.187632\n",
              "RNN n°11   7.813835  1.466127  0.187632\n",
              "RNN n°10   7.813835  1.466127  0.187632\n",
              "RNN n°9    7.813835  1.466127  0.187632\n",
              "RNN n°8    7.813835  1.466127  0.187632\n",
              "RNN n°7    7.813835  1.466127  0.187632\n",
              "RNN n°44   7.813835  1.466127  0.187632\n",
              "RNN n°5    7.813835  1.466127  0.187632\n",
              "RNN n°40   7.813835  1.466127  0.187632\n",
              "RNN n°41   7.813835  1.466127  0.187632\n",
              "RNN n°38   7.448361  1.420072  0.190656\n",
              "RNN n°26   7.346534  1.411330  0.192108\n",
              "RNN n°48   7.280375  1.398567  0.192101\n",
              "RNN n°50   7.190229  1.386936  0.192892\n",
              "RNN n°18   7.111161  1.376681  0.193594\n",
              "RNN n°20   4.752059  1.248205  0.262666\n",
              "RNN n°24   4.278878  1.038030  0.242594\n",
              "RNN n°6    3.498573  0.837703  0.239441\n",
              "RNN n°32   2.431175  0.913949  0.375929\n",
              "RNN n°25   2.181675  0.865164  0.396559\n",
              "RNN n°16   2.067519  0.695109  0.336204\n",
              "RNN n°49   2.035411  0.833992  0.409741\n",
              "RNN n°12   1.328897  0.568748  0.427985\n",
              "RNN n°17   1.288321  0.542820  0.421339\n",
              "RNN n°2   -0.044507 -0.028565  0.641803\n",
              "RNN n°19  -0.120400 -0.084500  0.701831\n",
              "RNN n°46  -0.178467 -0.119894  0.671801\n",
              "RNN n°15  -0.193798 -0.149274  0.770252\n",
              "RNN n°42  -0.226357 -0.164525  0.726837\n",
              "RNN n°47  -0.408704 -0.355697  0.870305\n",
              "RNN n°0   -0.411073 -0.269530  0.655673\n",
              "RNN n°22  -0.507494 -0.413985  0.815745\n",
              "RNN n°4   -0.663268 -1.096623  1.653362\n",
              "RNN n°37  -0.696433 -0.983714  1.412502\n",
              "RNN n°39  -0.797300 -1.466127  1.838865\n",
              "RNN n°45  -0.797300 -1.466127  1.838865\n",
              "RNN n°35  -0.797300 -1.466127  1.838865\n",
              "RNN n°51  -0.797300 -1.466127  1.838865\n",
              "RNN n°30  -0.952741 -1.142019  1.198667"
            ]
          },
          "metadata": {},
          "execution_count": 36
        }
      ]
    },
    {
      "cell_type": "code",
      "source": [
        "RNN_models = list(values.transpose().sort_values(by=\"ret/dd\", ascending=False).index[0:3])"
      ],
      "metadata": {
        "id": "fQn4I6LS8gtm"
      },
      "execution_count": null,
      "outputs": []
    },
    {
      "cell_type": "code",
      "source": [
        "RNN_models"
      ],
      "metadata": {
        "id": "cwa9i5LHRXJr",
        "colab": {
          "base_uri": "https://localhost:8080/"
        },
        "outputId": "f6b0ac51-9d6a-4971-f286-0f12c4d4e826"
      },
      "execution_count": null,
      "outputs": [
        {
          "output_type": "execute_result",
          "data": {
            "text/plain": [
              "['RNN n°31', 'RNN n°34', 'RNN n°3']"
            ]
          },
          "metadata": {},
          "execution_count": 73
        }
      ]
    },
    {
      "cell_type": "code",
      "source": [
        "\"\"\" Use the 3best models on the test set to trade on the validation set\"\"\"\n",
        "\n",
        "# Organize the data \n",
        "RNN_val = pd.DataFrame(returns_val, index=[f\"RNN n°{i}\" for i in range(len(returns_val))]).transpose()\n",
        "\n",
        "# Adapt the size\n",
        "plt.figure(figsize=(15,8))\n",
        "\n",
        "# Plot the portfolio method containing the 10 best strategies\n",
        "plt.plot(RNN_val[RNN_models].cumsum(axis=0), alpha=0.6)\n",
        "\n",
        "plt.axhline(0, color=\"red\")"
      ],
      "metadata": {
        "colab": {
          "base_uri": "https://localhost:8080/",
          "height": 500
        },
        "id": "4iSUePucB3uA",
        "outputId": "6ec7db97-1e15-445c-f3ef-4e1d0e729064"
      },
      "execution_count": null,
      "outputs": [
        {
          "output_type": "execute_result",
          "data": {
            "text/plain": [
              "<matplotlib.lines.Line2D at 0x7f8c094a5d50>"
            ]
          },
          "metadata": {},
          "execution_count": 74
        },
        {
          "output_type": "display_data",
          "data": {
            "image/png": "[encoded data removed]",
            "text/plain": [
              "<Figure size 1080x576 with 1 Axes>"
            ]
          },
          "metadata": {}
        }
      ]
    },
    {
      "cell_type": "code",
      "source": [
        "\"\"\" Use the 3best models on the test set to trade on the test set\"\"\"\n",
        "\n",
        "# Organize the data \n",
        "RNN_val = pd.DataFrame(returns_val, index=[f\"RNN n°{i}\" for i in range(len(returns_val))]).transpose()\n",
        "\n",
        "# Adapt the size\n",
        "plt.figure(figsize=(15,8))\n",
        "\n",
        "# Plot the portfolio method containing the 10 best strategies\n",
        "plt.plot(RNN_returns[RNN_models].cumsum(axis=0), alpha=0.6)\n",
        "\n",
        "plt.axhline(0, color=\"red\")"
      ],
      "metadata": {
        "colab": {
          "base_uri": "https://localhost:8080/",
          "height": 500
        },
        "id": "Uva1iVxy9OcR",
        "outputId": "6ffd3c9e-41d0-4b5c-a397-138c11277a67"
      },
      "execution_count": null,
      "outputs": [
        {
          "output_type": "execute_result",
          "data": {
            "text/plain": [
              "<matplotlib.lines.Line2D at 0x7f8c0de02790>"
            ]
          },
          "metadata": {},
          "execution_count": 66
        },
        {
          "output_type": "display_data",
          "data": {
            "image/png": "[encoded data removed]",
            "text/plain": [
              "<Figure size 1080x576 with 1 Axes>"
            ]
          },
          "metadata": {}
        }
      ]
    },
    {
      "cell_type": "markdown",
      "source": [
        "# Bagging method"
      ],
      "metadata": {
        "id": "ZVixDG3Y4hwR"
      }
    },
    {
      "cell_type": "code",
      "source": [
        "def RNN_weights():\n",
        "  # INITIALIZATION OF THE MODEL\n",
        "  classifier = Sequential()\n",
        "\n",
        "  # ADD LSTM LAYER\n",
        "  classifier.add(LSTM(units = 10, return_sequences = True,\n",
        "                      input_shape = (X_train_3d.shape[1],X_train_3d.shape[2],)))\n",
        "\n",
        "\n",
        "  # LOOP WHICH ADD LSTM LAYER\n",
        "  for _ in range(1):\n",
        "      classifier.add(LSTM(units = 10, return_sequences = True))\n",
        "      classifier.add(Dropout(0.50))\n",
        "\n",
        "  # LAST LSTM LAYER BUT WITH return_sequences = False \n",
        "  classifier.add(LSTM(units = 10, return_sequences = False))\n",
        "\n",
        "\n",
        "  # OUTPUT DENSE LAYER\n",
        "  classifier.add(Dense(1, activation=\"sigmoid\"))\n",
        "\n",
        "  # COMPILE THE MODEL\n",
        "  classifier.compile(loss=\"binary_crossentropy\", optimizer=\"adam\")\n",
        "\n",
        "  return classifier"
      ],
      "metadata": {
        "id": "d8a_rdPOOqg7"
      },
      "execution_count": null,
      "outputs": []
    },
    {
      "cell_type": "code",
      "source": [
        "# Create empty dataframe\n",
        "prediction = pd.DataFrame(index = dfc.index)\n",
        "for nb in RNN_models:\n",
        "\n",
        "  # Create ANN structure\n",
        "  rnn = RNN_weights()\n",
        "\n",
        "  # Import trained weights\n",
        "  rnn.load_weights(f\"Weights_RNN/{nb}\")\n",
        "\n",
        "  # Create predictions for the whole dataset\n",
        "  \n",
        "  y_pred_train = np.concatenate((np.zeros([lag,1]),rnn.predict(X_train_3d)),\n",
        "                                    axis=0)\n",
        "\n",
        "  y_pred_test = np.concatenate((np.zeros([lag,1]),rnn.predict(X_test_3d)),\n",
        "                                    axis=0)\n",
        "\n",
        "\n",
        "  pre = np.concatenate((y_pred_train,y_pred_test),\n",
        "                                    axis=0)\n",
        "\n",
        "  prediction[f\"{nb}\"] = pre\n",
        "prediction"
      ],
      "metadata": {
        "colab": {
          "base_uri": "https://localhost:8080/",
          "height": 980
        },
        "id": "kzxvOQq0Pwpf",
        "outputId": "1eb63d3d-7743-4d12-e527-070bd17e3c7d"
      },
      "execution_count": null,
      "outputs": [
        {
          "output_type": "stream",
          "name": "stdout",
          "text": [
            "WARNING:tensorflow:Detecting that an object or model or tf.train.Checkpoint is being deleted with unrestored values. See the following logs for the specific values in question. To silence these warnings, use `status.expect_partial()`. See https://www.tensorflow.org/api_docs/python/tf/train/Checkpoint#restorefor details about the status object returned by the restore function.\n",
            "WARNING:tensorflow:Value in checkpoint could not be found in the restored object: (root).optimizer.iter\n",
            "WARNING:tensorflow:Value in checkpoint could not be found in the restored object: (root).optimizer.beta_1\n",
            "WARNING:tensorflow:Value in checkpoint could not be found in the restored object: (root).optimizer.beta_2\n",
            "WARNING:tensorflow:Value in checkpoint could not be found in the restored object: (root).optimizer.decay\n",
            "WARNING:tensorflow:Value in checkpoint could not be found in the restored object: (root).optimizer.learning_rate\n",
            "WARNING:tensorflow:Detecting that an object or model or tf.train.Checkpoint is being deleted with unrestored values. See the following logs for the specific values in question. To silence these warnings, use `status.expect_partial()`. See https://www.tensorflow.org/api_docs/python/tf/train/Checkpoint#restorefor details about the status object returned by the restore function.\n",
            "WARNING:tensorflow:Value in checkpoint could not be found in the restored object: (root).optimizer.iter\n",
            "WARNING:tensorflow:Value in checkpoint could not be found in the restored object: (root).optimizer.beta_1\n",
            "WARNING:tensorflow:Value in checkpoint could not be found in the restored object: (root).optimizer.beta_2\n",
            "WARNING:tensorflow:Value in checkpoint could not be found in the restored object: (root).optimizer.decay\n",
            "WARNING:tensorflow:Value in checkpoint could not be found in the restored object: (root).optimizer.learning_rate\n",
            "WARNING:tensorflow:Detecting that an object or model or tf.train.Checkpoint is being deleted with unrestored values. See the following logs for the specific values in question. To silence these warnings, use `status.expect_partial()`. See https://www.tensorflow.org/api_docs/python/tf/train/Checkpoint#restorefor details about the status object returned by the restore function.\n",
            "WARNING:tensorflow:Value in checkpoint could not be found in the restored object: (root).optimizer.iter\n",
            "WARNING:tensorflow:Value in checkpoint could not be found in the restored object: (root).optimizer.beta_1\n",
            "WARNING:tensorflow:Value in checkpoint could not be found in the restored object: (root).optimizer.beta_2\n",
            "WARNING:tensorflow:Value in checkpoint could not be found in the restored object: (root).optimizer.decay\n",
            "WARNING:tensorflow:Value in checkpoint could not be found in the restored object: (root).optimizer.learning_rate\n",
            "WARNING:tensorflow:Detecting that an object or model or tf.train.Checkpoint is being deleted with unrestored values. See the following logs for the specific values in question. To silence these warnings, use `status.expect_partial()`. See https://www.tensorflow.org/api_docs/python/tf/train/Checkpoint#restorefor details about the status object returned by the restore function.\n",
            "WARNING:tensorflow:Value in checkpoint could not be found in the restored object: (root).optimizer.iter\n",
            "WARNING:tensorflow:Value in checkpoint could not be found in the restored object: (root).optimizer.beta_1\n",
            "WARNING:tensorflow:Value in checkpoint could not be found in the restored object: (root).optimizer.beta_2\n",
            "WARNING:tensorflow:Value in checkpoint could not be found in the restored object: (root).optimizer.decay\n",
            "WARNING:tensorflow:Value in checkpoint could not be found in the restored object: (root).optimizer.learning_rate\n",
            "WARNING:tensorflow:Detecting that an object or model or tf.train.Checkpoint is being deleted with unrestored values. See the following logs for the specific values in question. To silence these warnings, use `status.expect_partial()`. See https://www.tensorflow.org/api_docs/python/tf/train/Checkpoint#restorefor details about the status object returned by the restore function.\n",
            "WARNING:tensorflow:Value in checkpoint could not be found in the restored object: (root).optimizer.iter\n",
            "WARNING:tensorflow:Value in checkpoint could not be found in the restored object: (root).optimizer.beta_1\n",
            "WARNING:tensorflow:Value in checkpoint could not be found in the restored object: (root).optimizer.beta_2\n",
            "WARNING:tensorflow:Value in checkpoint could not be found in the restored object: (root).optimizer.decay\n",
            "WARNING:tensorflow:Value in checkpoint could not be found in the restored object: (root).optimizer.learning_rate\n"
          ]
        },
        {
          "output_type": "execute_result",
          "data": {
            "text/html": [
              "\n",
              "  <div id=\"df-0476095e-d757-4f53-91a3-1cf249957fd3\">\n",
              "    <div class=\"colab-df-container\">\n",
              "      <div>\n",
              "<style scoped>\n",
              "    .dataframe tbody tr th:only-of-type {\n",
              "        vertical-align: middle;\n",
              "    }\n",
              "\n",
              "    .dataframe tbody tr th {\n",
              "        vertical-align: top;\n",
              "    }\n",
              "\n",
              "    .dataframe thead th {\n",
              "        text-align: right;\n",
              "    }\n",
              "</style>\n",
              "<table border=\"1\" class=\"dataframe\">\n",
              "  <thead>\n",
              "    <tr style=\"text-align: right;\">\n",
              "      <th></th>\n",
              "      <th>RNN n°31</th>\n",
              "      <th>RNN n°34</th>\n",
              "      <th>RNN n°3</th>\n",
              "    </tr>\n",
              "    <tr>\n",
              "      <th>time</th>\n",
              "      <th></th>\n",
              "      <th></th>\n",
              "      <th></th>\n",
              "    </tr>\n",
              "  </thead>\n",
              "  <tbody>\n",
              "    <tr>\n",
              "      <th>2014-11-16</th>\n",
              "      <td>0.000000</td>\n",
              "      <td>0.000000</td>\n",
              "      <td>0.000000</td>\n",
              "    </tr>\n",
              "    <tr>\n",
              "      <th>2014-11-17</th>\n",
              "      <td>0.000000</td>\n",
              "      <td>0.000000</td>\n",
              "      <td>0.000000</td>\n",
              "    </tr>\n",
              "    <tr>\n",
              "      <th>2014-11-18</th>\n",
              "      <td>0.000000</td>\n",
              "      <td>0.000000</td>\n",
              "      <td>0.000000</td>\n",
              "    </tr>\n",
              "    <tr>\n",
              "      <th>2014-11-19</th>\n",
              "      <td>0.000000</td>\n",
              "      <td>0.000000</td>\n",
              "      <td>0.000000</td>\n",
              "    </tr>\n",
              "    <tr>\n",
              "      <th>2014-11-20</th>\n",
              "      <td>0.000000</td>\n",
              "      <td>0.000000</td>\n",
              "      <td>0.000000</td>\n",
              "    </tr>\n",
              "    <tr>\n",
              "      <th>...</th>\n",
              "      <td>...</td>\n",
              "      <td>...</td>\n",
              "      <td>...</td>\n",
              "    </tr>\n",
              "    <tr>\n",
              "      <th>2022-02-12</th>\n",
              "      <td>0.492287</td>\n",
              "      <td>0.519987</td>\n",
              "      <td>0.497671</td>\n",
              "    </tr>\n",
              "    <tr>\n",
              "      <th>2022-02-13</th>\n",
              "      <td>0.492768</td>\n",
              "      <td>0.522389</td>\n",
              "      <td>0.497467</td>\n",
              "    </tr>\n",
              "    <tr>\n",
              "      <th>2022-02-14</th>\n",
              "      <td>0.493456</td>\n",
              "      <td>0.524009</td>\n",
              "      <td>0.497351</td>\n",
              "    </tr>\n",
              "    <tr>\n",
              "      <th>2022-02-15</th>\n",
              "      <td>0.494437</td>\n",
              "      <td>0.525106</td>\n",
              "      <td>0.497286</td>\n",
              "    </tr>\n",
              "    <tr>\n",
              "      <th>2022-02-16</th>\n",
              "      <td>0.495660</td>\n",
              "      <td>0.525887</td>\n",
              "      <td>0.497402</td>\n",
              "    </tr>\n",
              "  </tbody>\n",
              "</table>\n",
              "<p>2650 rows × 3 columns</p>\n",
              "</div>\n",
              "      <button class=\"colab-df-convert\" onclick=\"convertToInteractive('df-0476095e-d757-4f53-91a3-1cf249957fd3')\"\n",
              "              title=\"Convert this dataframe to an interactive table.\"\n",
              "              style=\"display:none;\">\n",
              "        \n",
              "  <svg xmlns=\"http://www.w3.org/2000/svg\" height=\"24px\"viewBox=\"0 0 24 24\"\n",
              "       width=\"24px\">\n",
              "    <path d=\"M0 0h24v24H0V0z\" fill=\"none\"/>\n",
              "    <path d=\"M18.56 5.44l.94 2.06.94-2.06 2.06-.94-2.06-.94-.94-2.06-.94 2.06-2.06.94zm-11 1L8.5 8.5l.94-2.06 2.06-.94-2.06-.94L8.5 2.5l-.94 2.06-2.06.94zm10 10l.94 2.06.94-2.06 2.06-.94-2.06-.94-.94-2.06-.94 2.06-2.06.94z\"/><path d=\"M17.41 7.96l-1.37-1.37c-.4-.4-.92-.59-1.43-.59-.52 0-1.04.2-1.43.59L10.3 9.45l-7.72 7.72c-.78.78-.78 2.05 0 2.83L4 21.41c.39.39.9.59 1.41.59.51 0 1.02-.2 1.41-.59l7.78-7.78 2.81-2.81c.8-.78.8-2.07 0-2.86zM5.41 20L4 18.59l7.72-7.72 1.47 1.35L5.41 20z\"/>\n",
              "  </svg>\n",
              "      </button>\n",
              "      \n",
              "  <style>\n",
              "    .colab-df-container {\n",
              "      display:flex;\n",
              "      flex-wrap:wrap;\n",
              "      gap: 12px;\n",
              "    }\n",
              "\n",
              "    .colab-df-convert {\n",
              "      background-color: #E8F0FE;\n",
              "      border: none;\n",
              "      border-radius: 50%;\n",
              "      cursor: pointer;\n",
              "      display: none;\n",
              "      fill: #1967D2;\n",
              "      height: 32px;\n",
              "      padding: 0 0 0 0;\n",
              "      width: 32px;\n",
              "    }\n",
              "\n",
              "    .colab-df-convert:hover {\n",
              "      background-color: #E2EBFA;\n",
              "      box-shadow: 0px 1px 2px rgba(60, 64, 67, 0.3), 0px 1px 3px 1px rgba(60, 64, 67, 0.15);\n",
              "      fill: #174EA6;\n",
              "    }\n",
              "\n",
              "    [theme=dark] .colab-df-convert {\n",
              "      background-color: #3B4455;\n",
              "      fill: #D2E3FC;\n",
              "    }\n",
              "\n",
              "    [theme=dark] .colab-df-convert:hover {\n",
              "      background-color: #434B5C;\n",
              "      box-shadow: 0px 1px 3px 1px rgba(0, 0, 0, 0.15);\n",
              "      filter: drop-shadow(0px 1px 2px rgba(0, 0, 0, 0.3));\n",
              "      fill: #FFFFFF;\n",
              "    }\n",
              "  </style>\n",
              "\n",
              "      <script>\n",
              "        const buttonEl =\n",
              "          document.querySelector('#df-0476095e-d757-4f53-91a3-1cf249957fd3 button.colab-df-convert');\n",
              "        buttonEl.style.display =\n",
              "          google.colab.kernel.accessAllowed ? 'block' : 'none';\n",
              "\n",
              "        async function convertToInteractive(key) {\n",
              "          const element = document.querySelector('#df-0476095e-d757-4f53-91a3-1cf249957fd3');\n",
              "          const dataTable =\n",
              "            await google.colab.kernel.invokeFunction('convertToInteractive',\n",
              "                                                     [key], {});\n",
              "          if (!dataTable) return;\n",
              "\n",
              "          const docLinkHtml = 'Like what you see? Visit the ' +\n",
              "            '<a target=\"_blank\" href=https://colab.research.google.com/notebooks/data_table.ipynb>data table notebook</a>'\n",
              "            + ' to learn more about interactive tables.';\n",
              "          element.innerHTML = '';\n",
              "          dataTable['output_type'] = 'display_data';\n",
              "          await google.colab.output.renderOutput(dataTable, element);\n",
              "          const docLink = document.createElement('div');\n",
              "          docLink.innerHTML = docLinkHtml;\n",
              "          element.appendChild(docLink);\n",
              "        }\n",
              "      </script>\n",
              "    </div>\n",
              "  </div>\n",
              "  "
            ],
            "text/plain": [
              "            RNN n°31  RNN n°34   RNN n°3\n",
              "time                                    \n",
              "2014-11-16  0.000000  0.000000  0.000000\n",
              "2014-11-17  0.000000  0.000000  0.000000\n",
              "2014-11-18  0.000000  0.000000  0.000000\n",
              "2014-11-19  0.000000  0.000000  0.000000\n",
              "2014-11-20  0.000000  0.000000  0.000000\n",
              "...              ...       ...       ...\n",
              "2022-02-12  0.492287  0.519987  0.497671\n",
              "2022-02-13  0.492768  0.522389  0.497467\n",
              "2022-02-14  0.493456  0.524009  0.497351\n",
              "2022-02-15  0.494437  0.525106  0.497286\n",
              "2022-02-16  0.495660  0.525887  0.497402\n",
              "\n",
              "[2650 rows x 3 columns]"
            ]
          },
          "metadata": {},
          "execution_count": 76
        }
      ]
    },
    {
      "cell_type": "code",
      "source": [
        "prediction[\"Increase\"] = (np.sign(prediction-0.5)==1).sum(axis=1)\n",
        "prediction[\"Decrease\"] = (np.sign(prediction-0.5)==-1).sum(axis=1)"
      ],
      "metadata": {
        "colab": {
          "base_uri": "https://localhost:8080/",
          "height": 450
        },
        "id": "Ub4ip1aRRERb",
        "outputId": "c9927ea8-6736-45f1-e7f8-02c215a8b5bc"
      },
      "execution_count": null,
      "outputs": [
        {
          "output_type": "execute_result",
          "data": {
            "text/html": [
              "\n",
              "  <div id=\"df-594fa7f4-55de-4c67-8e2a-f0bd519f230d\">\n",
              "    <div class=\"colab-df-container\">\n",
              "      <div>\n",
              "<style scoped>\n",
              "    .dataframe tbody tr th:only-of-type {\n",
              "        vertical-align: middle;\n",
              "    }\n",
              "\n",
              "    .dataframe tbody tr th {\n",
              "        vertical-align: top;\n",
              "    }\n",
              "\n",
              "    .dataframe thead th {\n",
              "        text-align: right;\n",
              "    }\n",
              "</style>\n",
              "<table border=\"1\" class=\"dataframe\">\n",
              "  <thead>\n",
              "    <tr style=\"text-align: right;\">\n",
              "      <th></th>\n",
              "      <th>RNN n°31</th>\n",
              "      <th>RNN n°34</th>\n",
              "      <th>RNN n°3</th>\n",
              "      <th>Increase</th>\n",
              "      <th>Decrease</th>\n",
              "    </tr>\n",
              "    <tr>\n",
              "      <th>time</th>\n",
              "      <th></th>\n",
              "      <th></th>\n",
              "      <th></th>\n",
              "      <th></th>\n",
              "      <th></th>\n",
              "    </tr>\n",
              "  </thead>\n",
              "  <tbody>\n",
              "    <tr>\n",
              "      <th>2014-11-16</th>\n",
              "      <td>0.000000</td>\n",
              "      <td>0.000000</td>\n",
              "      <td>0.000000</td>\n",
              "      <td>0</td>\n",
              "      <td>4</td>\n",
              "    </tr>\n",
              "    <tr>\n",
              "      <th>2014-11-17</th>\n",
              "      <td>0.000000</td>\n",
              "      <td>0.000000</td>\n",
              "      <td>0.000000</td>\n",
              "      <td>0</td>\n",
              "      <td>4</td>\n",
              "    </tr>\n",
              "    <tr>\n",
              "      <th>2014-11-18</th>\n",
              "      <td>0.000000</td>\n",
              "      <td>0.000000</td>\n",
              "      <td>0.000000</td>\n",
              "      <td>0</td>\n",
              "      <td>4</td>\n",
              "    </tr>\n",
              "    <tr>\n",
              "      <th>2014-11-19</th>\n",
              "      <td>0.000000</td>\n",
              "      <td>0.000000</td>\n",
              "      <td>0.000000</td>\n",
              "      <td>0</td>\n",
              "      <td>4</td>\n",
              "    </tr>\n",
              "    <tr>\n",
              "      <th>2014-11-20</th>\n",
              "      <td>0.000000</td>\n",
              "      <td>0.000000</td>\n",
              "      <td>0.000000</td>\n",
              "      <td>0</td>\n",
              "      <td>4</td>\n",
              "    </tr>\n",
              "    <tr>\n",
              "      <th>...</th>\n",
              "      <td>...</td>\n",
              "      <td>...</td>\n",
              "      <td>...</td>\n",
              "      <td>...</td>\n",
              "      <td>...</td>\n",
              "    </tr>\n",
              "    <tr>\n",
              "      <th>2022-02-12</th>\n",
              "      <td>0.492287</td>\n",
              "      <td>0.519987</td>\n",
              "      <td>0.497671</td>\n",
              "      <td>1</td>\n",
              "      <td>2</td>\n",
              "    </tr>\n",
              "    <tr>\n",
              "      <th>2022-02-13</th>\n",
              "      <td>0.492768</td>\n",
              "      <td>0.522389</td>\n",
              "      <td>0.497467</td>\n",
              "      <td>1</td>\n",
              "      <td>2</td>\n",
              "    </tr>\n",
              "    <tr>\n",
              "      <th>2022-02-14</th>\n",
              "      <td>0.493456</td>\n",
              "      <td>0.524009</td>\n",
              "      <td>0.497351</td>\n",
              "      <td>1</td>\n",
              "      <td>2</td>\n",
              "    </tr>\n",
              "    <tr>\n",
              "      <th>2022-02-15</th>\n",
              "      <td>0.494437</td>\n",
              "      <td>0.525106</td>\n",
              "      <td>0.497286</td>\n",
              "      <td>1</td>\n",
              "      <td>2</td>\n",
              "    </tr>\n",
              "    <tr>\n",
              "      <th>2022-02-16</th>\n",
              "      <td>0.495660</td>\n",
              "      <td>0.525887</td>\n",
              "      <td>0.497402</td>\n",
              "      <td>1</td>\n",
              "      <td>2</td>\n",
              "    </tr>\n",
              "  </tbody>\n",
              "</table>\n",
              "<p>2650 rows × 5 columns</p>\n",
              "</div>\n",
              "      <button class=\"colab-df-convert\" onclick=\"convertToInteractive('df-594fa7f4-55de-4c67-8e2a-f0bd519f230d')\"\n",
              "              title=\"Convert this dataframe to an interactive table.\"\n",
              "              style=\"display:none;\">\n",
              "        \n",
              "  <svg xmlns=\"http://www.w3.org/2000/svg\" height=\"24px\"viewBox=\"0 0 24 24\"\n",
              "       width=\"24px\">\n",
              "    <path d=\"M0 0h24v24H0V0z\" fill=\"none\"/>\n",
              "    <path d=\"M18.56 5.44l.94 2.06.94-2.06 2.06-.94-2.06-.94-.94-2.06-.94 2.06-2.06.94zm-11 1L8.5 8.5l.94-2.06 2.06-.94-2.06-.94L8.5 2.5l-.94 2.06-2.06.94zm10 10l.94 2.06.94-2.06 2.06-.94-2.06-.94-.94-2.06-.94 2.06-2.06.94z\"/><path d=\"M17.41 7.96l-1.37-1.37c-.4-.4-.92-.59-1.43-.59-.52 0-1.04.2-1.43.59L10.3 9.45l-7.72 7.72c-.78.78-.78 2.05 0 2.83L4 21.41c.39.39.9.59 1.41.59.51 0 1.02-.2 1.41-.59l7.78-7.78 2.81-2.81c.8-.78.8-2.07 0-2.86zM5.41 20L4 18.59l7.72-7.72 1.47 1.35L5.41 20z\"/>\n",
              "  </svg>\n",
              "      </button>\n",
              "      \n",
              "  <style>\n",
              "    .colab-df-container {\n",
              "      display:flex;\n",
              "      flex-wrap:wrap;\n",
              "      gap: 12px;\n",
              "    }\n",
              "\n",
              "    .colab-df-convert {\n",
              "      background-color: #E8F0FE;\n",
              "      border: none;\n",
              "      border-radius: 50%;\n",
              "      cursor: pointer;\n",
              "      display: none;\n",
              "      fill: #1967D2;\n",
              "      height: 32px;\n",
              "      padding: 0 0 0 0;\n",
              "      width: 32px;\n",
              "    }\n",
              "\n",
              "    .colab-df-convert:hover {\n",
              "      background-color: #E2EBFA;\n",
              "      box-shadow: 0px 1px 2px rgba(60, 64, 67, 0.3), 0px 1px 3px 1px rgba(60, 64, 67, 0.15);\n",
              "      fill: #174EA6;\n",
              "    }\n",
              "\n",
              "    [theme=dark] .colab-df-convert {\n",
              "      background-color: #3B4455;\n",
              "      fill: #D2E3FC;\n",
              "    }\n",
              "\n",
              "    [theme=dark] .colab-df-convert:hover {\n",
              "      background-color: #434B5C;\n",
              "      box-shadow: 0px 1px 3px 1px rgba(0, 0, 0, 0.15);\n",
              "      filter: drop-shadow(0px 1px 2px rgba(0, 0, 0, 0.3));\n",
              "      fill: #FFFFFF;\n",
              "    }\n",
              "  </style>\n",
              "\n",
              "      <script>\n",
              "        const buttonEl =\n",
              "          document.querySelector('#df-594fa7f4-55de-4c67-8e2a-f0bd519f230d button.colab-df-convert');\n",
              "        buttonEl.style.display =\n",
              "          google.colab.kernel.accessAllowed ? 'block' : 'none';\n",
              "\n",
              "        async function convertToInteractive(key) {\n",
              "          const element = document.querySelector('#df-594fa7f4-55de-4c67-8e2a-f0bd519f230d');\n",
              "          const dataTable =\n",
              "            await google.colab.kernel.invokeFunction('convertToInteractive',\n",
              "                                                     [key], {});\n",
              "          if (!dataTable) return;\n",
              "\n",
              "          const docLinkHtml = 'Like what you see? Visit the ' +\n",
              "            '<a target=\"_blank\" href=https://colab.research.google.com/notebooks/data_table.ipynb>data table notebook</a>'\n",
              "            + ' to learn more about interactive tables.';\n",
              "          element.innerHTML = '';\n",
              "          dataTable['output_type'] = 'display_data';\n",
              "          await google.colab.output.renderOutput(dataTable, element);\n",
              "          const docLink = document.createElement('div');\n",
              "          docLink.innerHTML = docLinkHtml;\n",
              "          element.appendChild(docLink);\n",
              "        }\n",
              "      </script>\n",
              "    </div>\n",
              "  </div>\n",
              "  "
            ],
            "text/plain": [
              "            RNN n°31  RNN n°34   RNN n°3  Increase  Decrease\n",
              "time                                                        \n",
              "2014-11-16  0.000000  0.000000  0.000000         0         4\n",
              "2014-11-17  0.000000  0.000000  0.000000         0         4\n",
              "2014-11-18  0.000000  0.000000  0.000000         0         4\n",
              "2014-11-19  0.000000  0.000000  0.000000         0         4\n",
              "2014-11-20  0.000000  0.000000  0.000000         0         4\n",
              "...              ...       ...       ...       ...       ...\n",
              "2022-02-12  0.492287  0.519987  0.497671         1         2\n",
              "2022-02-13  0.492768  0.522389  0.497467         1         2\n",
              "2022-02-14  0.493456  0.524009  0.497351         1         2\n",
              "2022-02-15  0.494437  0.525106  0.497286         1         2\n",
              "2022-02-16  0.495660  0.525887  0.497402         1         2\n",
              "\n",
              "[2650 rows x 5 columns]"
            ]
          },
          "metadata": {},
          "execution_count": 77
        }
      ]
    },
    {
      "cell_type": "code",
      "source": [
        "# Delete the rows containing only some 0\n",
        "prediction = prediction.iloc[lag:,:]\n",
        "prediction"
      ],
      "metadata": {
        "colab": {
          "base_uri": "https://localhost:8080/",
          "height": 450
        },
        "id": "8ROHW34-utD0",
        "outputId": "d199386c-8669-4e13-8a1c-125e6439e0bc"
      },
      "execution_count": null,
      "outputs": [
        {
          "output_type": "execute_result",
          "data": {
            "text/html": [
              "\n",
              "  <div id=\"df-e912fee2-a28f-49d2-b1d9-9f9bbdfd03ae\">\n",
              "    <div class=\"colab-df-container\">\n",
              "      <div>\n",
              "<style scoped>\n",
              "    .dataframe tbody tr th:only-of-type {\n",
              "        vertical-align: middle;\n",
              "    }\n",
              "\n",
              "    .dataframe tbody tr th {\n",
              "        vertical-align: top;\n",
              "    }\n",
              "\n",
              "    .dataframe thead th {\n",
              "        text-align: right;\n",
              "    }\n",
              "</style>\n",
              "<table border=\"1\" class=\"dataframe\">\n",
              "  <thead>\n",
              "    <tr style=\"text-align: right;\">\n",
              "      <th></th>\n",
              "      <th>RNN n°31</th>\n",
              "      <th>RNN n°34</th>\n",
              "      <th>RNN n°3</th>\n",
              "      <th>Increase</th>\n",
              "      <th>Decrease</th>\n",
              "      <th>returns</th>\n",
              "      <th>position</th>\n",
              "      <th>strategy</th>\n",
              "    </tr>\n",
              "    <tr>\n",
              "      <th>time</th>\n",
              "      <th></th>\n",
              "      <th></th>\n",
              "      <th></th>\n",
              "      <th></th>\n",
              "      <th></th>\n",
              "      <th></th>\n",
              "      <th></th>\n",
              "      <th></th>\n",
              "    </tr>\n",
              "  </thead>\n",
              "  <tbody>\n",
              "    <tr>\n",
              "      <th>2014-12-16</th>\n",
              "      <td>0.537507</td>\n",
              "      <td>0.535178</td>\n",
              "      <td>0.552034</td>\n",
              "      <td>3</td>\n",
              "      <td>0</td>\n",
              "      <td>-0.052941</td>\n",
              "      <td>1.0</td>\n",
              "      <td>-0.052941</td>\n",
              "    </tr>\n",
              "    <tr>\n",
              "      <th>2014-12-17</th>\n",
              "      <td>0.536451</td>\n",
              "      <td>0.535242</td>\n",
              "      <td>0.551838</td>\n",
              "      <td>3</td>\n",
              "      <td>0</td>\n",
              "      <td>-0.022277</td>\n",
              "      <td>1.0</td>\n",
              "      <td>-0.022277</td>\n",
              "    </tr>\n",
              "    <tr>\n",
              "      <th>2014-12-18</th>\n",
              "      <td>0.535062</td>\n",
              "      <td>0.535583</td>\n",
              "      <td>0.551387</td>\n",
              "      <td>3</td>\n",
              "      <td>0</td>\n",
              "      <td>-0.026206</td>\n",
              "      <td>1.0</td>\n",
              "      <td>-0.026206</td>\n",
              "    </tr>\n",
              "    <tr>\n",
              "      <th>2014-12-19</th>\n",
              "      <td>0.533163</td>\n",
              "      <td>0.535829</td>\n",
              "      <td>0.550555</td>\n",
              "      <td>3</td>\n",
              "      <td>0</td>\n",
              "      <td>0.020704</td>\n",
              "      <td>1.0</td>\n",
              "      <td>0.020704</td>\n",
              "    </tr>\n",
              "    <tr>\n",
              "      <th>2014-12-20</th>\n",
              "      <td>0.531547</td>\n",
              "      <td>0.536140</td>\n",
              "      <td>0.549744</td>\n",
              "      <td>3</td>\n",
              "      <td>0</td>\n",
              "      <td>0.038110</td>\n",
              "      <td>1.0</td>\n",
              "      <td>0.038110</td>\n",
              "    </tr>\n",
              "    <tr>\n",
              "      <th>...</th>\n",
              "      <td>...</td>\n",
              "      <td>...</td>\n",
              "      <td>...</td>\n",
              "      <td>...</td>\n",
              "      <td>...</td>\n",
              "      <td>...</td>\n",
              "      <td>...</td>\n",
              "      <td>...</td>\n",
              "    </tr>\n",
              "    <tr>\n",
              "      <th>2022-02-12</th>\n",
              "      <td>0.492287</td>\n",
              "      <td>0.519987</td>\n",
              "      <td>0.497671</td>\n",
              "      <td>1</td>\n",
              "      <td>2</td>\n",
              "      <td>-0.003855</td>\n",
              "      <td>-1.0</td>\n",
              "      <td>0.003855</td>\n",
              "    </tr>\n",
              "    <tr>\n",
              "      <th>2022-02-13</th>\n",
              "      <td>0.492768</td>\n",
              "      <td>0.522389</td>\n",
              "      <td>0.497467</td>\n",
              "      <td>1</td>\n",
              "      <td>2</td>\n",
              "      <td>-0.001111</td>\n",
              "      <td>-1.0</td>\n",
              "      <td>0.001111</td>\n",
              "    </tr>\n",
              "    <tr>\n",
              "      <th>2022-02-14</th>\n",
              "      <td>0.493456</td>\n",
              "      <td>0.524009</td>\n",
              "      <td>0.497351</td>\n",
              "      <td>1</td>\n",
              "      <td>2</td>\n",
              "      <td>0.009228</td>\n",
              "      <td>-1.0</td>\n",
              "      <td>-0.009228</td>\n",
              "    </tr>\n",
              "    <tr>\n",
              "      <th>2022-02-15</th>\n",
              "      <td>0.494437</td>\n",
              "      <td>0.525106</td>\n",
              "      <td>0.497286</td>\n",
              "      <td>1</td>\n",
              "      <td>2</td>\n",
              "      <td>0.046688</td>\n",
              "      <td>-1.0</td>\n",
              "      <td>-0.046688</td>\n",
              "    </tr>\n",
              "    <tr>\n",
              "      <th>2022-02-16</th>\n",
              "      <td>0.495660</td>\n",
              "      <td>0.525887</td>\n",
              "      <td>0.497402</td>\n",
              "      <td>1</td>\n",
              "      <td>2</td>\n",
              "      <td>-0.009387</td>\n",
              "      <td>-1.0</td>\n",
              "      <td>0.009387</td>\n",
              "    </tr>\n",
              "  </tbody>\n",
              "</table>\n",
              "<p>2620 rows × 8 columns</p>\n",
              "</div>\n",
              "      <button class=\"colab-df-convert\" onclick=\"convertToInteractive('df-e912fee2-a28f-49d2-b1d9-9f9bbdfd03ae')\"\n",
              "              title=\"Convert this dataframe to an interactive table.\"\n",
              "              style=\"display:none;\">\n",
              "        \n",
              "  <svg xmlns=\"http://www.w3.org/2000/svg\" height=\"24px\"viewBox=\"0 0 24 24\"\n",
              "       width=\"24px\">\n",
              "    <path d=\"M0 0h24v24H0V0z\" fill=\"none\"/>\n",
              "    <path d=\"M18.56 5.44l.94 2.06.94-2.06 2.06-.94-2.06-.94-.94-2.06-.94 2.06-2.06.94zm-11 1L8.5 8.5l.94-2.06 2.06-.94-2.06-.94L8.5 2.5l-.94 2.06-2.06.94zm10 10l.94 2.06.94-2.06 2.06-.94-2.06-.94-.94-2.06-.94 2.06-2.06.94z\"/><path d=\"M17.41 7.96l-1.37-1.37c-.4-.4-.92-.59-1.43-.59-.52 0-1.04.2-1.43.59L10.3 9.45l-7.72 7.72c-.78.78-.78 2.05 0 2.83L4 21.41c.39.39.9.59 1.41.59.51 0 1.02-.2 1.41-.59l7.78-7.78 2.81-2.81c.8-.78.8-2.07 0-2.86zM5.41 20L4 18.59l7.72-7.72 1.47 1.35L5.41 20z\"/>\n",
              "  </svg>\n",
              "      </button>\n",
              "      \n",
              "  <style>\n",
              "    .colab-df-container {\n",
              "      display:flex;\n",
              "      flex-wrap:wrap;\n",
              "      gap: 12px;\n",
              "    }\n",
              "\n",
              "    .colab-df-convert {\n",
              "      background-color: #E8F0FE;\n",
              "      border: none;\n",
              "      border-radius: 50%;\n",
              "      cursor: pointer;\n",
              "      display: none;\n",
              "      fill: #1967D2;\n",
              "      height: 32px;\n",
              "      padding: 0 0 0 0;\n",
              "      width: 32px;\n",
              "    }\n",
              "\n",
              "    .colab-df-convert:hover {\n",
              "      background-color: #E2EBFA;\n",
              "      box-shadow: 0px 1px 2px rgba(60, 64, 67, 0.3), 0px 1px 3px 1px rgba(60, 64, 67, 0.15);\n",
              "      fill: #174EA6;\n",
              "    }\n",
              "\n",
              "    [theme=dark] .colab-df-convert {\n",
              "      background-color: #3B4455;\n",
              "      fill: #D2E3FC;\n",
              "    }\n",
              "\n",
              "    [theme=dark] .colab-df-convert:hover {\n",
              "      background-color: #434B5C;\n",
              "      box-shadow: 0px 1px 3px 1px rgba(0, 0, 0, 0.15);\n",
              "      filter: drop-shadow(0px 1px 2px rgba(0, 0, 0, 0.3));\n",
              "      fill: #FFFFFF;\n",
              "    }\n",
              "  </style>\n",
              "\n",
              "      <script>\n",
              "        const buttonEl =\n",
              "          document.querySelector('#df-e912fee2-a28f-49d2-b1d9-9f9bbdfd03ae button.colab-df-convert');\n",
              "        buttonEl.style.display =\n",
              "          google.colab.kernel.accessAllowed ? 'block' : 'none';\n",
              "\n",
              "        async function convertToInteractive(key) {\n",
              "          const element = document.querySelector('#df-e912fee2-a28f-49d2-b1d9-9f9bbdfd03ae');\n",
              "          const dataTable =\n",
              "            await google.colab.kernel.invokeFunction('convertToInteractive',\n",
              "                                                     [key], {});\n",
              "          if (!dataTable) return;\n",
              "\n",
              "          const docLinkHtml = 'Like what you see? Visit the ' +\n",
              "            '<a target=\"_blank\" href=https://colab.research.google.com/notebooks/data_table.ipynb>data table notebook</a>'\n",
              "            + ' to learn more about interactive tables.';\n",
              "          element.innerHTML = '';\n",
              "          dataTable['output_type'] = 'display_data';\n",
              "          await google.colab.output.renderOutput(dataTable, element);\n",
              "          const docLink = document.createElement('div');\n",
              "          docLink.innerHTML = docLinkHtml;\n",
              "          element.appendChild(docLink);\n",
              "        }\n",
              "      </script>\n",
              "    </div>\n",
              "  </div>\n",
              "  "
            ],
            "text/plain": [
              "            RNN n°31  RNN n°34   RNN n°3  ...   returns  position  strategy\n",
              "time                                      ...                              \n",
              "2014-12-16  0.537507  0.535178  0.552034  ... -0.052941       1.0 -0.052941\n",
              "2014-12-17  0.536451  0.535242  0.551838  ... -0.022277       1.0 -0.022277\n",
              "2014-12-18  0.535062  0.535583  0.551387  ... -0.026206       1.0 -0.026206\n",
              "2014-12-19  0.533163  0.535829  0.550555  ...  0.020704       1.0  0.020704\n",
              "2014-12-20  0.531547  0.536140  0.549744  ...  0.038110       1.0  0.038110\n",
              "...              ...       ...       ...  ...       ...       ...       ...\n",
              "2022-02-12  0.492287  0.519987  0.497671  ... -0.003855      -1.0  0.003855\n",
              "2022-02-13  0.492768  0.522389  0.497467  ... -0.001111      -1.0  0.001111\n",
              "2022-02-14  0.493456  0.524009  0.497351  ...  0.009228      -1.0 -0.009228\n",
              "2022-02-15  0.494437  0.525106  0.497286  ...  0.046688      -1.0 -0.046688\n",
              "2022-02-16  0.495660  0.525887  0.497402  ... -0.009387      -1.0  0.009387\n",
              "\n",
              "[2620 rows x 8 columns]"
            ]
          },
          "metadata": {},
          "execution_count": 80
        }
      ]
    },
    {
      "cell_type": "code",
      "source": [
        "# Put the daily return of the asset\n",
        "prediction[\"returns\"] = dfc[\"returns\"]\n",
        "\n",
        "# Compute the position doing a bagging on the best ANN\n",
        "prediction[\"position\"] = np.nan\n",
        "prediction.loc[prediction[\"Increase\"] > prediction[\"Decrease\"], \"position\"] = 1\n",
        "prediction.loc[prediction[\"Increase\"] < prediction[\"Decrease\"], \"position\"] = -1\n",
        "\n",
        "# When you will run again the code you can have different results\n",
        "# Compute and plot the strategy return on the validation test\n",
        "# Very important to put the shift at he position,Don't forget!\n",
        "prediction[\"strategy\"] = prediction[\"returns\"] * prediction[\"position\"].shift(1)\n",
        "split, split_val = int(0.85*len(dfc)), int(0.95*len(dfc))\n",
        "prediction[\"strategy\"].iloc[split_val:].cumsum().plot()"
      ],
      "metadata": {
        "id": "WNAqqSryZuws",
        "colab": {
          "base_uri": "https://localhost:8080/",
          "height": 312
        },
        "outputId": "1c3d7b1c-5f5d-4bda-a2d5-d48b9acd6125"
      },
      "execution_count": null,
      "outputs": [
        {
          "output_type": "execute_result",
          "data": {
            "text/plain": [
              "<matplotlib.axes._subplots.AxesSubplot at 0x7f8c0df96650>"
            ]
          },
          "metadata": {},
          "execution_count": 81
        },
        {
          "output_type": "display_data",
          "data": {
            "image/png": "[encoded data removed]",
            "text/plain": [
              "<Figure size 432x288 with 1 Axes>"
            ]
          },
          "metadata": {}
        }
      ]
    },
    {
      "cell_type": "code",
      "source": [
        ""
      ],
      "metadata": {
        "id": "RMc7p6u1suft"
      },
      "execution_count": null,
      "outputs": []
    }
  ]
}
