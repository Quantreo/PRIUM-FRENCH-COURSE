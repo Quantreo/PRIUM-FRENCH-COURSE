{
 "cells": [
  {
   "cell_type": "markdown",
   "id": "4d0749cd",
   "metadata": {},
   "source": [
    "# Chapter 07: Advanced orders placing\n",
    "\n",
    "📈Join our community: https://discord.gg/wXjNPAc5BH\n",
    "\n",
    "📚Read our book: https://www.amazon.com/gp/product/B09HG18CYL \n",
    "\n",
    "🖥️Quantreo's YouTube channel: https://www.youtube.com/channel/UCp7jckfiEglNf_Gj62VR0pw"
   ]
  },
  {
   "cell_type": "code",
   "execution_count": 8,
   "id": "4924574d",
   "metadata": {},
   "outputs": [],
   "source": [
    "# Import some librairies\n",
    "import MetaTrader5 as mt5"
   ]
  },
  {
   "cell_type": "code",
   "execution_count": 9,
   "id": "14a0ef5f",
   "metadata": {},
   "outputs": [
    {
     "data": {
      "text/plain": [
       "True"
      ]
     },
     "execution_count": 9,
     "metadata": {},
     "output_type": "execute_result"
    }
   ],
   "source": [
    "# Initialize the bound\n",
    "mt5.initialize()"
   ]
  },
  {
   "cell_type": "markdown",
   "id": "c47af8a0",
   "metadata": {},
   "source": [
    "### Place a pending order (Buy/sell limit/stop)\n",
    "https://www.metatrader5.com/en/mobile-trading/iphone/help/trade/general_concept/order_types"
   ]
  },
  {
   "cell_type": "code",
   "execution_count": 10,
   "id": "072cc670",
   "metadata": {},
   "outputs": [],
   "source": [
    "# Set the symbol\n",
    "symbol = \"EURUSD\"\n",
    "\n",
    "# Set filling mode\n",
    "filling_type = mt5.symbol_info(symbol).filling_mode\n",
    "\n",
    "# Set the point\n",
    "point = mt5.symbol_info(symbol).point"
   ]
  },
  {
   "cell_type": "code",
   "execution_count": 13,
   "id": "ff1d42d4",
   "metadata": {},
   "outputs": [
    {
     "data": {
      "text/plain": [
       "OrderSendResult(retcode=10009, deal=0, order=5138257, volume=1.0, price=0.0, bid=0.0, ask=0.0, comment='Request executed', request_id=1463, retcode_external=0, request=TradeRequest(action=5, magic=0, order=0, symbol='EURUSD', volume=1.0, price=1.1048200000000001, stoplimit=0.0, sl=0.0, tp=0.0, deviation=0, type=2, type_filling=2, type_time=0, expiration=0, comment='', position=0, position_by=0))"
      ]
     },
     "execution_count": 13,
     "metadata": {},
     "output_type": "execute_result"
    }
   ],
   "source": [
    "# SELL LIMIT\n",
    "request = {\n",
    "    \"action\": mt5.TRADE_ACTION_PENDING,\n",
    "    \"symbol\": symbol,\n",
    "    \"volume\": 1.0,\n",
    "    \"type\": mt5.ORDER_TYPE_BUY_LIMIT,\n",
    "    \"price\": mt5.symbol_info_tick(symbol).bid-100*point,\n",
    "    \"type_filling\": filling_type,\n",
    "    \"type_time\": mt5.ORDER_TIME_GTC,\n",
    "}\n",
    "\n",
    "info_order = mt5.order_send(request)\n",
    "info_order\n"
   ]
  },
  {
   "cell_type": "code",
   "execution_count": 14,
   "id": "e3c57b5b",
   "metadata": {
    "scrolled": true
   },
   "outputs": [
    {
     "data": {
      "text/plain": [
       "OrderSendResult(retcode=10009, deal=0, order=5138257, volume=0.0, price=0.0, bid=0.0, ask=0.0, comment='Request executed', request_id=1464, retcode_external=0, request=TradeRequest(action=8, magic=0, order=5138257, symbol='', volume=0.0, price=0.0, stoplimit=0.0, sl=0.0, tp=0.0, deviation=0, type=0, type_filling=0, type_time=0, expiration=0, comment='', position=0, position_by=0))"
      ]
     },
     "execution_count": 14,
     "metadata": {},
     "output_type": "execute_result"
    }
   ],
   "source": [
    "# REMOVE PENDING ORDER\n",
    "request = {\n",
    "     \"action\" : mt5.TRADE_ACTION_REMOVE ,\n",
    "     \"order\" : info_order.order ,\n",
    "}\n",
    "\n",
    "mt5.order_send(request)"
   ]
  },
  {
   "cell_type": "markdown",
   "id": "fa5dcb7c",
   "metadata": {},
   "source": [
    "### Modify TP / SL"
   ]
  },
  {
   "cell_type": "code",
   "execution_count": null,
   "id": "5abb7341",
   "metadata": {},
   "outputs": [],
   "source": [
    "# OPEN\n",
    "point\n",
    "request = {\n",
    "    \"action\": mt5.TRADE_ACTION_DEAL,\n",
    "    \"symbol\": symbol,\n",
    "    \"volume\": 1.0,\n",
    "    \"type\": mt5.ORDER_TYPE_BUY,\n",
    "    \"price\": mt5.symbol_info_tick(symbol).ask,\n",
    "    \"deviation\": deviation,\n",
    "    \"sl\": mt5.symbol_info_tick(symbol).ask-100*point,\n",
    "    \"tp\": mt5.symbol_info_tick(symbol).ask+100*point,\n",
    "    \"type_filling\": filling_type,\n",
    "    \"type_time\": mt5.ORDER_TIME_GTC,\n",
    "}\n",
    "\n",
    "info_order = mt5.order_send(request)\n",
    "info_order\n"
   ]
  },
  {
   "cell_type": "code",
   "execution_count": 18,
   "id": "155cf05f",
   "metadata": {},
   "outputs": [
    {
     "data": {
      "text/plain": [
       "OrderSendResult(retcode=10009, deal=0, order=0, volume=0.0, price=0.0, bid=0.0, ask=0.0, comment='Request executed', request_id=1471, retcode_external=0, request=TradeRequest(action=6, magic=0, order=0, symbol='EURUSD', volume=1.0, price=1.10508, stoplimit=0.0, sl=1.11507, tp=1.09507, deviation=10, type=1, type_filling=2, type_time=0, expiration=0, comment='', position=5138403, position_by=0))"
      ]
     },
     "execution_count": 18,
     "metadata": {},
     "output_type": "execute_result"
    }
   ],
   "source": [
    "# CHANGE SL/TP\n",
    "request = {\n",
    "    \"action\": mt5.TRADE_ACTION_SLTP,\n",
    "    \"symbol\": symbol,\n",
    "    \"position\": 5138403,\n",
    "    \"volume\": 1.0,\n",
    "    \"type\": mt5.ORDER_TYPE_SELL,\n",
    "    \"price\": 1.10508,\n",
    "    \"deviation\": 10,\n",
    "    \"sl\": mt5.symbol_info_tick(symbol).ask+1000*point,\n",
    "    \"tp\": mt5.symbol_info_tick(symbol).ask-1000*point,\n",
    "    \"type_filling\": filling_type,\n",
    "    \"type_time\": mt5.ORDER_TIME_GTC,\n",
    "}\n",
    "\n",
    "mt5.order_send(request)\n",
    "\n"
   ]
  },
  {
   "cell_type": "code",
   "execution_count": null,
   "id": "2dd9fc05",
   "metadata": {},
   "outputs": [],
   "source": []
  }
 ],
 "metadata": {
  "kernelspec": {
   "display_name": "Python 3 (ipykernel)",
   "language": "python",
   "name": "python3"
  },
  "language_info": {
   "codemirror_mode": {
    "name": "ipython",
    "version": 3
   },
   "file_extension": ".py",
   "mimetype": "text/x-python",
   "name": "python",
   "nbconvert_exporter": "python",
   "pygments_lexer": "ipython3",
   "version": "3.9.7"
  }
 },
 "nbformat": 4,
 "nbformat_minor": 5
}
