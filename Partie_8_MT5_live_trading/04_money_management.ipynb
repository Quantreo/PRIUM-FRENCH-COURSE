{
 "cells": [
  {
   "cell_type": "markdown",
   "id": "735390d1",
   "metadata": {},
   "source": [
    "# Chapter 06: Money management\n",
    "\n",
    "📈Join our community: https://discord.gg/wXjNPAc5BH\n",
    "\n",
    "📚Read our book: https://www.amazon.com/gp/product/B09HG18CYL \n",
    "\n",
    "🖥️Quantreo's YouTube channel: https://www.youtube.com/channel/UCp7jckfiEglNf_Gj62VR0pw"
   ]
  },
  {
   "cell_type": "code",
   "execution_count": 1,
   "id": "c9512371",
   "metadata": {},
   "outputs": [],
   "source": [
    "# Import the libraries\n",
    "import MetaTrader5 as mt5\n",
    "from datetime import datetime\n",
    "import numpy as np"
   ]
  },
  {
   "cell_type": "code",
   "execution_count": 2,
   "id": "24a9d118",
   "metadata": {},
   "outputs": [
    {
     "data": {
      "text/plain": [
       "True"
      ]
     },
     "execution_count": 2,
     "metadata": {},
     "output_type": "execute_result"
    }
   ],
   "source": [
    "# Create the bound between MT5 and Python\n",
    "mt5.initialize()"
   ]
  },
  {
   "cell_type": "markdown",
   "id": "d07b406f",
   "metadata": {},
   "source": [
    "### Place an order with take profit & stop loss"
   ]
  },
  {
   "cell_type": "code",
   "execution_count": 7,
   "id": "da38caed",
   "metadata": {},
   "outputs": [
    {
     "data": {
      "text/plain": [
       "'Done'"
      ]
     },
     "execution_count": 7,
     "metadata": {},
     "output_type": "execute_result"
    }
   ],
   "source": [
    "# Place a BUY order with take profit\n",
    "# Initialization value\n",
    "lot = 0.01\n",
    "symbol = \"EURUSD\"\n",
    "\n",
    "# Extract symbol point\n",
    "point = mt5.symbol_info(symbol).point\n",
    "\n",
    "# Choose the deviation\n",
    "deviation = 10\n",
    "\n",
    "# Find the filling mode of symbol\n",
    "filling_type = mt5.symbol_info(symbol).filling_mode\n",
    "\n",
    "# Create dictionnary request\n",
    "request = {\n",
    "    \"action\": mt5.TRADE_ACTION_DEAL,\n",
    "    \"symbol\": symbol,\n",
    "    \"volume\": lot,\n",
    "    \"type\": mt5.ORDER_TYPE_BUY,\n",
    "    \"price\": mt5.symbol_info_tick(symbol).ask,\n",
    "    \"deviation\": deviation,\n",
    "    \"tp\": mt5.symbol_info_tick(symbol).ask + 100*point,\n",
    "    \"sl\": mt5.symbol_info_tick(symbol).ask - 100*point, \n",
    "    \"type_filling\": filling_type,\n",
    "    \"type_time\": mt5.ORDER_TIME_GTC,\n",
    "}\n",
    "\n",
    "mt5.order_check(request).comment"
   ]
  },
  {
   "cell_type": "code",
   "execution_count": 7,
   "id": "cdb0bbb3",
   "metadata": {},
   "outputs": [
    {
     "data": {
      "text/plain": [
       "'Done'"
      ]
     },
     "execution_count": 7,
     "metadata": {},
     "output_type": "execute_result"
    }
   ],
   "source": [
    "# Place a SELL order with take profit\n",
    "# Initialization value\n",
    "lot = 0.01\n",
    "symbol = \"EURUSD\"\n",
    "\n",
    "# Extract symbol point\n",
    "point = mt5.symbol_info(symbol).point\n",
    "\n",
    "# Choose the deviation\n",
    "deviation = 10\n",
    "\n",
    "# Find the filling mode of symbol\n",
    "filling_type = mt5.symbol_info(symbol).filling_mode\n",
    "\n",
    "# Create dictionnary request\n",
    "request = {\n",
    "    \"action\": mt5.TRADE_ACTION_DEAL,\n",
    "    \"symbol\": symbol,\n",
    "    \"volume\": lot,\n",
    "    \"type\": mt5.ORDER_TYPE_SELL,\n",
    "    \"price\": mt5.symbol_info_tick(symbol).bid,\n",
    "    \"deviation\": deviation,\n",
    "    \"tp\": mt5.symbol_info_tick(symbol).ask - 100 * point,\n",
    "    \"sl\": mt5.symbol_info_tick(symbol).ask + 100 * point, \n",
    "    \"type_filling\": filling_type,\n",
    "    \"type_time\": mt5.ORDER_TIME_GTC,\n",
    "}\n",
    "\n",
    "mt5.order_check(request).comment"
   ]
  },
  {
   "cell_type": "markdown",
   "id": "f2beacd7",
   "metadata": {},
   "source": [
    "### Find stop loss and take profit level for a specific risk percentage"
   ]
  },
  {
   "cell_type": "code",
   "execution_count": 5,
   "id": "43d6988c",
   "metadata": {},
   "outputs": [],
   "source": [
    "def risk_reward_threshold(symbol, buy=True, risk=0.01, reward=0.02):\n",
    "    \n",
    "    # Extract the leverage\n",
    "    leverage = mt5.account_info().leverage\n",
    "\n",
    "    # Compute the price\n",
    "    price = mt5.symbol_info(symbol).ask\n",
    "\n",
    "    # Extract the number of decimals\n",
    "    nb_decimal = str(price)[::-1].find(\".\")\n",
    "\n",
    "\n",
    "    # Compute the variations in percentage\n",
    "    var_down = risk/leverage\n",
    "    var_up = reward/leverage\n",
    "\n",
    "\n",
    "    # Find the TP and SL threshold in absolute price\n",
    "    if buy:\n",
    "        price = mt5.symbol_info(symbol).ask\n",
    "\n",
    "        # Compute the variations in absolute price\n",
    "        price_var_down = var_down*price\n",
    "        price_var_up = var_up * price\n",
    "\n",
    "        tp = np.round(price + price_var_up, nb_decimal)\n",
    "        sl = np.round(price - price_var_down, nb_decimal)\n",
    "\n",
    "    else:\n",
    "\n",
    "        price = mt5.symbol_info(symbol).bid\n",
    "\n",
    "        # Compute the variations in absolute price\n",
    "        price_var_down = var_down*price\n",
    "        price_var_up = var_up * price\n",
    "\n",
    "        tp = np.round(price - price_var_up, nb_decimal)\n",
    "        sl = np.round(price + price_var_down, nb_decimal)\n",
    "\n",
    "\n",
    "        \n",
    "    print(f\"PRICE: {price} \\t Take Profit: {tp} \\t Stop Loss: {sl}\")"
   ]
  },
  {
   "cell_type": "code",
   "execution_count": 6,
   "id": "bc012463",
   "metadata": {},
   "outputs": [
    {
     "name": "stdout",
     "output_type": "stream",
     "text": [
      "PRICE: 1.1015 \t Take Profit: 1.1022 \t Stop Loss: 1.1011\n"
     ]
    }
   ],
   "source": [
    "risk_reward_threshold(\"EURUSD\",buy=True)"
   ]
  },
  {
   "cell_type": "code",
   "execution_count": 18,
   "id": "fc2136a8",
   "metadata": {},
   "outputs": [
    {
     "data": {
      "text/plain": [
       "-1.002798720064676"
      ]
     },
     "execution_count": 18,
     "metadata": {},
     "output_type": "execute_result"
    }
   ],
   "source": [
    "(1.09682 - 1.09693) / 1.09693 *100 * 100"
   ]
  },
  {
   "cell_type": "markdown",
   "id": "d98cfa33",
   "metadata": {},
   "source": [
    "### Find the volume depending of your capital"
   ]
  },
  {
   "cell_type": "code",
   "execution_count": 28,
   "id": "a1a2de6c",
   "metadata": {},
   "outputs": [
    {
     "name": "stdout",
     "output_type": "stream",
     "text": [
      "INVESTED CAPITAL: 120\n",
      "LEVERAGE: 100\n",
      "INVESTED CAPITAL LEVERAGED: 12000\n",
      "TRADE SIZE: 10.0\n",
      "PRICE: 4312.75\n",
      "LOT SIZE: 0.27824473943539507\n",
      "MIN LOT: 0.1\n",
      "MAX LOT: 5.0\n",
      "NUMBER DECIMAL: 1\n",
      "LOT SIZE ROUNDED: 0.3\n",
      "LOT DOWN ROUNDED: 0.2\n",
      "GOOD SIZE LOT: 0.2\n"
     ]
    },
    {
     "data": {
      "text/plain": [
       "0.2"
      ]
     },
     "execution_count": 28,
     "metadata": {},
     "output_type": "execute_result"
    }
   ],
   "source": [
    "def position_size(capital, symbol):\n",
    "    mt5.initialize()\n",
    "    print(f\"INVESTED CAPITAL: {capital}\")\n",
    "    \n",
    "    leverage = mt5.account_info().leverage\n",
    "    print(f\"LEVERAGE: {leverage}\")\n",
    "    \n",
    "    invested_capital = capital  * leverage\n",
    "    print(f\"INVESTED CAPITAL LEVERAGED: {invested_capital}\")\n",
    "    \n",
    "    trade_size = mt5.symbol_info(symbol).trade_contract_size\n",
    "    print(f\"TRADE SIZE: {trade_size}\")\n",
    "    \n",
    "    price = (mt5.symbol_info(symbol).ask + mt5.symbol_info(symbol).bid)/2\n",
    "    print(f\"PRICE: {price}\")\n",
    "\n",
    "    lot_size = invested_capital / trade_size / price\n",
    "    print(f\"LOT SIZE: {lot_size}\")\n",
    "    \n",
    "    min_lot = mt5.symbol_info(symbol).volume_min\n",
    "    print(f\"MIN LOT: {min_lot}\")\n",
    "    \n",
    "    max_lot = mt5.symbol_info(symbol).volume_max\n",
    "    print(f\"MAX LOT: {max_lot}\")\n",
    "\n",
    "\n",
    "    if min_lot<lot_size:\n",
    "        number_decimal = str(min_lot)[::-1].find(\".\")\n",
    "        print(f\"NUMBER DECIMAL: {number_decimal}\")\n",
    "\n",
    "        if number_decimal>0:\n",
    "            lot_size_rounded = np.round(lot_size, number_decimal)\n",
    "            print(f\"LOT SIZE ROUNDED: {lot_size_rounded}\")\n",
    "\n",
    "            if lot_size < lot_size_rounded:\n",
    "                lot_size_rounded = np.round(lot_size_rounded - min_lot, number_decimal)\n",
    "                print(f\"LOT DOWN ROUNDED: {lot_size_rounded}\")\n",
    "\n",
    "        else:\n",
    "            number_size_lot =  len(str(min_lot))\n",
    "\n",
    "            lot_size_rounded = int(np.round(lot_size, -number_size_lot))\n",
    "\n",
    "            if lot_size < lot_size_rounded:\n",
    "                lot_size_rounded = int(np.round(lot_size_rounded - number_size_lot, - number_size_lot))\n",
    "                \n",
    "        if lot_size_rounded>max_lot:\n",
    "            lot_size_rounded = max_lot\n",
    "            \n",
    "        print(f\"GOOD SIZE LOT: {lot_size_rounded}\")\n",
    "        return lot_size_rounded\n",
    "    else: \n",
    "        print(\"Invested capital is too small to be able to place an order\")\n",
    "        \n",
    "    \n",
    "    \n",
    "position_size(120, \"SP500m\")"
   ]
  },
  {
   "cell_type": "code",
   "execution_count": null,
   "id": "055bf5a5",
   "metadata": {},
   "outputs": [],
   "source": []
  }
 ],
 "metadata": {
  "kernelspec": {
   "display_name": "Python 3 (ipykernel)",
   "language": "python",
   "name": "python3"
  },
  "language_info": {
   "codemirror_mode": {
    "name": "ipython",
    "version": 3
   },
   "file_extension": ".py",
   "mimetype": "text/x-python",
   "name": "python",
   "nbconvert_exporter": "python",
   "pygments_lexer": "ipython3",
   "version": "3.9.7"
  }
 },
 "nbformat": 4,
 "nbformat_minor": 5
}
