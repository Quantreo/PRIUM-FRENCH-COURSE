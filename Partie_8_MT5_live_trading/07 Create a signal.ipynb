{
 "cells": [
  {
   "cell_type": "markdown",
   "id": "aec6602f",
   "metadata": {},
   "source": [
    "# Chapter 09: Signals\n",
    "\n",
    "📈Join our community: https://discord.gg/wXjNPAc5BH\n",
    "\n",
    "📚Read our book: https://www.amazon.com/gp/product/B09HG18CYL \n",
    "\n",
    "🖥️Quantreo's YouTube channel: https://www.youtube.com/channel/UCp7jckfiEglNf_Gj62VR0pw"
   ]
  },
  {
   "cell_type": "code",
   "execution_count": 11,
   "id": "ce815c58",
   "metadata": {},
   "outputs": [],
   "source": [
    "import MetaTrader5 as mt5\n",
    "import pandas as pd\n",
    "import numpy as np\n",
    "import warnings\n",
    "from datetime import datetime\n",
    "import ta\n",
    "warnings.filterwarnings(\"ignore\")"
   ]
  },
  {
   "cell_type": "code",
   "execution_count": 2,
   "id": "4b3b4387",
   "metadata": {},
   "outputs": [
    {
     "data": {
      "text/plain": [
       "True"
      ]
     },
     "execution_count": 2,
     "metadata": {},
     "output_type": "execute_result"
    }
   ],
   "source": [
    "mt5.initialize()"
   ]
  },
  {
   "cell_type": "code",
   "execution_count": 29,
   "id": "35b4e68c",
   "metadata": {},
   "outputs": [],
   "source": [
    "class MT5:\n",
    "\n",
    "    def get_rates(symbol, n, timeframe=mt5.TIMEFRAME_D1):\n",
    "        \"\"\" Function to import the data of the chosen symbol\"\"\"\n",
    "\n",
    "        # Initialize the connection if there is not\n",
    "        mt5.initialize()\n",
    "\n",
    "        # Current date extract\n",
    "        utc_from = datetime.now()\n",
    "\n",
    "        # Import the data into a tuple\n",
    "        rates = mt5.copy_rates_from(symbol, timeframe, utc_from, n)\n",
    "\n",
    "        # Tuple to dataframe\n",
    "        rates_frame = pd.DataFrame(rates)\n",
    "\n",
    "        # Convert time in seconds into the datetime format\n",
    "        rates_frame['time'] = pd.to_datetime(rates_frame['time'], unit='s')\n",
    "\n",
    "        # Convert the column \"time\" in the right format\n",
    "        rates_frame['time'] = pd.to_datetime(rates_frame['time'], format='%Y-%m-%d')\n",
    "\n",
    "        # Set column time as the index of the dataframe\n",
    "        rates_frame = rates_frame.set_index('time')\n",
    "        return rates_frame"
   ]
  },
  {
   "cell_type": "markdown",
   "id": "de47fb6b",
   "metadata": {},
   "source": [
    "### Random signal"
   ]
  },
  {
   "cell_type": "code",
   "execution_count": 18,
   "id": "8f7d0834",
   "metadata": {},
   "outputs": [],
   "source": [
    "def random():\n",
    "    values = [True, False]\n",
    "    buy = np.random.choice(values)\n",
    "    sell = not buy\n",
    "    \n",
    "    return buy, sell"
   ]
  },
  {
   "cell_type": "code",
   "execution_count": 26,
   "id": "5d921d2a",
   "metadata": {},
   "outputs": [
    {
     "data": {
      "text/plain": [
       "(False, True)"
      ]
     },
     "execution_count": 26,
     "metadata": {},
     "output_type": "execute_result"
    }
   ],
   "source": [
    "random()"
   ]
  },
  {
   "cell_type": "markdown",
   "id": "c664bc1b",
   "metadata": {},
   "source": [
    "### SMA signal"
   ]
  },
  {
   "cell_type": "code",
   "execution_count": 32,
   "id": "3d8b890a",
   "metadata": {},
   "outputs": [],
   "source": [
    "def SMA_strategy(symbol):\n",
    "    \n",
    "    # Import / Features engineering\n",
    "    df = MT5.get_rates(symbol, 70)\n",
    "    \n",
    "    # Create Resistance using a rolling max\n",
    "    df[\"SMA fast\"] = df[\"close\"].rolling(30).mean()\n",
    "\n",
    "    # Create Support using a rolling min\n",
    "    df[\"SMA slow\"] = df[\"close\"].rolling(60).mean()\n",
    "\n",
    "    # Signals\n",
    "    condition_1_buy = df[\"SMA fast\"].iloc[-1] > df[\"SMA slow\"].iloc[-1]\n",
    "\n",
    "    condition_1_sell = df[\"SMA fast\"].iloc[-1] < df[\"SMA slow\"].iloc[-1]\n",
    "    \n",
    "    buy = condition_1_buy\n",
    "    sell = condition_1_sell\n",
    "    \n",
    "\n",
    "    return buy, sell"
   ]
  },
  {
   "cell_type": "code",
   "execution_count": 33,
   "id": "082992df",
   "metadata": {},
   "outputs": [
    {
     "data": {
      "text/plain": [
       "(False, True)"
      ]
     },
     "execution_count": 33,
     "metadata": {},
     "output_type": "execute_result"
    }
   ],
   "source": [
    "SMA_strategy(\"EURUSD\")"
   ]
  },
  {
   "cell_type": "markdown",
   "id": "9f5585fb",
   "metadata": {},
   "source": [
    "### Multiple conditions entry"
   ]
  },
  {
   "cell_type": "code",
   "execution_count": 16,
   "id": "55ae00eb",
   "metadata": {},
   "outputs": [],
   "source": [
    "def SMA_rsi_strategy(symbol):\n",
    "    \n",
    "    # Import / Features engineering\n",
    "    df = MT5.get_rates(symbol, 70)\n",
    "    \n",
    "    # Create Resistance using a rolling max\n",
    "    df[\"SMA fast\"] = df[\"close\"].rolling(30).mean()\n",
    "\n",
    "    # Create Support using a rolling min\n",
    "    df[\"SMA slow\"] = df[\"close\"].rolling(60).mean()\n",
    "\n",
    "    # Create RSI\n",
    "    df[\"rsi\"] = ta.momentum.RSIIndicator(df[\"close\"], window=10).rsi()\n",
    "    \n",
    "    df[\"rsi yersteday\"] = df[\"rsi\"].shift(1)\n",
    "\n",
    "    # Signals\n",
    "    condition_1_buy = df[\"SMA fast\"].iloc[-1] > df[\"SMA slow\"].iloc[-1]\n",
    "    condition_2_buy = df[\"rsi\"].iloc[-1] < df[\"rsi yersteday\"].iloc[-1]\n",
    "\n",
    "    condition_1_sell = df[\"SMA fast\"].iloc[-1] < df[\"SMA slow\"].iloc[-1]\n",
    "    condition_2_sell = df[\"rsi\"].iloc[-1] > df[\"rsi yersteday\"].iloc[-1]\n",
    "    \n",
    "    buy = condition_1_buy and condition_2_buy\n",
    "    sell = condition_1_sell and condition_2_sell\n",
    "    \n",
    "\n",
    "    return buy, sell"
   ]
  },
  {
   "cell_type": "code",
   "execution_count": 17,
   "id": "350670d4",
   "metadata": {},
   "outputs": [
    {
     "data": {
      "text/plain": [
       "(False, False)"
      ]
     },
     "execution_count": 17,
     "metadata": {},
     "output_type": "execute_result"
    }
   ],
   "source": [
    "SMA_rsi_strategy(\"EURUSD\")"
   ]
  },
  {
   "cell_type": "code",
   "execution_count": null,
   "id": "10f4dfc8",
   "metadata": {},
   "outputs": [],
   "source": []
  }
 ],
 "metadata": {
  "kernelspec": {
   "display_name": "Python 3 (ipykernel)",
   "language": "python",
   "name": "python3"
  },
  "language_info": {
   "codemirror_mode": {
    "name": "ipython",
    "version": 3
   },
   "file_extension": ".py",
   "mimetype": "text/x-python",
   "name": "python",
   "nbconvert_exporter": "python",
   "pygments_lexer": "ipython3",
   "version": "3.9.7"
  }
 },
 "nbformat": 4,
 "nbformat_minor": 5
}
