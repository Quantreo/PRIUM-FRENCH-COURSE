{
 "cells": [
  {
   "cell_type": "markdown",
   "id": "30957071",
   "metadata": {},
   "source": [
    "# Chapter 03: INTRODUCTION\n",
    "\n",
    "📈Join our community: https://discord.gg/wXjNPAc5BH\n",
    "\n",
    "📚Read our book: https://www.amazon.com/gp/product/B09HG18CYL \n",
    "\n",
    "🖥️Quantreo's YouTube channel: https://www.youtube.com/channel/UCp7jckfiEglNf_Gj62VR0pw"
   ]
  },
  {
   "cell_type": "code",
   "execution_count": 1,
   "id": "f306305d",
   "metadata": {},
   "outputs": [
    {
     "name": "stdout",
     "output_type": "stream",
     "text": [
      "Requirement already satisfied: ta in c:\\users\\lucasinglese\\appdata\\roaming\\python\\python39\\site-packages (0.9.0)\n",
      "Requirement already satisfied: pandas in c:\\users\\lucasinglese\\anaconda3\\lib\\site-packages (from ta) (1.3.4)\n",
      "Requirement already satisfied: numpy in c:\\users\\lucasinglese\\anaconda3\\lib\\site-packages (from ta) (1.20.3)\n",
      "Requirement already satisfied: pytz>=2017.3 in c:\\users\\lucasinglese\\anaconda3\\lib\\site-packages (from pandas->ta) (2021.3)\n",
      "Requirement already satisfied: python-dateutil>=2.7.3 in c:\\users\\lucasinglese\\anaconda3\\lib\\site-packages (from pandas->ta) (2.8.2)\n",
      "Requirement already satisfied: six>=1.5 in c:\\users\\lucasinglese\\anaconda3\\lib\\site-packages (from python-dateutil>=2.7.3->pandas->ta) (1.16.0)\n",
      "Requirement already satisfied: datetime in c:\\users\\lucasinglese\\appdata\\roaming\\python\\python39\\site-packages (4.4)\n",
      "Requirement already satisfied: pytz in c:\\users\\lucasinglese\\anaconda3\\lib\\site-packages (from datetime) (2021.3)\n",
      "Requirement already satisfied: zope.interface in c:\\users\\lucasinglese\\anaconda3\\lib\\site-packages (from datetime) (5.4.0)\n",
      "Requirement already satisfied: setuptools in c:\\users\\lucasinglese\\anaconda3\\lib\\site-packages (from zope.interface->datetime) (58.0.4)\n",
      "Requirement already satisfied: MetaTrader5 in c:\\users\\lucasinglese\\appdata\\roaming\\python\\python39\\site-packages (5.0.36)\n",
      "Requirement already satisfied: numpy>=1.7 in c:\\users\\lucasinglese\\anaconda3\\lib\\site-packages (from MetaTrader5) (1.20.3)\n"
     ]
    }
   ],
   "source": [
    "# Install some libraries on your computer\n",
    "import sys\n",
    "\n",
    "!{sys.executable} -m pip install ta --user\n",
    "!{sys.executable} -m pip install datetime --user\n",
    "!{sys.executable} -m pip install MetaTrader5 --user"
   ]
  },
  {
   "cell_type": "code",
   "execution_count": 8,
   "id": "3a6b9a26",
   "metadata": {},
   "outputs": [],
   "source": [
    "# Import some data\n",
    "import MetaTrader5 as mt5"
   ]
  },
  {
   "cell_type": "markdown",
   "id": "3d6c8bfa",
   "metadata": {},
   "source": [
    "### Initialize the bound between MetaTrader5 and Python\n",
    "\n",
    "**Don't forget to set in the MetaTrader5 platform parameters the algo trading authorization**"
   ]
  },
  {
   "cell_type": "code",
   "execution_count": 9,
   "id": "78f74793",
   "metadata": {},
   "outputs": [
    {
     "data": {
      "text/plain": [
       "True"
      ]
     },
     "execution_count": 9,
     "metadata": {},
     "output_type": "execute_result"
    }
   ],
   "source": [
    "# Initialize the bound\n",
    "mt5.initialize()"
   ]
  },
  {
   "cell_type": "markdown",
   "id": "370e4afe",
   "metadata": {},
   "source": [
    "### Check the last error nature to understand how to correct it\n",
    "\n",
    "Link to the list of error codes: https://www.mql5.com/fr/docs/integration/python_metatrader5/mt5lasterror_py"
   ]
  },
  {
   "cell_type": "code",
   "execution_count": 10,
   "id": "4c2936b4",
   "metadata": {},
   "outputs": [
    {
     "data": {
      "text/plain": [
       "(1, 'Success')"
      ]
     },
     "execution_count": 10,
     "metadata": {},
     "output_type": "execute_result"
    }
   ],
   "source": [
    "# Check last error\n",
    "mt5.last_error()"
   ]
  },
  {
   "cell_type": "code",
   "execution_count": 11,
   "id": "445427b9",
   "metadata": {},
   "outputs": [
    {
     "data": {
      "text/plain": [
       "True"
      ]
     },
     "execution_count": 11,
     "metadata": {},
     "output_type": "execute_result"
    }
   ],
   "source": [
    "# Clsoe the bound between MT5 and Python\n",
    "mt5.shutdown()"
   ]
  },
  {
   "cell_type": "code",
   "execution_count": 12,
   "id": "62dd3c4b",
   "metadata": {},
   "outputs": [
    {
     "data": {
      "text/plain": [
       "(1, 'Success')"
      ]
     },
     "execution_count": 12,
     "metadata": {},
     "output_type": "execute_result"
    }
   ],
   "source": [
    "# Check last error\n",
    "mt5.last_error()"
   ]
  },
  {
   "cell_type": "code",
   "execution_count": 13,
   "id": "0d5f00f2",
   "metadata": {},
   "outputs": [],
   "source": [
    "# Call a function when the bound is down (No visual error but no exit)\n",
    "mt5.account_info()"
   ]
  },
  {
   "cell_type": "code",
   "execution_count": 14,
   "id": "aefff9db",
   "metadata": {},
   "outputs": [
    {
     "data": {
      "text/plain": [
       "(-10004, 'No IPC connection')"
      ]
     },
     "execution_count": 14,
     "metadata": {},
     "output_type": "execute_result"
    }
   ],
   "source": [
    "# Check last error\n",
    "mt5.last_error()"
   ]
  },
  {
   "cell_type": "code",
   "execution_count": 16,
   "id": "5faa7c42",
   "metadata": {},
   "outputs": [
    {
     "data": {
      "text/plain": [
       "True"
      ]
     },
     "execution_count": 16,
     "metadata": {},
     "output_type": "execute_result"
    }
   ],
   "source": [
    "# Initialize the bound\n",
    "mt5.initialize()"
   ]
  },
  {
   "cell_type": "markdown",
   "id": "2afdead9",
   "metadata": {},
   "source": [
    "### Extract account information"
   ]
  },
  {
   "cell_type": "code",
   "execution_count": 23,
   "id": "497b7c38",
   "metadata": {},
   "outputs": [
    {
     "data": {
      "text/plain": [
       "AccountInfo(login=5001619248, trade_mode=0, leverage=100, limit_orders=200, margin_so_mode=0, trade_allowed=True, trade_expert=True, margin_mode=2, currency_digits=2, fifo_close=False, balance=9681.25, credit=0.0, profit=0.0, equity=9681.25, margin=0.0, margin_free=9681.25, margin_level=0.0, margin_so_call=50.0, margin_so_so=30.0, margin_initial=0.0, margin_maintenance=0.0, assets=0.0, liabilities=0.0, commission_blocked=0.0, name='MetaTrader 5 Desktop Demo', server='MetaQuotes-Demo', currency='EUR', company='MetaQuotes Software Corp.')"
      ]
     },
     "execution_count": 23,
     "metadata": {},
     "output_type": "execute_result"
    }
   ],
   "source": [
    "# Extract account information\n",
    "mt5.account_info()"
   ]
  },
  {
   "cell_type": "code",
   "execution_count": 24,
   "id": "caba923a",
   "metadata": {},
   "outputs": [
    {
     "data": {
      "text/plain": [
       "9681.25"
      ]
     },
     "execution_count": 24,
     "metadata": {},
     "output_type": "execute_result"
    }
   ],
   "source": [
    "# Extract balance account\n",
    "information = mt5.account_info()\n",
    "information.balance"
   ]
  },
  {
   "cell_type": "code",
   "execution_count": 25,
   "id": "7a6ba2ea",
   "metadata": {},
   "outputs": [
    {
     "data": {
      "text/plain": [
       "5001619248"
      ]
     },
     "execution_count": 25,
     "metadata": {},
     "output_type": "execute_result"
    }
   ],
   "source": [
    "# Extract log account\n",
    "information.login"
   ]
  },
  {
   "cell_type": "code",
   "execution_count": 26,
   "id": "060793f8",
   "metadata": {},
   "outputs": [
    {
     "data": {
      "text/plain": [
       "100"
      ]
     },
     "execution_count": 26,
     "metadata": {},
     "output_type": "execute_result"
    }
   ],
   "source": [
    "# Extract leverage account\n",
    "information.leverage"
   ]
  },
  {
   "cell_type": "code",
   "execution_count": 27,
   "id": "7e9cc92e",
   "metadata": {},
   "outputs": [
    {
     "data": {
      "text/plain": [
       "'MetaQuotes-Demo'"
      ]
     },
     "execution_count": 27,
     "metadata": {},
     "output_type": "execute_result"
    }
   ],
   "source": [
    "# Extract server account\n",
    "information.server"
   ]
  },
  {
   "cell_type": "markdown",
   "id": "a3daeb5b",
   "metadata": {},
   "source": [
    "### Extract symbol information"
   ]
  },
  {
   "cell_type": "code",
   "execution_count": 34,
   "id": "835dd8e5",
   "metadata": {},
   "outputs": [
    {
     "data": {
      "text/plain": [
       "SymbolInfo(custom=False, chart_mode=0, select=True, visible=True, session_deals=0, session_buy_orders=0, session_sell_orders=0, volume=0, volumehigh=0, volumelow=0, time=1647042897, digits=5, spread=15, spread_float=True, ticks_bookdepth=10, trade_calc_mode=0, trade_mode=4, start_time=0, expiration_time=0, trade_stops_level=0, trade_freeze_level=0, trade_exemode=1, swap_mode=1, swap_rollover3days=3, margin_hedged_use_leg=False, expiration_mode=15, filling_mode=1, order_mode=127, order_gtc_mode=0, option_mode=0, option_right=0, bid=1.09137, bidhigh=1.10434, bidlow=1.09021, ask=1.09152, askhigh=1.10439, asklow=1.09021, last=0.0, lasthigh=0.0, lastlow=0.0, volume_real=0.0, volumehigh_real=0.0, volumelow_real=0.0, option_strike=0.0, point=1e-05, trade_tick_value=0.9161536206391089, trade_tick_value_profit=0.9161536206391089, trade_tick_value_loss=0.9162795385616245, trade_tick_size=1e-05, trade_contract_size=100000.0, trade_accrued_interest=0.0, trade_face_value=0.0, trade_liquidity_rate=0.0, volume_min=0.01, volume_max=500.0, volume_step=0.01, volume_limit=0.0, swap_long=-0.7, swap_short=-1.0, margin_initial=0.0, margin_maintenance=0.0, session_volume=0.0, session_turnover=0.0, session_interest=0.0, session_buy_orders_volume=0.0, session_sell_orders_volume=0.0, session_open=1.09845, session_close=1.09859, session_aw=0.0, session_price_settlement=0.0, session_price_limit_min=0.0, session_price_limit_max=0.0, margin_hedged=100000.0, price_change=-0.6572, price_volatility=0.0, price_theoretical=0.0, price_greeks_delta=0.0, price_greeks_theta=0.0, price_greeks_gamma=0.0, price_greeks_vega=0.0, price_greeks_rho=0.0, price_greeks_omega=0.0, price_sensitivity=0.0, basis='', category='', currency_base='EUR', currency_profit='USD', currency_margin='EUR', bank='', description='Euro vs US Dollar', exchange='', formula='', isin='', name='EURUSD', page='http://www.google.com/finance?q=EURUSD', path='Forex\\\\EURUSD')"
      ]
     },
     "execution_count": 34,
     "metadata": {},
     "output_type": "execute_result"
    }
   ],
   "source": [
    "# Extract all information\n",
    "mt5.symbol_info(\"EURUSD\")"
   ]
  },
  {
   "cell_type": "code",
   "execution_count": 35,
   "id": "09764013",
   "metadata": {},
   "outputs": [
    {
     "data": {
      "text/plain": [
       "1.09137"
      ]
     },
     "execution_count": 35,
     "metadata": {},
     "output_type": "execute_result"
    }
   ],
   "source": [
    "# Extract bid price\n",
    "symbol = mt5.symbol_info(\"EURUSD\")\n",
    "symbol.bid"
   ]
  },
  {
   "cell_type": "code",
   "execution_count": 36,
   "id": "6702f13b",
   "metadata": {},
   "outputs": [
    {
     "data": {
      "text/plain": [
       "1.09152"
      ]
     },
     "execution_count": 36,
     "metadata": {},
     "output_type": "execute_result"
    }
   ],
   "source": [
    "# Extract ask price\n",
    "symbol.ask"
   ]
  },
  {
   "cell_type": "code",
   "execution_count": 37,
   "id": "65e60980",
   "metadata": {},
   "outputs": [
    {
     "data": {
      "text/plain": [
       "15"
      ]
     },
     "execution_count": 37,
     "metadata": {},
     "output_type": "execute_result"
    }
   ],
   "source": [
    "# Extract spread\n",
    "symbol.spread"
   ]
  },
  {
   "cell_type": "code",
   "execution_count": 38,
   "id": "c1204dc4",
   "metadata": {},
   "outputs": [
    {
     "data": {
      "text/plain": [
       "'Euro vs US Dollar'"
      ]
     },
     "execution_count": 38,
     "metadata": {},
     "output_type": "execute_result"
    }
   ],
   "source": [
    "# Extract description symbol\n",
    "symbol.description"
   ]
  },
  {
   "cell_type": "code",
   "execution_count": 39,
   "id": "31fb0e98",
   "metadata": {},
   "outputs": [
    {
     "data": {
      "text/plain": [
       "'Forex\\\\EURUSD'"
      ]
     },
     "execution_count": 39,
     "metadata": {},
     "output_type": "execute_result"
    }
   ],
   "source": [
    "# Extract path symbol\n",
    "symbol.path"
   ]
  },
  {
   "cell_type": "markdown",
   "id": "d89a78d2",
   "metadata": {},
   "source": [
    "### Extract book orders"
   ]
  },
  {
   "cell_type": "code",
   "execution_count": 43,
   "id": "3bf048d8",
   "metadata": {},
   "outputs": [
    {
     "data": {
      "text/plain": [
       "True"
      ]
     },
     "execution_count": 43,
     "metadata": {},
     "output_type": "execute_result"
    }
   ],
   "source": [
    "# Impossible to be connected to all the book orders symbol (to much data). You need to do it one by one\n",
    "mt5.market_book_add(\"EURUSD\")"
   ]
  },
  {
   "cell_type": "code",
   "execution_count": 44,
   "id": "58976dee",
   "metadata": {},
   "outputs": [
    {
     "data": {
      "text/plain": [
       "()"
      ]
     },
     "execution_count": 44,
     "metadata": {},
     "output_type": "execute_result"
    }
   ],
   "source": [
    "# Get book orders\n",
    "mt5.market_book_get(\"EURUSD\")"
   ]
  },
  {
   "cell_type": "code",
   "execution_count": 45,
   "id": "1bed461b",
   "metadata": {},
   "outputs": [
    {
     "data": {
      "text/plain": [
       "True"
      ]
     },
     "execution_count": 45,
     "metadata": {},
     "output_type": "execute_result"
    }
   ],
   "source": [
    "# Close connection to the book orders \n",
    "mt5.market_book_release(\"EURUSD\")"
   ]
  },
  {
   "cell_type": "markdown",
   "id": "74f6c123",
   "metadata": {},
   "source": [
    "### Add a symbol into the market watch"
   ]
  },
  {
   "cell_type": "code",
   "execution_count": 46,
   "id": "511601b0",
   "metadata": {},
   "outputs": [
    {
     "data": {
      "text/plain": [
       "True"
      ]
     },
     "execution_count": 46,
     "metadata": {},
     "output_type": "execute_result"
    }
   ],
   "source": [
    "# Add a symbol into the market watch\n",
    "mt5.symbol_select(\"SP500m\")"
   ]
  }
 ],
 "metadata": {
  "kernelspec": {
   "display_name": "Python 3 (ipykernel)",
   "language": "python",
   "name": "python3"
  },
  "language_info": {
   "codemirror_mode": {
    "name": "ipython",
    "version": 3
   },
   "file_extension": ".py",
   "mimetype": "text/x-python",
   "name": "python",
   "nbconvert_exporter": "python",
   "pygments_lexer": "ipython3",
   "version": "3.9.7"
  }
 },
 "nbformat": 4,
 "nbformat_minor": 5
}
