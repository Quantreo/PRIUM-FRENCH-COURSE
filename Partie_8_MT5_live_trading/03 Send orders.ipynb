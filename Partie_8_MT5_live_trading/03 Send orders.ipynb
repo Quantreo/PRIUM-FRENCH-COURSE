{
 "cells": [
  {
   "cell_type": "markdown",
   "id": "9f5dce74",
   "metadata": {},
   "source": [
    "# Chapter 05: Send orders\n",
    "\n",
    "📈Join our community: https://discord.gg/wXjNPAc5BH\n",
    "\n",
    "📚Read our book: https://www.amazon.com/gp/product/B09HG18CYL \n",
    "\n",
    "🖥️Quantreo's YouTube channel: https://www.youtube.com/channel/UCp7jckfiEglNf_Gj62VR0pw"
   ]
  },
  {
   "cell_type": "code",
   "execution_count": 1,
   "id": "3b703815",
   "metadata": {},
   "outputs": [],
   "source": [
    "# Import the libraries\n",
    "import MetaTrader5 as mt5\n",
    "from datetime import datetime"
   ]
  },
  {
   "cell_type": "code",
   "execution_count": 2,
   "id": "21576678",
   "metadata": {},
   "outputs": [
    {
     "data": {
      "text/plain": [
       "True"
      ]
     },
     "execution_count": 2,
     "metadata": {},
     "output_type": "execute_result"
    }
   ],
   "source": [
    "# Create the bound between MT5 and Python\n",
    "mt5.initialize()"
   ]
  },
  {
   "cell_type": "markdown",
   "id": "54b5fa01",
   "metadata": {},
   "source": [
    "### Send buy order\n",
    "https://www.mql5.com/fr/docs/integration/python_metatrader5/mt5ordercheck_py"
   ]
  },
  {
   "cell_type": "code",
   "execution_count": 13,
   "id": "8d9c146d",
   "metadata": {},
   "outputs": [
    {
     "data": {
      "text/plain": [
       "OrderCheckResult(retcode=0, balance=9681.25, equity=9681.25, profit=0.0, margin=10.0, margin_free=9671.25, margin_level=96812.5, comment='Done', request=TradeRequest(action=1, magic=0, order=0, symbol='EURUSD', volume=0.01, price=1.09729, stoplimit=0.0, sl=0.0, tp=0.0, deviation=10, type=0, type_filling=1, type_time=0, expiration=0, comment='', position=0, position_by=0))"
      ]
     },
     "execution_count": 13,
     "metadata": {},
     "output_type": "execute_result"
    }
   ],
   "source": [
    "# Place buy order\n",
    "\n",
    "# Initialization value\n",
    "symbol = \"EURUSD\"\n",
    "lot = 0.01\n",
    "\n",
    "# Choose the deviation\n",
    "deviation = 10\n",
    "\n",
    "# Find the filling mode of symbol\n",
    "filling_type = mt5.symbol_info(symbol).filling_mode\n",
    "\n",
    "# Create dictionnary request\n",
    "request = {\n",
    "    \"action\": mt5.TRADE_ACTION_DEAL,\n",
    "    \"symbol\": symbol,\n",
    "    \"volume\": lot,\n",
    "    \"type\": mt5.ORDER_TYPE_BUY,\n",
    "    \"price\": mt5.symbol_info_tick(symbol).ask,\n",
    "    \"deviation\": deviation,\n",
    "    \"type_filling\": filling_type,\n",
    "    \"type_time\": mt5.ORDER_TIME_GTC\n",
    "}\n",
    "\n",
    "\n",
    "mt5.order_check(request)"
   ]
  },
  {
   "cell_type": "code",
   "execution_count": 14,
   "id": "bf3df3eb",
   "metadata": {},
   "outputs": [
    {
     "data": {
      "text/plain": [
       "OrderSendResult(retcode=10009, deal=50068612944, order=50067383081, volume=0.01, price=1.09728, bid=1.09728, ask=1.09728, comment='Request executed', request_id=3, retcode_external=0, request=TradeRequest(action=1, magic=0, order=0, symbol='EURUSD', volume=0.01, price=1.09724, stoplimit=0.0, sl=0.0, tp=0.0, deviation=10, type=0, type_filling=1, type_time=0, expiration=0, comment='', position=0, position_by=0))"
      ]
     },
     "execution_count": 14,
     "metadata": {},
     "output_type": "execute_result"
    }
   ],
   "source": [
    "request = {\n",
    "    \"action\": mt5.TRADE_ACTION_DEAL,\n",
    "    \"symbol\": symbol,\n",
    "    \"volume\": lot,\n",
    "    \"type\": mt5.ORDER_TYPE_BUY,\n",
    "    \"price\": mt5.symbol_info_tick(symbol).ask,\n",
    "    \"deviation\": deviation,\n",
    "    \"type_filling\": filling_type,\n",
    "    \"type_time\": mt5.ORDER_TIME_GTC\n",
    "}\n",
    "\n",
    "mt5.order_send(request)"
   ]
  },
  {
   "cell_type": "markdown",
   "id": "8b564ed8",
   "metadata": {},
   "source": [
    "### Place sell order"
   ]
  },
  {
   "cell_type": "code",
   "execution_count": 15,
   "id": "0ca111bc",
   "metadata": {},
   "outputs": [
    {
     "data": {
      "text/plain": [
       "OrderSendResult(retcode=10009, deal=50068614497, order=50067384583, volume=0.01, price=1.0973600000000001, bid=1.0973600000000001, ask=1.09738, comment='Request executed', request_id=4, retcode_external=0, request=TradeRequest(action=1, magic=0, order=0, symbol='EURUSD', volume=0.01, price=1.0973600000000001, stoplimit=0.0, sl=0.0, tp=0.0, deviation=10, type=1, type_filling=1, type_time=0, expiration=0, comment='', position=0, position_by=0))"
      ]
     },
     "execution_count": 15,
     "metadata": {},
     "output_type": "execute_result"
    }
   ],
   "source": [
    "request = {\n",
    "    \"action\": mt5.TRADE_ACTION_DEAL,\n",
    "    \"symbol\": symbol,\n",
    "    \"volume\": lot,\n",
    "    \"type\": mt5.ORDER_TYPE_SELL,\n",
    "    \"price\": mt5.symbol_info_tick(symbol).bid,\n",
    "    \"deviation\": deviation,\n",
    "    \"type_filling\": filling_type,\n",
    "    \"type_time\": mt5.ORDER_TIME_GTC\n",
    "}\n",
    "\n",
    "mt5.order_send(request)"
   ]
  },
  {
   "cell_type": "markdown",
   "id": "80ed8f72",
   "metadata": {},
   "source": [
    "### Close buy order"
   ]
  },
  {
   "cell_type": "code",
   "execution_count": 17,
   "id": "c250ccf7",
   "metadata": {},
   "outputs": [
    {
     "data": {
      "text/plain": [
       "OrderSendResult(retcode=10009, deal=50068616468, order=50067386541, volume=0.01, price=1.09734, bid=1.09734, ask=1.09734, comment='Request executed', request_id=5, retcode_external=0, request=TradeRequest(action=1, magic=0, order=0, symbol='EURUSD', volume=0.01, price=1.09734, stoplimit=0.0, sl=0.0, tp=0.0, deviation=10, type=1, type_filling=1, type_time=0, expiration=0, comment='', position=50067383081, position_by=0))"
      ]
     },
     "execution_count": 17,
     "metadata": {},
     "output_type": "execute_result"
    }
   ],
   "source": [
    "request = {\n",
    "    \"action\": mt5.TRADE_ACTION_DEAL,\n",
    "    \"symbol\": symbol,\n",
    "    \"position\":50067383081,\n",
    "    \"volume\": lot,\n",
    "    \"type\": mt5.ORDER_TYPE_SELL,\n",
    "    \"price\": mt5.symbol_info_tick(symbol).bid,\n",
    "    \"deviation\": deviation,\n",
    "    \"type_filling\": filling_type,\n",
    "    \"type_time\": mt5.ORDER_TIME_GTC\n",
    "}\n",
    "\n",
    "mt5.order_send(request)"
   ]
  },
  {
   "cell_type": "code",
   "execution_count": null,
   "id": "b9b8e549",
   "metadata": {},
   "outputs": [],
   "source": []
  },
  {
   "cell_type": "markdown",
   "id": "da90ca87",
   "metadata": {},
   "source": [
    "### Close sell order"
   ]
  },
  {
   "cell_type": "code",
   "execution_count": 18,
   "id": "9c9e8bea",
   "metadata": {},
   "outputs": [
    {
     "data": {
      "text/plain": [
       "OrderSendResult(retcode=10009, deal=50068617378, order=50067387451, volume=0.01, price=1.0973600000000001, bid=1.0973600000000001, ask=1.0973600000000001, comment='Request executed', request_id=6, retcode_external=0, request=TradeRequest(action=1, magic=0, order=0, symbol='EURUSD', volume=0.01, price=1.0973600000000001, stoplimit=0.0, sl=0.0, tp=0.0, deviation=10, type=0, type_filling=1, type_time=0, expiration=0, comment='', position=50067384583, position_by=0))"
      ]
     },
     "execution_count": 18,
     "metadata": {},
     "output_type": "execute_result"
    }
   ],
   "source": [
    "request = {\n",
    "    \"action\": mt5.TRADE_ACTION_DEAL,\n",
    "    \"symbol\": symbol,\n",
    "    \"position\":50067384583,\n",
    "    \"volume\": lot,\n",
    "    \"type\": mt5.ORDER_TYPE_BUY,\n",
    "    \"price\": mt5.symbol_info_tick(symbol).ask,\n",
    "    \"deviation\": deviation,\n",
    "    \"type_filling\": filling_type,\n",
    "    \"type_time\": mt5.ORDER_TIME_GTC\n",
    "}\n",
    "\n",
    "mt5.order_send(request)"
   ]
  },
  {
   "cell_type": "code",
   "execution_count": null,
   "id": "e49690c0",
   "metadata": {},
   "outputs": [],
   "source": []
  },
  {
   "cell_type": "markdown",
   "id": "5c33cab2",
   "metadata": {},
   "source": [
    "### Automate the process"
   ]
  },
  {
   "cell_type": "code",
   "execution_count": 19,
   "id": "2bfc8a0b",
   "metadata": {},
   "outputs": [],
   "source": [
    "def send_order(symbol, lot, buy, sell, id_position=None, comment=\" No specific comment\", magic=0):\n",
    "    \n",
    "    # Initialize the bound between MT5 and Python\n",
    "    mt5.initialize()\n",
    "    \n",
    "    # Extract filling_mode\n",
    "    filling_type = mt5.symbol_info(symbol).filling_mode\n",
    "    \n",
    "    \n",
    "    \"\"\" OPEN A TRADE \"\"\"\n",
    "    if buy and id_position==None:\n",
    "        request = {\n",
    "        \"action\": mt5.TRADE_ACTION_DEAL,\n",
    "        \"symbol\": symbol,\n",
    "        \"volume\": lot,\n",
    "        \"type\": mt5.ORDER_TYPE_BUY,\n",
    "        \"price\": mt5.symbol_info_tick(symbol).ask,\n",
    "        \"deviation\": 10,\n",
    "        \"magic\": magic,\n",
    "        \"comment\": comment,\n",
    "        \"type_filling\": filling_type,\n",
    "        \"type_time\": mt5.ORDER_TIME_GTC}\n",
    "        \n",
    "        result = mt5.order_send(request)\n",
    "        return result\n",
    "        \n",
    "    if sell and id_position==None:\n",
    "        request = {\n",
    "        \"action\": mt5.TRADE_ACTION_DEAL,\n",
    "        \"symbol\": symbol,\n",
    "        \"volume\": lot,\n",
    "        \"type\": mt5.ORDER_TYPE_SELL,\n",
    "        \"price\": mt5.symbol_info_tick(symbol).bid,\n",
    "        \"deviation\": 10,\n",
    "        \"magic\": magic,\n",
    "        \"comment\": comment,\n",
    "        \"type_filling\": filling_type,\n",
    "        \"type_time\": mt5.ORDER_TIME_GTC}\n",
    "        \n",
    "        result = mt5.order_send(request)\n",
    "        return result\n",
    "    \n",
    "    \n",
    "    \"\"\" CLOSE A TRADE \"\"\"\n",
    "    if buy and id_position!=None:\n",
    "        request = {\n",
    "        \"position\": id_position,\n",
    "        \"action\": mt5.TRADE_ACTION_DEAL,\n",
    "        \"symbol\": symbol,\n",
    "        \"volume\": lot,\n",
    "        \"type\": mt5.ORDER_TYPE_SELL,\n",
    "        \"price\": mt5.symbol_info_tick(symbol).bid,\n",
    "        \"deviation\": 10,\n",
    "        \"magic\": magic,\n",
    "        \"comment\": comment,\n",
    "        \"type_filling\": filling_type,\n",
    "        \"type_time\": mt5.ORDER_TIME_GTC}\n",
    "        \n",
    "        result = mt5.order_send(request)\n",
    "        return result\n",
    "        \n",
    "    if sell and id_position!=None:\n",
    "        request = {\n",
    "        \"position\": id_position,\n",
    "        \"action\": mt5.TRADE_ACTION_DEAL,\n",
    "        \"symbol\": symbol,\n",
    "        \"volume\": lot,\n",
    "        \"type\": mt5.ORDER_TYPE_BUY,\n",
    "        \"price\": mt5.symbol_info_tick(symbol).ask,\n",
    "        \"deviation\": 10,\n",
    "        \"magic\": magic,\n",
    "        \"comment\": comment,\n",
    "        \"type_filling\": filling_type,\n",
    "        \"type_time\": mt5.ORDER_TIME_GTC}\n",
    "        \n",
    "        result = mt5.order_send(request)\n",
    "        return result\n",
    "    \n"
   ]
  },
  {
   "cell_type": "code",
   "execution_count": 20,
   "id": "11cc36ae",
   "metadata": {},
   "outputs": [
    {
     "data": {
      "text/plain": [
       "OrderSendResult(retcode=10009, deal=50068620626, order=50067390646, volume=0.01, price=1.09733, bid=1.09733, ask=1.09733, comment='Request executed', request_id=7, retcode_external=0, request=TradeRequest(action=1, magic=0, order=0, symbol='EURUSD', volume=0.01, price=1.09733, stoplimit=0.0, sl=0.0, tp=0.0, deviation=10, type=0, type_filling=1, type_time=0, expiration=0, comment=' No specific comment', position=0, position_by=0))"
      ]
     },
     "execution_count": 20,
     "metadata": {},
     "output_type": "execute_result"
    }
   ],
   "source": [
    "information = send_order(\"EURUSD\", 0.01, True, False)\n",
    "information"
   ]
  },
  {
   "cell_type": "code",
   "execution_count": 21,
   "id": "cb5d427d",
   "metadata": {},
   "outputs": [
    {
     "data": {
      "text/plain": [
       "OrderSendResult(retcode=10009, deal=50068620956, order=50067390973, volume=0.01, price=1.09738, bid=1.09738, ask=1.09738, comment='Request executed', request_id=8, retcode_external=0, request=TradeRequest(action=1, magic=0, order=0, symbol='EURUSD', volume=0.01, price=1.09738, stoplimit=0.0, sl=0.0, tp=0.0, deviation=10, type=1, type_filling=1, type_time=0, expiration=0, comment=' No specific comment', position=50067390646, position_by=0))"
      ]
     },
     "execution_count": 21,
     "metadata": {},
     "output_type": "execute_result"
    }
   ],
   "source": [
    "send_order(\"EURUSD\", 0.01, True, False, id_position=information.order)"
   ]
  },
  {
   "cell_type": "code",
   "execution_count": null,
   "id": "e76787d2",
   "metadata": {},
   "outputs": [],
   "source": []
  }
 ],
 "metadata": {
  "kernelspec": {
   "display_name": "Python 3 (ipykernel)",
   "language": "python",
   "name": "python3"
  },
  "language_info": {
   "codemirror_mode": {
    "name": "ipython",
    "version": 3
   },
   "file_extension": ".py",
   "mimetype": "text/x-python",
   "name": "python",
   "nbconvert_exporter": "python",
   "pygments_lexer": "ipython3",
   "version": "3.9.7"
  }
 },
 "nbformat": 4,
 "nbformat_minor": 5
}
