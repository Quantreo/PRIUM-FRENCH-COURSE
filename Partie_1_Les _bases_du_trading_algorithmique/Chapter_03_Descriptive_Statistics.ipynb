{
  "nbformat": 4,
  "nbformat_minor": 0,
  "metadata": {
    "colab": {
      "name": "EN - S&P Chapter 1: Descriptive Statistics.ipynb",
      "provenance": [],
      "collapsed_sections": []
    },
    "kernelspec": {
      "name": "python3",
      "display_name": "Python 3"
    },
    "language_info": {
      "name": "python"
    }
  },
  "cells": [
    {
      "cell_type": "markdown",
      "source": [
        "<p><img alt=\"Colaboratory logo\" height=\"45px\" src=\"https://www.quantreo.com/wp-content/uploads/2021/10/Original-on-Transparent.png\" align=\"left\" hspace=\"10px\" vspace=\"0px\"></p>\n",
        "\n",
        "# Descriptive statistics\n",
        "This chapter will explain the most important statistics to describe a dataset in the financial world. Indeed, these methods are helpful in portfolio management, financial analysis, and trading.\n",
        "\n",
        "<br>\n",
        "\n",
        "### After this Chapter you will be able to:\n",
        "* Compute and understand how to interprate the mean\n",
        "* Compute and understand how to interprate the median\n",
        "* Compute and understand how to interprate mode\n",
        "* Compute and understand how to interprate the variance\n",
        "* Compute and understand how to interprate the standard  deviation\n",
        "* Compute and understand how to interprate the covariance\n",
        "* Compute and understand how to interprate the variance-covariance matrix\n",
        "* Compute and understand how to interprate the skweness ?\n",
        "* Compute and understand how to interprate the kurtosis ? \n",
        "\n",
        "<br>\n",
        "<br>\n",
        "<br>\n",
        "\n",
        "### Exercises (Trading / Portfolio management):\n",
        "* Compute the risk/return of a financial asset\n",
        "* Compute the correlation between asset properly\n",
        "\n",
        "\n",
        "\n",
        "\n",
        "\n",
        "<br>\n",
        "<br>\n",
        "\n",
        "💰Join our community: https://discord.gg/wXjNPAc5BH\n",
        "\n",
        "📚Read our book: https://www.amazon.com/gp/product/B09HG18CYL \n",
        "\n",
        "🖥️Quantreo's YouTube channel: https://www.youtube.com/channel/UCp7jckfiEglNf_Gj62VR0pw"
      ],
      "metadata": {
        "id": "y-8rMq6JigP5"
      }
    },
    {
      "cell_type": "code",
      "execution_count": null,
      "metadata": {
        "colab": {
          "base_uri": "https://localhost:8080/"
        },
        "id": "nFCPEnthiKDO",
        "outputId": "53baec39-7713-4f95-e161-89e3a07ce1f8"
      },
      "outputs": [
        {
          "output_type": "stream",
          "name": "stdout",
          "text": [
            "Collecting yfinance\n",
            "  Downloading yfinance-0.1.67-py2.py3-none-any.whl (25 kB)\n",
            "Requirement already satisfied: pandas>=0.24 in /usr/local/lib/python3.7/dist-packages (from yfinance) (1.1.5)\n",
            "Requirement already satisfied: numpy>=1.15 in /usr/local/lib/python3.7/dist-packages (from yfinance) (1.19.5)\n",
            "Collecting lxml>=4.5.1\n",
            "  Downloading lxml-4.6.4-cp37-cp37m-manylinux_2_17_x86_64.manylinux2014_x86_64.manylinux_2_24_x86_64.whl (6.3 MB)\n",
            "\u001b[K     |████████████████████████████████| 6.3 MB 35.8 MB/s \n",
            "\u001b[?25hRequirement already satisfied: multitasking>=0.0.7 in /usr/local/lib/python3.7/dist-packages (from yfinance) (0.0.10)\n",
            "Requirement already satisfied: requests>=2.20 in /usr/local/lib/python3.7/dist-packages (from yfinance) (2.23.0)\n",
            "Requirement already satisfied: python-dateutil>=2.7.3 in /usr/local/lib/python3.7/dist-packages (from pandas>=0.24->yfinance) (2.8.2)\n",
            "Requirement already satisfied: pytz>=2017.2 in /usr/local/lib/python3.7/dist-packages (from pandas>=0.24->yfinance) (2018.9)\n",
            "Requirement already satisfied: six>=1.5 in /usr/local/lib/python3.7/dist-packages (from python-dateutil>=2.7.3->pandas>=0.24->yfinance) (1.15.0)\n",
            "Requirement already satisfied: chardet<4,>=3.0.2 in /usr/local/lib/python3.7/dist-packages (from requests>=2.20->yfinance) (3.0.4)\n",
            "Requirement already satisfied: urllib3!=1.25.0,!=1.25.1,<1.26,>=1.21.1 in /usr/local/lib/python3.7/dist-packages (from requests>=2.20->yfinance) (1.24.3)\n",
            "Requirement already satisfied: certifi>=2017.4.17 in /usr/local/lib/python3.7/dist-packages (from requests>=2.20->yfinance) (2021.10.8)\n",
            "Requirement already satisfied: idna<3,>=2.5 in /usr/local/lib/python3.7/dist-packages (from requests>=2.20->yfinance) (2.10)\n",
            "Installing collected packages: lxml, yfinance\n",
            "  Attempting uninstall: lxml\n",
            "    Found existing installation: lxml 4.2.6\n",
            "    Uninstalling lxml-4.2.6:\n",
            "      Successfully uninstalled lxml-4.2.6\n",
            "Successfully installed lxml-4.6.4 yfinance-0.1.67\n"
          ]
        }
      ],
      "source": [
        "!pip install yfinance"
      ]
    },
    {
      "cell_type": "code",
      "source": [
        "import numpy as np\n",
        "import pandas as pd\n",
        "import yfinance as yf\n",
        "from scipy.stats import skew, kurtosis"
      ],
      "metadata": {
        "id": "zXkk6LzElFfO"
      },
      "execution_count": null,
      "outputs": []
    },
    {
      "cell_type": "code",
      "source": [
        "# Import some data\n",
        "df = yf.download(\"GOOG\")[\"Adj Close\"].pct_change(1).dropna()\n",
        "df"
      ],
      "metadata": {
        "colab": {
          "base_uri": "https://localhost:8080/"
        },
        "id": "GrWlJWnolRTW",
        "outputId": "605e0d01-b3d1-4ecc-8a6a-29389b4acec0"
      },
      "execution_count": null,
      "outputs": [
        {
          "output_type": "stream",
          "name": "stdout",
          "text": [
            "\r[*********************100%***********************]  1 of 1 completed\n"
          ]
        },
        {
          "output_type": "execute_result",
          "data": {
            "text/plain": [
              "Date\n",
              "2014-03-28    0.002740\n",
              "2014-03-31   -0.005393\n",
              "2014-04-01    0.018295\n",
              "2014-04-02   -0.000282\n",
              "2014-04-03    0.004833\n",
              "                ...   \n",
              "2021-12-06    0.008953\n",
              "2021-12-07    0.029486\n",
              "2021-12-08    0.004620\n",
              "2021-12-09   -0.004132\n",
              "2021-12-10    0.003842\n",
              "Name: Adj Close, Length: 1942, dtype: float64"
            ]
          },
          "metadata": {},
          "execution_count": 18
        }
      ]
    },
    {
      "cell_type": "markdown",
      "source": [
        "# Central tendency measure"
      ],
      "metadata": {
        "id": "p2tZo7CLlq4m"
      }
    },
    {
      "cell_type": "markdown",
      "source": [
        "### Mean"
      ],
      "metadata": {
        "id": "cg6J8vRRmSu1"
      }
    },
    {
      "cell_type": "code",
      "source": [
        "# -------- Mean with numpy ------------\n",
        "mean = np.mean(df, axis=0)*100\n",
        "print(f\"Daily Mean: {'%.2f' % mean} %\")\n",
        "\n",
        "# Annualization of the mean return\n",
        "annual_mean = mean * 252\n",
        "print(f\"Mean Annual: {'%.2f' % annual_mean} % \")\n",
        "\n",
        "# day mean return --> monthly mean return\n",
        "monthly_mean = mean * 21\n",
        "print(f\"Monthly Mean: {'%.2f' % monthly_mean} %\")"
      ],
      "metadata": {
        "colab": {
          "base_uri": "https://localhost:8080/"
        },
        "id": "eC4A85lHlscK",
        "outputId": "c9006894-a3d3-4e11-c3a1-c360a8a21113"
      },
      "execution_count": null,
      "outputs": [
        {
          "output_type": "stream",
          "name": "stdout",
          "text": [
            "Daily Mean: 0.10 %\n",
            "Mean Annual: 25.10 % \n",
            "Monthly Mean: 2.09 %\n"
          ]
        }
      ]
    },
    {
      "cell_type": "markdown",
      "source": [
        "### Median"
      ],
      "metadata": {
        "id": "i8b9avWkls4a"
      }
    },
    {
      "cell_type": "code",
      "source": [
        "# -------- Median with numpy ------------\n",
        "median = np.median(df, axis=0)*100\n",
        "print(f\"Daily Median: {'%.2f' % median} %\")\n",
        "\n",
        "# Annualization of the mean return\n",
        "annual_median = median * 252\n",
        "print(f\"Yearly Median: {'%.2f' % annual_median} % \")\n",
        "\n",
        "# day mean return --> monthly mean return\n",
        "monthly_median = median * 21\n",
        "print(f\"Monthly Median: {'%.2f' % monthly_median} %\")"
      ],
      "metadata": {
        "id": "8dcfWTX7lte-"
      },
      "execution_count": null,
      "outputs": []
    },
    {
      "cell_type": "markdown",
      "source": [
        "### Centile"
      ],
      "metadata": {
        "id": "IuPxPFuJlVzt"
      }
    },
    {
      "cell_type": "code",
      "source": [
        "# -------- Centile with numpy ------------\n",
        "centile_10 = np.quantile(df, 0.1, axis=0)*100\n",
        "print(f\"Centile 10%: {'%.2f' % centile_10} %\")\n",
        "\n",
        "centile_50 = np.quantile(df, 0.5, axis=0)*100\n",
        "print(f\"Centile 50%: {'%.2f' % centile_50} %\")\n",
        "\n",
        "centile_99 = np.quantile(df, 0.99, axis=0)*100\n",
        "print(f\"Centile 99%: {'%.2f' % centile_99} %\")"
      ],
      "metadata": {
        "colab": {
          "base_uri": "https://localhost:8080/"
        },
        "id": "-wiCbE5slZCd",
        "outputId": "deb830c9-2d4d-49e2-e12a-8395113a6a04"
      },
      "execution_count": null,
      "outputs": [
        {
          "output_type": "stream",
          "name": "stdout",
          "text": [
            "Centile 10%: -1.63 %\n",
            "Centile 50%: 0.10 %\n",
            "Centile 99%: 4.27 %\n"
          ]
        }
      ]
    },
    {
      "cell_type": "markdown",
      "source": [
        "# Standard dispersion measurement"
      ],
      "metadata": {
        "id": "PFYSeX7mluW_"
      }
    },
    {
      "cell_type": "markdown",
      "source": [
        "### Variance"
      ],
      "metadata": {
        "id": "it_t8g9flvj_"
      }
    },
    {
      "cell_type": "code",
      "source": [
        "# -------- Variance with numpy ------------\n",
        "var = np.var(df, axis=0)*100\n",
        "print(f\"Daily Median: {'%.2f' % var} %\")\n",
        "\n",
        "# Annualization of the mean return\n",
        "annual_var = var * 252\n",
        "print(f\"Median Annual: {'%.2f' % annual_var} % \")\n",
        "\n",
        "# day mean return --> monthly mean return\n",
        "monthly_var = var * 21\n",
        "print(f\"Monthly Mean: {'%.2f' % monthly_var} %\")"
      ],
      "metadata": {
        "id": "53hf0BApnAVD",
        "colab": {
          "base_uri": "https://localhost:8080/"
        },
        "outputId": "4b9ba3c0-c70d-423d-e93a-7dff93e47cf9"
      },
      "execution_count": null,
      "outputs": [
        {
          "output_type": "stream",
          "name": "stdout",
          "text": [
            "Daily Median: 0.03 %\n",
            "Median Annual: 6.75 % \n",
            "Monthly Mean: 0.56 %\n"
          ]
        }
      ]
    },
    {
      "cell_type": "markdown",
      "source": [
        "### Standard deviation"
      ],
      "metadata": {
        "id": "K6ztZywPlveM"
      }
    },
    {
      "cell_type": "code",
      "source": [
        "# -------- Stadard-Deviation with numpy ------------\n",
        "std = np.std(df, axis=0)*100\n",
        "print(f\"Daily Volatility: {'%.2f' % std} %\")\n",
        "\n",
        "# Annualization of the mean return\n",
        "annual_std = std * np.sqrt(252)\n",
        "print(f\"Annual Volatility: {'%.2f' % annual_std} % \")\n",
        "\n",
        "# day mean return --> monthly mean return\n",
        "monthly_std = std * np.sqrt(21)\n",
        "print(f\"Monthly Volatility: {'%.2f' % monthly_std} %\")"
      ],
      "metadata": {
        "id": "AVYHBUH8nCLj",
        "colab": {
          "base_uri": "https://localhost:8080/"
        },
        "outputId": "d4b55bca-ac59-43ad-e76e-5317dabf5446"
      },
      "execution_count": null,
      "outputs": [
        {
          "output_type": "stream",
          "name": "stdout",
          "text": [
            "Daily Volatility: 1.64 %\n",
            "Annual Volatility: 25.98 % \n",
            "Monthly Volatility: 7.50 %\n"
          ]
        }
      ]
    },
    {
      "cell_type": "markdown",
      "source": [
        "### Skweness"
      ],
      "metadata": {
        "id": "QiUm_ssInj3S"
      }
    },
    {
      "cell_type": "code",
      "source": [
        "# -------- Skweness with numpy ------------\n",
        "skw = skew(df)\n",
        "print(f\"Skweness: {'%.2f' % skw} \")"
      ],
      "metadata": {
        "id": "7MLNVSYxnlIM",
        "colab": {
          "base_uri": "https://localhost:8080/"
        },
        "outputId": "ba4f61d4-d982-4797-e2a2-09fde1f17bca"
      },
      "execution_count": null,
      "outputs": [
        {
          "output_type": "stream",
          "name": "stdout",
          "text": [
            "Skweness: 0.47 \n"
          ]
        }
      ]
    },
    {
      "cell_type": "markdown",
      "source": [
        "### Kurtosis"
      ],
      "metadata": {
        "id": "uAT1Fbxjnmo8"
      }
    },
    {
      "cell_type": "code",
      "source": [
        "# -------- Kurtosis with numpy ------------\n",
        "kurto = kurtosis(df)\n",
        "print(f\"Kurtosis: {'%.2f' % kurto}\")"
      ],
      "metadata": {
        "id": "DTDPx8sQnoKt",
        "colab": {
          "base_uri": "https://localhost:8080/"
        },
        "outputId": "db2a605a-23d2-434d-e1ae-09d52fc2906b"
      },
      "execution_count": null,
      "outputs": [
        {
          "output_type": "stream",
          "name": "stdout",
          "text": [
            "Kurtosis: 9.68\n"
          ]
        }
      ]
    },
    {
      "cell_type": "markdown",
      "source": [
        "# Relationship measurement"
      ],
      "metadata": {
        "id": "PifaiEO_lvRr"
      }
    },
    {
      "cell_type": "markdown",
      "source": [
        "### Variance Covariance matrix"
      ],
      "metadata": {
        "id": "0frdccR1lutn"
      }
    },
    {
      "cell_type": "code",
      "source": [
        "# Import several assets\n",
        "df = yf.download([\"GOOG\",\"EURUSD=X\"])[\"Adj Close\"].pct_change(1).dropna()"
      ],
      "metadata": {
        "colab": {
          "base_uri": "https://localhost:8080/"
        },
        "id": "2QHnKYZdg9QP",
        "outputId": "5cb337b4-6b2d-4767-b0e5-2611b9f85e06"
      },
      "execution_count": null,
      "outputs": [
        {
          "output_type": "stream",
          "name": "stdout",
          "text": [
            "[*********************100%***********************]  2 of 2 completed\n"
          ]
        }
      ]
    },
    {
      "cell_type": "code",
      "source": [
        "# Variance Covariance matrix\n",
        "mat = np.cov(df, rowvar=False)\n",
        "mat"
      ],
      "metadata": {
        "id": "S0ugetwlnKGc",
        "colab": {
          "base_uri": "https://localhost:8080/"
        },
        "outputId": "fda71381-6bd2-41e0-f94b-33ac053bfe04"
      },
      "execution_count": null,
      "outputs": [
        {
          "output_type": "execute_result",
          "data": {
            "text/plain": [
              "array([[ 2.40234701e-05, -1.13876470e-06],\n",
              "       [-1.13876470e-06,  2.58833065e-04]])"
            ]
          },
          "metadata": {},
          "execution_count": 11
        }
      ]
    },
    {
      "cell_type": "markdown",
      "source": [
        "### Covariance"
      ],
      "metadata": {
        "id": "99XR-ZVYlvId"
      }
    },
    {
      "cell_type": "code",
      "source": [
        "# Covariance\n",
        "mat[0][1]"
      ],
      "metadata": {
        "id": "4sToNOY5nQ1s",
        "colab": {
          "base_uri": "https://localhost:8080/"
        },
        "outputId": "3b5cf512-3c34-4195-e4e6-146c38f1471e"
      },
      "execution_count": null,
      "outputs": [
        {
          "output_type": "execute_result",
          "data": {
            "text/plain": [
              "-1.1387646967552557e-06"
            ]
          },
          "metadata": {},
          "execution_count": 12
        }
      ]
    },
    {
      "cell_type": "markdown",
      "source": [
        "### Correlation"
      ],
      "metadata": {
        "id": "cn1dVDfPh_84"
      }
    },
    {
      "cell_type": "code",
      "source": [
        "# Correlation matrix\n",
        "df.corr()"
      ],
      "metadata": {
        "colab": {
          "base_uri": "https://localhost:8080/",
          "height": 111
        },
        "id": "uDCl-IDeh-bE",
        "outputId": "f2f9cb44-698d-4c2a-dbb3-de773ee44c8e"
      },
      "execution_count": null,
      "outputs": [
        {
          "output_type": "execute_result",
          "data": {
            "text/html": [
              "<div>\n",
              "<style scoped>\n",
              "    .dataframe tbody tr th:only-of-type {\n",
              "        vertical-align: middle;\n",
              "    }\n",
              "\n",
              "    .dataframe tbody tr th {\n",
              "        vertical-align: top;\n",
              "    }\n",
              "\n",
              "    .dataframe thead th {\n",
              "        text-align: right;\n",
              "    }\n",
              "</style>\n",
              "<table border=\"1\" class=\"dataframe\">\n",
              "  <thead>\n",
              "    <tr style=\"text-align: right;\">\n",
              "      <th></th>\n",
              "      <th>EURUSD=X</th>\n",
              "      <th>GOOG</th>\n",
              "    </tr>\n",
              "  </thead>\n",
              "  <tbody>\n",
              "    <tr>\n",
              "      <th>EURUSD=X</th>\n",
              "      <td>1.000000</td>\n",
              "      <td>-0.014441</td>\n",
              "    </tr>\n",
              "    <tr>\n",
              "      <th>GOOG</th>\n",
              "      <td>-0.014441</td>\n",
              "      <td>1.000000</td>\n",
              "    </tr>\n",
              "  </tbody>\n",
              "</table>\n",
              "</div>"
            ],
            "text/plain": [
              "          EURUSD=X      GOOG\n",
              "EURUSD=X  1.000000 -0.014441\n",
              "GOOG     -0.014441  1.000000"
            ]
          },
          "metadata": {},
          "execution_count": 13
        }
      ]
    },
    {
      "cell_type": "markdown",
      "source": [
        "# EXERCISES"
      ],
      "metadata": {
        "id": "RH1GSNFgj2Je"
      }
    },
    {
      "cell_type": "markdown",
      "source": [
        "### Exercise 1: Compute the **annualized risk return** couple for Microsoft stock price (Yahoo symbol: MSFT). Don't forget to use the variations price"
      ],
      "metadata": {
        "id": "-pUpScZZj7N1"
      }
    },
    {
      "cell_type": "code",
      "source": [
        "# Import the prices\n",
        "df = yf.download(\"MSFT\")[\"Adj Close\"].pct_change(1).dropna()\n",
        "\n",
        "# Compute risk return\n",
        "mean = np.mean(df) * 252 * 100\n",
        "vol = np.std(df) * np.sqrt(252) * 100\n",
        "\n",
        "print(f\"MSFT | \\t returns: {'%.2f' % mean} % \\t volatility: {'%.2f' % vol} %\")"
      ],
      "metadata": {
        "colab": {
          "base_uri": "https://localhost:8080/"
        },
        "id": "ODWMcx4tj6fR",
        "outputId": "4b1c3b88-8aec-4b20-e0fe-b594baadad8d"
      },
      "execution_count": null,
      "outputs": [
        {
          "output_type": "stream",
          "name": "stdout",
          "text": [
            "\r[*********************100%***********************]  1 of 1 completed\n",
            "MSFT | \t returns: 29.85 % \t volatility: 33.81 %\n"
          ]
        }
      ]
    },
    {
      "cell_type": "markdown",
      "source": [
        "### Exercise 2: Compute the covariance and the correlation matrix for the following assets: [\"AMZN\", \"MSFT\", \"GOOG\", \"EURUSD=X\", \"BTC-USD\"]"
      ],
      "metadata": {
        "id": "sL5YN_fDoWXk"
      }
    },
    {
      "cell_type": "code",
      "source": [
        "df = yf.download([\"AMZN\", \"MSFT\", \"GOOG\", \"EURUSD=X\", \"BTC-USD\"])[\"Adj Close\"].pct_change(1).dropna()\n",
        "df.cov()"
      ],
      "metadata": {
        "colab": {
          "base_uri": "https://localhost:8080/",
          "height": 221
        },
        "id": "EnVzvLzfoDqg",
        "outputId": "c7f2c187-2d99-4a24-fc8e-2071329ac6a8"
      },
      "execution_count": null,
      "outputs": [
        {
          "output_type": "stream",
          "name": "stdout",
          "text": [
            "[*********************100%***********************]  5 of 5 completed\n"
          ]
        },
        {
          "output_type": "execute_result",
          "data": {
            "text/html": [
              "<div>\n",
              "<style scoped>\n",
              "    .dataframe tbody tr th:only-of-type {\n",
              "        vertical-align: middle;\n",
              "    }\n",
              "\n",
              "    .dataframe tbody tr th {\n",
              "        vertical-align: top;\n",
              "    }\n",
              "\n",
              "    .dataframe thead th {\n",
              "        text-align: right;\n",
              "    }\n",
              "</style>\n",
              "<table border=\"1\" class=\"dataframe\">\n",
              "  <thead>\n",
              "    <tr style=\"text-align: right;\">\n",
              "      <th></th>\n",
              "      <th>AMZN</th>\n",
              "      <th>BTC-USD</th>\n",
              "      <th>EURUSD=X</th>\n",
              "      <th>GOOG</th>\n",
              "      <th>MSFT</th>\n",
              "    </tr>\n",
              "  </thead>\n",
              "  <tbody>\n",
              "    <tr>\n",
              "      <th>AMZN</th>\n",
              "      <td>2.480388e-04</td>\n",
              "      <td>0.000042</td>\n",
              "      <td>-2.160787e-07</td>\n",
              "      <td>1.383901e-04</td>\n",
              "      <td>0.000140</td>\n",
              "    </tr>\n",
              "    <tr>\n",
              "      <th>BTC-USD</th>\n",
              "      <td>4.191048e-05</td>\n",
              "      <td>0.001521</td>\n",
              "      <td>-1.706122e-06</td>\n",
              "      <td>5.484372e-05</td>\n",
              "      <td>0.000065</td>\n",
              "    </tr>\n",
              "    <tr>\n",
              "      <th>EURUSD=X</th>\n",
              "      <td>-2.160787e-07</td>\n",
              "      <td>-0.000002</td>\n",
              "      <td>1.793829e-05</td>\n",
              "      <td>-8.180438e-07</td>\n",
              "      <td>-0.000001</td>\n",
              "    </tr>\n",
              "    <tr>\n",
              "      <th>GOOG</th>\n",
              "      <td>1.383901e-04</td>\n",
              "      <td>0.000055</td>\n",
              "      <td>-8.180438e-07</td>\n",
              "      <td>1.888534e-04</td>\n",
              "      <td>0.000138</td>\n",
              "    </tr>\n",
              "    <tr>\n",
              "      <th>MSFT</th>\n",
              "      <td>1.400978e-04</td>\n",
              "      <td>0.000065</td>\n",
              "      <td>-1.026322e-06</td>\n",
              "      <td>1.383320e-04</td>\n",
              "      <td>0.000196</td>\n",
              "    </tr>\n",
              "  </tbody>\n",
              "</table>\n",
              "</div>"
            ],
            "text/plain": [
              "                  AMZN   BTC-USD      EURUSD=X          GOOG      MSFT\n",
              "AMZN      2.480388e-04  0.000042 -2.160787e-07  1.383901e-04  0.000140\n",
              "BTC-USD   4.191048e-05  0.001521 -1.706122e-06  5.484372e-05  0.000065\n",
              "EURUSD=X -2.160787e-07 -0.000002  1.793829e-05 -8.180438e-07 -0.000001\n",
              "GOOG      1.383901e-04  0.000055 -8.180438e-07  1.888534e-04  0.000138\n",
              "MSFT      1.400978e-04  0.000065 -1.026322e-06  1.383320e-04  0.000196"
            ]
          },
          "metadata": {},
          "execution_count": 35
        }
      ]
    },
    {
      "cell_type": "code",
      "source": [
        "df.corr()"
      ],
      "metadata": {
        "colab": {
          "base_uri": "https://localhost:8080/",
          "height": 204
        },
        "id": "GtXEcqHKo-0O",
        "outputId": "4ca65222-3723-4600-dffe-4de646d9abe2"
      },
      "execution_count": null,
      "outputs": [
        {
          "output_type": "execute_result",
          "data": {
            "text/html": [
              "<div>\n",
              "<style scoped>\n",
              "    .dataframe tbody tr th:only-of-type {\n",
              "        vertical-align: middle;\n",
              "    }\n",
              "\n",
              "    .dataframe tbody tr th {\n",
              "        vertical-align: top;\n",
              "    }\n",
              "\n",
              "    .dataframe thead th {\n",
              "        text-align: right;\n",
              "    }\n",
              "</style>\n",
              "<table border=\"1\" class=\"dataframe\">\n",
              "  <thead>\n",
              "    <tr style=\"text-align: right;\">\n",
              "      <th></th>\n",
              "      <th>AMZN</th>\n",
              "      <th>BTC-USD</th>\n",
              "      <th>EURUSD=X</th>\n",
              "      <th>GOOG</th>\n",
              "      <th>MSFT</th>\n",
              "    </tr>\n",
              "  </thead>\n",
              "  <tbody>\n",
              "    <tr>\n",
              "      <th>AMZN</th>\n",
              "      <td>1.000000</td>\n",
              "      <td>0.068243</td>\n",
              "      <td>-0.003239</td>\n",
              "      <td>0.639415</td>\n",
              "      <td>0.635379</td>\n",
              "    </tr>\n",
              "    <tr>\n",
              "      <th>BTC-USD</th>\n",
              "      <td>0.068243</td>\n",
              "      <td>1.000000</td>\n",
              "      <td>-0.010330</td>\n",
              "      <td>0.102344</td>\n",
              "      <td>0.119769</td>\n",
              "    </tr>\n",
              "    <tr>\n",
              "      <th>EURUSD=X</th>\n",
              "      <td>-0.003239</td>\n",
              "      <td>-0.010330</td>\n",
              "      <td>1.000000</td>\n",
              "      <td>-0.014055</td>\n",
              "      <td>-0.017308</td>\n",
              "    </tr>\n",
              "    <tr>\n",
              "      <th>GOOG</th>\n",
              "      <td>0.639415</td>\n",
              "      <td>0.102344</td>\n",
              "      <td>-0.014055</td>\n",
              "      <td>1.000000</td>\n",
              "      <td>0.718987</td>\n",
              "    </tr>\n",
              "    <tr>\n",
              "      <th>MSFT</th>\n",
              "      <td>0.635379</td>\n",
              "      <td>0.119769</td>\n",
              "      <td>-0.017308</td>\n",
              "      <td>0.718987</td>\n",
              "      <td>1.000000</td>\n",
              "    </tr>\n",
              "  </tbody>\n",
              "</table>\n",
              "</div>"
            ],
            "text/plain": [
              "              AMZN   BTC-USD  EURUSD=X      GOOG      MSFT\n",
              "AMZN      1.000000  0.068243 -0.003239  0.639415  0.635379\n",
              "BTC-USD   0.068243  1.000000 -0.010330  0.102344  0.119769\n",
              "EURUSD=X -0.003239 -0.010330  1.000000 -0.014055 -0.017308\n",
              "GOOG      0.639415  0.102344 -0.014055  1.000000  0.718987\n",
              "MSFT      0.635379  0.119769 -0.017308  0.718987  1.000000"
            ]
          },
          "metadata": {},
          "execution_count": 36
        }
      ]
    },
    {
      "cell_type": "code",
      "source": [
        ""
      ],
      "metadata": {
        "id": "YqYQndrSpAIz"
      },
      "execution_count": null,
      "outputs": []
    }
  ]
}