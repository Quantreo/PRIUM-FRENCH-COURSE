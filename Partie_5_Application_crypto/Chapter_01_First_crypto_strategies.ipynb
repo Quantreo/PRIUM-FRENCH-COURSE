{
  "nbformat": 4,
  "nbformat_minor": 0,
  "metadata": {
    "colab": {
      "name": "EN - CR Chapter 3: First crypto strategies.ipynb",
      "provenance": []
    },
    "kernelspec": {
      "name": "python3",
      "display_name": "Python 3"
    },
    "language_info": {
      "name": "python"
    }
  },
  "cells": [
    {
      "cell_type": "markdown",
      "source": [
        "<p><img alt=\"Colaboratory logo\" height=\"45px\" src=\"https://www.quantreo.com/wp-content/uploads/2021/10/Original-on-Transparent.png\" align=\"left\" hspace=\"10px\" vspace=\"0px\"></p>\n",
        "\n",
        "# Create your first crypto trading strategy\n",
        "\n",
        "### Summary\n",
        "* Manage the data\n",
        "* Support & Resistance\n",
        "* Strategy\n",
        "* Graph\n",
        "* Compute the profit\n",
        "* Automatization\n",
        "* Test other cryptocurrencies\n",
        "\n",
        "<br>\n",
        "\n",
        "\n",
        "💰Join our community: https://discord.gg/wXjNPAc5BH\n",
        "\n",
        "📚Read our book: https://www.amazon.com/gp/product/B09HG18CYL \n",
        "\n",
        "🖥️Quantreo's YouTube channel: https://www.youtube.com/channel/UCp7jckfiEglNf_Gj62VR0pw"
      ],
      "metadata": {
        "id": "1ZsY5xy5sSf2"
      }
    },
    {
      "cell_type": "code",
      "execution_count": null,
      "metadata": {
        "id": "vjIltp4XqmxX"
      },
      "outputs": [],
      "source": [
        "import numpy as np\n",
        "import pandas as pd\n",
        "\n",
        "import warnings\n",
        "warnings.filterwarnings(\"ignore\")"
      ]
    },
    {
      "cell_type": "code",
      "source": [
        "# The code here will allow you to switch your graphics to dark mode for those who choose to code in dark mode\n",
        "import matplotlib.pyplot as plt\n",
        "\n",
        "import matplotlib as mpl\n",
        "from matplotlib import cycler\n",
        "colors = cycler('color',\n",
        "                ['#669FEE', '#66EE91', '#9988DD',\n",
        "                 '#EECC55', '#88BB44', '#FFBBBB'])\n",
        "plt.rc('figure', facecolor='#313233')\n",
        "plt.rc('axes', facecolor=\"#313233\", edgecolor='none',\n",
        "       axisbelow=True, grid=True, prop_cycle=colors,\n",
        "       labelcolor='gray')\n",
        "plt.rc('grid', color='474A4A', linestyle='solid')\n",
        "plt.rc('xtick', color='gray')\n",
        "plt.rc('ytick', direction='out', color='gray')\n",
        "plt.rc('legend', facecolor=\"#313233\", edgecolor=\"#313233\")\n",
        "plt.rc(\"text\", color=\"#C9C9C9\")"
      ],
      "metadata": {
        "id": "xBnTuK574blN"
      },
      "execution_count": null,
      "outputs": []
    },
    {
      "cell_type": "markdown",
      "source": [
        "# Manage the data\n"
      ],
      "metadata": {
        "id": "ojd6NbD3Us06"
      }
    },
    {
      "cell_type": "code",
      "source": [
        "# Import brut data\n",
        "df = pd.read_csv(\"BTCUSD_D1.csv\")\n",
        "df"
      ],
      "metadata": {
        "colab": {
          "base_uri": "https://localhost:8080/",
          "height": 419
        },
        "id": "I0G5yH4B4kQM",
        "outputId": "c74ff141-139a-4bd3-d68f-eed715d7ea2c"
      },
      "execution_count": null,
      "outputs": [
        {
          "output_type": "execute_result",
          "data": {
            "text/html": [
              "\n",
              "  <div id=\"df-862e7572-1f75-437f-b466-cf7858ff88bc\">\n",
              "    <div class=\"colab-df-container\">\n",
              "      <div>\n",
              "<style scoped>\n",
              "    .dataframe tbody tr th:only-of-type {\n",
              "        vertical-align: middle;\n",
              "    }\n",
              "\n",
              "    .dataframe tbody tr th {\n",
              "        vertical-align: top;\n",
              "    }\n",
              "\n",
              "    .dataframe thead th {\n",
              "        text-align: right;\n",
              "    }\n",
              "</style>\n",
              "<table border=\"1\" class=\"dataframe\">\n",
              "  <thead>\n",
              "    <tr style=\"text-align: right;\">\n",
              "      <th></th>\n",
              "      <th>&lt;DATE&gt;\\t&lt;OPEN&gt;\\t&lt;HIGH&gt;\\t&lt;LOW&gt;\\t&lt;CLOSE&gt;\\t&lt;TICKVOL&gt;\\t&lt;VOL&gt;\\t&lt;SPREAD&gt;</th>\n",
              "    </tr>\n",
              "  </thead>\n",
              "  <tbody>\n",
              "    <tr>\n",
              "      <th>0</th>\n",
              "      <td>2013.01.12\\t14.260\\t14.340\\t13.980\\t14.240\\t26...</td>\n",
              "    </tr>\n",
              "    <tr>\n",
              "      <th>1</th>\n",
              "      <td>2013.01.13\\t14.240\\t14.320\\t13.950\\t14.120\\t44...</td>\n",
              "    </tr>\n",
              "    <tr>\n",
              "      <th>2</th>\n",
              "      <td>2013.01.14\\t14.190\\t14.350\\t14.110\\t14.300\\t22...</td>\n",
              "    </tr>\n",
              "    <tr>\n",
              "      <th>3</th>\n",
              "      <td>2013.01.15\\t14.350\\t14.480\\t13.990\\t14.250\\t51...</td>\n",
              "    </tr>\n",
              "    <tr>\n",
              "      <th>4</th>\n",
              "      <td>2013.01.16\\t14.300\\t14.730\\t14.210\\t14.730\\t45...</td>\n",
              "    </tr>\n",
              "    <tr>\n",
              "      <th>...</th>\n",
              "      <td>...</td>\n",
              "    </tr>\n",
              "    <tr>\n",
              "      <th>2835</th>\n",
              "      <td>2022.01.05\\t46210.334\\t47056.482\\t43456.663\\t4...</td>\n",
              "    </tr>\n",
              "    <tr>\n",
              "      <th>2836</th>\n",
              "      <td>2022.01.06\\t43594.098\\t43775.633\\t42423.391\\t4...</td>\n",
              "    </tr>\n",
              "    <tr>\n",
              "      <th>2837</th>\n",
              "      <td>2022.01.07\\t43109.849\\t43230.589\\t40619.650\\t4...</td>\n",
              "    </tr>\n",
              "    <tr>\n",
              "      <th>2838</th>\n",
              "      <td>2022.01.10\\t42289.425\\t42483.756\\t39652.164\\t4...</td>\n",
              "    </tr>\n",
              "    <tr>\n",
              "      <th>2839</th>\n",
              "      <td>2022.01.11\\t41711.134\\t42589.340\\t41497.163\\t4...</td>\n",
              "    </tr>\n",
              "  </tbody>\n",
              "</table>\n",
              "<p>2840 rows × 1 columns</p>\n",
              "</div>\n",
              "      <button class=\"colab-df-convert\" onclick=\"convertToInteractive('df-862e7572-1f75-437f-b466-cf7858ff88bc')\"\n",
              "              title=\"Convert this dataframe to an interactive table.\"\n",
              "              style=\"display:none;\">\n",
              "        \n",
              "  <svg xmlns=\"http://www.w3.org/2000/svg\" height=\"24px\"viewBox=\"0 0 24 24\"\n",
              "       width=\"24px\">\n",
              "    <path d=\"M0 0h24v24H0V0z\" fill=\"none\"/>\n",
              "    <path d=\"M18.56 5.44l.94 2.06.94-2.06 2.06-.94-2.06-.94-.94-2.06-.94 2.06-2.06.94zm-11 1L8.5 8.5l.94-2.06 2.06-.94-2.06-.94L8.5 2.5l-.94 2.06-2.06.94zm10 10l.94 2.06.94-2.06 2.06-.94-2.06-.94-.94-2.06-.94 2.06-2.06.94z\"/><path d=\"M17.41 7.96l-1.37-1.37c-.4-.4-.92-.59-1.43-.59-.52 0-1.04.2-1.43.59L10.3 9.45l-7.72 7.72c-.78.78-.78 2.05 0 2.83L4 21.41c.39.39.9.59 1.41.59.51 0 1.02-.2 1.41-.59l7.78-7.78 2.81-2.81c.8-.78.8-2.07 0-2.86zM5.41 20L4 18.59l7.72-7.72 1.47 1.35L5.41 20z\"/>\n",
              "  </svg>\n",
              "      </button>\n",
              "      \n",
              "  <style>\n",
              "    .colab-df-container {\n",
              "      display:flex;\n",
              "      flex-wrap:wrap;\n",
              "      gap: 12px;\n",
              "    }\n",
              "\n",
              "    .colab-df-convert {\n",
              "      background-color: #E8F0FE;\n",
              "      border: none;\n",
              "      border-radius: 50%;\n",
              "      cursor: pointer;\n",
              "      display: none;\n",
              "      fill: #1967D2;\n",
              "      height: 32px;\n",
              "      padding: 0 0 0 0;\n",
              "      width: 32px;\n",
              "    }\n",
              "\n",
              "    .colab-df-convert:hover {\n",
              "      background-color: #E2EBFA;\n",
              "      box-shadow: 0px 1px 2px rgba(60, 64, 67, 0.3), 0px 1px 3px 1px rgba(60, 64, 67, 0.15);\n",
              "      fill: #174EA6;\n",
              "    }\n",
              "\n",
              "    [theme=dark] .colab-df-convert {\n",
              "      background-color: #3B4455;\n",
              "      fill: #D2E3FC;\n",
              "    }\n",
              "\n",
              "    [theme=dark] .colab-df-convert:hover {\n",
              "      background-color: #434B5C;\n",
              "      box-shadow: 0px 1px 3px 1px rgba(0, 0, 0, 0.15);\n",
              "      filter: drop-shadow(0px 1px 2px rgba(0, 0, 0, 0.3));\n",
              "      fill: #FFFFFF;\n",
              "    }\n",
              "  </style>\n",
              "\n",
              "      <script>\n",
              "        const buttonEl =\n",
              "          document.querySelector('#df-862e7572-1f75-437f-b466-cf7858ff88bc button.colab-df-convert');\n",
              "        buttonEl.style.display =\n",
              "          google.colab.kernel.accessAllowed ? 'block' : 'none';\n",
              "\n",
              "        async function convertToInteractive(key) {\n",
              "          const element = document.querySelector('#df-862e7572-1f75-437f-b466-cf7858ff88bc');\n",
              "          const dataTable =\n",
              "            await google.colab.kernel.invokeFunction('convertToInteractive',\n",
              "                                                     [key], {});\n",
              "          if (!dataTable) return;\n",
              "\n",
              "          const docLinkHtml = 'Like what you see? Visit the ' +\n",
              "            '<a target=\"_blank\" href=https://colab.research.google.com/notebooks/data_table.ipynb>data table notebook</a>'\n",
              "            + ' to learn more about interactive tables.';\n",
              "          element.innerHTML = '';\n",
              "          dataTable['output_type'] = 'display_data';\n",
              "          await google.colab.output.renderOutput(dataTable, element);\n",
              "          const docLink = document.createElement('div');\n",
              "          docLink.innerHTML = docLinkHtml;\n",
              "          element.appendChild(docLink);\n",
              "        }\n",
              "      </script>\n",
              "    </div>\n",
              "  </div>\n",
              "  "
            ],
            "text/plain": [
              "     <DATE>\\t<OPEN>\\t<HIGH>\\t<LOW>\\t<CLOSE>\\t<TICKVOL>\\t<VOL>\\t<SPREAD>\n",
              "0     2013.01.12\\t14.260\\t14.340\\t13.980\\t14.240\\t26...                \n",
              "1     2013.01.13\\t14.240\\t14.320\\t13.950\\t14.120\\t44...                \n",
              "2     2013.01.14\\t14.190\\t14.350\\t14.110\\t14.300\\t22...                \n",
              "3     2013.01.15\\t14.350\\t14.480\\t13.990\\t14.250\\t51...                \n",
              "4     2013.01.16\\t14.300\\t14.730\\t14.210\\t14.730\\t45...                \n",
              "...                                                 ...                \n",
              "2835  2022.01.05\\t46210.334\\t47056.482\\t43456.663\\t4...                \n",
              "2836  2022.01.06\\t43594.098\\t43775.633\\t42423.391\\t4...                \n",
              "2837  2022.01.07\\t43109.849\\t43230.589\\t40619.650\\t4...                \n",
              "2838  2022.01.10\\t42289.425\\t42483.756\\t39652.164\\t4...                \n",
              "2839  2022.01.11\\t41711.134\\t42589.340\\t41497.163\\t4...                \n",
              "\n",
              "[2840 rows x 1 columns]"
            ]
          },
          "metadata": {},
          "execution_count": 3
        }
      ]
    },
    {
      "cell_type": "code",
      "source": [
        "# Add the delimiter\n",
        "df = pd.read_csv(\"BTCUSD_D1.csv\", delimiter=\"\\t\")\n",
        "df"
      ],
      "metadata": {
        "colab": {
          "base_uri": "https://localhost:8080/",
          "height": 419
        },
        "id": "l5Yw3s0KVNBJ",
        "outputId": "c2086260-60cd-4444-f810-c3ebc0c12b9e"
      },
      "execution_count": null,
      "outputs": [
        {
          "output_type": "execute_result",
          "data": {
            "text/html": [
              "\n",
              "  <div id=\"df-d3849253-1fc0-449b-8e4f-c65642b568ab\">\n",
              "    <div class=\"colab-df-container\">\n",
              "      <div>\n",
              "<style scoped>\n",
              "    .dataframe tbody tr th:only-of-type {\n",
              "        vertical-align: middle;\n",
              "    }\n",
              "\n",
              "    .dataframe tbody tr th {\n",
              "        vertical-align: top;\n",
              "    }\n",
              "\n",
              "    .dataframe thead th {\n",
              "        text-align: right;\n",
              "    }\n",
              "</style>\n",
              "<table border=\"1\" class=\"dataframe\">\n",
              "  <thead>\n",
              "    <tr style=\"text-align: right;\">\n",
              "      <th></th>\n",
              "      <th>&lt;DATE&gt;</th>\n",
              "      <th>&lt;OPEN&gt;</th>\n",
              "      <th>&lt;HIGH&gt;</th>\n",
              "      <th>&lt;LOW&gt;</th>\n",
              "      <th>&lt;CLOSE&gt;</th>\n",
              "      <th>&lt;TICKVOL&gt;</th>\n",
              "      <th>&lt;VOL&gt;</th>\n",
              "      <th>&lt;SPREAD&gt;</th>\n",
              "    </tr>\n",
              "  </thead>\n",
              "  <tbody>\n",
              "    <tr>\n",
              "      <th>0</th>\n",
              "      <td>2013.01.12</td>\n",
              "      <td>14.260</td>\n",
              "      <td>14.340</td>\n",
              "      <td>13.980</td>\n",
              "      <td>14.240</td>\n",
              "      <td>26930</td>\n",
              "      <td>0</td>\n",
              "      <td>0</td>\n",
              "    </tr>\n",
              "    <tr>\n",
              "      <th>1</th>\n",
              "      <td>2013.01.13</td>\n",
              "      <td>14.240</td>\n",
              "      <td>14.320</td>\n",
              "      <td>13.950</td>\n",
              "      <td>14.120</td>\n",
              "      <td>44331</td>\n",
              "      <td>0</td>\n",
              "      <td>0</td>\n",
              "    </tr>\n",
              "    <tr>\n",
              "      <th>2</th>\n",
              "      <td>2013.01.14</td>\n",
              "      <td>14.190</td>\n",
              "      <td>14.350</td>\n",
              "      <td>14.110</td>\n",
              "      <td>14.300</td>\n",
              "      <td>22094</td>\n",
              "      <td>0</td>\n",
              "      <td>0</td>\n",
              "    </tr>\n",
              "    <tr>\n",
              "      <th>3</th>\n",
              "      <td>2013.01.15</td>\n",
              "      <td>14.350</td>\n",
              "      <td>14.480</td>\n",
              "      <td>13.990</td>\n",
              "      <td>14.250</td>\n",
              "      <td>51570</td>\n",
              "      <td>0</td>\n",
              "      <td>0</td>\n",
              "    </tr>\n",
              "    <tr>\n",
              "      <th>4</th>\n",
              "      <td>2013.01.16</td>\n",
              "      <td>14.300</td>\n",
              "      <td>14.730</td>\n",
              "      <td>14.210</td>\n",
              "      <td>14.730</td>\n",
              "      <td>45534</td>\n",
              "      <td>0</td>\n",
              "      <td>0</td>\n",
              "    </tr>\n",
              "    <tr>\n",
              "      <th>...</th>\n",
              "      <td>...</td>\n",
              "      <td>...</td>\n",
              "      <td>...</td>\n",
              "      <td>...</td>\n",
              "      <td>...</td>\n",
              "      <td>...</td>\n",
              "      <td>...</td>\n",
              "      <td>...</td>\n",
              "    </tr>\n",
              "    <tr>\n",
              "      <th>2835</th>\n",
              "      <td>2022.01.05</td>\n",
              "      <td>46210.334</td>\n",
              "      <td>47056.482</td>\n",
              "      <td>43456.663</td>\n",
              "      <td>43597.237</td>\n",
              "      <td>67209</td>\n",
              "      <td>0</td>\n",
              "      <td>4347</td>\n",
              "    </tr>\n",
              "    <tr>\n",
              "      <th>2836</th>\n",
              "      <td>2022.01.06</td>\n",
              "      <td>43594.098</td>\n",
              "      <td>43775.633</td>\n",
              "      <td>42423.391</td>\n",
              "      <td>43109.849</td>\n",
              "      <td>74388</td>\n",
              "      <td>0</td>\n",
              "      <td>4244</td>\n",
              "    </tr>\n",
              "    <tr>\n",
              "      <th>2837</th>\n",
              "      <td>2022.01.07</td>\n",
              "      <td>43109.849</td>\n",
              "      <td>43230.589</td>\n",
              "      <td>40619.650</td>\n",
              "      <td>41870.029</td>\n",
              "      <td>86973</td>\n",
              "      <td>0</td>\n",
              "      <td>4062</td>\n",
              "    </tr>\n",
              "    <tr>\n",
              "      <th>2838</th>\n",
              "      <td>2022.01.10</td>\n",
              "      <td>42289.425</td>\n",
              "      <td>42483.756</td>\n",
              "      <td>39652.164</td>\n",
              "      <td>41711.069</td>\n",
              "      <td>96717</td>\n",
              "      <td>0</td>\n",
              "      <td>3966</td>\n",
              "    </tr>\n",
              "    <tr>\n",
              "      <th>2839</th>\n",
              "      <td>2022.01.11</td>\n",
              "      <td>41711.134</td>\n",
              "      <td>42589.340</td>\n",
              "      <td>41497.163</td>\n",
              "      <td>42007.245</td>\n",
              "      <td>37646</td>\n",
              "      <td>0</td>\n",
              "      <td>4155</td>\n",
              "    </tr>\n",
              "  </tbody>\n",
              "</table>\n",
              "<p>2840 rows × 8 columns</p>\n",
              "</div>\n",
              "      <button class=\"colab-df-convert\" onclick=\"convertToInteractive('df-d3849253-1fc0-449b-8e4f-c65642b568ab')\"\n",
              "              title=\"Convert this dataframe to an interactive table.\"\n",
              "              style=\"display:none;\">\n",
              "        \n",
              "  <svg xmlns=\"http://www.w3.org/2000/svg\" height=\"24px\"viewBox=\"0 0 24 24\"\n",
              "       width=\"24px\">\n",
              "    <path d=\"M0 0h24v24H0V0z\" fill=\"none\"/>\n",
              "    <path d=\"M18.56 5.44l.94 2.06.94-2.06 2.06-.94-2.06-.94-.94-2.06-.94 2.06-2.06.94zm-11 1L8.5 8.5l.94-2.06 2.06-.94-2.06-.94L8.5 2.5l-.94 2.06-2.06.94zm10 10l.94 2.06.94-2.06 2.06-.94-2.06-.94-.94-2.06-.94 2.06-2.06.94z\"/><path d=\"M17.41 7.96l-1.37-1.37c-.4-.4-.92-.59-1.43-.59-.52 0-1.04.2-1.43.59L10.3 9.45l-7.72 7.72c-.78.78-.78 2.05 0 2.83L4 21.41c.39.39.9.59 1.41.59.51 0 1.02-.2 1.41-.59l7.78-7.78 2.81-2.81c.8-.78.8-2.07 0-2.86zM5.41 20L4 18.59l7.72-7.72 1.47 1.35L5.41 20z\"/>\n",
              "  </svg>\n",
              "      </button>\n",
              "      \n",
              "  <style>\n",
              "    .colab-df-container {\n",
              "      display:flex;\n",
              "      flex-wrap:wrap;\n",
              "      gap: 12px;\n",
              "    }\n",
              "\n",
              "    .colab-df-convert {\n",
              "      background-color: #E8F0FE;\n",
              "      border: none;\n",
              "      border-radius: 50%;\n",
              "      cursor: pointer;\n",
              "      display: none;\n",
              "      fill: #1967D2;\n",
              "      height: 32px;\n",
              "      padding: 0 0 0 0;\n",
              "      width: 32px;\n",
              "    }\n",
              "\n",
              "    .colab-df-convert:hover {\n",
              "      background-color: #E2EBFA;\n",
              "      box-shadow: 0px 1px 2px rgba(60, 64, 67, 0.3), 0px 1px 3px 1px rgba(60, 64, 67, 0.15);\n",
              "      fill: #174EA6;\n",
              "    }\n",
              "\n",
              "    [theme=dark] .colab-df-convert {\n",
              "      background-color: #3B4455;\n",
              "      fill: #D2E3FC;\n",
              "    }\n",
              "\n",
              "    [theme=dark] .colab-df-convert:hover {\n",
              "      background-color: #434B5C;\n",
              "      box-shadow: 0px 1px 3px 1px rgba(0, 0, 0, 0.15);\n",
              "      filter: drop-shadow(0px 1px 2px rgba(0, 0, 0, 0.3));\n",
              "      fill: #FFFFFF;\n",
              "    }\n",
              "  </style>\n",
              "\n",
              "      <script>\n",
              "        const buttonEl =\n",
              "          document.querySelector('#df-d3849253-1fc0-449b-8e4f-c65642b568ab button.colab-df-convert');\n",
              "        buttonEl.style.display =\n",
              "          google.colab.kernel.accessAllowed ? 'block' : 'none';\n",
              "\n",
              "        async function convertToInteractive(key) {\n",
              "          const element = document.querySelector('#df-d3849253-1fc0-449b-8e4f-c65642b568ab');\n",
              "          const dataTable =\n",
              "            await google.colab.kernel.invokeFunction('convertToInteractive',\n",
              "                                                     [key], {});\n",
              "          if (!dataTable) return;\n",
              "\n",
              "          const docLinkHtml = 'Like what you see? Visit the ' +\n",
              "            '<a target=\"_blank\" href=https://colab.research.google.com/notebooks/data_table.ipynb>data table notebook</a>'\n",
              "            + ' to learn more about interactive tables.';\n",
              "          element.innerHTML = '';\n",
              "          dataTable['output_type'] = 'display_data';\n",
              "          await google.colab.output.renderOutput(dataTable, element);\n",
              "          const docLink = document.createElement('div');\n",
              "          docLink.innerHTML = docLinkHtml;\n",
              "          element.appendChild(docLink);\n",
              "        }\n",
              "      </script>\n",
              "    </div>\n",
              "  </div>\n",
              "  "
            ],
            "text/plain": [
              "          <DATE>     <OPEN>     <HIGH>  ...  <TICKVOL>  <VOL>  <SPREAD>\n",
              "0     2013.01.12     14.260     14.340  ...      26930      0         0\n",
              "1     2013.01.13     14.240     14.320  ...      44331      0         0\n",
              "2     2013.01.14     14.190     14.350  ...      22094      0         0\n",
              "3     2013.01.15     14.350     14.480  ...      51570      0         0\n",
              "4     2013.01.16     14.300     14.730  ...      45534      0         0\n",
              "...          ...        ...        ...  ...        ...    ...       ...\n",
              "2835  2022.01.05  46210.334  47056.482  ...      67209      0      4347\n",
              "2836  2022.01.06  43594.098  43775.633  ...      74388      0      4244\n",
              "2837  2022.01.07  43109.849  43230.589  ...      86973      0      4062\n",
              "2838  2022.01.10  42289.425  42483.756  ...      96717      0      3966\n",
              "2839  2022.01.11  41711.134  42589.340  ...      37646      0      4155\n",
              "\n",
              "[2840 rows x 8 columns]"
            ]
          },
          "metadata": {},
          "execution_count": 4
        }
      ]
    },
    {
      "cell_type": "code",
      "source": [
        "# Preprocessing function\n",
        "\n",
        "def preprocessing(name):\n",
        "\n",
        "  # Import the data\n",
        "  df = pd.read_csv(f\"{name}\", delimiter=\"\\t\", index_col=\"<DATE>\", parse_dates=True)\n",
        "\n",
        "  # Delete the two last columns\n",
        "  df = df.iloc[:,:-2]\n",
        "\n",
        "  # Rename\n",
        "  df.columns = [\"open\", \"high\", \"low\", \"close\", \"volume\"]\n",
        "  df.index.name = \"name\"\n",
        "\n",
        "  return df"
      ],
      "metadata": {
        "id": "3nkP0bhO4pMq"
      },
      "execution_count": null,
      "outputs": []
    },
    {
      "cell_type": "code",
      "source": [
        "df = preprocessing(\"BTCUSD_D1.csv\")\n",
        "df"
      ],
      "metadata": {
        "id": "vIxzE2pJ-l0a",
        "colab": {
          "base_uri": "https://localhost:8080/",
          "height": 450
        },
        "outputId": "cfcc25b9-4dd2-47e1-db69-7817e8897757"
      },
      "execution_count": null,
      "outputs": [
        {
          "output_type": "execute_result",
          "data": {
            "text/html": [
              "\n",
              "  <div id=\"df-4b592bff-13d3-4ace-956e-46ac44f502e7\">\n",
              "    <div class=\"colab-df-container\">\n",
              "      <div>\n",
              "<style scoped>\n",
              "    .dataframe tbody tr th:only-of-type {\n",
              "        vertical-align: middle;\n",
              "    }\n",
              "\n",
              "    .dataframe tbody tr th {\n",
              "        vertical-align: top;\n",
              "    }\n",
              "\n",
              "    .dataframe thead th {\n",
              "        text-align: right;\n",
              "    }\n",
              "</style>\n",
              "<table border=\"1\" class=\"dataframe\">\n",
              "  <thead>\n",
              "    <tr style=\"text-align: right;\">\n",
              "      <th></th>\n",
              "      <th>open</th>\n",
              "      <th>high</th>\n",
              "      <th>low</th>\n",
              "      <th>close</th>\n",
              "      <th>volume</th>\n",
              "    </tr>\n",
              "    <tr>\n",
              "      <th>name</th>\n",
              "      <th></th>\n",
              "      <th></th>\n",
              "      <th></th>\n",
              "      <th></th>\n",
              "      <th></th>\n",
              "    </tr>\n",
              "  </thead>\n",
              "  <tbody>\n",
              "    <tr>\n",
              "      <th>2013-01-12</th>\n",
              "      <td>14.260</td>\n",
              "      <td>14.340</td>\n",
              "      <td>13.980</td>\n",
              "      <td>14.240</td>\n",
              "      <td>26930</td>\n",
              "    </tr>\n",
              "    <tr>\n",
              "      <th>2013-01-13</th>\n",
              "      <td>14.240</td>\n",
              "      <td>14.320</td>\n",
              "      <td>13.950</td>\n",
              "      <td>14.120</td>\n",
              "      <td>44331</td>\n",
              "    </tr>\n",
              "    <tr>\n",
              "      <th>2013-01-14</th>\n",
              "      <td>14.190</td>\n",
              "      <td>14.350</td>\n",
              "      <td>14.110</td>\n",
              "      <td>14.300</td>\n",
              "      <td>22094</td>\n",
              "    </tr>\n",
              "    <tr>\n",
              "      <th>2013-01-15</th>\n",
              "      <td>14.350</td>\n",
              "      <td>14.480</td>\n",
              "      <td>13.990</td>\n",
              "      <td>14.250</td>\n",
              "      <td>51570</td>\n",
              "    </tr>\n",
              "    <tr>\n",
              "      <th>2013-01-16</th>\n",
              "      <td>14.300</td>\n",
              "      <td>14.730</td>\n",
              "      <td>14.210</td>\n",
              "      <td>14.730</td>\n",
              "      <td>45534</td>\n",
              "    </tr>\n",
              "    <tr>\n",
              "      <th>...</th>\n",
              "      <td>...</td>\n",
              "      <td>...</td>\n",
              "      <td>...</td>\n",
              "      <td>...</td>\n",
              "      <td>...</td>\n",
              "    </tr>\n",
              "    <tr>\n",
              "      <th>2022-01-05</th>\n",
              "      <td>46210.334</td>\n",
              "      <td>47056.482</td>\n",
              "      <td>43456.663</td>\n",
              "      <td>43597.237</td>\n",
              "      <td>67209</td>\n",
              "    </tr>\n",
              "    <tr>\n",
              "      <th>2022-01-06</th>\n",
              "      <td>43594.098</td>\n",
              "      <td>43775.633</td>\n",
              "      <td>42423.391</td>\n",
              "      <td>43109.849</td>\n",
              "      <td>74388</td>\n",
              "    </tr>\n",
              "    <tr>\n",
              "      <th>2022-01-07</th>\n",
              "      <td>43109.849</td>\n",
              "      <td>43230.589</td>\n",
              "      <td>40619.650</td>\n",
              "      <td>41870.029</td>\n",
              "      <td>86973</td>\n",
              "    </tr>\n",
              "    <tr>\n",
              "      <th>2022-01-10</th>\n",
              "      <td>42289.425</td>\n",
              "      <td>42483.756</td>\n",
              "      <td>39652.164</td>\n",
              "      <td>41711.069</td>\n",
              "      <td>96717</td>\n",
              "    </tr>\n",
              "    <tr>\n",
              "      <th>2022-01-11</th>\n",
              "      <td>41711.134</td>\n",
              "      <td>42589.340</td>\n",
              "      <td>41497.163</td>\n",
              "      <td>42007.245</td>\n",
              "      <td>37646</td>\n",
              "    </tr>\n",
              "  </tbody>\n",
              "</table>\n",
              "<p>2840 rows × 5 columns</p>\n",
              "</div>\n",
              "      <button class=\"colab-df-convert\" onclick=\"convertToInteractive('df-4b592bff-13d3-4ace-956e-46ac44f502e7')\"\n",
              "              title=\"Convert this dataframe to an interactive table.\"\n",
              "              style=\"display:none;\">\n",
              "        \n",
              "  <svg xmlns=\"http://www.w3.org/2000/svg\" height=\"24px\"viewBox=\"0 0 24 24\"\n",
              "       width=\"24px\">\n",
              "    <path d=\"M0 0h24v24H0V0z\" fill=\"none\"/>\n",
              "    <path d=\"M18.56 5.44l.94 2.06.94-2.06 2.06-.94-2.06-.94-.94-2.06-.94 2.06-2.06.94zm-11 1L8.5 8.5l.94-2.06 2.06-.94-2.06-.94L8.5 2.5l-.94 2.06-2.06.94zm10 10l.94 2.06.94-2.06 2.06-.94-2.06-.94-.94-2.06-.94 2.06-2.06.94z\"/><path d=\"M17.41 7.96l-1.37-1.37c-.4-.4-.92-.59-1.43-.59-.52 0-1.04.2-1.43.59L10.3 9.45l-7.72 7.72c-.78.78-.78 2.05 0 2.83L4 21.41c.39.39.9.59 1.41.59.51 0 1.02-.2 1.41-.59l7.78-7.78 2.81-2.81c.8-.78.8-2.07 0-2.86zM5.41 20L4 18.59l7.72-7.72 1.47 1.35L5.41 20z\"/>\n",
              "  </svg>\n",
              "      </button>\n",
              "      \n",
              "  <style>\n",
              "    .colab-df-container {\n",
              "      display:flex;\n",
              "      flex-wrap:wrap;\n",
              "      gap: 12px;\n",
              "    }\n",
              "\n",
              "    .colab-df-convert {\n",
              "      background-color: #E8F0FE;\n",
              "      border: none;\n",
              "      border-radius: 50%;\n",
              "      cursor: pointer;\n",
              "      display: none;\n",
              "      fill: #1967D2;\n",
              "      height: 32px;\n",
              "      padding: 0 0 0 0;\n",
              "      width: 32px;\n",
              "    }\n",
              "\n",
              "    .colab-df-convert:hover {\n",
              "      background-color: #E2EBFA;\n",
              "      box-shadow: 0px 1px 2px rgba(60, 64, 67, 0.3), 0px 1px 3px 1px rgba(60, 64, 67, 0.15);\n",
              "      fill: #174EA6;\n",
              "    }\n",
              "\n",
              "    [theme=dark] .colab-df-convert {\n",
              "      background-color: #3B4455;\n",
              "      fill: #D2E3FC;\n",
              "    }\n",
              "\n",
              "    [theme=dark] .colab-df-convert:hover {\n",
              "      background-color: #434B5C;\n",
              "      box-shadow: 0px 1px 3px 1px rgba(0, 0, 0, 0.15);\n",
              "      filter: drop-shadow(0px 1px 2px rgba(0, 0, 0, 0.3));\n",
              "      fill: #FFFFFF;\n",
              "    }\n",
              "  </style>\n",
              "\n",
              "      <script>\n",
              "        const buttonEl =\n",
              "          document.querySelector('#df-4b592bff-13d3-4ace-956e-46ac44f502e7 button.colab-df-convert');\n",
              "        buttonEl.style.display =\n",
              "          google.colab.kernel.accessAllowed ? 'block' : 'none';\n",
              "\n",
              "        async function convertToInteractive(key) {\n",
              "          const element = document.querySelector('#df-4b592bff-13d3-4ace-956e-46ac44f502e7');\n",
              "          const dataTable =\n",
              "            await google.colab.kernel.invokeFunction('convertToInteractive',\n",
              "                                                     [key], {});\n",
              "          if (!dataTable) return;\n",
              "\n",
              "          const docLinkHtml = 'Like what you see? Visit the ' +\n",
              "            '<a target=\"_blank\" href=https://colab.research.google.com/notebooks/data_table.ipynb>data table notebook</a>'\n",
              "            + ' to learn more about interactive tables.';\n",
              "          element.innerHTML = '';\n",
              "          dataTable['output_type'] = 'display_data';\n",
              "          await google.colab.output.renderOutput(dataTable, element);\n",
              "          const docLink = document.createElement('div');\n",
              "          docLink.innerHTML = docLinkHtml;\n",
              "          element.appendChild(docLink);\n",
              "        }\n",
              "      </script>\n",
              "    </div>\n",
              "  </div>\n",
              "  "
            ],
            "text/plain": [
              "                 open       high        low      close  volume\n",
              "name                                                          \n",
              "2013-01-12     14.260     14.340     13.980     14.240   26930\n",
              "2013-01-13     14.240     14.320     13.950     14.120   44331\n",
              "2013-01-14     14.190     14.350     14.110     14.300   22094\n",
              "2013-01-15     14.350     14.480     13.990     14.250   51570\n",
              "2013-01-16     14.300     14.730     14.210     14.730   45534\n",
              "...               ...        ...        ...        ...     ...\n",
              "2022-01-05  46210.334  47056.482  43456.663  43597.237   67209\n",
              "2022-01-06  43594.098  43775.633  42423.391  43109.849   74388\n",
              "2022-01-07  43109.849  43230.589  40619.650  41870.029   86973\n",
              "2022-01-10  42289.425  42483.756  39652.164  41711.069   96717\n",
              "2022-01-11  41711.134  42589.340  41497.163  42007.245   37646\n",
              "\n",
              "[2840 rows x 5 columns]"
            ]
          },
          "metadata": {},
          "execution_count": 7
        }
      ]
    },
    {
      "cell_type": "markdown",
      "source": [
        "# Support & Resistance"
      ],
      "metadata": {
        "id": "iqdNQiEkWWPr"
      }
    },
    {
      "cell_type": "code",
      "source": [
        "# Create Resistance using a rolling max\n",
        "df[\"resistance\"] = df[\"close\"].rolling(30).max().shift(3)\n",
        "\n",
        "\n",
        "# Create Support using a rolling min\n",
        "df[\"support\"] = df[\"close\"].rolling(30).min().shift(3)"
      ],
      "metadata": {
        "id": "8j93JH03_vjV"
      },
      "execution_count": null,
      "outputs": []
    },
    {
      "cell_type": "code",
      "source": [
        "# Plot the results\n",
        "df[[\"close\", \"resistance\", \"support\"]].loc[\"2020\"].plot(figsize=(15,8))"
      ],
      "metadata": {
        "colab": {
          "base_uri": "https://localhost:8080/",
          "height": 527
        },
        "id": "YCy5F6kkD2fL",
        "outputId": "b0ecd98a-1cc6-4be7-c534-5a6904293022"
      },
      "execution_count": null,
      "outputs": [
        {
          "output_type": "execute_result",
          "data": {
            "text/plain": [
              "<matplotlib.axes._subplots.AxesSubplot at 0x7f04057cecd0>"
            ]
          },
          "metadata": {},
          "execution_count": 26
        },
        {
          "output_type": "display_data",
          "data": {
            "image/png": "[encoded data removed]",
            "text/plain": [
              "<Figure size 1080x576 with 1 Axes>"
            ]
          },
          "metadata": {}
        }
      ]
    },
    {
      "cell_type": "markdown",
      "source": [
        "# Strategy"
      ],
      "metadata": {
        "id": "egkAZjEbYSFh"
      }
    },
    {
      "cell_type": "markdown",
      "source": [
        "<p><img alt=\"Colaboratory logo\" src=\"https://www.quantreo.com/wp-content/uploads/2022/01/Capture-decran-2022-01-12-a-15.42.45.png\" align=\"center\"  vspace=\"0px\"></p>"
      ],
      "metadata": {
        "id": "PCAqLr5nxaJq"
      }
    },
    {
      "cell_type": "code",
      "source": [
        "# Safety distance\n",
        "distance = 0.5/100\n",
        "\n",
        "# Shift the values\n",
        "df[\"close yersteday\"] = df[\"close\"].shift(1)\n",
        "df[\"resistance yersteday\"] = df[\"resistance\"].shift(1)\n",
        "df[\"signal_long\"] = np.nan\n",
        "\n",
        "\n",
        "# Create the condition\n",
        "df.loc[(df[\"close yersteday\"] < df[\"resistance yersteday\"]) & \\\n",
        "       (df[\"close\"] > df[\"resistance\"]*(1+distance)), \"signal_long\"] = 1\n"
      ],
      "metadata": {
        "id": "AmVVgjGNYWga"
      },
      "execution_count": null,
      "outputs": []
    },
    {
      "cell_type": "code",
      "source": [
        "df[\"signal_long\"] = df[\"signal_long\"].fillna(value=0)"
      ],
      "metadata": {
        "id": "sBtZvX2aEkne"
      },
      "execution_count": null,
      "outputs": []
    },
    {
      "cell_type": "markdown",
      "source": [
        "# Verification Graph"
      ],
      "metadata": {
        "id": "AlLEpBVQZQBE"
      }
    },
    {
      "cell_type": "code",
      "source": [
        "# We plot all the signla to be sure that they be correct\n",
        "\n",
        "year=\"2019\"\n",
        "\n",
        "# Select all signal in a index list to plot only this points\n",
        "idx_open = df.loc[df[\"signal_long\"] == 1].loc[year].index\n",
        "\n",
        "\n",
        "# Adapt the size of the graph\n",
        "plt.figure(figsize=(15,6))\n",
        "\n",
        "# Plot the points of the open long signal in green\n",
        "plt.scatter(idx_open, df.loc[idx_open][\"close\"].loc[year], color= \"#57CE95\", marker=\"^\")\n",
        "\n",
        "\n",
        "# Plot the resistance to be sure that the conditions are completed\n",
        "plt.plot(df[\"close\"].loc[year].index, df[\"close\"].loc[year], alpha=0.35)\n",
        "\n",
        "plt.plot(df[\"close\"].loc[year].index, df[\"resistance\"].loc[year], alpha=0.35)\n",
        "\n",
        "\n",
        "# Show the graph\n",
        "plt.show()"
      ],
      "metadata": {
        "colab": {
          "base_uri": "https://localhost:8080/",
          "height": 374
        },
        "id": "SP0OQw4vPOSp",
        "outputId": "5705688d-171f-4503-b1e3-046b23866cfd"
      },
      "execution_count": null,
      "outputs": [
        {
          "output_type": "display_data",
          "data": {
            "image/png": "[encoded data removed]",
            "text/plain": [
              "<Figure size 1080x432 with 1 Axes>"
            ]
          },
          "metadata": {}
        }
      ]
    },
    {
      "cell_type": "markdown",
      "source": [
        "# Compute the profit"
      ],
      "metadata": {
        "id": "TTlUjMGwZbXM"
      }
    },
    {
      "cell_type": "code",
      "source": [
        "# Compute the percentage of variation of the asset\n",
        "df[\"pct\"] = df[\"close\"].pct_change(1)\n",
        "\n",
        "# Compute the return of the strategy\n",
        "df[\"return\"] = df[\"pct\"] * (df[\"signal_long\"].shift(1))\n",
        "\n",
        "df[\"return\"].cumsum().plot()"
      ],
      "metadata": {
        "colab": {
          "base_uri": "https://localhost:8080/",
          "height": 286
        },
        "id": "WJ9GTApON-wg",
        "outputId": "df8ca036-d222-472b-ba91-50cde72af423"
      },
      "execution_count": null,
      "outputs": [
        {
          "output_type": "execute_result",
          "data": {
            "text/plain": [
              "<matplotlib.axes._subplots.AxesSubplot at 0x7f0404b11390>"
            ]
          },
          "metadata": {},
          "execution_count": 47
        },
        {
          "output_type": "display_data",
          "data": {
            "image/png": "[encoded data removed]",
            "text/plain": [
              "<Figure size 432x288 with 1 Axes>"
            ]
          },
          "metadata": {}
        }
      ]
    },
    {
      "cell_type": "markdown",
      "source": [
        "# Automatization"
      ],
      "metadata": {
        "id": "tiuSeAfuZgSZ"
      }
    },
    {
      "cell_type": "code",
      "source": [
        "def preprocessing(name):\n",
        "\n",
        "  # Import the data\n",
        "  df = pd.read_csv(f\"{name}\", delimiter=\"\\t\", index_col=\"<DATE>\", parse_dates=True)\n",
        "\n",
        "  # Delete the two last columns\n",
        "  df = df.iloc[:,:-2]\n",
        "\n",
        "  # Rename\n",
        "  df.columns = [\"open\", \"high\", \"low\", \"close\", \"volume\"]\n",
        "  df.index.name = \"name\"\n",
        "\n",
        "  return df\n",
        "def breakout(df, cost=0.001, duration=7):\n",
        "  df[\"resistance\"] = df[\"close\"].rolling(30).max().shift(3)\n",
        "  df[\"support\"] = df[\"close\"].rolling(30).min().shift(3)\n",
        "\n",
        "  distance = 0.5/100\n",
        "\n",
        "  # Shift the values\n",
        "  df[\"Close Yesterday\"] = df[\"close\"].shift(1)\n",
        "  df[\"Resistance Yesterday\"] = df[\"resistance\"].shift(1)\n",
        "  df[\"signal_long\"] = np.nan\n",
        "\n",
        "  df.loc[(df[\"close\"] > df[\"resistance\"]*(1+distance)) &\\\n",
        "         (df[\"Close Yesterday\"] < df[\"Resistance Yesterday\"]), \"signal_long\"] = 1\n",
        "\n",
        "  df[\"signal_long\"] = df[\"signal_long\"].fillna(value=0)\n",
        "\n",
        "  # Compute the percentage of variation of the asset\n",
        "  df[\"pct\"] = df[\"close\"].pct_change(1)\n",
        "\n",
        "  # Compute the return of the strategy\n",
        "\n",
        "  df[\"return\"] = np.array([df[\"pct\"].shift(i) for i in range(duration)]).sum(axis=0) * (df[\"signal_long\"].shift(duration))\n",
        "  # df[\"return\"] = (df[\"pct\"] + df[\"pct\"].shift(9) + df[\"pct\"].shift(8) + df[\"pct\"].shift(7) + df[\"pct\"].shift(6)\\\n",
        "  #                 + df[\"pct\"].shift(5)+ df[\"pct\"].shift(4)+ df[\"pct\"].shift(3)+ df[\"pct\"].shift(2)\\\n",
        "  #                 + df[\"pct\"].shift(1)) * (df[\"signal_long\"].shift(10))\n",
        "  \n",
        "  df.loc[df[\"signal_long\"]==1,\"return\"]=df[\"return\"]-cost\n",
        "\n",
        "  return df[\"return\"]"
      ],
      "metadata": {
        "id": "q3N5UhQmPZ9w"
      },
      "execution_count": null,
      "outputs": []
    },
    {
      "cell_type": "code",
      "source": [
        "breakout(df, duration=7).fillna(value=0).cumsum().plot(figsize=(15,8))"
      ],
      "metadata": {
        "colab": {
          "base_uri": "https://localhost:8080/",
          "height": 482
        },
        "id": "FMsMNNaeFIJO",
        "outputId": "81380149-9d82-41f0-dafc-c2797408b9f2"
      },
      "execution_count": null,
      "outputs": [
        {
          "output_type": "execute_result",
          "data": {
            "text/plain": [
              "<matplotlib.axes._subplots.AxesSubplot at 0x7f040478fdd0>"
            ]
          },
          "metadata": {},
          "execution_count": 54
        },
        {
          "output_type": "display_data",
          "data": {
            "image/png": "[encoded data removed]",
            "text/plain": [
              "<Figure size 1080x576 with 1 Axes>"
            ]
          },
          "metadata": {}
        }
      ]
    },
    {
      "cell_type": "markdown",
      "source": [
        "# Test other cryptocurrencies"
      ],
      "metadata": {
        "id": "s7Y5cw2aZuE4"
      }
    },
    {
      "cell_type": "code",
      "source": [
        "# Create empty dataframe\n",
        "dft = pd.DataFrame()\n",
        "\n",
        "namelist = [\"BTC\", \"ETH\", \"LTC\", \"XMR\", \"ETC\"]\n",
        "\n",
        "for name in namelist:\n",
        "  # Manage the data\n",
        "  df = preprocessing(f\"{name}USD_D1.csv\")\n",
        "\n",
        "  # Create the strategy\n",
        "  dfc = breakout(df, duration=7)\n",
        "\n",
        "  # Rename return\n",
        "  dfc.rename = name\n",
        "\n",
        "  # drop the nan\n",
        "  dft[name] = dfc.fillna(value=0)\n",
        "\n",
        "BackTest(dfc.fillna(value=0), 52)"
      ],
      "metadata": {
        "id": "adPQpiONU-VY"
      },
      "execution_count": null,
      "outputs": []
    },
    {
      "cell_type": "code",
      "source": [
        "dft.fillna(value=0).cumsum(axis=0).plot(figsize=(15,8))"
      ],
      "metadata": {
        "colab": {
          "base_uri": "https://localhost:8080/",
          "height": 482
        },
        "id": "Y2JczT3JI9AB",
        "outputId": "00fd1df3-81e5-46ae-91c8-75b43a895455"
      },
      "execution_count": null,
      "outputs": [
        {
          "output_type": "execute_result",
          "data": {
            "text/plain": [
              "<matplotlib.axes._subplots.AxesSubplot at 0x7f04044dcc50>"
            ]
          },
          "metadata": {},
          "execution_count": 58
        },
        {
          "output_type": "display_data",
          "data": {
            "image/png": "[encoded data removed]",
            "text/plain": [
              "<Figure size 1080x576 with 1 Axes>"
            ]
          },
          "metadata": {}
        }
      ]
    },
    {
      "cell_type": "markdown",
      "source": [
        "# How to optimize this strategy:\n",
        "* Optimize the parameters of the strategy (Safety distance, rolling period for the resistance, etc...)\n",
        "* Optimize the order duration (confer my other course with a Ethereum strategy example (Statistic and probability for quantitative finance)\n",
        "* Combine this strategy with another strategy"
      ],
      "metadata": {
        "id": "5TH78LZZsGcp"
      }
    }
  ]
}