{
  "nbformat": 4,
  "nbformat_minor": 5,
  "metadata": {
    "kernelspec": {
      "display_name": "Python 3",
      "language": "python",
      "name": "python3"
    },
    "language_info": {
      "codemirror_mode": {
        "name": "ipython",
        "version": 3
      },
      "file_extension": ".py",
      "mimetype": "text/x-python",
      "name": "python",
      "nbconvert_exporter": "python",
      "pygments_lexer": "ipython3",
      "version": "3.8.8"
    },
    "colab": {
      "name": "EN - ML Chapter 05: Linear Regression to predict stock prices.ipynb",
      "provenance": [],
      "collapsed_sections": [
        "ce076564",
        "2af6dea6",
        "64cf52d6",
        "bFuKfe8GeRpf",
        "kM9Jh_LOeYri"
      ]
    }
  },
  "cells": [
    {
      "cell_type": "markdown",
      "metadata": {
        "id": "ce076564"
      },
      "source": [
        " <p><img alt=\"Colaboratory logo\" height=\"45px\" src=\"https://www.quantreo.com/wp-content/uploads/2021/10/Original-on-Transparent.png\" align=\"left\" hspace=\"10px\" vspace=\"0px\"></p>\n",
        "\n",
        "\n",
        "# Linear Regression to predict stock prices\n",
        "\n",
        "</br>\n",
        "\n",
        "In this chapter, we will explain how the linear regression works theorically. Then, we will apply this algorithm to predict stock price and create a trading strategy\n",
        "\n",
        "### Summary\n",
        "* How a Liner Regression algorithm work theorically\n",
        "* Predict stock price using a Linear Regression\n",
        "* Create trading strategy \n",
        "\n",
        "</br>\n",
        "\n",
        "💰Join our community: https://discord.gg/wXjNPAc5BH\n",
        "\n",
        "📚Read our book: https://www.amazon.com/gp/product/B09HG18CYL \n",
        "\n",
        "🖥️Quantreo's YouTube channel: https://www.youtube.com/channel/UCp7jckfiEglNf_Gj62VR0pw"
      ],
      "id": "ce076564"
    },
    {
      "cell_type": "code",
      "metadata": {
        "colab": {
          "base_uri": "https://localhost:8080/"
        },
        "id": "96gJhLVz-9dw",
        "outputId": "6aa6887e-e30a-499f-a7eb-134d98e0385a"
      },
      "source": [
        "! pip install yfinance\n",
        "! pip install ta"
      ],
      "id": "96gJhLVz-9dw",
      "execution_count": null,
      "outputs": [
        {
          "output_type": "stream",
          "name": "stdout",
          "text": [
            "Collecting yfinance\n",
            "  Downloading yfinance-0.1.66-py2.py3-none-any.whl (25 kB)\n",
            "Collecting lxml>=4.5.1\n",
            "  Downloading lxml-4.6.4-cp37-cp37m-manylinux_2_17_x86_64.manylinux2014_x86_64.manylinux_2_24_x86_64.whl (6.3 MB)\n",
            "\u001b[K     |████████████████████████████████| 6.3 MB 7.0 MB/s \n",
            "\u001b[?25hRequirement already satisfied: requests>=2.20 in /usr/local/lib/python3.7/dist-packages (from yfinance) (2.23.0)\n",
            "Requirement already satisfied: numpy>=1.15 in /usr/local/lib/python3.7/dist-packages (from yfinance) (1.19.5)\n",
            "Requirement already satisfied: multitasking>=0.0.7 in /usr/local/lib/python3.7/dist-packages (from yfinance) (0.0.9)\n",
            "Requirement already satisfied: pandas>=0.24 in /usr/local/lib/python3.7/dist-packages (from yfinance) (1.1.5)\n",
            "Requirement already satisfied: pytz>=2017.2 in /usr/local/lib/python3.7/dist-packages (from pandas>=0.24->yfinance) (2018.9)\n",
            "Requirement already satisfied: python-dateutil>=2.7.3 in /usr/local/lib/python3.7/dist-packages (from pandas>=0.24->yfinance) (2.8.2)\n",
            "Requirement already satisfied: six>=1.5 in /usr/local/lib/python3.7/dist-packages (from python-dateutil>=2.7.3->pandas>=0.24->yfinance) (1.15.0)\n",
            "Requirement already satisfied: urllib3!=1.25.0,!=1.25.1,<1.26,>=1.21.1 in /usr/local/lib/python3.7/dist-packages (from requests>=2.20->yfinance) (1.24.3)\n",
            "Requirement already satisfied: chardet<4,>=3.0.2 in /usr/local/lib/python3.7/dist-packages (from requests>=2.20->yfinance) (3.0.4)\n",
            "Requirement already satisfied: certifi>=2017.4.17 in /usr/local/lib/python3.7/dist-packages (from requests>=2.20->yfinance) (2021.10.8)\n",
            "Requirement already satisfied: idna<3,>=2.5 in /usr/local/lib/python3.7/dist-packages (from requests>=2.20->yfinance) (2.10)\n",
            "Installing collected packages: lxml, yfinance\n",
            "  Attempting uninstall: lxml\n",
            "    Found existing installation: lxml 4.2.6\n",
            "    Uninstalling lxml-4.2.6:\n",
            "      Successfully uninstalled lxml-4.2.6\n",
            "Successfully installed lxml-4.6.4 yfinance-0.1.66\n",
            "Collecting ta\n",
            "  Downloading ta-0.7.0.tar.gz (25 kB)\n",
            "Requirement already satisfied: numpy in /usr/local/lib/python3.7/dist-packages (from ta) (1.19.5)\n",
            "Requirement already satisfied: pandas in /usr/local/lib/python3.7/dist-packages (from ta) (1.1.5)\n",
            "Requirement already satisfied: python-dateutil>=2.7.3 in /usr/local/lib/python3.7/dist-packages (from pandas->ta) (2.8.2)\n",
            "Requirement already satisfied: pytz>=2017.2 in /usr/local/lib/python3.7/dist-packages (from pandas->ta) (2018.9)\n",
            "Requirement already satisfied: six>=1.5 in /usr/local/lib/python3.7/dist-packages (from python-dateutil>=2.7.3->pandas->ta) (1.15.0)\n",
            "Building wheels for collected packages: ta\n",
            "  Building wheel for ta (setup.py) ... \u001b[?25l\u001b[?25hdone\n",
            "  Created wheel for ta: filename=ta-0.7.0-py3-none-any.whl size=28718 sha256=2f24aaf9f2b0c388405c4e7c960c0950f637b12600f0d0333f7814fbe4b5a881\n",
            "  Stored in directory: /root/.cache/pip/wheels/5e/74/e0/72395003bd1d3c8f3f5860c2d180ff15699e47a2733d8ebd38\n",
            "Successfully built ta\n",
            "Installing collected packages: ta\n",
            "Successfully installed ta-0.7.0\n"
          ]
        }
      ]
    },
    {
      "cell_type": "code",
      "metadata": {
        "id": "e6e42806"
      },
      "source": [
        "import numpy as np\n",
        "import pandas as pd\n",
        "import matplotlib.pyplot as plt\n",
        "plt.style.use('seaborn')\n",
        "import warnings\n",
        "warnings.filterwarnings(\"ignore\")\n",
        "import yfinance as yf\n",
        "import ta"
      ],
      "id": "e6e42806",
      "execution_count": null,
      "outputs": []
    },
    {
      "cell_type": "code",
      "metadata": {
        "id": "QBqF1ghUdcTl"
      },
      "source": [
        "import matplotlib as mpl\n",
        "from matplotlib import cycler\n",
        "\n",
        "colors = cycler('color',\n",
        "                ['#669FEE', '#66EE91', '#9988DD',\n",
        "                 '#EECC55', '#88BB44', '#FFBBBB'])\n",
        "plt.rc('figure', facecolor='#313233')\n",
        "plt.rc('axes', facecolor=\"#313233\", edgecolor='none',\n",
        "       axisbelow=True, grid=True, prop_cycle=colors,\n",
        "       labelcolor='gray')\n",
        "plt.rc('grid', color='474A4A', linestyle='solid')\n",
        "plt.rc('xtick', color='gray')\n",
        "plt.rc('ytick', direction='out', color='gray')\n",
        "plt.rc('legend', facecolor=\"#313233\", edgecolor=\"#313233\")\n",
        "plt.rc(\"text\", color=\"#C9C9C9\")\n",
        "plt.rc('figure', facecolor='#313233')"
      ],
      "id": "QBqF1ghUdcTl",
      "execution_count": null,
      "outputs": []
    },
    {
      "cell_type": "markdown",
      "metadata": {
        "id": "0f5a9e7a"
      },
      "source": [
        "# How a Liner Regression algorithm works theorically\n",
        "Look the video and the attached PDF."
      ],
      "id": "0f5a9e7a"
    },
    {
      "cell_type": "markdown",
      "metadata": {
        "id": "fedb3480"
      },
      "source": [
        "# Predict stock prices using a Linear Regression\n"
      ],
      "id": "fedb3480"
    },
    {
      "cell_type": "markdown",
      "metadata": {
        "id": "2af6dea6"
      },
      "source": [
        "### Import the data from Yahoo (esiest choice)\n",
        "\n",
        "**IMPORTANT**: You can import the data from Yahoo or from MT5. But you need to have a Windows device to use MT5. To avoid this problem, you can see the video introduction video of the chapter MetaTrader 5 Live Trading! "
      ],
      "id": "2af6dea6"
    },
    {
      "cell_type": "code",
      "metadata": {
        "colab": {
          "base_uri": "https://localhost:8080/",
          "height": 467
        },
        "id": "52084a45",
        "outputId": "3bec4b2d-1b55-4082-f6a3-d1af83854447"
      },
      "source": [
        "# Import the data\n",
        "df = yf.download(\"GOOG\")\n",
        "\n",
        "# Take adjusted close\n",
        "df = df[[\"Adj Close\"]]\n",
        "\n",
        "# Rename the column\n",
        "df.columns = [\"close\"]\n",
        "df"
      ],
      "id": "52084a45",
      "execution_count": null,
      "outputs": [
        {
          "output_type": "stream",
          "name": "stdout",
          "text": [
            "\r[*********************100%***********************]  1 of 1 completed\n"
          ]
        },
        {
          "output_type": "execute_result",
          "data": {
            "text/html": [
              "<div>\n",
              "<style scoped>\n",
              "    .dataframe tbody tr th:only-of-type {\n",
              "        vertical-align: middle;\n",
              "    }\n",
              "\n",
              "    .dataframe tbody tr th {\n",
              "        vertical-align: top;\n",
              "    }\n",
              "\n",
              "    .dataframe thead th {\n",
              "        text-align: right;\n",
              "    }\n",
              "</style>\n",
              "<table border=\"1\" class=\"dataframe\">\n",
              "  <thead>\n",
              "    <tr style=\"text-align: right;\">\n",
              "      <th></th>\n",
              "      <th>close</th>\n",
              "    </tr>\n",
              "    <tr>\n",
              "      <th>Date</th>\n",
              "      <th></th>\n",
              "    </tr>\n",
              "  </thead>\n",
              "  <tbody>\n",
              "    <tr>\n",
              "      <th>2004-08-19</th>\n",
              "      <td>49.982655</td>\n",
              "    </tr>\n",
              "    <tr>\n",
              "      <th>2004-08-20</th>\n",
              "      <td>53.952770</td>\n",
              "    </tr>\n",
              "    <tr>\n",
              "      <th>2004-08-23</th>\n",
              "      <td>54.495735</td>\n",
              "    </tr>\n",
              "    <tr>\n",
              "      <th>2004-08-24</th>\n",
              "      <td>52.239197</td>\n",
              "    </tr>\n",
              "    <tr>\n",
              "      <th>2004-08-25</th>\n",
              "      <td>52.802086</td>\n",
              "    </tr>\n",
              "    <tr>\n",
              "      <th>...</th>\n",
              "      <td>...</td>\n",
              "    </tr>\n",
              "    <tr>\n",
              "      <th>2021-11-10</th>\n",
              "      <td>2932.520020</td>\n",
              "    </tr>\n",
              "    <tr>\n",
              "      <th>2021-11-11</th>\n",
              "      <td>2934.959961</td>\n",
              "    </tr>\n",
              "    <tr>\n",
              "      <th>2021-11-12</th>\n",
              "      <td>2992.909912</td>\n",
              "    </tr>\n",
              "    <tr>\n",
              "      <th>2021-11-15</th>\n",
              "      <td>2987.760010</td>\n",
              "    </tr>\n",
              "    <tr>\n",
              "      <th>2021-11-16</th>\n",
              "      <td>2981.520020</td>\n",
              "    </tr>\n",
              "  </tbody>\n",
              "</table>\n",
              "<p>4343 rows × 1 columns</p>\n",
              "</div>"
            ],
            "text/plain": [
              "                  close\n",
              "Date                   \n",
              "2004-08-19    49.982655\n",
              "2004-08-20    53.952770\n",
              "2004-08-23    54.495735\n",
              "2004-08-24    52.239197\n",
              "2004-08-25    52.802086\n",
              "...                 ...\n",
              "2021-11-10  2932.520020\n",
              "2021-11-11  2934.959961\n",
              "2021-11-12  2992.909912\n",
              "2021-11-15  2987.760010\n",
              "2021-11-16  2981.520020\n",
              "\n",
              "[4343 rows x 1 columns]"
            ]
          },
          "metadata": {},
          "execution_count": 4
        }
      ]
    },
    {
      "cell_type": "markdown",
      "metadata": {
        "id": "3c4388f9"
      },
      "source": [
        "### Features Engineering\n",
        "\n"
      ],
      "id": "3c4388f9"
    },
    {
      "cell_type": "code",
      "metadata": {
        "id": "5daca6ac"
      },
      "source": [
        "def feature_engineering(df):\n",
        "    \"\"\" Create new variables\"\"\"\n",
        "    \n",
        "    # We copy the dataframe to avoid interferences in the data\n",
        "    df_copy = df.dropna().copy()\n",
        "    \n",
        "    # Create the returns\n",
        "    df_copy[\"returns\"] = df_copy[\"close\"].pct_change(1)\n",
        "\n",
        "    # Create the SMAs\n",
        "    df_copy[\"SMA 15\"] = df_copy[[\"close\"]].rolling(15).mean().shift(1)\n",
        "    df_copy[\"SMA 60\"] = df_copy[[\"close\"]].rolling(60).mean().shift(1)\n",
        "    \n",
        "    # Create the volatilities\n",
        "    df_copy[\"MSD 10\"] = df_copy[[\"returns\"]].rolling(10).std().shift(1)\n",
        "    df_copy[\"MSD 30\"] = df_copy[[\"returns\"]].rolling(30).std().shift(1)\n",
        "    \n",
        "    # Create the Rsi\n",
        "    RSI = ta.momentum.RSIIndicator(df_copy[\"close\"], window= 14, fillna = False)\n",
        "    df_copy[\"rsi\"] = RSI.rsi()\n",
        "    \n",
        "    return df_copy.dropna()"
      ],
      "id": "5daca6ac",
      "execution_count": null,
      "outputs": []
    },
    {
      "cell_type": "code",
      "metadata": {
        "colab": {
          "base_uri": "https://localhost:8080/",
          "height": 450
        },
        "id": "mvHxIPyjjt0h",
        "outputId": "93538a19-2d93-4191-8cf5-f854d6e3ded6"
      },
      "source": [
        "dfc = feature_engineering(df)\n",
        "dfc"
      ],
      "id": "mvHxIPyjjt0h",
      "execution_count": null,
      "outputs": [
        {
          "output_type": "execute_result",
          "data": {
            "text/html": [
              "<div>\n",
              "<style scoped>\n",
              "    .dataframe tbody tr th:only-of-type {\n",
              "        vertical-align: middle;\n",
              "    }\n",
              "\n",
              "    .dataframe tbody tr th {\n",
              "        vertical-align: top;\n",
              "    }\n",
              "\n",
              "    .dataframe thead th {\n",
              "        text-align: right;\n",
              "    }\n",
              "</style>\n",
              "<table border=\"1\" class=\"dataframe\">\n",
              "  <thead>\n",
              "    <tr style=\"text-align: right;\">\n",
              "      <th></th>\n",
              "      <th>close</th>\n",
              "      <th>returns</th>\n",
              "      <th>SMA 15</th>\n",
              "      <th>SMA 60</th>\n",
              "      <th>MSD 10</th>\n",
              "      <th>MSD 30</th>\n",
              "      <th>rsi</th>\n",
              "    </tr>\n",
              "    <tr>\n",
              "      <th>Date</th>\n",
              "      <th></th>\n",
              "      <th></th>\n",
              "      <th></th>\n",
              "      <th></th>\n",
              "      <th></th>\n",
              "      <th></th>\n",
              "      <th></th>\n",
              "    </tr>\n",
              "  </thead>\n",
              "  <tbody>\n",
              "    <tr>\n",
              "      <th>2004-11-12</th>\n",
              "      <td>90.660187</td>\n",
              "      <td>-0.005573</td>\n",
              "      <td>91.001902</td>\n",
              "      <td>67.843456</td>\n",
              "      <td>0.045158</td>\n",
              "      <td>0.045223</td>\n",
              "      <td>60.962971</td>\n",
              "    </tr>\n",
              "    <tr>\n",
              "      <th>2004-11-15</th>\n",
              "      <td>92.089828</td>\n",
              "      <td>0.015769</td>\n",
              "      <td>91.319711</td>\n",
              "      <td>68.521415</td>\n",
              "      <td>0.045046</td>\n",
              "      <td>0.045295</td>\n",
              "      <td>62.484309</td>\n",
              "    </tr>\n",
              "    <tr>\n",
              "      <th>2004-11-16</th>\n",
              "      <td>85.947845</td>\n",
              "      <td>-0.066696</td>\n",
              "      <td>91.235693</td>\n",
              "      <td>69.157033</td>\n",
              "      <td>0.044225</td>\n",
              "      <td>0.045283</td>\n",
              "      <td>52.938988</td>\n",
              "    </tr>\n",
              "    <tr>\n",
              "      <th>2004-11-17</th>\n",
              "      <td>85.927917</td>\n",
              "      <td>-0.000232</td>\n",
              "      <td>90.928179</td>\n",
              "      <td>69.681234</td>\n",
              "      <td>0.048354</td>\n",
              "      <td>0.047390</td>\n",
              "      <td>52.910746</td>\n",
              "    </tr>\n",
              "    <tr>\n",
              "      <th>2004-11-18</th>\n",
              "      <td>83.457184</td>\n",
              "      <td>-0.028754</td>\n",
              "      <td>90.480856</td>\n",
              "      <td>70.242713</td>\n",
              "      <td>0.048425</td>\n",
              "      <td>0.047302</td>\n",
              "      <td>49.392430</td>\n",
              "    </tr>\n",
              "    <tr>\n",
              "      <th>...</th>\n",
              "      <td>...</td>\n",
              "      <td>...</td>\n",
              "      <td>...</td>\n",
              "      <td>...</td>\n",
              "      <td>...</td>\n",
              "      <td>...</td>\n",
              "      <td>...</td>\n",
              "    </tr>\n",
              "    <tr>\n",
              "      <th>2021-11-10</th>\n",
              "      <td>2932.520020</td>\n",
              "      <td>-0.017571</td>\n",
              "      <td>2901.391341</td>\n",
              "      <td>2838.389164</td>\n",
              "      <td>0.019565</td>\n",
              "      <td>0.016162</td>\n",
              "      <td>55.682186</td>\n",
              "    </tr>\n",
              "    <tr>\n",
              "      <th>2021-11-11</th>\n",
              "      <td>2934.959961</td>\n",
              "      <td>0.000832</td>\n",
              "      <td>2907.006006</td>\n",
              "      <td>2841.497664</td>\n",
              "      <td>0.014452</td>\n",
              "      <td>0.016367</td>\n",
              "      <td>55.931997</td>\n",
              "    </tr>\n",
              "    <tr>\n",
              "      <th>2021-11-12</th>\n",
              "      <td>2992.909912</td>\n",
              "      <td>0.019745</td>\n",
              "      <td>2912.295996</td>\n",
              "      <td>2844.890332</td>\n",
              "      <td>0.014430</td>\n",
              "      <td>0.016207</td>\n",
              "      <td>61.484916</td>\n",
              "    </tr>\n",
              "    <tr>\n",
              "      <th>2021-11-15</th>\n",
              "      <td>2987.760010</td>\n",
              "      <td>-0.001721</td>\n",
              "      <td>2926.989990</td>\n",
              "      <td>2849.134330</td>\n",
              "      <td>0.015060</td>\n",
              "      <td>0.016038</td>\n",
              "      <td>60.752275</td>\n",
              "    </tr>\n",
              "    <tr>\n",
              "      <th>2021-11-16</th>\n",
              "      <td>2981.520020</td>\n",
              "      <td>-0.002089</td>\n",
              "      <td>2941.143327</td>\n",
              "      <td>2852.784664</td>\n",
              "      <td>0.010457</td>\n",
              "      <td>0.015475</td>\n",
              "      <td>59.822123</td>\n",
              "    </tr>\n",
              "  </tbody>\n",
              "</table>\n",
              "<p>4283 rows × 7 columns</p>\n",
              "</div>"
            ],
            "text/plain": [
              "                  close   returns       SMA 15  ...    MSD 10    MSD 30        rsi\n",
              "Date                                            ...                               \n",
              "2004-11-12    90.660187 -0.005573    91.001902  ...  0.045158  0.045223  60.962971\n",
              "2004-11-15    92.089828  0.015769    91.319711  ...  0.045046  0.045295  62.484309\n",
              "2004-11-16    85.947845 -0.066696    91.235693  ...  0.044225  0.045283  52.938988\n",
              "2004-11-17    85.927917 -0.000232    90.928179  ...  0.048354  0.047390  52.910746\n",
              "2004-11-18    83.457184 -0.028754    90.480856  ...  0.048425  0.047302  49.392430\n",
              "...                 ...       ...          ...  ...       ...       ...        ...\n",
              "2021-11-10  2932.520020 -0.017571  2901.391341  ...  0.019565  0.016162  55.682186\n",
              "2021-11-11  2934.959961  0.000832  2907.006006  ...  0.014452  0.016367  55.931997\n",
              "2021-11-12  2992.909912  0.019745  2912.295996  ...  0.014430  0.016207  61.484916\n",
              "2021-11-15  2987.760010 -0.001721  2926.989990  ...  0.015060  0.016038  60.752275\n",
              "2021-11-16  2981.520020 -0.002089  2941.143327  ...  0.010457  0.015475  59.822123\n",
              "\n",
              "[4283 rows x 7 columns]"
            ]
          },
          "metadata": {},
          "execution_count": 6
        }
      ]
    },
    {
      "cell_type": "markdown",
      "metadata": {
        "id": "64cf52d6"
      },
      "source": [
        "### Create different sets of data"
      ],
      "id": "64cf52d6"
    },
    {
      "cell_type": "code",
      "metadata": {
        "colab": {
          "base_uri": "https://localhost:8080/"
        },
        "id": "07f40655",
        "outputId": "1a262ab0-333c-4286-d671-5ac57ecaff0c"
      },
      "source": [
        "dfc.columns"
      ],
      "id": "07f40655",
      "execution_count": null,
      "outputs": [
        {
          "output_type": "execute_result",
          "data": {
            "text/plain": [
              "Index(['close', 'returns', 'SMA 15', 'SMA 60', 'MSD 10', 'MSD 30', 'rsi'], dtype='object')"
            ]
          },
          "metadata": {},
          "execution_count": 7
        }
      ]
    },
    {
      "cell_type": "code",
      "metadata": {
        "id": "ac6fbb79"
      },
      "source": [
        "# Percentage train set\n",
        "split = int(0.80*len(dfc))\n",
        "\n",
        "# Train set creation\n",
        "X_train = dfc[['SMA 15', 'SMA 60', 'MSD 10', 'MSD 30', 'rsi']].iloc[:split]\n",
        "y_train = dfc[[\"returns\"]].iloc[:split]\n",
        "\n",
        "\n",
        "# Test set creation\n",
        "X_test = dfc[['SMA 15', 'SMA 60', 'MSD 10', 'MSD 30', 'rsi']].iloc[split:]\n",
        "y_test = dfc[[\"returns\"]].iloc[split:]"
      ],
      "id": "ac6fbb79",
      "execution_count": null,
      "outputs": []
    },
    {
      "cell_type": "markdown",
      "metadata": {
        "id": "bFuKfe8GeRpf"
      },
      "source": [
        "### Linear Regression training"
      ],
      "id": "bFuKfe8GeRpf"
    },
    {
      "cell_type": "code",
      "metadata": {
        "colab": {
          "base_uri": "https://localhost:8080/"
        },
        "id": "9b0f773d",
        "outputId": "058b0ec8-bc33-4858-be56-863dc981d242"
      },
      "source": [
        "# Import the class\n",
        "from sklearn.linear_model import LinearRegression\n",
        "\n",
        "# Initialize the class\n",
        "reg = LinearRegression()\n",
        "\n",
        "# Fit the model\n",
        "reg.fit(X_train, y_train)"
      ],
      "id": "9b0f773d",
      "execution_count": null,
      "outputs": [
        {
          "output_type": "execute_result",
          "data": {
            "text/plain": [
              "LinearRegression()"
            ]
          },
          "metadata": {},
          "execution_count": 9
        }
      ]
    },
    {
      "cell_type": "markdown",
      "metadata": {
        "id": "kM9Jh_LOeYri"
      },
      "source": [
        "### Linear Regression predictions"
      ],
      "id": "kM9Jh_LOeYri"
    },
    {
      "cell_type": "code",
      "metadata": {
        "colab": {
          "base_uri": "https://localhost:8080/",
          "height": 358
        },
        "id": "aafe0dfe",
        "outputId": "6af83c89-30b9-4802-f5a3-d07423b06432"
      },
      "source": [
        "# Create predictions for the whole dataset\n",
        "X = np.concatenate((X_train, X_test), axis=0)\n",
        "\n",
        "dfc[\"prediction\"] = reg.predict(X)\n",
        "\n",
        "# We verify that the algorithm doesn't predict only way (positive or negative)\n",
        "dfc[\"prediction\"].plot()"
      ],
      "id": "aafe0dfe",
      "execution_count": null,
      "outputs": [
        {
          "output_type": "execute_result",
          "data": {
            "text/plain": [
              "<matplotlib.axes._subplots.AxesSubplot at 0x7f8df7f17850>"
            ]
          },
          "metadata": {},
          "execution_count": 10
        },
        {
          "output_type": "display_data",
          "data": {
            "image/png": "[encoded data removed]",
            "text/plain": [
              "<Figure size 576x396 with 1 Axes>"
            ]
          },
          "metadata": {}
        }
      ]
    },
    {
      "cell_type": "markdown",
      "metadata": {
        "id": "wv3rJNaLeehZ"
      },
      "source": [
        "### Compute the profit "
      ],
      "id": "wv3rJNaLeehZ"
    },
    {
      "cell_type": "code",
      "metadata": {
        "id": "5Y7YcURIBcH1",
        "colab": {
          "base_uri": "https://localhost:8080/",
          "height": 365
        },
        "outputId": "68503d56-2aee-474f-d0ea-01a2316acf9a"
      },
      "source": [
        "# Compute the position\n",
        "dfc[\"position\"] = np.sign(dfc[\"prediction\"])\n",
        "\n",
        "# Compute the returns\n",
        "dfc[\"strategy\"] = dfc[\"returns\"] * dfc[\"position\"].shift(1)\n",
        "\n",
        "\n",
        "(dfc[\"strategy\"].iloc[split:].cumsum()*100).plot()"
      ],
      "id": "5Y7YcURIBcH1",
      "execution_count": null,
      "outputs": [
        {
          "output_type": "execute_result",
          "data": {
            "text/plain": [
              "<matplotlib.axes._subplots.AxesSubplot at 0x7f8df7e67990>"
            ]
          },
          "metadata": {},
          "execution_count": 11
        },
        {
          "output_type": "display_data",
          "data": {
            "image/png": "[encoded data removed]",
            "text/plain": [
              "<Figure size 576x396 with 1 Axes>"
            ]
          },
          "metadata": {}
        }
      ]
    },
    {
      "cell_type": "code",
      "metadata": {
        "id": "kTohgCOrnJan"
      },
      "source": [
        "def lin_reg_trading(symbol):\n",
        "\n",
        "  def feature_engineering(df):\n",
        "    \"\"\" Create new variables\"\"\"\n",
        "    \n",
        "    # We copy the dataframe to avoid interferences in the data\n",
        "    df_copy = df.dropna().copy()\n",
        "    \n",
        "    # Create the returns\n",
        "    df_copy[\"returns\"] = df_copy[\"close\"].pct_change(1)\n",
        "\n",
        "    # Create the SMAs\n",
        "    df_copy[\"SMA 15\"] = df_copy[[\"close\"]].rolling(15).mean().shift(1)\n",
        "    df_copy[\"SMA 60\"] = df_copy[[\"close\"]].rolling(60).mean().shift(1)\n",
        "    \n",
        "    # Create the volatilities\n",
        "    df_copy[\"MSD 10\"] = df_copy[[\"returns\"]].rolling(10).std().shift(1)\n",
        "    df_copy[\"MSD 30\"] = df_copy[[\"returns\"]].rolling(30).std().shift(1)\n",
        "    \n",
        "    # Create the Rsi\n",
        "    RSI = ta.momentum.RSIIndicator(df_copy[\"close\"], window= 14, fillna = False)\n",
        "    df_copy[\"rsi\"] = RSI.rsi()\n",
        "    \n",
        "    return df_copy.dropna()\n",
        "  \n",
        "\n",
        "  # Import the data\n",
        "  df = yf.download(symbol)\n",
        "\n",
        "  # Take adjusted close\n",
        "  df = df[[\"Adj Close\"]]\n",
        "\n",
        "  # Rename the column\n",
        "  df.columns = [\"close\"]\n",
        "\n",
        "  dfc = feature_engineering(df)\n",
        "\n",
        "  # Percentage train set\n",
        "  split = int(0.80*len(dfc))\n",
        "\n",
        "  # Train set creation\n",
        "  X_train = dfc[['SMA 15', 'SMA 60', 'MSD 10', 'MSD 30', 'rsi']].iloc[:split]\n",
        "  y_train = dfc[[\"returns\"]].iloc[:split]\n",
        "\n",
        "\n",
        "  # Test set creation\n",
        "  X_test = dfc[['SMA 15', 'SMA 60', 'MSD 10', 'MSD 30', 'rsi']].iloc[split:]\n",
        "  y_test = dfc[[\"returns\"]].iloc[split:]\n",
        "\n",
        "  # Import the class\n",
        "  from sklearn.linear_model import LinearRegression\n",
        "\n",
        "  # Initialize the class\n",
        "  reg = LinearRegression()\n",
        "\n",
        "  # Fit the model\n",
        "  reg.fit(X_train, y_train)\n",
        "\n",
        "  # Create predictions for the whole dataset\n",
        "  X = np.concatenate((X_train, X_test), axis=0)\n",
        "\n",
        "  dfc[\"prediction\"] = reg.predict(X)\n",
        "\n",
        "  # Compute the position\n",
        "  dfc[\"position\"] = np.sign(dfc[\"prediction\"])\n",
        "\n",
        "  # Compute the returns\n",
        "  dfc[\"strategy\"] = dfc[\"returns\"] * dfc[\"position\"].shift(1)\n",
        "\n",
        "\n",
        "  (dfc[\"strategy\"].iloc[split:].cumsum()*100).plot()"
      ],
      "id": "kTohgCOrnJan",
      "execution_count": null,
      "outputs": []
    },
    {
      "cell_type": "code",
      "metadata": {
        "id": "c6_JMFn4sJ8L",
        "colab": {
          "base_uri": "https://localhost:8080/",
          "height": 389
        },
        "outputId": "0f05e45b-55b9-4515-f941-3d2da9291e4a"
      },
      "source": [
        "lin_reg_trading(\"ETH-EUR\")"
      ],
      "id": "c6_JMFn4sJ8L",
      "execution_count": null,
      "outputs": [
        {
          "output_type": "stream",
          "name": "stdout",
          "text": [
            "\r[*********************100%***********************]  1 of 1 completed\n"
          ]
        },
        {
          "output_type": "display_data",
          "data": {
            "image/png": "[encoded data removed]",
            "text/plain": [
              "<Figure size 576x396 with 1 Axes>"
            ]
          },
          "metadata": {}
        }
      ]
    },
    {
      "cell_type": "code",
      "metadata": {
        "id": "QSeK4rtkGNcH"
      },
      "source": [
        ""
      ],
      "id": "QSeK4rtkGNcH",
      "execution_count": null,
      "outputs": []
    }
  ]
}
